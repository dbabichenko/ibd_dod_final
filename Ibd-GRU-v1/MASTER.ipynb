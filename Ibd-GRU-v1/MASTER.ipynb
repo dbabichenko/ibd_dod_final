{
 "cells": [
  {
   "cell_type": "code",
   "execution_count": 153,
   "metadata": {},
   "outputs": [],
   "source": [
    "import utils\n",
    "import data_utils as du\n",
    "import os\n",
    "import pandas as pd\n",
    "import pickle\n",
    "import seaborn as sns\n",
    "from matplotlib import pyplot as plt\n",
    "import pandas as pd"
   ]
  },
  {
   "cell_type": "markdown",
   "execution_count": null,
   "metadata": {},
   "outputs": [],
   "source": [
    "# Get input data"
   ]
  },
  {
   "cell_type": "markdown",
   "execution_count": null,
   "metadata": {},
   "outputs": [],
   "source": [
    "# Unzip pickles.zip"
   ]
  },
  {
   "cell_type": "code",
   "execution_count": null,
   "metadata": {},
   "outputs": [],
   "source": [
    "inputs = du.cleaned_longitudinal_inputs(load_pkl=False)"
   ]
  },
  {
   "cell_type": "markdown",
   "execution_count": null,
   "metadata": {},
   "outputs": [],
   "source": [
    "# Get X and Y sequences and datasets, Train, Evaluate"
   ]
  },
  {
   "cell_type": "code",
   "execution_count": null,
   "metadata": {},
   "outputs": [],
   "source": [
    "# import data_utils as du\n",
    "# lookback = 24\n",
    "# lookfwd = 8\n",
    "# seqgen = du.IBDSequenceGenerator(lookback, lookfwd)\n",
    "# dir=f'm{lookback}p{lookfwd}'\n",
    "# seqgen.write_to_disk(datadir=dir)\n",
    "# du.get_tt_datasets(datadir=dir, dataset_name=f'{dir}_ds', train_size=0.8, stratify_by='annual_charges')\n",
    "\n",
    "\"import data_utils as du;lookback = 18;lookfwd = 6;seqgen = du.IBDSequenceGenerator(lookback, lookfwd);dir=f'm{lookback}p{lookfwd}';seqgen.write_to_disk(datadir=dir);du.get_tt_datasets(datadir=dir, dataset_name=f'{dir}_ds', train_size=0.7, stratify_by='annual_charges')\"\n"
   ]
  },
  {
   "cell_type": "code",
   "execution_count": null,
   "metadata": {},
   "outputs": [],
   "source": [
    "python train.py -b128 -Tannual_charges -Aabnormal_labs,diagnostics,surgery -a0.9 -t0.6 -dm18p6_ds -m18m6m -e300"
   ]
  },
  {
   "cell_type": "code",
   "execution_count": null,
   "metadata": {},
   "outputs": [],
   "source": [
    "python evaluate.py -m2y8m_4 -Tannual_charges -o3 -dm24p8_ds "
   ]
  },
  {
   "cell_type": "markdown",
   "metadata": {},
   "source": [
    "# Evaluate"
   ]
  },
  {
   "cell_type": "markdown",
   "metadata": {},
   "source": [
    "## Get sequences and their predictions"
   ]
  },
  {
   "cell_type": "code",
   "execution_count": 168,
   "metadata": {},
   "outputs": [
    {
     "name": "stdout",
     "output_type": "stream",
     "text": "229200\ntn     12939\ntp       941\nfp       393\nfn        76\nName: tag, dtype: int64\n      229200\ntn     12939\ntp       941\nfp       393\nfn        76\nName: tag, dtype: int64\n"
    }
   ],
   "source": [
    "import utils \n",
    "import numpy as np\n",
    "import pandas as pd\n",
    "\n",
    "for MODEL in ['2y8m_3', '2y8m_4']:\n",
    "    def data(ix):\n",
    "        d = test_results.loc[ix:ix+32]\n",
    "        d['0'] = 'TEST'\n",
    "        d['0'].iloc[:24] = 'TRAIN'\n",
    "        return d\n",
    "\n",
    "\n",
    "    ds = utils.pkl_load('datasets/m24p8_ds/test.dataset')\n",
    "    test_ids = pd.Series(ds.list_IDs)\n",
    "    results = pd.DataFrame(np.array(utils.pkl_load(f'models/{MODEL}/test_eval.pkl')))\n",
    "    results.columns = ['y', 'yhat', 'logit0', 'logit1', 'logit2']\n",
    "    results['seq_id'] = test_ids\n",
    "\n",
    "    test_input = pd.read_pickle('pickles/x_padded_inputs.pkl') \n",
    "    test_input['seq_id'] = test_input.AUTO_ID.astype(str)+'_'+test_input.MONTH_TS.astype(str)\n",
    "\n",
    "    test_results = results.merge(test_input, how='outer', on='seq_id').sort_values('seq_id')\n",
    "    test_results = test_results.sort_values(['AUTO_ID','MONTH_TS'])\n",
    "    test_results.index = range(len(test_results))\n",
    "\n",
    "    test_results['tag'] = ''\n",
    "    test_results.loc[(test_results['y']==2) & (test_results['yhat']==0), 'tag'] = 'fn'\n",
    "    test_results.loc[(test_results.y==2)&(test_results.yhat==2), 'tag'] = 'tp'\n",
    "    test_results.loc[(test_results.y==0)&(test_results.yhat==0), 'tag'] = 'tn'\n",
    "    test_results.loc[(test_results.y==0)&(test_results.yhat==2), 'tag'] = 'fp'\n",
    "\n",
    "    print(test_results.tag.value_counts())\n",
    "    for i in ['fn', 'tp', 'tn', 'fp']:\n",
    "        dfs = [data(ix) for ix in test_results[test_results.tag==i].index]\n",
    "        pd.concat(dfs, axis=0).to_csv(f'models/patient_seq/{MODEL}/{i}.csv')"
   ]
  },
  {
   "cell_type": "code",
   "execution_count": null,
   "metadata": {},
   "outputs": [],
   "source": [
    "# Get TP/TN/FN/FP sequences\n",
    "dfs = [data(ix) for ix in test_results[test_results.tag=='fn'].index]\n",
    "pd.concat(dfs, axis=0).to_csv(f'models/patient_seq/{MODEL}/FalseNegatives.csv')"
   ]
  },
  {
   "cell_type": "markdown",
   "metadata": {},
   "source": [
    "## Classification Report"
   ]
  },
  {
   "cell_type": "code",
   "execution_count": 165,
   "metadata": {},
   "outputs": [
    {
     "name": "stdout",
     "output_type": "stream",
     "text": "Model: 2y8m_3\nAccuracy:0.9173595049071701\nMultilclass ROC:{0: 0.8892, 1: 0.7774, 2: 0.9364}\n\n                  lt_7k       lt_53k       gt_54k     macro avg  weighted avg\nprecision      0.981789     0.566239     0.665488      0.737839      0.933643\nrecall         0.931668     0.765159     0.879439      0.858755      0.917360\nf1-score       0.956072     0.650839     0.757649      0.788187      0.922975\nsupport    13888.000000  1039.000000  1070.000000  15997.000000  15997.000000\n\n=====================================================================================\n\nModel: 2y8m_4\nAccuracy:0.9173595049071701\nMultilclass ROC:{0: 0.8892, 1: 0.7774, 2: 0.9364}\n\n                  lt_7k       lt_53k       gt_54k     macro avg  weighted avg\nprecision      0.981789     0.566239     0.665488      0.737839      0.933643\nrecall         0.931668     0.765159     0.879439      0.858755      0.917360\nf1-score       0.956072     0.650839     0.757649      0.788187      0.922975\nsupport    13888.000000  1039.000000  1070.000000  15997.000000  15997.000000\n\n=====================================================================================\n\n"
    }
   ],
   "source": [
    "from sklearn.metrics import classification_report, roc_curve, auc\n",
    "from pprint import pprint\n",
    "from scipy.special import softmax\n",
    "import torch\n",
    "\n",
    "for MODEL in ['2y8m_3', '2y8m_4']:\n",
    "    ds = utils.pkl_load('datasets/m24p8_ds/test.dataset')\n",
    "    test_ids = pd.Series(ds.list_IDs)\n",
    "    results = pd.DataFrame(np.array(utils.pkl_load(f'models/{MODEL}/test_eval.pkl')))\n",
    "    results.columns = ['y', 'yhat', 'logit0', 'logit1', 'logit2']\n",
    "    results['seq_id'] = test_ids\n",
    "\n",
    "    report = classification_report(results.y, results.yhat, labels=[0,1,2], target_names=['lt_7k', 'lt_53k', 'gt_54k'], output_dict=True)\n",
    "\n",
    "    y_dum = pd.get_dummies(results.y).values\n",
    "    y_hats = softmax(results[['logit0', 'logit1', 'logit2']].values, axis=0)\n",
    "    fpr = dict()\n",
    "    tpr = dict()\n",
    "    roc_auc = dict()\n",
    "    for i in range(3):\n",
    "        fpr[i], tpr[i], _ = roc_curve(y_dum[:, i], y_hats[:, i])\n",
    "        roc_auc[i] = round(auc(fpr[i], tpr[i]), 4)\n",
    "\n",
    "    print(f\"Model: {MODEL}\")\n",
    "    print(f\"Accuracy:{report['accuracy']}\\nMultilclass ROC:{roc_auc}\\n\")\n",
    "    del report['accuracy']\n",
    "    print(pd.DataFrame.from_dict(report))\n",
    "    print(\"\\n=====================================================================================\\n\")\n"
   ]
  }
 ],
 "metadata": {
  "hide_input": false,
  "kernelspec": {
   "display_name": "Python 3",
   "language": "python",
   "name": "python3"
  },
  "language_info": {
   "codemirror_mode": {
    "name": "ipython",
    "version": 3
   },
   "file_extension": ".py",
   "mimetype": "text/x-python",
   "name": "python",
   "nbconvert_exporter": "python",
   "pygments_lexer": "ipython3",
   "version": "3.7.4-final"
  },
  "varInspector": {
   "cols": {
    "lenName": 16,
    "lenType": 16,
    "lenVar": 40
   },
   "kernels_config": {
    "python": {
     "delete_cmd_postfix": "",
     "delete_cmd_prefix": "del ",
     "library": "var_list.py",
     "varRefreshCmd": "print(var_dic_list())"
    },
    "r": {
     "delete_cmd_postfix": ") ",
     "delete_cmd_prefix": "rm(",
     "library": "var_list.r",
     "varRefreshCmd": "cat(var_dic_list()) "
    }
   },
   "position": {
    "height": "386.5px",
    "left": "555px",
    "right": "20px",
    "top": "56px",
    "width": "714px"
   },
   "types_to_exclude": [
    "module",
    "function",
    "builtin_function_or_method",
    "instance",
    "_Feature"
   ],
   "window_display": false
  }
 },
 "nbformat": 4,
 "nbformat_minor": 2
}