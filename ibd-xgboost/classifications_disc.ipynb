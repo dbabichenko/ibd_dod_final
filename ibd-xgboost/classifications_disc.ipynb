{
 "cells": [
  {
   "cell_type": "code",
   "execution_count": 2,
   "metadata": {},
   "outputs": [],
   "source": [
    "import pandas as pd\n",
    "import prince\n",
    "import numpy as np\n",
    "import math\n",
    "from matplotlib import pyplot as plt\n",
    "from sklearn.model_selection import train_test_split\n",
    "from sklearn.model_selection import cross_val_score\n",
    "from sklearn.model_selection import RandomizedSearchCV\n",
    "from sklearn.svm import SVC\n",
    "from sklearn.preprocessing import MinMaxScaler, StandardScaler\n",
    "from sklearn.model_selection import cross_val_score\n",
    "from sklearn.ensemble import RandomForestClassifier\n",
    "from sklearn.ensemble import RandomForestRegressor\n",
    "from sklearn.metrics import roc_auc_score, confusion_matrix, accuracy_score, roc_curve\n",
    "import xgboost as xgb"
   ]
  },
  {
   "cell_type": "markdown",
   "metadata": {},
   "source": [
    "###### Assumption 1 - Missing lab values are normal = 0\n",
    "###### Problem 1 - Some zipcodes are from Hawaii. Distance is very high."
   ]
  },
  {
   "cell_type": "code",
   "execution_count": 3,
   "metadata": {},
   "outputs": [],
   "source": [
    "X_clin = pd.read_csv('DiscreteTrainData.csv')\n",
    "X = X_clin.copy()"
   ]
  },
  {
   "cell_type": "code",
   "execution_count": 4,
   "metadata": {},
   "outputs": [],
   "source": [
    "# Drop rows with missing charge data\n",
    "X.dropna(subset=['CHARGE_FLAG_85pctile'], inplace=True)\n",
    "Y = X.CHARGE_FLAG_85pctile\n",
    "\n",
    "X.drop([ 'CHARGE_FLAG_85pctile', 'AUTO_ID', 'PAT_ID', 'PAT_MRN_ID'], axis=1, inplace=True)"
   ]
  },
  {
   "cell_type": "code",
   "execution_count": 5,
   "metadata": {},
   "outputs": [
    {
     "name": "stderr",
     "output_type": "stream",
     "text": [
      "D:\\MiscSoftware\\Anaconda\\lib\\site-packages\\ipykernel_launcher.py:10: DeprecationWarning: \n",
      ".ix is deprecated. Please use\n",
      ".loc for label based indexing or\n",
      ".iloc for positional indexing\n",
      "\n",
      "See the documentation here:\n",
      "http://pandas.pydata.org/pandas-docs/stable/indexing.html#ix-indexer-is-deprecated\n",
      "  # Remove the CWD from sys.path while we load stuff.\n",
      "D:\\MiscSoftware\\Anaconda\\lib\\site-packages\\pandas\\core\\indexing.py:190: SettingWithCopyWarning: \n",
      "A value is trying to be set on a copy of a slice from a DataFrame\n",
      "\n",
      "See the caveats in the documentation: http://pandas.pydata.org/pandas-docs/stable/indexing.html#indexing-view-versus-copy\n",
      "  self._setitem_with_indexer(indexer, value)\n"
     ]
    }
   ],
   "source": [
    "# Encode all str to integers. Keep nulls as null\n",
    "\n",
    "from sklearn.preprocessing import LabelEncoder\n",
    "le_map={}\n",
    "for c in X.columns:\n",
    "    if X[c].dtype=='O':\n",
    "        nan_ix = X[c].isnull()\n",
    "        le_map[c] = LabelEncoder().fit(X[c].fillna('zznan'))\n",
    "        X[c] = le_map[c].transform(X[c].fillna('zznan'))\n",
    "        X[c].ix[nan_ix] = np.nan "
   ]
  },
  {
   "cell_type": "code",
   "execution_count": 6,
   "metadata": {},
   "outputs": [],
   "source": [
    "xtr, xte, ytr, yte = train_test_split(X, Y, test_size=0.33, random_state=3)"
   ]
  },
  {
   "cell_type": "markdown",
   "metadata": {},
   "source": [
    "# XGBOOST"
   ]
  },
  {
   "cell_type": "code",
   "execution_count": 15,
   "metadata": {},
   "outputs": [
    {
     "name": "stderr",
     "output_type": "stream",
     "text": [
      "D:\\MiscSoftware\\Anaconda\\lib\\site-packages\\sklearn\\model_selection\\_split.py:1943: FutureWarning: You should specify a value for 'cv' instead of relying on the default value. The default value will change from 3 to 5 in version 0.22.\n",
      "  warnings.warn(CV_WARNING, FutureWarning)\n"
     ]
    },
    {
     "data": {
      "text/plain": [
       "XGBClassifier(base_score=0.5, booster='gbtree', colsample_bylevel=1,\n",
       "       colsample_bytree=0.3, gamma=0, learning_rate=0.05, max_delta_step=0,\n",
       "       max_depth=5, min_child_weight=2, missing=None, n_estimators=40,\n",
       "       n_jobs=1, nthread=None, objective='binary:logistic', random_state=0,\n",
       "       reg_alpha=0, reg_lambda=1, scale_pos_weight=2, seed=None,\n",
       "       silent=True, subsample=1)"
      ]
     },
     "execution_count": 15,
     "metadata": {},
     "output_type": "execute_result"
    }
   ],
   "source": [
    "# from sklearn.model_selection import GridSearchCV\n",
    "\n",
    "# param_grid = {'n_estimators': [int(x) for x in np.linspace(40, 150, num = 5)],\n",
    "#                'min_child_weight': [2],\n",
    "#                'max_depth': [2, 5, 10, 20],\n",
    "#                'reg_lambda': [0.5, 1],\n",
    "#                'scale_pos_weight': [2, 3],\n",
    "#                'colsample_bytree':[0.2, 0.3, 0.4]}\n",
    "\n",
    "# grid = GridSearchCV(xgb.XGBClassifier(learning_rate=0.05), param_grid, return_train_score=True,  n_jobs = -1)\n",
    "# grid.fit(xtr, ytr)\n",
    "# winner = grid.best_estimator_\n",
    "# winner"
   ]
  },
  {
   "cell_type": "code",
   "execution_count": 7,
   "metadata": {},
   "outputs": [
    {
     "data": {
      "text/plain": [
       "XGBClassifier(base_score=0.5, booster='gbtree', colsample_bylevel=1,\n",
       "       colsample_bytree=0.3, gamma=0, learning_rate=0.05, max_delta_step=0,\n",
       "       max_depth=5, min_child_weight=2, missing=None, n_estimators=40,\n",
       "       n_jobs=1, nthread=None, objective='binary:logistic', random_state=0,\n",
       "       reg_alpha=0, reg_lambda=1, scale_pos_weight=2, seed=None,\n",
       "       silent=True, subsample=1)"
      ]
     },
     "execution_count": 7,
     "metadata": {},
     "output_type": "execute_result"
    }
   ],
   "source": [
    "winner = xgb.XGBClassifier(base_score=0.5, booster='gbtree', colsample_bylevel=1,\n",
    "       colsample_bytree=0.3, gamma=0, learning_rate=0.05, max_delta_step=0,\n",
    "       max_depth=5, min_child_weight=2, missing=None, n_estimators=40,\n",
    "       n_jobs=1, nthread=None, objective='binary:logistic', random_state=0,\n",
    "       reg_alpha=0, reg_lambda=1, scale_pos_weight=2, seed=None,\n",
    "       silent=True, subsample=1)\n",
    "winner.fit(xtr, ytr)"
   ]
  },
  {
   "cell_type": "code",
   "execution_count": 8,
   "metadata": {},
   "outputs": [
    {
     "name": "stdout",
     "output_type": "stream",
     "text": [
      "Train Score:  0.9093610698365527\n",
      "Test Score:  0.8984924623115578\n",
      "AUC:  0.7484262627269254\n",
      "ConfMat: \n",
      " [[818  36]\n",
      " [ 65  76]]\n",
      "Train Label_Count:  [1708  311]\n",
      "Test Label_Count:  [854 141]\n",
      "\n",
      "\n",
      " [('HEMO', 0.26615128), ('MONO_EVER_HIGH', 0.20993672), ('ENC_OFF', 0.1044374), ('ENC_TEL', 0.08389707), ('EOS_EVER_HIGH', 0.039495956), ('CRP', 0.03540693), ('ESR', 0.023868915), ('ENC_CONSULT', 0.023005355), ('VITD_LAB', 0.020622898), ('SIBDQ', 0.01843616), ('ANTIBIOTICS', 0.015539477), ('Vitamin_D', 0.015460146), ('EMPLOYMENT_STATUS', 0.014302653), ('TOBACCO_USE', 0.012502749), ('ENC_PROC', 0.011852687), ('Immunomodulators', 0.010728064), ('PSYCH', 0.010240208), ('ANTI_IL12', 0.009898516), ('DISTANCE_KM', 0.009839148), ('ALBUMIN', 0.0095426515), ('ANTI_TNF', 0.009472058), ('5_ASA', 0.008827482), ('AGE', 0.007881226), ('GENDER', 0.0073645567), ('PSYCH_DX', 0.0065508904), ('Systemic_steroids', 0.005876512), ('ANTI_INTEGRIN', 0.0049881223), ('MARITAL_STATUS', 0.0038741494)]\n"
     ]
    }
   ],
   "source": [
    "print(\"Train Score: \", winner.score(xtr,ytr))\n",
    "print(\"Test Score: \", winner.score(xte, yte))\n",
    "print(\"AUC: \", roc_auc_score(yte, winner.predict(xte)))\n",
    "print(\"ConfMat: \\n\",confusion_matrix(yte, winner.predict(xte)))\n",
    "print(\"Train Label_Count: \", np.bincount(ytr))\n",
    "print(\"Test Label_Count: \", np.bincount(yte))\n",
    "print(\"\\n\\n\",sorted(list(zip(X.columns, winner.feature_importances_)), key=lambda x:x[1], reverse=True))"
   ]
  },
  {
   "cell_type": "code",
   "execution_count": 19,
   "metadata": {},
   "outputs": [],
   "source": [
    "import pickle\n",
    "with open('XGB_Discrete.pickle', 'wb') as f:\n",
    "    pickle.dump(winner, f)"
   ]
  },
  {
   "cell_type": "code",
   "execution_count": 9,
   "metadata": {
    "scrolled": true
   },
   "outputs": [
    {
     "name": "stderr",
     "output_type": "stream",
     "text": [
      "D:\\MiscSoftware\\Anaconda\\lib\\site-packages\\ipykernel_launcher.py:1: DeprecationWarning: \n",
      ".ix is deprecated. Please use\n",
      ".loc for label based indexing or\n",
      ".iloc for positional indexing\n",
      "\n",
      "See the documentation here:\n",
      "http://pandas.pydata.org/pandas-docs/stable/indexing.html#ix-indexer-is-deprecated\n",
      "  \"\"\"Entry point for launching an IPython kernel.\n"
     ]
    }
   ],
   "source": [
    "misclassified = X_clin.ix[xte.index].copy()\n",
    "# misclassified['CHARGE'] = X_cont.ix[misclassified.index]['ANNUAL_AVG_CHARGE']\n",
    "misclassified['y_true'] = yte\n",
    "misclassified['y_pred'] = winner.predict(xte)\n",
    "misclassified['predict_proba'] = winner.predict_proba(xte)[:,1]\n",
    "misclassified['confidence'] = list(map(max, winner.predict_proba(xte)))"
   ]
  },
  {
   "cell_type": "code",
   "execution_count": 17,
   "metadata": {},
   "outputs": [
    {
     "name": "stderr",
     "output_type": "stream",
     "text": [
      "D:\\MiscSoftware\\Anaconda\\lib\\site-packages\\ipykernel_launcher.py:3: SettingWithCopyWarning: \n",
      "A value is trying to be set on a copy of a slice from a DataFrame.\n",
      "Try using .loc[row_indexer,col_indexer] = value instead\n",
      "\n",
      "See the caveats in the documentation: http://pandas.pydata.org/pandas-docs/stable/indexing.html#indexing-view-versus-copy\n",
      "  This is separate from the ipykernel package so we can avoid doing imports until\n",
      "D:\\MiscSoftware\\Anaconda\\lib\\site-packages\\ipykernel_launcher.py:4: SettingWithCopyWarning: \n",
      "A value is trying to be set on a copy of a slice from a DataFrame.\n",
      "Try using .loc[row_indexer,col_indexer] = value instead\n",
      "\n",
      "See the caveats in the documentation: http://pandas.pydata.org/pandas-docs/stable/indexing.html#indexing-view-versus-copy\n",
      "  after removing the cwd from sys.path.\n",
      "D:\\MiscSoftware\\Anaconda\\lib\\site-packages\\pandas\\core\\frame.py:3391: SettingWithCopyWarning: \n",
      "A value is trying to be set on a copy of a slice from a DataFrame.\n",
      "Try using .loc[row_indexer,col_indexer] = value instead\n",
      "\n",
      "See the caveats in the documentation: http://pandas.pydata.org/pandas-docs/stable/indexing.html#indexing-view-versus-copy\n",
      "  self[k1] = value[k2]\n"
     ]
    },
    {
     "data": {
      "text/html": [
       "<div>\n",
       "<style scoped>\n",
       "    .dataframe tbody tr th:only-of-type {\n",
       "        vertical-align: middle;\n",
       "    }\n",
       "\n",
       "    .dataframe tbody tr th {\n",
       "        vertical-align: top;\n",
       "    }\n",
       "\n",
       "    .dataframe thead th {\n",
       "        text-align: right;\n",
       "    }\n",
       "</style>\n",
       "<table border=\"1\" class=\"dataframe\">\n",
       "  <thead>\n",
       "    <tr style=\"text-align: right;\">\n",
       "      <th></th>\n",
       "      <th>bincount</th>\n",
       "      <th>acc</th>\n",
       "      <th>prevalence1_obs</th>\n",
       "      <th>prevalence0_obs</th>\n",
       "      <th>binR</th>\n",
       "    </tr>\n",
       "    <tr>\n",
       "      <th>bin</th>\n",
       "      <th></th>\n",
       "      <th></th>\n",
       "      <th></th>\n",
       "      <th></th>\n",
       "      <th></th>\n",
       "    </tr>\n",
       "  </thead>\n",
       "  <tbody>\n",
       "    <tr>\n",
       "      <th>(0.0, 0.1]</th>\n",
       "      <td>85</td>\n",
       "      <td>1.000000</td>\n",
       "      <td>0.000000</td>\n",
       "      <td>1.000000</td>\n",
       "      <td>0.1</td>\n",
       "    </tr>\n",
       "    <tr>\n",
       "      <th>(0.1, 0.2]</th>\n",
       "      <td>429</td>\n",
       "      <td>0.988345</td>\n",
       "      <td>0.011655</td>\n",
       "      <td>0.988345</td>\n",
       "      <td>0.2</td>\n",
       "    </tr>\n",
       "    <tr>\n",
       "      <th>(0.2, 0.3]</th>\n",
       "      <td>200</td>\n",
       "      <td>0.920000</td>\n",
       "      <td>0.080000</td>\n",
       "      <td>0.920000</td>\n",
       "      <td>0.3</td>\n",
       "    </tr>\n",
       "    <tr>\n",
       "      <th>(0.3, 0.4]</th>\n",
       "      <td>104</td>\n",
       "      <td>0.798077</td>\n",
       "      <td>0.201923</td>\n",
       "      <td>0.798077</td>\n",
       "      <td>0.4</td>\n",
       "    </tr>\n",
       "    <tr>\n",
       "      <th>(0.4, 0.5]</th>\n",
       "      <td>65</td>\n",
       "      <td>0.646154</td>\n",
       "      <td>0.353846</td>\n",
       "      <td>0.646154</td>\n",
       "      <td>0.5</td>\n",
       "    </tr>\n",
       "    <tr>\n",
       "      <th>(0.5, 0.6]</th>\n",
       "      <td>52</td>\n",
       "      <td>0.480769</td>\n",
       "      <td>0.480769</td>\n",
       "      <td>0.519231</td>\n",
       "      <td>0.6</td>\n",
       "    </tr>\n",
       "    <tr>\n",
       "      <th>(0.6, 0.7]</th>\n",
       "      <td>35</td>\n",
       "      <td>0.771429</td>\n",
       "      <td>0.771429</td>\n",
       "      <td>0.228571</td>\n",
       "      <td>0.7</td>\n",
       "    </tr>\n",
       "    <tr>\n",
       "      <th>(0.7, 0.8]</th>\n",
       "      <td>24</td>\n",
       "      <td>0.958333</td>\n",
       "      <td>0.958333</td>\n",
       "      <td>0.041667</td>\n",
       "      <td>0.8</td>\n",
       "    </tr>\n",
       "    <tr>\n",
       "      <th>(0.8, 0.9]</th>\n",
       "      <td>1</td>\n",
       "      <td>1.000000</td>\n",
       "      <td>1.000000</td>\n",
       "      <td>0.000000</td>\n",
       "      <td>0.9</td>\n",
       "    </tr>\n",
       "  </tbody>\n",
       "</table>\n",
       "</div>"
      ],
      "text/plain": [
       "            bincount       acc  prevalence1_obs  prevalence0_obs  binR\n",
       "bin                                                                   \n",
       "(0.0, 0.1]        85  1.000000         0.000000         1.000000   0.1\n",
       "(0.1, 0.2]       429  0.988345         0.011655         0.988345   0.2\n",
       "(0.2, 0.3]       200  0.920000         0.080000         0.920000   0.3\n",
       "(0.3, 0.4]       104  0.798077         0.201923         0.798077   0.4\n",
       "(0.4, 0.5]        65  0.646154         0.353846         0.646154   0.5\n",
       "(0.5, 0.6]        52  0.480769         0.480769         0.519231   0.6\n",
       "(0.6, 0.7]        35  0.771429         0.771429         0.228571   0.7\n",
       "(0.7, 0.8]        24  0.958333         0.958333         0.041667   0.8\n",
       "(0.8, 0.9]         1  1.000000         1.000000         0.000000   0.9"
      ]
     },
     "execution_count": 17,
     "metadata": {},
     "output_type": "execute_result"
    }
   ],
   "source": [
    "calib = misclassified[['y_true', 'y_pred', 'predict_proba', 'confidence']]\n",
    "bins = np.arange(0,1.1,0.1)\n",
    "calib['bin'] = pd.cut(calib.predict_proba, bins)\n",
    "calib['correct'] = np.where(calib.y_true==calib.y_pred, 1, 0)\n",
    "calib[['y_true0', 'y_true1']] = pd.get_dummies(calib.y_true)\n",
    "calib2 = pd.DataFrame()\n",
    "calib2['bincount'] = calib.groupby('bin').y_pred.count()\n",
    "calib2['acc'] = calib.groupby('bin').correct.mean()\n",
    "calib2['prevalence1_obs'] = calib.groupby('bin').y_true1.sum()/calib2.bincount\n",
    "calib2['prevalence0_obs'] = calib.groupby('bin').y_true0.sum()/calib2.bincount\n",
    "calib2['binR'] = bins[1:]\n",
    "calib2.drop(calib2.tail(1).index,inplace=True)\n",
    "calib2"
   ]
  },
  {
   "cell_type": "code",
   "execution_count": 26,
   "metadata": {},
   "outputs": [
    {
     "data": {
      "image/png": "[encoded data removed]",
      "text/plain": [
       "<Figure size 360x360 with 1 Axes>"
      ]
     },
     "metadata": {},
     "output_type": "display_data"
    }
   ],
   "source": [
    "import matplotlib.lines as mlines\n",
    "import matplotlib.transforms as mtransforms\n",
    "import seaborn as sns\n",
    "\n",
    "sns.set_style(\"darkgrid\")\n",
    "\n",
    "fig, ax = plt.subplots(figsize=(5, 5))\n",
    "plt.plot(calib2['binR'], calib2['prevalence1_obs'], marker='o', linewidth=1, label='HighCharge')\n",
    "line = mlines.Line2D([0, 1], [0, 1], color='black')\n",
    "transform = ax.transAxes\n",
    "line.set_transform(transform)\n",
    "ax.add_line(line)\n",
    "fig.suptitle('Calibration plot for Discrete data')\n",
    "ax.set_xlabel('Predicted probability')\n",
    "ax.set_ylabel('True probability in each bin')\n",
    "ax.xaxis.set_ticks(calib2['binR'])\n",
    "\n",
    "for _,row in calib2.iterrows():\n",
    "    ax.annotate(int(row['bincount']), (row['binR'], row['prevalence1_obs']+0.04))\n",
    "    \n",
    "plt.legend()\n",
    "plt.show()"
   ]
  },
  {
   "cell_type": "code",
   "execution_count": null,
   "metadata": {},
   "outputs": [],
   "source": [
    "with pd.ExcelWriter('XGBoostAnalysis_CDUC.xlsx') as writer:  # doctest: +SKIP\n",
    "    misclassified.to_excel(writer, sheet_\n",
    "                           name='ALL_PRED')\n",
    "    misclassified.sort_values(by='SIBDQ', ascending=True).head(20).to_excel(writer, sheet_name='TOP20_LOW_SIBDQ')\n",
    "    misclassified.sort_values(by='CHARGE', ascending=False).head(20).to_excel(writer, sheet_name='TOP20_HIGH_CHARGE')\n",
    "    misclassified[misclassified.y_true==misclassified.y_pred].to_excel(writer, sheet_name='CORRECT_PREDS')\n",
    "    misclassified[misclassified.y_true!=misclassified.y_pred].to_excel(writer, sheet_name='WRONG_PREDS')"
   ]
  },
  {
   "cell_type": "code",
   "execution_count": 27,
   "metadata": {},
   "outputs": [
    {
     "data": {
      "text/plain": [
       "0.9702300405953992"
      ]
     },
     "execution_count": 27,
     "metadata": {},
     "output_type": "execute_result"
    }
   ],
   "source": [
    "confident_preds = misclassified[misclassified.confidence>=0.7]\n",
    "confident_preds[confident_preds.y_true==confident_preds.y_pred].shape[0]/confident_preds.shape[0]"
   ]
  },
  {
   "cell_type": "code",
   "execution_count": 28,
   "metadata": {},
   "outputs": [
    {
     "data": {
      "text/plain": [
       "739"
      ]
     },
     "execution_count": 28,
     "metadata": {},
     "output_type": "execute_result"
    }
   ],
   "source": [
    "confident_preds.shape[0]"
   ]
  },
  {
   "cell_type": "code",
   "execution_count": 20,
   "metadata": {},
   "outputs": [
    {
     "data": {
      "text/plain": [
       "995"
      ]
     },
     "execution_count": 20,
     "metadata": {},
     "output_type": "execute_result"
    }
   ],
   "source": [
    "misclassified.shape[0]"
   ]
  },
  {
   "cell_type": "code",
   "execution_count": 26,
   "metadata": {},
   "outputs": [
    {
     "name": "stderr",
     "output_type": "stream",
     "text": [
      "No handles with labels found to put in legend.\n"
     ]
    },
    {
     "data": {
      "text/plain": [
       "<matplotlib.legend.Legend at 0x1e7c8d4be48>"
      ]
     },
     "execution_count": 26,
     "metadata": {},
     "output_type": "execute_result"
    },
    {
     "data": {
      "image/png": "[encoded data removed]",
      "text/plain": [
       "<Figure size 432x288 with 1 Axes>"
      ]
     },
     "metadata": {},
     "output_type": "display_data"
    }
   ],
   "source": [
    "fpr, tpr, thresholds = roc_curve(yte, winner.predict(xte))\n",
    "# roc_auc = auc(false_positive_rate, true_positive_rate)\n",
    "\n",
    "plt.plot(fpr, tpr)\n",
    "plt.plot([0, 1], [0, 1], 'k--')  # random predictions curve\n",
    "plt.xlim([0.0, 1.0])\n",
    "plt.ylim([0.0, 1.0])\n",
    "plt.xlabel('False Positive Rate or (1 - Specifity)')\n",
    "plt.ylabel('True Positive Rate or (Sensitivity)')\n",
    "plt.title('Receiver Operating Characteristic')\n",
    "plt.legend(loc=\"lower right\")"
   ]
  },
  {
   "cell_type": "markdown",
   "metadata": {},
   "source": [
    "# SVM"
   ]
  },
  {
   "cell_type": "code",
   "execution_count": 7,
   "metadata": {},
   "outputs": [],
   "source": [
    "X_SVM = X.copy()\n",
    "X_SVM.drop(['SIBDQ', 'PSYCH_DX'], axis=1, inplace=True)\n",
    "X_SVM.dropna(subset=['PSYCH'], inplace=True)\n",
    "X_SVM.fillna(0, inplace=True)"
   ]
  },
  {
   "cell_type": "code",
   "execution_count": 8,
   "metadata": {},
   "outputs": [],
   "source": [
    "Y_SVM = Y[X_SVM.index]\n",
    "xtr, xte, ytr, yte = train_test_split(X_SVM, Y_SVM, test_size=0.33, random_state=3)"
   ]
  },
  {
   "cell_type": "code",
   "execution_count": 9,
   "metadata": {},
   "outputs": [],
   "source": [
    "scaler = StandardScaler().fit(xtr)\n",
    "\n",
    "kfold=5\n",
    "results = []\n",
    "for c in [5, 8, 12]:\n",
    "    for gamma in [0.01, 0.05, 0.1]:\n",
    "        scores = cross_val_score(SVC(C=c, gamma=gamma), scaler.transform(xtr), ytr, cv=kfold)\n",
    "        mean_score = np.mean(scores)\n",
    "        results.append((c, gamma, mean_score))\n",
    "\n",
    "best_c, best_gamma, best_score = max(results, key=lambda tup:tup[2])\n",
    "winner = SVC(C=best_c, gamma=best_gamma).fit(scaler.transform(xtr), ytr)\n",
    "\n"
   ]
  },
  {
   "cell_type": "code",
   "execution_count": 10,
   "metadata": {},
   "outputs": [
    {
     "name": "stdout",
     "output_type": "stream",
     "text": [
      "Train Score:  0.8725445536641893\n",
      "Test Score:  0.8649214659685864\n",
      "AUC:  0.672507281402987\n",
      "ConfMat: \n",
      " [[764  28]\n",
      " [101  62]]\n",
      "Train Label_Count:  [1655  283]\n",
      "Test Label_Count:  [792 163]\n"
     ]
    }
   ],
   "source": [
    "print(\"Train Score: \", best_score)\n",
    "print(\"Test Score: \", winner.score(scaler.transform(xte), yte))\n",
    "print(\"AUC: \", roc_auc_score(yte, winner.predict(scaler.transform(xte))))\n",
    "print(\"ConfMat: \\n\",confusion_matrix(yte, winner.predict(scaler.transform(xte))))\n",
    "print(\"Train Label_Count: \", np.bincount(ytr))\n",
    "print(\"Test Label_Count: \", np.bincount(yte))"
   ]
  },
  {
   "cell_type": "markdown",
   "metadata": {},
   "source": [
    "### Without scaling features"
   ]
  },
  {
   "cell_type": "code",
   "execution_count": 11,
   "metadata": {},
   "outputs": [],
   "source": [
    "kfold=5\n",
    "results = []\n",
    "for c in [5, 8, 12]:\n",
    "    for gamma in [0.01, 0.05, 0.1]:\n",
    "        scores = cross_val_score(SVC(C=c, gamma=gamma), xtr, ytr, cv=kfold)\n",
    "        mean_score = np.mean(scores)\n",
    "        results.append((c, gamma, mean_score))\n",
    "\n",
    "best_c, best_gamma, best_score = max(results, key=lambda tup:tup[2])\n",
    "winner = SVC(C=best_c, gamma=best_gamma).fit(xtr, ytr)\n",
    "\n"
   ]
  },
  {
   "cell_type": "code",
   "execution_count": 12,
   "metadata": {},
   "outputs": [
    {
     "name": "stdout",
     "output_type": "stream",
     "text": [
      "Train Score:  0.870998161911612\n",
      "Test Score:  0.8617801047120419\n",
      "AUC:  0.6365069405713579\n",
      "ConfMat: \n",
      " [[775  17]\n",
      " [115  48]]\n",
      "Train Label_Count:  [1655  283]\n",
      "Test Label_Count:  [792 163]\n"
     ]
    }
   ],
   "source": [
    "print(\"Train Score: \", best_score)\n",
    "print(\"Test Score: \", winner.score(xte, yte))\n",
    "print(\"AUC: \", roc_auc_score(yte, winner.predict(xte)))\n",
    "print(\"ConfMat: \\n\",confusion_matrix(yte, winner.predict(xte)))\n",
    "print(\"Train Label_Count: \", np.bincount(ytr))\n",
    "print(\"Test Label_Count: \", np.bincount(yte))"
   ]
  },
  {
   "cell_type": "markdown",
   "metadata": {},
   "source": [
    "# RANDOMFOREST"
   ]
  },
  {
   "cell_type": "code",
   "execution_count": 37,
   "metadata": {},
   "outputs": [],
   "source": [
    "xtr, xte, ytr, yte = train_test_split(X_SVM, Y_SVM, test_size=0.33, random_state=3)"
   ]
  },
  {
   "cell_type": "code",
   "execution_count": 40,
   "metadata": {},
   "outputs": [
    {
     "name": "stderr",
     "output_type": "stream",
     "text": [
      "D:\\MiscSoftware\\Anaconda\\lib\\site-packages\\sklearn\\model_selection\\_search.py:271: UserWarning: The total space of parameters 24 is smaller than n_iter=30. Running 24 iterations. For exhaustive searches, use GridSearchCV.\n",
      "  % (grid_size, self.n_iter, grid_size), UserWarning)\n",
      "[Parallel(n_jobs=-1)]: Using backend LokyBackend with 4 concurrent workers.\n"
     ]
    },
    {
     "name": "stdout",
     "output_type": "stream",
     "text": [
      "Fitting 3 folds for each of 24 candidates, totalling 72 fits\n"
     ]
    },
    {
     "name": "stderr",
     "output_type": "stream",
     "text": [
      "[Parallel(n_jobs=-1)]: Done  33 tasks      | elapsed:    7.2s\n",
      "[Parallel(n_jobs=-1)]: Done  72 out of  72 | elapsed:   13.5s finished\n"
     ]
    },
    {
     "data": {
      "text/plain": [
       "RandomizedSearchCV(cv=3, error_score='raise-deprecating',\n",
       "          estimator=RandomForestClassifier(bootstrap=True, class_weight=None, criterion='gini',\n",
       "            max_depth=None, max_features='auto', max_leaf_nodes=None,\n",
       "            min_impurity_decrease=0.0, min_impurity_split=None,\n",
       "            min_samples_leaf=1, min_samples_split=2,\n",
       "            min_weight_fraction_leaf=0.0, n_estimators='warn', n_jobs=None,\n",
       "            oob_score=False, random_state=None, verbose=0,\n",
       "            warm_start=False),\n",
       "          fit_params=None, iid='warn', n_iter=30, n_jobs=-1,\n",
       "          param_distributions={'n_estimators': [90, 120, 150], 'max_features': [10, 'sqrt'], 'max_depth': [5, 10], 'min_samples_split': [5], 'min_samples_leaf': [2], 'bootstrap': [True], 'class_weight': ['balanced', 'balanced_subsample']},\n",
       "          pre_dispatch='2*n_jobs', random_state=42, refit=True,\n",
       "          return_train_score='warn', scoring=None, verbose=2)"
      ]
     },
     "execution_count": 40,
     "metadata": {},
     "output_type": "execute_result"
    }
   ],
   "source": [
    "# Number of features to consider at every split\n",
    "max_features = [10, 'sqrt']\n",
    "# Maximum number of levels in tree\n",
    "max_depth = [int(x) for x in np.linspace(60, 100, num = 5)]\n",
    "# Minimum number of samples required to split a node\n",
    "min_samples_split = [5]\n",
    "# Minimum number of samples required at each leaf node\n",
    "min_samples_leaf = [2]\n",
    "# Method of selecting samples for training each tree\n",
    "bootstrap = [True]\n",
    "# Create the random grid\n",
    "random_grid = {'n_estimators': [int(x) for x in np.linspace(90, 150, num = 3)],\n",
    "               'max_features': max_features,\n",
    "               'max_depth': [5,10],\n",
    "               'min_samples_split': min_samples_split,\n",
    "               'min_samples_leaf': min_samples_leaf,\n",
    "               'bootstrap': bootstrap,\n",
    "               'class_weight':['balanced', 'balanced_subsample']}\n",
    "rf_gridsearch = RandomizedSearchCV(estimator = RandomForestClassifier(), param_distributions = random_grid, n_iter = 30, cv = 3, verbose=2, random_state=42, n_jobs = -1)\n",
    "rf_gridsearch.fit(xtr, ytr)"
   ]
  },
  {
   "cell_type": "code",
   "execution_count": 41,
   "metadata": {},
   "outputs": [
    {
     "name": "stdout",
     "output_type": "stream",
     "text": [
      "Best estimator: \n",
      " RandomForestClassifier(bootstrap=True, class_weight='balanced',\n",
      "            criterion='gini', max_depth=10, max_features=10,\n",
      "            max_leaf_nodes=None, min_impurity_decrease=0.0,\n",
      "            min_impurity_split=None, min_samples_leaf=2,\n",
      "            min_samples_split=5, min_weight_fraction_leaf=0.0,\n",
      "            n_estimators=150, n_jobs=None, oob_score=False,\n",
      "            random_state=None, verbose=0, warm_start=False)\n",
      "Train Score:  0.9643962848297214\n",
      "Test Score:  0.8513089005235602\n",
      "AUC:  0.7349491851025594\n",
      "ConfMat: \n",
      " [[722  70]\n",
      " [ 72  91]]\n",
      "Train Label_Count:  [1655  283]\n",
      "Test Label_Count:  [792 163]\n",
      "\n",
      "\n",
      " [('ALBUMIN', 0.26698776889641035), ('EOS_EVER_HIGH', 0.1274543449624691), ('ENC_PROC', 0.059541348207631455), ('ENC_CONSULT', 0.04912262764468774), ('ENC_TEL', 0.03334478523488772), ('ENC_OFF', 0.032483866904736425), ('AGE', 0.031971177719730334), ('ANTIBIOTICS', 0.031373243219543545), ('EMPLOYMENT_STATUS', 0.02964809284076977), ('DISTANCE_KM', 0.029189552378385355), ('Systemic_steroids', 0.029087955224034304), ('CRP', 0.028695128985844243), ('ANTI_TNF', 0.02649134821335588), ('Vitamin_D', 0.02536323971588455), ('VITD_LAB', 0.025218324241064367), ('PSYCH', 0.02480187038250693), ('Immunomodulators', 0.024403528575382822), ('ESR', 0.023427773554583836), ('HEMO', 0.01814349741503901), ('MARITAL_STATUS', 0.017568895850322338), ('ANTI_INTEGRIN', 0.017068535239961394), ('GENDER', 0.0159597885130615), ('SIBDQ', 0.01494929833346658), ('5_ASA', 0.011349902649650025), ('ANTI_IL12', 0.003939240409450655), ('MONO_EVER_HIGH', 0.002414864687139719)]\n"
     ]
    }
   ],
   "source": [
    "winner = rf_gridsearch.best_estimator_\n",
    "print(\"Best estimator: \\n\",winner)\n",
    "print(\"Train Score: \", winner.score(xtr,ytr))\n",
    "print(\"Test Score: \", winner.score(xte, yte))\n",
    "print(\"AUC: \", roc_auc_score(yte, winner.predict(xte)))\n",
    "print(\"ConfMat: \\n\",confusion_matrix(yte, winner.predict(xte)))\n",
    "print(\"Train Label_Count: \", np.bincount(ytr))\n",
    "print(\"Test Label_Count: \", np.bincount(yte))\n",
    "print(\"\\n\\n\",sorted(list(zip(X.columns, winner.feature_importances_)), key=lambda x:x[1], reverse=True))"
   ]
  },
  {
   "cell_type": "code",
   "execution_count": 63,
   "metadata": {
    "scrolled": true
   },
   "outputs": [],
   "source": [
    "xx = pd.DataFrame(index=X_SVM.index, columns=X_SVM.columns)\n",
    "for c in X_SVM.columns:\n",
    "        xx[c] = le_map[c].inverse_transform(X_SVM[c].astype(int))\n",
    "pd.concat([xx, Y_SVM], axis=1).to_csv('DiscreteTrainData_FillNA.csv', index=False)"
   ]
  }
 ],
 "metadata": {
  "kernelspec": {
   "display_name": "Python 3",
   "language": "python",
   "name": "python3"
  },
  "language_info": {
   "codemirror_mode": {
    "name": "ipython",
    "version": 3
   },
   "file_extension": ".py",
   "mimetype": "text/x-python",
   "name": "python",
   "nbconvert_exporter": "python",
   "pygments_lexer": "ipython3",
   "version": "3.6.5"
  }
 },
 "nbformat": 4,
 "nbformat_minor": 2
}
