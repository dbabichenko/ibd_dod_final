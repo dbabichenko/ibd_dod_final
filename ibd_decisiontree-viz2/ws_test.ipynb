{
 "cells": [
  {
   "cell_type": "code",
   "execution_count": 19,
   "metadata": {},
   "outputs": [],
   "source": [
    "import pandas as pd\n"
   ]
  },
  {
   "cell_type": "code",
   "execution_count": 20,
   "metadata": {},
   "outputs": [
    {
     "data": {
      "text/html": [
       "<div>\n",
       "<style scoped>\n",
       "    .dataframe tbody tr th:only-of-type {\n",
       "        vertical-align: middle;\n",
       "    }\n",
       "\n",
       "    .dataframe tbody tr th {\n",
       "        vertical-align: top;\n",
       "    }\n",
       "\n",
       "    .dataframe thead th {\n",
       "        text-align: right;\n",
       "    }\n",
       "</style>\n",
       "<table border=\"1\" class=\"dataframe\">\n",
       "  <thead>\n",
       "    <tr style=\"text-align: right;\">\n",
       "      <th></th>\n",
       "      <th>AUTO_ID</th>\n",
       "      <th>PAT_ID</th>\n",
       "      <th>PAT_MRN_ID</th>\n",
       "      <th>MARITAL_STATUS</th>\n",
       "      <th>EMPLOYMENT_STATUS</th>\n",
       "      <th>GENDER</th>\n",
       "      <th>AGE</th>\n",
       "      <th>DISTANCE_KM</th>\n",
       "      <th>SIBDQ</th>\n",
       "      <th>ENC_CONSULT</th>\n",
       "      <th>...</th>\n",
       "      <th>ANTI_IL12</th>\n",
       "      <th>ANTI_INTEGRIN</th>\n",
       "      <th>ANTI_TNF</th>\n",
       "      <th>Immunomodulators</th>\n",
       "      <th>Systemic_steroids</th>\n",
       "      <th>Vitamin_D</th>\n",
       "      <th>ANTIBIOTICS</th>\n",
       "      <th>PSYCH_DX</th>\n",
       "      <th>TOBACCO_USE</th>\n",
       "      <th>CHARGE_FLAG_85pctile</th>\n",
       "    </tr>\n",
       "  </thead>\n",
       "  <tbody>\n",
       "    <tr>\n",
       "      <th>0</th>\n",
       "      <td>0</td>\n",
       "      <td>156369</td>\n",
       "      <td>156369</td>\n",
       "      <td>Married</td>\n",
       "      <td>Employed</td>\n",
       "      <td>Male</td>\n",
       "      <td>Age3</td>\n",
       "      <td>Dist3</td>\n",
       "      <td>Good</td>\n",
       "      <td>Never</td>\n",
       "      <td>...</td>\n",
       "      <td>Never</td>\n",
       "      <td>Never</td>\n",
       "      <td>Never</td>\n",
       "      <td>Persistent</td>\n",
       "      <td>Persistent</td>\n",
       "      <td>Never</td>\n",
       "      <td>Never</td>\n",
       "      <td>NaN</td>\n",
       "      <td>Quit</td>\n",
       "      <td>0.0</td>\n",
       "    </tr>\n",
       "    <tr>\n",
       "      <th>1</th>\n",
       "      <td>1</td>\n",
       "      <td>174687646</td>\n",
       "      <td>841189757</td>\n",
       "      <td>Single</td>\n",
       "      <td>NotEmployed</td>\n",
       "      <td>Male</td>\n",
       "      <td>Age1</td>\n",
       "      <td>Dist1</td>\n",
       "      <td>Good</td>\n",
       "      <td>Never</td>\n",
       "      <td>...</td>\n",
       "      <td>Never</td>\n",
       "      <td>Never</td>\n",
       "      <td>Never</td>\n",
       "      <td>Never</td>\n",
       "      <td>Never</td>\n",
       "      <td>Never</td>\n",
       "      <td>Persistent</td>\n",
       "      <td>NaN</td>\n",
       "      <td>Yes</td>\n",
       "      <td>0.0</td>\n",
       "    </tr>\n",
       "    <tr>\n",
       "      <th>2</th>\n",
       "      <td>2</td>\n",
       "      <td>738090216</td>\n",
       "      <td>738090216</td>\n",
       "      <td>Married</td>\n",
       "      <td>NotEmployed</td>\n",
       "      <td>Female</td>\n",
       "      <td>Age1</td>\n",
       "      <td>Dist3</td>\n",
       "      <td>Good</td>\n",
       "      <td>Never</td>\n",
       "      <td>...</td>\n",
       "      <td>Never</td>\n",
       "      <td>Never</td>\n",
       "      <td>Never</td>\n",
       "      <td>Persistent</td>\n",
       "      <td>Never</td>\n",
       "      <td>Never</td>\n",
       "      <td>Transient</td>\n",
       "      <td>NaN</td>\n",
       "      <td>Never</td>\n",
       "      <td>0.0</td>\n",
       "    </tr>\n",
       "    <tr>\n",
       "      <th>3</th>\n",
       "      <td>3</td>\n",
       "      <td>176623065</td>\n",
       "      <td>841748158</td>\n",
       "      <td>Single</td>\n",
       "      <td>Employed</td>\n",
       "      <td>Female</td>\n",
       "      <td>Age2</td>\n",
       "      <td>Dist1</td>\n",
       "      <td>NaN</td>\n",
       "      <td>Never</td>\n",
       "      <td>...</td>\n",
       "      <td>Never</td>\n",
       "      <td>Never</td>\n",
       "      <td>Never</td>\n",
       "      <td>Never</td>\n",
       "      <td>Never</td>\n",
       "      <td>Transient</td>\n",
       "      <td>Transient</td>\n",
       "      <td>NaN</td>\n",
       "      <td>Never</td>\n",
       "      <td>0.0</td>\n",
       "    </tr>\n",
       "    <tr>\n",
       "      <th>4</th>\n",
       "      <td>4</td>\n",
       "      <td>60187</td>\n",
       "      <td>60187</td>\n",
       "      <td>Married</td>\n",
       "      <td>Employed</td>\n",
       "      <td>Female</td>\n",
       "      <td>Age3</td>\n",
       "      <td>Dist2</td>\n",
       "      <td>Bad</td>\n",
       "      <td>Never</td>\n",
       "      <td>...</td>\n",
       "      <td>Never</td>\n",
       "      <td>Never</td>\n",
       "      <td>Never</td>\n",
       "      <td>Never</td>\n",
       "      <td>Never</td>\n",
       "      <td>Never</td>\n",
       "      <td>Never</td>\n",
       "      <td>NaN</td>\n",
       "      <td>Never</td>\n",
       "      <td>0.0</td>\n",
       "    </tr>\n",
       "  </tbody>\n",
       "</table>\n",
       "<p>5 rows × 32 columns</p>\n",
       "</div>"
      ],
      "text/plain": [
       "   AUTO_ID     PAT_ID  PAT_MRN_ID MARITAL_STATUS EMPLOYMENT_STATUS  GENDER  \\\n",
       "0        0     156369      156369        Married          Employed    Male   \n",
       "1        1  174687646   841189757         Single       NotEmployed    Male   \n",
       "2        2  738090216   738090216        Married       NotEmployed  Female   \n",
       "3        3  176623065   841748158         Single          Employed  Female   \n",
       "4        4      60187       60187        Married          Employed  Female   \n",
       "\n",
       "    AGE DISTANCE_KM SIBDQ ENC_CONSULT         ...          ANTI_IL12  \\\n",
       "0  Age3       Dist3  Good       Never         ...              Never   \n",
       "1  Age1       Dist1  Good       Never         ...              Never   \n",
       "2  Age1       Dist3  Good       Never         ...              Never   \n",
       "3  Age2       Dist1   NaN       Never         ...              Never   \n",
       "4  Age3       Dist2   Bad       Never         ...              Never   \n",
       "\n",
       "  ANTI_INTEGRIN ANTI_TNF Immunomodulators Systemic_steroids  Vitamin_D  \\\n",
       "0         Never    Never       Persistent        Persistent      Never   \n",
       "1         Never    Never            Never             Never      Never   \n",
       "2         Never    Never       Persistent             Never      Never   \n",
       "3         Never    Never            Never             Never  Transient   \n",
       "4         Never    Never            Never             Never      Never   \n",
       "\n",
       "  ANTIBIOTICS PSYCH_DX TOBACCO_USE CHARGE_FLAG_85pctile  \n",
       "0       Never      NaN        Quit                  0.0  \n",
       "1  Persistent      NaN         Yes                  0.0  \n",
       "2   Transient      NaN       Never                  0.0  \n",
       "3   Transient      NaN       Never                  0.0  \n",
       "4       Never      NaN       Never                  0.0  \n",
       "\n",
       "[5 rows x 32 columns]"
      ]
     },
     "execution_count": 20,
     "metadata": {},
     "output_type": "execute_result"
    }
   ],
   "source": [
    "df = pd.read_csv(\"ibd_source_data.csv\")\n",
    "df.head()"
   ]
  },
  {
   "cell_type": "code",
   "execution_count": 24,
   "metadata": {},
   "outputs": [
    {
     "data": {
      "text/plain": [
       "(3143, 32)"
      ]
     },
     "execution_count": 24,
     "metadata": {},
     "output_type": "execute_result"
    }
   ],
   "source": [
    "df.shape"
   ]
  },
  {
   "cell_type": "code",
   "execution_count": 33,
   "metadata": {},
   "outputs": [],
   "source": [
    "result = df.query(\"MARITAL_STATUS=='Married'\")['GENDER'].value_counts()"
   ]
  },
  {
   "cell_type": "code",
   "execution_count": 36,
   "metadata": {},
   "outputs": [
    {
     "data": {
      "text/plain": [
       "dtype('int64')"
      ]
     },
     "execution_count": 36,
     "metadata": {},
     "output_type": "execute_result"
    }
   ],
   "source": [
    "result.sum()"
   ]
  },
  {
   "cell_type": "code",
   "execution_count": 28,
   "metadata": {},
   "outputs": [
    {
     "data": {
      "text/plain": [
       "3143"
      ]
     },
     "execution_count": 28,
     "metadata": {},
     "output_type": "execute_result"
    }
   ],
   "source": [
    "df['GENDER'].value_counts().sum()"
   ]
  },
  {
   "cell_type": "code",
   "execution_count": 21,
   "metadata": {},
   "outputs": [
    {
     "data": {
      "text/plain": [
       "Index(['AUTO_ID', 'PAT_ID', 'PAT_MRN_ID', 'MARITAL_STATUS',\n",
       "       'EMPLOYMENT_STATUS', 'GENDER', 'AGE', 'DISTANCE_KM', 'SIBDQ',\n",
       "       'ENC_CONSULT', 'ENC_OFF', 'ENC_PROC', 'ENC_TEL', 'EOS_EVER_HIGH',\n",
       "       'MONO_EVER_HIGH', 'ALBUMIN', 'HEMO', 'ESR', 'CRP', 'VITD_LAB', 'PSYCH',\n",
       "       '5_ASA', 'ANTI_IL12', 'ANTI_INTEGRIN', 'ANTI_TNF', 'Immunomodulators',\n",
       "       'Systemic_steroids', 'Vitamin_D', 'ANTIBIOTICS', 'PSYCH_DX',\n",
       "       'TOBACCO_USE', 'CHARGE_FLAG_85pctile'],\n",
       "      dtype='object')"
      ]
     },
     "execution_count": 21,
     "metadata": {},
     "output_type": "execute_result"
    }
   ],
   "source": [
    "df.columns"
   ]
  },
  {
   "cell_type": "code",
   "execution_count": 22,
   "metadata": {},
   "outputs": [],
   "source": [
    "def get_split_data(data, col_list):\n",
    "    #sel = data.groupby(col_list, as_index=False).count()\n",
    "    sel_col_list = col_list\n",
    "    sel_col_list.append('AUTO_ID')\n",
    "    sel = data[sel_col_list]\n",
    "    sel = sel.groupby(col_list).count()\n",
    "\n",
    "    \n",
    "    return sel"
   ]
  },
  {
   "cell_type": "code",
   "execution_count": 23,
   "metadata": {},
   "outputs": [
    {
     "data": {
      "text/plain": [
       "'{\"AUTO_ID\":{\"[\"Female\",\"Married\"]\":919,\"[\"Female\",\"Single\"]\":718,\"[\"Female\",\"Unknown\"]\":31,\"[\"Male\",\"Married\"]\":765,\"[\"Male\",\"Single\"]\":662,\"[\"Male\",\"Unknown\"]\":41}}'"
      ]
     },
     "execution_count": 23,
     "metadata": {},
     "output_type": "execute_result"
    }
   ],
   "source": [
    "sel_data_cols = ['GENDER','MARITAL_STATUS', 'AUTO_ID']\n",
    "sel_data = df[sel_data_cols]\n",
    "#df.groupby(['GENDER','MARITAL_STATUS']).count()\n",
    "sel_data.groupby(['GENDER','MARITAL_STATUS']).count().to_json()\n"
   ]
  },
  {
   "cell_type": "code",
   "execution_count": 6,
   "metadata": {},
   "outputs": [
    {
     "data": {
      "text/plain": [
       "'{\"Employed\":477,\"NotEmployed\":163,\"Unknown\":116,\"Student\":9}'"
      ]
     },
     "execution_count": 6,
     "metadata": {},
     "output_type": "execute_result"
    }
   ],
   "source": [
    "col = 'EMPLOYMENT_STATUS'\n",
    "q = \"GENDER=='Male' & MARITAL_STATUS == 'Married'\"\n",
    "df.query(q)[col].value_counts().to_json()\n"
   ]
  },
  {
   "cell_type": "code",
   "execution_count": 18,
   "metadata": {},
   "outputs": [
    {
     "name": "stdout",
     "output_type": "stream",
     "text": [
      "[{'name': 'Employed', 'weight': 477, 'children': []}, {'name': 'NotEmployed', 'weight': 163, 'children': []}, {'name': 'Unknown', 'weight': 116, 'children': []}, {'name': 'Student', 'weight': 9, 'children': []}]\n"
     ]
    }
   ],
   "source": [
    "is_root = False\n",
    "col = 'EMPLOYMENT_STATUS'\n",
    "q = \"GENDER=='Male' & MARITAL_STATUS == 'Married'\"\n",
    "#df.query(q)[col].value_counts().to_json()\n",
    "\n",
    "\n",
    "children = []\n",
    "result = df.query(q)[col].value_counts()\n",
    "for key, val in result.items():\n",
    "    temp = {'name' : key, 'weight' : val, 'children' : []}\n",
    "    children.append(temp)\n",
    "    \n",
    "if is_root:\n",
    "    container = {'name' : col, 'children' : children}\n",
    "    \n",
    "else:\n",
    "    container = children\n",
    "    \n",
    "print(container)\n",
    "    "
   ]
  },
  {
   "cell_type": "code",
   "execution_count": null,
   "metadata": {},
   "outputs": [],
   "source": []
  },
  {
   "cell_type": "code",
   "execution_count": null,
   "metadata": {},
   "outputs": [],
   "source": []
  },
  {
   "cell_type": "code",
   "execution_count": null,
   "metadata": {},
   "outputs": [],
   "source": []
  },
  {
   "cell_type": "code",
   "execution_count": null,
   "metadata": {},
   "outputs": [],
   "source": []
  },
  {
   "cell_type": "code",
   "execution_count": null,
   "metadata": {},
   "outputs": [],
   "source": []
  },
  {
   "cell_type": "code",
   "execution_count": null,
   "metadata": {},
   "outputs": [],
   "source": []
  },
  {
   "cell_type": "code",
   "execution_count": 87,
   "metadata": {},
   "outputs": [],
   "source": [
    "# Required Python Machine learning Packages\n",
    "import pandas as pd\n",
    "import numpy as np\n",
    "\n",
    "# To split the dataset into train and test datasets\n",
    "from sklearn.model_selection import train_test_split\n",
    "\n",
    "# To model the Gaussian Navie Bayes classifier\n",
    "from sklearn.naive_bayes import GaussianNB\n",
    "\n",
    "# To calculate the accuracy score of the model\n",
    "from sklearn.metrics import accuracy_score\n",
    "from sklearn.preprocessing import LabelEncoder\n",
    "\n",
    "import matplotlib.pyplot as plt\n",
    "%matplotlib inline"
   ]
  },
  {
   "cell_type": "code",
   "execution_count": 88,
   "metadata": {},
   "outputs": [],
   "source": [
    "def label_encode(df, columns):\n",
    "    for col in columns:\n",
    "        le = LabelEncoder()\n",
    "        col_values_unique = list(df[col].unique())\n",
    "        le_fitted = le.fit(col_values_unique)\n",
    " \n",
    "        col_values = list(df[col].values)\n",
    "        #le.classes_\n",
    "        col_values_transformed = le.transform(col_values)\n",
    "        df[col] = col_values_transformed\n",
    "        "
   ]
  },
  {
   "cell_type": "code",
   "execution_count": 93,
   "metadata": {},
   "outputs": [
    {
     "name": "stderr",
     "output_type": "stream",
     "text": [
      "/anaconda3/lib/python3.7/site-packages/ipykernel_launcher.py:10: SettingWithCopyWarning: \n",
      "A value is trying to be set on a copy of a slice from a DataFrame.\n",
      "Try using .loc[row_indexer,col_indexer] = value instead\n",
      "\n",
      "See the caveats in the documentation: http://pandas.pydata.org/pandas-docs/stable/indexing.html#indexing-view-versus-copy\n",
      "  # Remove the CWD from sys.path while we load stuff.\n"
     ]
    }
   ],
   "source": [
    "features = df[['GENDER','MARITAL_STATUS','EMPLOYMENT_STATUS', 'AGE']]\n",
    "\n",
    "label_encode(features, features.columns.values)\n",
    "\n",
    "target = df[['Immunomodulators']]\n",
    "label_encode(target, target.columns.values)\n",
    "\n"
   ]
  },
  {
   "cell_type": "code",
   "execution_count": 94,
   "metadata": {},
   "outputs": [],
   "source": [
    "features_train, features_test, target_train, target_test = train_test_split(features, target, test_size = 0.33, random_state = 10)\n"
   ]
  },
  {
   "cell_type": "code",
   "execution_count": 95,
   "metadata": {},
   "outputs": [
    {
     "name": "stderr",
     "output_type": "stream",
     "text": [
      "/anaconda3/lib/python3.7/site-packages/sklearn/utils/validation.py:761: DataConversionWarning: A column-vector y was passed when a 1d array was expected. Please change the shape of y to (n_samples, ), for example using ravel().\n",
      "  y = column_or_1d(y, warn=True)\n"
     ]
    },
    {
     "data": {
      "text/plain": [
       "array([0, 1, 0, ..., 0, 1, 1])"
      ]
     },
     "execution_count": 95,
     "metadata": {},
     "output_type": "execute_result"
    }
   ],
   "source": [
    "nb = GaussianNB()\n",
    "nb.fit(features_train, target_train)\n",
    "target_pred = nb.predict(features_test)\n",
    "target_pred"
   ]
  },
  {
   "cell_type": "code",
   "execution_count": 96,
   "metadata": {},
   "outputs": [
    {
     "name": "stdout",
     "output_type": "stream",
     "text": [
      "0.4653179190751445\n"
     ]
    }
   ],
   "source": [
    "from sklearn import metrics\n",
    "print(metrics.accuracy_score(target_test, target_pred))"
   ]
  },
  {
   "cell_type": "code",
   "execution_count": null,
   "metadata": {},
   "outputs": [],
   "source": []
  }
 ],
 "metadata": {
  "kernelspec": {
   "display_name": "Python 3",
   "language": "python",
   "name": "python3"
  },
  "language_info": {
   "codemirror_mode": {
    "name": "ipython",
    "version": 3
   },
   "file_extension": ".py",
   "mimetype": "text/x-python",
   "name": "python",
   "nbconvert_exporter": "python",
   "pygments_lexer": "ipython3",
   "version": "3.7.1"
  }
 },
 "nbformat": 4,
 "nbformat_minor": 2
}
