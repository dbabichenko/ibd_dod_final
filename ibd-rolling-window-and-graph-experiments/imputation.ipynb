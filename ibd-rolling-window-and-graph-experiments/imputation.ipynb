{
 "cells": [
  {
   "cell_type": "code",
   "execution_count": 16,
   "metadata": {},
   "outputs": [
    {
     "name": "stdout",
     "output_type": "stream",
     "text": [
      "Requirement already satisfied: miceforest in /Users/dmitriyb/opt/anaconda3/lib/python3.8/site-packages (4.0.1)\r\n",
      "Requirement already satisfied: lightgbm in /Users/dmitriyb/opt/anaconda3/lib/python3.8/site-packages (from miceforest) (3.2.1)\r\n",
      "Requirement already satisfied: numpy in /Users/dmitriyb/opt/anaconda3/lib/python3.8/site-packages (from miceforest) (1.20.3)\r\n",
      "Requirement already satisfied: scipy in /Users/dmitriyb/opt/anaconda3/lib/python3.8/site-packages (from lightgbm->miceforest) (1.5.2)\r\n",
      "Requirement already satisfied: wheel in /Users/dmitriyb/opt/anaconda3/lib/python3.8/site-packages (from lightgbm->miceforest) (0.35.1)\r\n",
      "Requirement already satisfied: scikit-learn!=0.22.0 in /Users/dmitriyb/opt/anaconda3/lib/python3.8/site-packages (from lightgbm->miceforest) (0.23.2)\r\n",
      "Requirement already satisfied: joblib>=0.11 in /Users/dmitriyb/opt/anaconda3/lib/python3.8/site-packages (from scikit-learn!=0.22.0->lightgbm->miceforest) (0.17.0)\r\n",
      "Requirement already satisfied: threadpoolctl>=2.0.0 in /Users/dmitriyb/opt/anaconda3/lib/python3.8/site-packages (from scikit-learn!=0.22.0->lightgbm->miceforest) (2.1.0)\r\n"
     ]
    }
   ],
   "source": [
    "import matplotlib.pyplot as plt\n",
    "import seaborn as sns\n",
    "import pandas as pd\n",
    "import os\n",
    "from datetime import datetime\n",
    "import numpy as np\n",
    "import random\n",
    "\n",
    "\n",
    "from sklearn.preprocessing import LabelEncoder\n",
    "from sklearn.preprocessing import MinMaxScaler\n",
    "\n",
    "# explicitly require this experimental feature\n",
    "from sklearn.experimental import enable_iterative_imputer\n",
    "from sklearn.impute import IterativeImputer\n",
    "from sklearn.ensemble import ExtraTreesRegressor\n",
    "from sklearn.linear_model import BayesianRidge\n",
    "\n",
    "!pip install miceforest\n",
    "import miceforest as mf\n"
   ]
  },
  {
   "cell_type": "code",
   "execution_count": null,
   "metadata": {},
   "outputs": [],
   "source": []
  },
  {
   "cell_type": "code",
   "execution_count": 17,
   "metadata": {},
   "outputs": [],
   "source": [
    "# path = \"/Users/dbabichenko/OneDrive - University of Pittsburgh/Research/IBD Research/Inflammatory Bowel Disease DOD Grant/data/Merged Data 2021\"\n",
    "path = \"/Users/dmitriyb/OneDrive - University of Pittsburgh/Research/IBD Research/Inflammatory Bowel Disease DOD Grant/data/Merged Data 2021\""
   ]
  },
  {
   "cell_type": "code",
   "execution_count": 18,
   "metadata": {},
   "outputs": [],
   "source": [
    "patients = pd.read_csv(path + '/patients_merged.csv')\n",
    "patients['GENDER'] = patients['GENDER'].map({'M' : 0, 'F': 1, 'FEMALE' : 1, 'MALE' : 0})\n",
    "patients['AGE'] = datetime.today().year - patients['BIRTH_YEAR']\n",
    "\n",
    "# “married”, “single”, and “unknown”.\n",
    "m_status = {\n",
    "    'Married' : 'married',\n",
    "    'Single' : 'single',\n",
    "    'Divorced' : 'single',\n",
    "    'Widowed' :  'single',\n",
    "    'Legally Separated' : 'single',\n",
    "    'Committed relationship' : 'married',\n",
    "    'Significant other' : 'married'\n",
    "}\n",
    "\n",
    "patients['MARITAL STATUS'] = patients['MARITAL STATUS'].map(m_status)\n",
    "patients['MARITAL STATUS'].fillna('unknown', inplace=True)\n",
    "\n",
    "# “employed”, “not employed”, “student”, “unknown”\n",
    "emp_status = {\n",
    "    'Full Time' : 'employed', \n",
    "    'Not Employed' : 'not employed', \n",
    "    'Student - Full Time' : 'student',\n",
    "    'Part Time' : 'employed', \n",
    "    'Retired' : 'not employed', \n",
    "    'Self Employed' : 'employed', \n",
    "    'Student - Part Time' : 'student'\n",
    "}\n",
    "patients['EMPLOYMENT_STATUS'] = patients['EMPLOYMENT_STATUS'].map(emp_status)\n",
    "patients['EMPLOYMENT_STATUS'].fillna('unknown', inplace=True)\n",
    "\n",
    "\n",
    "\n",
    "patients.drop(['Unnamed: 0', 'DATA_SOURCE', 'IS_ALIVE', 'BIRTH_YEAR', 'RACE', 'ETHNIC_GROUP'], axis=1, inplace=True)"
   ]
  },
  {
   "cell_type": "code",
   "execution_count": null,
   "metadata": {},
   "outputs": [],
   "source": []
  },
  {
   "cell_type": "code",
   "execution_count": 19,
   "metadata": {},
   "outputs": [
    {
     "data": {
      "text/html": [
       "<div>\n",
       "<style scoped>\n",
       "    .dataframe tbody tr th:only-of-type {\n",
       "        vertical-align: middle;\n",
       "    }\n",
       "\n",
       "    .dataframe tbody tr th {\n",
       "        vertical-align: top;\n",
       "    }\n",
       "\n",
       "    .dataframe thead th {\n",
       "        text-align: right;\n",
       "    }\n",
       "</style>\n",
       "<table border=\"1\" class=\"dataframe\">\n",
       "  <thead>\n",
       "    <tr style=\"text-align: right;\">\n",
       "      <th></th>\n",
       "      <th>GENDER</th>\n",
       "      <th>MARITAL STATUS</th>\n",
       "      <th>EMPLOYMENT_STATUS</th>\n",
       "      <th>PROJECT_PATIENT_ID</th>\n",
       "      <th>AGE</th>\n",
       "    </tr>\n",
       "  </thead>\n",
       "  <tbody>\n",
       "    <tr>\n",
       "      <th>0</th>\n",
       "      <td>0</td>\n",
       "      <td>unknown</td>\n",
       "      <td>unknown</td>\n",
       "      <td>64a0ac31-091d-45c5-86e3-86516ee4299a</td>\n",
       "      <td>63</td>\n",
       "    </tr>\n",
       "    <tr>\n",
       "      <th>1</th>\n",
       "      <td>1</td>\n",
       "      <td>unknown</td>\n",
       "      <td>unknown</td>\n",
       "      <td>7da2e9db-ae3b-41bc-a467-fa2d9afe25ea</td>\n",
       "      <td>93</td>\n",
       "    </tr>\n",
       "    <tr>\n",
       "      <th>2</th>\n",
       "      <td>1</td>\n",
       "      <td>unknown</td>\n",
       "      <td>unknown</td>\n",
       "      <td>524c0db3-6ef0-47c6-9b99-098d0bf998cd</td>\n",
       "      <td>63</td>\n",
       "    </tr>\n",
       "    <tr>\n",
       "      <th>3</th>\n",
       "      <td>1</td>\n",
       "      <td>unknown</td>\n",
       "      <td>unknown</td>\n",
       "      <td>ed3a3f1a-0c26-402b-b922-159589036b46</td>\n",
       "      <td>67</td>\n",
       "    </tr>\n",
       "    <tr>\n",
       "      <th>4</th>\n",
       "      <td>0</td>\n",
       "      <td>unknown</td>\n",
       "      <td>unknown</td>\n",
       "      <td>4d3ea8f4-15b6-477f-805e-7932c6aabc74</td>\n",
       "      <td>33</td>\n",
       "    </tr>\n",
       "  </tbody>\n",
       "</table>\n",
       "</div>"
      ],
      "text/plain": [
       "   GENDER MARITAL STATUS EMPLOYMENT_STATUS  \\\n",
       "0       0        unknown           unknown   \n",
       "1       1        unknown           unknown   \n",
       "2       1        unknown           unknown   \n",
       "3       1        unknown           unknown   \n",
       "4       0        unknown           unknown   \n",
       "\n",
       "                     PROJECT_PATIENT_ID  AGE  \n",
       "0  64a0ac31-091d-45c5-86e3-86516ee4299a   63  \n",
       "1  7da2e9db-ae3b-41bc-a467-fa2d9afe25ea   93  \n",
       "2  524c0db3-6ef0-47c6-9b99-098d0bf998cd   63  \n",
       "3  ed3a3f1a-0c26-402b-b922-159589036b46   67  \n",
       "4  4d3ea8f4-15b6-477f-805e-7932c6aabc74   33  "
      ]
     },
     "execution_count": 19,
     "metadata": {},
     "output_type": "execute_result"
    }
   ],
   "source": [
    "patients.head()"
   ]
  },
  {
   "cell_type": "code",
   "execution_count": 20,
   "metadata": {},
   "outputs": [
    {
     "data": {
      "text/html": [
       "<div>\n",
       "<style scoped>\n",
       "    .dataframe tbody tr th:only-of-type {\n",
       "        vertical-align: middle;\n",
       "    }\n",
       "\n",
       "    .dataframe tbody tr th {\n",
       "        vertical-align: top;\n",
       "    }\n",
       "\n",
       "    .dataframe thead th {\n",
       "        text-align: right;\n",
       "    }\n",
       "</style>\n",
       "<table border=\"1\" class=\"dataframe\">\n",
       "  <thead>\n",
       "    <tr style=\"text-align: right;\">\n",
       "      <th></th>\n",
       "      <th>GENDER</th>\n",
       "      <th>AGE</th>\n",
       "    </tr>\n",
       "  </thead>\n",
       "  <tbody>\n",
       "    <tr>\n",
       "      <th>count</th>\n",
       "      <td>6235.000000</td>\n",
       "      <td>6235.000000</td>\n",
       "    </tr>\n",
       "    <tr>\n",
       "      <th>mean</th>\n",
       "      <td>0.547875</td>\n",
       "      <td>53.112911</td>\n",
       "    </tr>\n",
       "    <tr>\n",
       "      <th>std</th>\n",
       "      <td>0.497743</td>\n",
       "      <td>17.939408</td>\n",
       "    </tr>\n",
       "    <tr>\n",
       "      <th>min</th>\n",
       "      <td>0.000000</td>\n",
       "      <td>19.000000</td>\n",
       "    </tr>\n",
       "    <tr>\n",
       "      <th>25%</th>\n",
       "      <td>0.000000</td>\n",
       "      <td>38.000000</td>\n",
       "    </tr>\n",
       "    <tr>\n",
       "      <th>50%</th>\n",
       "      <td>1.000000</td>\n",
       "      <td>52.000000</td>\n",
       "    </tr>\n",
       "    <tr>\n",
       "      <th>75%</th>\n",
       "      <td>1.000000</td>\n",
       "      <td>67.000000</td>\n",
       "    </tr>\n",
       "    <tr>\n",
       "      <th>max</th>\n",
       "      <td>1.000000</td>\n",
       "      <td>105.000000</td>\n",
       "    </tr>\n",
       "  </tbody>\n",
       "</table>\n",
       "</div>"
      ],
      "text/plain": [
       "            GENDER          AGE\n",
       "count  6235.000000  6235.000000\n",
       "mean      0.547875    53.112911\n",
       "std       0.497743    17.939408\n",
       "min       0.000000    19.000000\n",
       "25%       0.000000    38.000000\n",
       "50%       1.000000    52.000000\n",
       "75%       1.000000    67.000000\n",
       "max       1.000000   105.000000"
      ]
     },
     "execution_count": 20,
     "metadata": {},
     "output_type": "execute_result"
    }
   ],
   "source": [
    "patients.describe()"
   ]
  },
  {
   "cell_type": "code",
   "execution_count": 21,
   "metadata": {},
   "outputs": [
    {
     "data": {
      "text/plain": [
       "GENDER                 int64\n",
       "MARITAL STATUS        object\n",
       "EMPLOYMENT_STATUS     object\n",
       "PROJECT_PATIENT_ID    object\n",
       "AGE                    int64\n",
       "dtype: object"
      ]
     },
     "execution_count": 21,
     "metadata": {},
     "output_type": "execute_result"
    }
   ],
   "source": [
    "patients.dtypes"
   ]
  },
  {
   "cell_type": "code",
   "execution_count": 22,
   "metadata": {
    "scrolled": true
   },
   "outputs": [
    {
     "data": {
      "image/png": "[encoded data removed]",
      "text/plain": [
       "<Figure size 432x288 with 1 Axes>"
      ]
     },
     "metadata": {
      "needs_background": "light"
     },
     "output_type": "display_data"
    }
   ],
   "source": [
    "sns.histplot(patients.AGE, kde=True)\n",
    "plt.show()"
   ]
  },
  {
   "cell_type": "code",
   "execution_count": 29,
   "metadata": {},
   "outputs": [
    {
     "data": {
      "text/plain": [
       "<AxesSubplot:>"
      ]
     },
     "execution_count": 29,
     "metadata": {},
     "output_type": "execute_result"
    },
    {
     "data": {
      "image/png": "[encoded data removed]",
      "text/plain": [
       "<Figure size 432x288 with 1 Axes>"
      ]
     },
     "metadata": {
      "needs_background": "light"
     },
     "output_type": "display_data"
    }
   ],
   "source": [
    "patients['AGE'].plot.box()"
   ]
  },
  {
   "cell_type": "markdown",
   "metadata": {},
   "source": [
    "## Encounters"
   ]
  },
  {
   "cell_type": "code",
   "execution_count": 23,
   "metadata": {},
   "outputs": [
    {
     "data": {
      "text/html": [
       "<div>\n",
       "<style scoped>\n",
       "    .dataframe tbody tr th:only-of-type {\n",
       "        vertical-align: middle;\n",
       "    }\n",
       "\n",
       "    .dataframe tbody tr th {\n",
       "        vertical-align: top;\n",
       "    }\n",
       "\n",
       "    .dataframe thead th {\n",
       "        text-align: right;\n",
       "    }\n",
       "</style>\n",
       "<table border=\"1\" class=\"dataframe\">\n",
       "  <thead>\n",
       "    <tr style=\"text-align: right;\">\n",
       "      <th></th>\n",
       "      <th>PROJECT_PATIENT_ID</th>\n",
       "      <th>OUTPATIENT</th>\n",
       "      <th>PHONE</th>\n",
       "      <th>VISIT</th>\n",
       "      <th>HOSPITALIZATION</th>\n",
       "      <th>ER</th>\n",
       "    </tr>\n",
       "  </thead>\n",
       "  <tbody>\n",
       "    <tr>\n",
       "      <th>0</th>\n",
       "      <td>000b3bdc-50c8-490b-acd0-64754abb91df</td>\n",
       "      <td>0.0</td>\n",
       "      <td>0.0</td>\n",
       "      <td>1.0</td>\n",
       "      <td>0.0</td>\n",
       "      <td>0.0</td>\n",
       "    </tr>\n",
       "    <tr>\n",
       "      <th>1</th>\n",
       "      <td>001ebb31-0d52-4814-8f19-39d88bee3b29</td>\n",
       "      <td>0.0</td>\n",
       "      <td>23.0</td>\n",
       "      <td>7.0</td>\n",
       "      <td>0.0</td>\n",
       "      <td>10.0</td>\n",
       "    </tr>\n",
       "    <tr>\n",
       "      <th>2</th>\n",
       "      <td>002feddb-9223-4c1e-b56c-9bcee72592a3</td>\n",
       "      <td>0.0</td>\n",
       "      <td>1.0</td>\n",
       "      <td>0.0</td>\n",
       "      <td>0.0</td>\n",
       "      <td>1.0</td>\n",
       "    </tr>\n",
       "    <tr>\n",
       "      <th>3</th>\n",
       "      <td>004977aa-bdab-4a53-a820-d053281b93b0</td>\n",
       "      <td>0.0</td>\n",
       "      <td>2.0</td>\n",
       "      <td>1.0</td>\n",
       "      <td>2.0</td>\n",
       "      <td>5.0</td>\n",
       "    </tr>\n",
       "    <tr>\n",
       "      <th>4</th>\n",
       "      <td>004bdaf8-b671-4b79-a0e4-44dab472560f</td>\n",
       "      <td>0.0</td>\n",
       "      <td>21.0</td>\n",
       "      <td>5.0</td>\n",
       "      <td>1.0</td>\n",
       "      <td>0.0</td>\n",
       "    </tr>\n",
       "  </tbody>\n",
       "</table>\n",
       "</div>"
      ],
      "text/plain": [
       "                     PROJECT_PATIENT_ID  OUTPATIENT  PHONE  VISIT  \\\n",
       "0  000b3bdc-50c8-490b-acd0-64754abb91df         0.0    0.0    1.0   \n",
       "1  001ebb31-0d52-4814-8f19-39d88bee3b29         0.0   23.0    7.0   \n",
       "2  002feddb-9223-4c1e-b56c-9bcee72592a3         0.0    1.0    0.0   \n",
       "3  004977aa-bdab-4a53-a820-d053281b93b0         0.0    2.0    1.0   \n",
       "4  004bdaf8-b671-4b79-a0e4-44dab472560f         0.0   21.0    5.0   \n",
       "\n",
       "   HOSPITALIZATION    ER  \n",
       "0              0.0   0.0  \n",
       "1              0.0  10.0  \n",
       "2              0.0   1.0  \n",
       "3              2.0   5.0  \n",
       "4              1.0   0.0  "
      ]
     },
     "execution_count": 23,
     "metadata": {},
     "output_type": "execute_result"
    }
   ],
   "source": [
    "# The number of office visits\n",
    "# The number of outpatient procedures\n",
    "# The number of telephone + email encounters\n",
    "\n",
    "encounters = pd.read_csv(path + '/encounters_merged.csv')\n",
    "encounters.drop(['Unnamed: 0','ENCOUNTER_DATE','DEPT_NAME','ICD9_CODE','ICD10_CODE','PRIMARY_DX'], axis=1, inplace=True)\n",
    "q = \"ENCOUNTER_TYPE == 'TELEPHONE'\"\n",
    "q += \" or ENCOUNTER_TYPE == 'OFFICE VISIT'\"\n",
    "q += \" or ENCOUNTER_TYPE == 'APPOINTMENT'\"\n",
    "q += \" or ENCOUNTER_TYPE == 'PATIENT EMAIL'\"\n",
    "q += \" or ENCOUNTER_TYPE == 'NEW PATIENT VISIT'\"\n",
    "q += \" or ENCOUNTER_TYPE == 'PROCEDURE VISIT'\"\n",
    "q += \" or ENCOUNTER_TYPE == 'TESTING VISIT'\"\n",
    "\n",
    "\n",
    "encounters = encounters.query(q)\n",
    "\n",
    "enc_map = {\n",
    "    'TELEPHONE' : 'phone',\n",
    "    'OFFICE VISIT' : 'visit', \n",
    "    'APPOINTMENT' : 'visit',\n",
    "    'PATIENT EMAIL' : 'phone',\n",
    "    'NEW PATIENT VISIT' : 'visit',\n",
    "    'PROCEDURE VISIT' : 'outpatient', \n",
    "    'TESTING VISIT' : 'outpatient'\n",
    "}\n",
    "\n",
    "encounters['ENCOUNTER_TYPE'] = encounters['ENCOUNTER_TYPE'].map(enc_map)\n",
    "\n",
    "temp = encounters.groupby(['PROJECT_PATIENT_ID','ENCOUNTER_TYPE']).agg({'ENCOUNTER_TYPE': 'count'})\n",
    "temp.columns = ['COUNTS']\n",
    "temp.reset_index(inplace=True)\n",
    "temp.head()\n",
    "table = pd.pivot_table(temp, values='COUNTS', index=['PROJECT_PATIENT_ID'],\n",
    "                    columns=['ENCOUNTER_TYPE'])\n",
    "table.columns = table.columns.get_level_values(0)\n",
    "table.columns = [''.join(col).strip() for col in table.columns.values]\n",
    "table.reset_index(inplace=True)\n",
    "table.fillna(0, inplace=True)\n",
    "encounters = table\n",
    "\n",
    "# The number of emergency department (ED) visits\n",
    "# The number of hospitalizations.\n",
    "hosp = pd.read_csv(path + '/hospitalizations_and_er_visits_merged.csv')\n",
    "hosp.drop(['Unnamed: 0', 'CONTACT_DATE'], axis=1, inplace=True)\n",
    "\n",
    "temp = hosp.groupby('PROJECT_PATIENT_ID').agg({'IS_HOSPITALIZATION' : 'sum', 'IS_ER_VISIT' : 'sum'})\n",
    "temp.reset_index(inplace=True)\n",
    "encounters = pd.merge(encounters, temp, how='outer', on = 'PROJECT_PATIENT_ID')\n",
    "encounters.fillna(0, inplace=True)\n",
    "encounters.columns = ['PROJECT_PATIENT_ID', 'OUTPATIENT', 'PHONE', 'VISIT', 'HOSPITALIZATION', 'ER']\n",
    "encounters.head()\n"
   ]
  },
  {
   "cell_type": "code",
   "execution_count": 24,
   "metadata": {
    "scrolled": true
   },
   "outputs": [
    {
     "data": {
      "text/html": [
       "<div>\n",
       "<style scoped>\n",
       "    .dataframe tbody tr th:only-of-type {\n",
       "        vertical-align: middle;\n",
       "    }\n",
       "\n",
       "    .dataframe tbody tr th {\n",
       "        vertical-align: top;\n",
       "    }\n",
       "\n",
       "    .dataframe thead th {\n",
       "        text-align: right;\n",
       "    }\n",
       "</style>\n",
       "<table border=\"1\" class=\"dataframe\">\n",
       "  <thead>\n",
       "    <tr style=\"text-align: right;\">\n",
       "      <th></th>\n",
       "      <th>OUTPATIENT</th>\n",
       "      <th>PHONE</th>\n",
       "      <th>VISIT</th>\n",
       "      <th>HOSPITALIZATION</th>\n",
       "      <th>ER</th>\n",
       "    </tr>\n",
       "  </thead>\n",
       "  <tbody>\n",
       "    <tr>\n",
       "      <th>count</th>\n",
       "      <td>5621.000000</td>\n",
       "      <td>5621.000000</td>\n",
       "      <td>5621.00000</td>\n",
       "      <td>5621.000000</td>\n",
       "      <td>5621.000000</td>\n",
       "    </tr>\n",
       "    <tr>\n",
       "      <th>mean</th>\n",
       "      <td>0.014944</td>\n",
       "      <td>16.055328</td>\n",
       "      <td>6.20797</td>\n",
       "      <td>3.149084</td>\n",
       "      <td>5.096958</td>\n",
       "    </tr>\n",
       "    <tr>\n",
       "      <th>std</th>\n",
       "      <td>0.170171</td>\n",
       "      <td>25.972069</td>\n",
       "      <td>7.97670</td>\n",
       "      <td>6.446427</td>\n",
       "      <td>11.572702</td>\n",
       "    </tr>\n",
       "    <tr>\n",
       "      <th>min</th>\n",
       "      <td>0.000000</td>\n",
       "      <td>0.000000</td>\n",
       "      <td>0.00000</td>\n",
       "      <td>0.000000</td>\n",
       "      <td>0.000000</td>\n",
       "    </tr>\n",
       "    <tr>\n",
       "      <th>25%</th>\n",
       "      <td>0.000000</td>\n",
       "      <td>0.000000</td>\n",
       "      <td>0.00000</td>\n",
       "      <td>0.000000</td>\n",
       "      <td>0.000000</td>\n",
       "    </tr>\n",
       "    <tr>\n",
       "      <th>50%</th>\n",
       "      <td>0.000000</td>\n",
       "      <td>7.000000</td>\n",
       "      <td>4.00000</td>\n",
       "      <td>1.000000</td>\n",
       "      <td>2.000000</td>\n",
       "    </tr>\n",
       "    <tr>\n",
       "      <th>75%</th>\n",
       "      <td>0.000000</td>\n",
       "      <td>22.000000</td>\n",
       "      <td>9.00000</td>\n",
       "      <td>3.000000</td>\n",
       "      <td>5.000000</td>\n",
       "    </tr>\n",
       "    <tr>\n",
       "      <th>max</th>\n",
       "      <td>8.000000</td>\n",
       "      <td>356.000000</td>\n",
       "      <td>104.00000</td>\n",
       "      <td>87.000000</td>\n",
       "      <td>195.000000</td>\n",
       "    </tr>\n",
       "  </tbody>\n",
       "</table>\n",
       "</div>"
      ],
      "text/plain": [
       "        OUTPATIENT        PHONE       VISIT  HOSPITALIZATION           ER\n",
       "count  5621.000000  5621.000000  5621.00000      5621.000000  5621.000000\n",
       "mean      0.014944    16.055328     6.20797         3.149084     5.096958\n",
       "std       0.170171    25.972069     7.97670         6.446427    11.572702\n",
       "min       0.000000     0.000000     0.00000         0.000000     0.000000\n",
       "25%       0.000000     0.000000     0.00000         0.000000     0.000000\n",
       "50%       0.000000     7.000000     4.00000         1.000000     2.000000\n",
       "75%       0.000000    22.000000     9.00000         3.000000     5.000000\n",
       "max       8.000000   356.000000   104.00000        87.000000   195.000000"
      ]
     },
     "execution_count": 24,
     "metadata": {},
     "output_type": "execute_result"
    }
   ],
   "source": [
    "encounters.describe()"
   ]
  },
  {
   "cell_type": "code",
   "execution_count": 25,
   "metadata": {},
   "outputs": [
    {
     "data": {
      "text/plain": [
       "PROJECT_PATIENT_ID     object\n",
       "OUTPATIENT            float64\n",
       "PHONE                 float64\n",
       "VISIT                 float64\n",
       "HOSPITALIZATION       float64\n",
       "ER                    float64\n",
       "dtype: object"
      ]
     },
     "execution_count": 25,
     "metadata": {},
     "output_type": "execute_result"
    }
   ],
   "source": [
    "encounters.dtypes"
   ]
  },
  {
   "cell_type": "code",
   "execution_count": 32,
   "metadata": {},
   "outputs": [
    {
     "data": {
      "image/png": "[encoded data removed]",
      "text/plain": [
       "<Figure size 432x288 with 1 Axes>"
      ]
     },
     "metadata": {
      "needs_background": "light"
     },
     "output_type": "display_data"
    },
    {
     "data": {
      "image/png": "[encoded data removed]",
      "text/plain": [
       "<Figure size 432x288 with 1 Axes>"
      ]
     },
     "metadata": {
      "needs_background": "light"
     },
     "output_type": "display_data"
    },
    {
     "data": {
      "image/png": "[encoded data removed]",
      "text/plain": [
       "<Figure size 432x288 with 1 Axes>"
      ]
     },
     "metadata": {
      "needs_background": "light"
     },
     "output_type": "display_data"
    },
    {
     "data": {
      "image/png": "[encoded data removed]",
      "text/plain": [
       "<Figure size 432x288 with 1 Axes>"
      ]
     },
     "metadata": {
      "needs_background": "light"
     },
     "output_type": "display_data"
    },
    {
     "data": {
      "image/png": "[encoded data removed]",
      "text/plain": [
       "<Figure size 432x288 with 1 Axes>"
      ]
     },
     "metadata": {
      "needs_background": "light"
     },
     "output_type": "display_data"
    },
    {
     "data": {
      "image/png": "[encoded data removed]",
      "text/plain": [
       "<Figure size 432x288 with 1 Axes>"
      ]
     },
     "metadata": {
      "needs_background": "light"
     },
     "output_type": "display_data"
    },
    {
     "data": {
      "image/png": "[encoded data removed]",
      "text/plain": [
       "<Figure size 432x288 with 1 Axes>"
      ]
     },
     "metadata": {
      "needs_background": "light"
     },
     "output_type": "display_data"
    },
    {
     "data": {
      "image/png": "[encoded data removed]",
      "text/plain": [
       "<Figure size 432x288 with 1 Axes>"
      ]
     },
     "metadata": {
      "needs_background": "light"
     },
     "output_type": "display_data"
    },
    {
     "data": {
      "image/png": "[encoded data removed]",
      "text/plain": [
       "<Figure size 432x288 with 1 Axes>"
      ]
     },
     "metadata": {
      "needs_background": "light"
     },
     "output_type": "display_data"
    },
    {
     "data": {
      "image/png": "[encoded data removed]",
      "text/plain": [
       "<Figure size 432x288 with 1 Axes>"
      ]
     },
     "metadata": {
      "needs_background": "light"
     },
     "output_type": "display_data"
    }
   ],
   "source": [
    "for col in ['OUTPATIENT', 'PHONE', 'VISIT', 'HOSPITALIZATION', 'ER']:\n",
    "    sns.histplot(encounters[col], kde=True)\n",
    "    plt.show()\n",
    "    sns.boxplot( y=encounters[col] );\n",
    "    plt.show()"
   ]
  },
  {
   "cell_type": "markdown",
   "metadata": {},
   "source": [
    "## Labs\n",
    "\n"
   ]
  },
  {
   "cell_type": "code",
   "execution_count": 33,
   "metadata": {},
   "outputs": [
    {
     "name": "stderr",
     "output_type": "stream",
     "text": [
      "/Users/dmitriyb/opt/anaconda3/lib/python3.8/site-packages/IPython/core/interactiveshell.py:3146: DtypeWarning: Columns (8) have mixed types.Specify dtype option on import or set low_memory=False.\n",
      "  has_raised = await self.run_ast_nodes(code_ast.body, cell_name,\n"
     ]
    },
    {
     "data": {
      "text/html": [
       "<div>\n",
       "<style scoped>\n",
       "    .dataframe tbody tr th:only-of-type {\n",
       "        vertical-align: middle;\n",
       "    }\n",
       "\n",
       "    .dataframe tbody tr th {\n",
       "        vertical-align: top;\n",
       "    }\n",
       "\n",
       "    .dataframe thead th {\n",
       "        text-align: right;\n",
       "    }\n",
       "</style>\n",
       "<table border=\"1\" class=\"dataframe\">\n",
       "  <thead>\n",
       "    <tr style=\"text-align: right;\">\n",
       "      <th></th>\n",
       "      <th>Unnamed: 0</th>\n",
       "      <th>RESULT_DATE</th>\n",
       "      <th>ORDER_PROC_ID</th>\n",
       "      <th>COMPONENT_NAME</th>\n",
       "      <th>ORD_VALUE</th>\n",
       "      <th>ORD_NUM_VALUE</th>\n",
       "      <th>REFERENCE_UNIT</th>\n",
       "      <th>REFERENCE_LOW</th>\n",
       "      <th>REFERENCE_HIGH</th>\n",
       "      <th>RESULT_FLAG</th>\n",
       "      <th>GROUP</th>\n",
       "      <th>PROJECT_PATIENT_ID</th>\n",
       "    </tr>\n",
       "  </thead>\n",
       "  <tbody>\n",
       "    <tr>\n",
       "      <th>0</th>\n",
       "      <td>0</td>\n",
       "      <td>03/27/2015</td>\n",
       "      <td>203602100</td>\n",
       "      <td>SPECIMEN DESCRIPTION</td>\n",
       "      <td>Stool</td>\n",
       "      <td>NaN</td>\n",
       "      <td>NaN</td>\n",
       "      <td>NaN</td>\n",
       "      <td>NaN</td>\n",
       "      <td>NaN</td>\n",
       "      <td>NaN</td>\n",
       "      <td>524c0db3-6ef0-47c6-9b99-098d0bf998cd</td>\n",
       "    </tr>\n",
       "    <tr>\n",
       "      <th>1</th>\n",
       "      <td>1</td>\n",
       "      <td>03/27/2015</td>\n",
       "      <td>203602100</td>\n",
       "      <td>SPECIAL REQUESTS</td>\n",
       "      <td>None</td>\n",
       "      <td>NaN</td>\n",
       "      <td>NaN</td>\n",
       "      <td>NaN</td>\n",
       "      <td>NaN</td>\n",
       "      <td>NaN</td>\n",
       "      <td>NaN</td>\n",
       "      <td>524c0db3-6ef0-47c6-9b99-098d0bf998cd</td>\n",
       "    </tr>\n",
       "    <tr>\n",
       "      <th>2</th>\n",
       "      <td>2</td>\n",
       "      <td>03/27/2015</td>\n",
       "      <td>203602100</td>\n",
       "      <td>CULTURE</td>\n",
       "      <td>NaN</td>\n",
       "      <td>NaN</td>\n",
       "      <td>NaN</td>\n",
       "      <td>NaN</td>\n",
       "      <td>NaN</td>\n",
       "      <td>NaN</td>\n",
       "      <td>NaN</td>\n",
       "      <td>524c0db3-6ef0-47c6-9b99-098d0bf998cd</td>\n",
       "    </tr>\n",
       "    <tr>\n",
       "      <th>3</th>\n",
       "      <td>3</td>\n",
       "      <td>03/27/2015</td>\n",
       "      <td>203602100</td>\n",
       "      <td>REPORT</td>\n",
       "      <td>Final Result 03/27/2015</td>\n",
       "      <td>NaN</td>\n",
       "      <td>NaN</td>\n",
       "      <td>NaN</td>\n",
       "      <td>NaN</td>\n",
       "      <td>NaN</td>\n",
       "      <td>NaN</td>\n",
       "      <td>524c0db3-6ef0-47c6-9b99-098d0bf998cd</td>\n",
       "    </tr>\n",
       "    <tr>\n",
       "      <th>4</th>\n",
       "      <td>4</td>\n",
       "      <td>03/23/2015</td>\n",
       "      <td>114670251</td>\n",
       "      <td>LIPASE</td>\n",
       "      <td>164</td>\n",
       "      <td>164.0</td>\n",
       "      <td>U/L</td>\n",
       "      <td>50</td>\n",
       "      <td>393</td>\n",
       "      <td>NaN</td>\n",
       "      <td>NaN</td>\n",
       "      <td>524c0db3-6ef0-47c6-9b99-098d0bf998cd</td>\n",
       "    </tr>\n",
       "  </tbody>\n",
       "</table>\n",
       "</div>"
      ],
      "text/plain": [
       "   Unnamed: 0 RESULT_DATE  ORDER_PROC_ID        COMPONENT_NAME  \\\n",
       "0           0  03/27/2015      203602100  SPECIMEN DESCRIPTION   \n",
       "1           1  03/27/2015      203602100      SPECIAL REQUESTS   \n",
       "2           2  03/27/2015      203602100               CULTURE   \n",
       "3           3  03/27/2015      203602100                REPORT   \n",
       "4           4  03/23/2015      114670251                LIPASE   \n",
       "\n",
       "                 ORD_VALUE  ORD_NUM_VALUE REFERENCE_UNIT REFERENCE_LOW  \\\n",
       "0                    Stool            NaN            NaN           NaN   \n",
       "1                     None            NaN            NaN           NaN   \n",
       "2                      NaN            NaN            NaN           NaN   \n",
       "3  Final Result 03/27/2015            NaN            NaN           NaN   \n",
       "4                      164          164.0            U/L            50   \n",
       "\n",
       "  REFERENCE_HIGH RESULT_FLAG GROUP                    PROJECT_PATIENT_ID  \n",
       "0            NaN         NaN   NaN  524c0db3-6ef0-47c6-9b99-098d0bf998cd  \n",
       "1            NaN         NaN   NaN  524c0db3-6ef0-47c6-9b99-098d0bf998cd  \n",
       "2            NaN         NaN   NaN  524c0db3-6ef0-47c6-9b99-098d0bf998cd  \n",
       "3            NaN         NaN   NaN  524c0db3-6ef0-47c6-9b99-098d0bf998cd  \n",
       "4            393         NaN   NaN  524c0db3-6ef0-47c6-9b99-098d0bf998cd  "
      ]
     },
     "execution_count": 33,
     "metadata": {},
     "output_type": "execute_result"
    }
   ],
   "source": [
    "labs = pd.read_csv(path + '/labs_merged.csv')\n",
    "labs.head()"
   ]
  },
  {
   "cell_type": "code",
   "execution_count": 34,
   "metadata": {},
   "outputs": [],
   "source": [
    "# eosinophils (EOS)\n",
    "# monocytes \n",
    "# albumin\n",
    "# hemoglobin \n",
    "# erythrocyte sedimentation rate (ESR)\n",
    "# c-reactive Protein (CRP)\n",
    "# vitamin D "
   ]
  },
  {
   "cell_type": "code",
   "execution_count": 35,
   "metadata": {},
   "outputs": [],
   "source": [
    "q = \"GROUP == 'monocytes'\"\n",
    "q += \" or GROUP == 'eos'\"\n",
    "q += \" or GROUP == 'hemoglobin'\"\n",
    "q += \" or GROUP == 'albumin'\"\n",
    "q += \" or GROUP == 'crp'\"\n",
    "q += \" or GROUP == 'esr'\"\n",
    "q += \" or GROUP == 'vitamin_d'\"\n",
    "labs = labs.query(q)\n",
    "\n",
    "temp = labs.groupby(['PROJECT_PATIENT_ID','GROUP']).agg({\n",
    "    'ORD_NUM_VALUE' : ['mean']\n",
    "})\n",
    "\n",
    "temp.reset_index(inplace=True)\n",
    "temp.columns = ['PROJECT_PATIENT_ID', 'LAB', 'RESULT']\n",
    "temp.head()\n",
    "\n",
    "table = pd.pivot_table(temp, values=['RESULT'], index=['PROJECT_PATIENT_ID'],\n",
    "                    columns=['LAB'])\n",
    "\n",
    "table.reset_index(inplace=True)\n",
    "table.columns = ['PROJECT_PATIENT_ID','ALBUMIN','CRP','EOS','ESR','HEMOGLOBIN','MONOCYTES','VITAMIN_D']\n",
    "table.head()\n",
    "labs = table\n"
   ]
  },
  {
   "cell_type": "code",
   "execution_count": 36,
   "metadata": {},
   "outputs": [
    {
     "data": {
      "text/html": [
       "<div>\n",
       "<style scoped>\n",
       "    .dataframe tbody tr th:only-of-type {\n",
       "        vertical-align: middle;\n",
       "    }\n",
       "\n",
       "    .dataframe tbody tr th {\n",
       "        vertical-align: top;\n",
       "    }\n",
       "\n",
       "    .dataframe thead th {\n",
       "        text-align: right;\n",
       "    }\n",
       "</style>\n",
       "<table border=\"1\" class=\"dataframe\">\n",
       "  <thead>\n",
       "    <tr style=\"text-align: right;\">\n",
       "      <th></th>\n",
       "      <th>ALBUMIN</th>\n",
       "      <th>CRP</th>\n",
       "      <th>EOS</th>\n",
       "      <th>ESR</th>\n",
       "      <th>HEMOGLOBIN</th>\n",
       "      <th>MONOCYTES</th>\n",
       "      <th>VITAMIN_D</th>\n",
       "    </tr>\n",
       "  </thead>\n",
       "  <tbody>\n",
       "    <tr>\n",
       "      <th>count</th>\n",
       "      <td>3.605000e+03</td>\n",
       "      <td>2.995000e+03</td>\n",
       "      <td>3.635000e+03</td>\n",
       "      <td>3.016000e+03</td>\n",
       "      <td>3.653000e+03</td>\n",
       "      <td>3.638000e+03</td>\n",
       "      <td>2.814000e+03</td>\n",
       "    </tr>\n",
       "    <tr>\n",
       "      <th>mean</th>\n",
       "      <td>4.956560e+03</td>\n",
       "      <td>1.169671e+06</td>\n",
       "      <td>1.824910e+04</td>\n",
       "      <td>2.366458e+04</td>\n",
       "      <td>1.021568e+04</td>\n",
       "      <td>1.811372e+04</td>\n",
       "      <td>1.486897e+04</td>\n",
       "    </tr>\n",
       "    <tr>\n",
       "      <th>std</th>\n",
       "      <td>6.826875e+04</td>\n",
       "      <td>2.394740e+06</td>\n",
       "      <td>1.262835e+05</td>\n",
       "      <td>3.393634e+05</td>\n",
       "      <td>1.147238e+05</td>\n",
       "      <td>1.180229e+05</td>\n",
       "      <td>2.446051e+05</td>\n",
       "    </tr>\n",
       "    <tr>\n",
       "      <th>min</th>\n",
       "      <td>1.271429e+00</td>\n",
       "      <td>2.000000e-02</td>\n",
       "      <td>0.000000e+00</td>\n",
       "      <td>0.000000e+00</td>\n",
       "      <td>6.900000e+00</td>\n",
       "      <td>5.000000e-01</td>\n",
       "      <td>4.000000e+00</td>\n",
       "    </tr>\n",
       "    <tr>\n",
       "      <th>25%</th>\n",
       "      <td>3.666667e+00</td>\n",
       "      <td>5.244032e-01</td>\n",
       "      <td>1.002314e+00</td>\n",
       "      <td>1.000000e+01</td>\n",
       "      <td>1.209000e+01</td>\n",
       "      <td>4.071250e+00</td>\n",
       "      <td>2.700000e+01</td>\n",
       "    </tr>\n",
       "    <tr>\n",
       "      <th>50%</th>\n",
       "      <td>4.000000e+00</td>\n",
       "      <td>2.500000e+00</td>\n",
       "      <td>2.271429e+00</td>\n",
       "      <td>1.712500e+01</td>\n",
       "      <td>1.321207e+01</td>\n",
       "      <td>6.175000e+00</td>\n",
       "      <td>3.433333e+01</td>\n",
       "    </tr>\n",
       "    <tr>\n",
       "      <th>75%</th>\n",
       "      <td>4.300000e+00</td>\n",
       "      <td>1.250000e+06</td>\n",
       "      <td>1.829321e+01</td>\n",
       "      <td>2.992083e+01</td>\n",
       "      <td>1.431250e+01</td>\n",
       "      <td>6.885106e+01</td>\n",
       "      <td>4.225000e+01</td>\n",
       "    </tr>\n",
       "    <tr>\n",
       "      <th>max</th>\n",
       "      <td>2.500003e+06</td>\n",
       "      <td>9.999999e+06</td>\n",
       "      <td>3.333389e+06</td>\n",
       "      <td>9.999999e+06</td>\n",
       "      <td>5.000006e+06</td>\n",
       "      <td>2.500061e+06</td>\n",
       "      <td>9.999999e+06</td>\n",
       "    </tr>\n",
       "  </tbody>\n",
       "</table>\n",
       "</div>"
      ],
      "text/plain": [
       "            ALBUMIN           CRP           EOS           ESR    HEMOGLOBIN  \\\n",
       "count  3.605000e+03  2.995000e+03  3.635000e+03  3.016000e+03  3.653000e+03   \n",
       "mean   4.956560e+03  1.169671e+06  1.824910e+04  2.366458e+04  1.021568e+04   \n",
       "std    6.826875e+04  2.394740e+06  1.262835e+05  3.393634e+05  1.147238e+05   \n",
       "min    1.271429e+00  2.000000e-02  0.000000e+00  0.000000e+00  6.900000e+00   \n",
       "25%    3.666667e+00  5.244032e-01  1.002314e+00  1.000000e+01  1.209000e+01   \n",
       "50%    4.000000e+00  2.500000e+00  2.271429e+00  1.712500e+01  1.321207e+01   \n",
       "75%    4.300000e+00  1.250000e+06  1.829321e+01  2.992083e+01  1.431250e+01   \n",
       "max    2.500003e+06  9.999999e+06  3.333389e+06  9.999999e+06  5.000006e+06   \n",
       "\n",
       "          MONOCYTES     VITAMIN_D  \n",
       "count  3.638000e+03  2.814000e+03  \n",
       "mean   1.811372e+04  1.486897e+04  \n",
       "std    1.180229e+05  2.446051e+05  \n",
       "min    5.000000e-01  4.000000e+00  \n",
       "25%    4.071250e+00  2.700000e+01  \n",
       "50%    6.175000e+00  3.433333e+01  \n",
       "75%    6.885106e+01  4.225000e+01  \n",
       "max    2.500061e+06  9.999999e+06  "
      ]
     },
     "execution_count": 36,
     "metadata": {},
     "output_type": "execute_result"
    }
   ],
   "source": [
    "labs.describe()"
   ]
  },
  {
   "cell_type": "code",
   "execution_count": 37,
   "metadata": {},
   "outputs": [
    {
     "data": {
      "text/plain": [
       "PROJECT_PATIENT_ID     object\n",
       "ALBUMIN               float64\n",
       "CRP                   float64\n",
       "EOS                   float64\n",
       "ESR                   float64\n",
       "HEMOGLOBIN            float64\n",
       "MONOCYTES             float64\n",
       "VITAMIN_D             float64\n",
       "dtype: object"
      ]
     },
     "execution_count": 37,
     "metadata": {},
     "output_type": "execute_result"
    }
   ],
   "source": [
    "labs.dtypes"
   ]
  },
  {
   "cell_type": "code",
   "execution_count": null,
   "metadata": {},
   "outputs": [],
   "source": [
    "for col in ['ALBUMIN', 'CRP', 'EOS', 'ESR', 'HEMOGLOBIN','MONOCYTES','VITAMIN_D']:\n",
    "    sns.histplot(labs[col], kde=True)\n",
    "    plt.show()\n",
    "    sns.boxplot( y=labs[col] );\n",
    "    plt.show()"
   ]
  },
  {
   "cell_type": "markdown",
   "metadata": {},
   "source": [
    "## CREATE MASTER DATASET\n"
   ]
  },
  {
   "cell_type": "code",
   "execution_count": 93,
   "metadata": {},
   "outputs": [],
   "source": [
    "df = pd.merge(patients, encounters, on='PROJECT_PATIENT_ID', how='inner')\n",
    "df = pd.merge(df, labs, on='PROJECT_PATIENT_ID', how='inner')"
   ]
  },
  {
   "cell_type": "code",
   "execution_count": 94,
   "metadata": {},
   "outputs": [
    {
     "data": {
      "text/html": [
       "<div>\n",
       "<style scoped>\n",
       "    .dataframe tbody tr th:only-of-type {\n",
       "        vertical-align: middle;\n",
       "    }\n",
       "\n",
       "    .dataframe tbody tr th {\n",
       "        vertical-align: top;\n",
       "    }\n",
       "\n",
       "    .dataframe thead th {\n",
       "        text-align: right;\n",
       "    }\n",
       "</style>\n",
       "<table border=\"1\" class=\"dataframe\">\n",
       "  <thead>\n",
       "    <tr style=\"text-align: right;\">\n",
       "      <th></th>\n",
       "      <th>GENDER</th>\n",
       "      <th>MARITAL STATUS</th>\n",
       "      <th>EMPLOYMENT_STATUS</th>\n",
       "      <th>PROJECT_PATIENT_ID</th>\n",
       "      <th>AGE</th>\n",
       "      <th>OUTPATIENT</th>\n",
       "      <th>PHONE</th>\n",
       "      <th>VISIT</th>\n",
       "      <th>HOSPITALIZATION</th>\n",
       "      <th>ER</th>\n",
       "      <th>ALBUMIN</th>\n",
       "      <th>CRP</th>\n",
       "      <th>EOS</th>\n",
       "      <th>ESR</th>\n",
       "      <th>HEMOGLOBIN</th>\n",
       "      <th>MONOCYTES</th>\n",
       "      <th>VITAMIN_D</th>\n",
       "    </tr>\n",
       "  </thead>\n",
       "  <tbody>\n",
       "    <tr>\n",
       "      <th>0</th>\n",
       "      <td>1</td>\n",
       "      <td>unknown</td>\n",
       "      <td>unknown</td>\n",
       "      <td>524c0db3-6ef0-47c6-9b99-098d0bf998cd</td>\n",
       "      <td>63</td>\n",
       "      <td>0.0</td>\n",
       "      <td>0.0</td>\n",
       "      <td>0.0</td>\n",
       "      <td>1.0</td>\n",
       "      <td>1.0</td>\n",
       "      <td>3.566667</td>\n",
       "      <td>NaN</td>\n",
       "      <td>0.533333</td>\n",
       "      <td>NaN</td>\n",
       "      <td>13.225000</td>\n",
       "      <td>2.116667</td>\n",
       "      <td>NaN</td>\n",
       "    </tr>\n",
       "    <tr>\n",
       "      <th>1</th>\n",
       "      <td>1</td>\n",
       "      <td>unknown</td>\n",
       "      <td>unknown</td>\n",
       "      <td>ed3a3f1a-0c26-402b-b922-159589036b46</td>\n",
       "      <td>67</td>\n",
       "      <td>0.0</td>\n",
       "      <td>0.0</td>\n",
       "      <td>0.0</td>\n",
       "      <td>1.0</td>\n",
       "      <td>0.0</td>\n",
       "      <td>2.575000</td>\n",
       "      <td>0.7500</td>\n",
       "      <td>0.650000</td>\n",
       "      <td>21.0</td>\n",
       "      <td>10.388889</td>\n",
       "      <td>4.300000</td>\n",
       "      <td>39.000000</td>\n",
       "    </tr>\n",
       "    <tr>\n",
       "      <th>2</th>\n",
       "      <td>0</td>\n",
       "      <td>unknown</td>\n",
       "      <td>unknown</td>\n",
       "      <td>4d3ea8f4-15b6-477f-805e-7932c6aabc74</td>\n",
       "      <td>33</td>\n",
       "      <td>0.0</td>\n",
       "      <td>59.0</td>\n",
       "      <td>13.0</td>\n",
       "      <td>2.0</td>\n",
       "      <td>3.0</td>\n",
       "      <td>4.200000</td>\n",
       "      <td>1.8214</td>\n",
       "      <td>0.806818</td>\n",
       "      <td>14.9</td>\n",
       "      <td>14.171429</td>\n",
       "      <td>3.325758</td>\n",
       "      <td>35.285714</td>\n",
       "    </tr>\n",
       "    <tr>\n",
       "      <th>3</th>\n",
       "      <td>0</td>\n",
       "      <td>unknown</td>\n",
       "      <td>unknown</td>\n",
       "      <td>bad06e68-caea-40fa-bd43-bf242ed67dad</td>\n",
       "      <td>45</td>\n",
       "      <td>0.0</td>\n",
       "      <td>1.0</td>\n",
       "      <td>2.0</td>\n",
       "      <td>3.0</td>\n",
       "      <td>6.0</td>\n",
       "      <td>3.530000</td>\n",
       "      <td>2.4100</td>\n",
       "      <td>8.956250</td>\n",
       "      <td>2.4</td>\n",
       "      <td>13.012000</td>\n",
       "      <td>21.078947</td>\n",
       "      <td>8.000000</td>\n",
       "    </tr>\n",
       "    <tr>\n",
       "      <th>4</th>\n",
       "      <td>0</td>\n",
       "      <td>unknown</td>\n",
       "      <td>unknown</td>\n",
       "      <td>dba8cd2e-1a6c-49a3-8d84-e95c58edf52d</td>\n",
       "      <td>66</td>\n",
       "      <td>0.0</td>\n",
       "      <td>0.0</td>\n",
       "      <td>0.0</td>\n",
       "      <td>3.0</td>\n",
       "      <td>4.0</td>\n",
       "      <td>2.705556</td>\n",
       "      <td>0.3000</td>\n",
       "      <td>2.340000</td>\n",
       "      <td>10.0</td>\n",
       "      <td>12.604545</td>\n",
       "      <td>7.684615</td>\n",
       "      <td>NaN</td>\n",
       "    </tr>\n",
       "  </tbody>\n",
       "</table>\n",
       "</div>"
      ],
      "text/plain": [
       "   GENDER MARITAL STATUS EMPLOYMENT_STATUS  \\\n",
       "0       1        unknown           unknown   \n",
       "1       1        unknown           unknown   \n",
       "2       0        unknown           unknown   \n",
       "3       0        unknown           unknown   \n",
       "4       0        unknown           unknown   \n",
       "\n",
       "                     PROJECT_PATIENT_ID  AGE  OUTPATIENT  PHONE  VISIT  \\\n",
       "0  524c0db3-6ef0-47c6-9b99-098d0bf998cd   63         0.0    0.0    0.0   \n",
       "1  ed3a3f1a-0c26-402b-b922-159589036b46   67         0.0    0.0    0.0   \n",
       "2  4d3ea8f4-15b6-477f-805e-7932c6aabc74   33         0.0   59.0   13.0   \n",
       "3  bad06e68-caea-40fa-bd43-bf242ed67dad   45         0.0    1.0    2.0   \n",
       "4  dba8cd2e-1a6c-49a3-8d84-e95c58edf52d   66         0.0    0.0    0.0   \n",
       "\n",
       "   HOSPITALIZATION   ER   ALBUMIN     CRP       EOS   ESR  HEMOGLOBIN  \\\n",
       "0              1.0  1.0  3.566667     NaN  0.533333   NaN   13.225000   \n",
       "1              1.0  0.0  2.575000  0.7500  0.650000  21.0   10.388889   \n",
       "2              2.0  3.0  4.200000  1.8214  0.806818  14.9   14.171429   \n",
       "3              3.0  6.0  3.530000  2.4100  8.956250   2.4   13.012000   \n",
       "4              3.0  4.0  2.705556  0.3000  2.340000  10.0   12.604545   \n",
       "\n",
       "   MONOCYTES  VITAMIN_D  \n",
       "0   2.116667        NaN  \n",
       "1   4.300000  39.000000  \n",
       "2   3.325758  35.285714  \n",
       "3  21.078947   8.000000  \n",
       "4   7.684615        NaN  "
      ]
     },
     "execution_count": 94,
     "metadata": {},
     "output_type": "execute_result"
    }
   ],
   "source": [
    "df.head()"
   ]
  },
  {
   "cell_type": "code",
   "execution_count": null,
   "metadata": {},
   "outputs": [],
   "source": [
    "df.describe()"
   ]
  },
  {
   "cell_type": "code",
   "execution_count": null,
   "metadata": {},
   "outputs": [],
   "source": [
    "df.shape"
   ]
  },
  {
   "cell_type": "code",
   "execution_count": null,
   "metadata": {},
   "outputs": [],
   "source": [
    "df.dtypes"
   ]
  },
  {
   "cell_type": "code",
   "execution_count": null,
   "metadata": {},
   "outputs": [],
   "source": [
    "df.isnull().sum()"
   ]
  },
  {
   "cell_type": "code",
   "execution_count": null,
   "metadata": {},
   "outputs": [],
   "source": [
    "sns.heatmap(df.corr(), annot=True, fmt=\".2f\")\n",
    "plt.show()"
   ]
  },
  {
   "cell_type": "markdown",
   "metadata": {},
   "source": [
    "## LabelEncode categorical columns"
   ]
  },
  {
   "cell_type": "code",
   "execution_count": 95,
   "metadata": {},
   "outputs": [],
   "source": [
    "# creating instance of labelencoder\n",
    "labelencoder = LabelEncoder()\n",
    "# Assigning numerical values and storing in another column\n",
    "df['MARITAL_STATUS_ENC'] = labelencoder.fit_transform(df['MARITAL STATUS'])\n",
    "df['EMPLOYMENT_STATUS_ENC'] = labelencoder.fit_transform(df['EMPLOYMENT_STATUS'])\n",
    "df.drop(['MARITAL STATUS','EMPLOYMENT_STATUS'], axis=1, inplace=True)"
   ]
  },
  {
   "cell_type": "markdown",
   "metadata": {},
   "source": [
    "## Scale categorical columns"
   ]
  },
  {
   "cell_type": "code",
   "execution_count": 96,
   "metadata": {},
   "outputs": [],
   "source": [
    "scaler = MinMaxScaler()\n",
    "df[['MARITAL_STATUS_ENC', 'EMPLOYMENT_STATUS_ENC']] = scaler.fit_transform(df[['MARITAL_STATUS_ENC', 'EMPLOYMENT_STATUS_ENC']])"
   ]
  },
  {
   "cell_type": "code",
   "execution_count": 97,
   "metadata": {},
   "outputs": [
    {
     "data": {
      "text/html": [
       "<div>\n",
       "<style scoped>\n",
       "    .dataframe tbody tr th:only-of-type {\n",
       "        vertical-align: middle;\n",
       "    }\n",
       "\n",
       "    .dataframe tbody tr th {\n",
       "        vertical-align: top;\n",
       "    }\n",
       "\n",
       "    .dataframe thead th {\n",
       "        text-align: right;\n",
       "    }\n",
       "</style>\n",
       "<table border=\"1\" class=\"dataframe\">\n",
       "  <thead>\n",
       "    <tr style=\"text-align: right;\">\n",
       "      <th></th>\n",
       "      <th>GENDER</th>\n",
       "      <th>PROJECT_PATIENT_ID</th>\n",
       "      <th>AGE</th>\n",
       "      <th>OUTPATIENT</th>\n",
       "      <th>PHONE</th>\n",
       "      <th>VISIT</th>\n",
       "      <th>HOSPITALIZATION</th>\n",
       "      <th>ER</th>\n",
       "      <th>ALBUMIN</th>\n",
       "      <th>CRP</th>\n",
       "      <th>EOS</th>\n",
       "      <th>ESR</th>\n",
       "      <th>HEMOGLOBIN</th>\n",
       "      <th>MONOCYTES</th>\n",
       "      <th>VITAMIN_D</th>\n",
       "      <th>MARITAL_STATUS_ENC</th>\n",
       "      <th>EMPLOYMENT_STATUS_ENC</th>\n",
       "    </tr>\n",
       "  </thead>\n",
       "  <tbody>\n",
       "    <tr>\n",
       "      <th>0</th>\n",
       "      <td>1</td>\n",
       "      <td>524c0db3-6ef0-47c6-9b99-098d0bf998cd</td>\n",
       "      <td>63</td>\n",
       "      <td>0.0</td>\n",
       "      <td>0.0</td>\n",
       "      <td>0.0</td>\n",
       "      <td>1.0</td>\n",
       "      <td>1.0</td>\n",
       "      <td>3.566667</td>\n",
       "      <td>NaN</td>\n",
       "      <td>0.533333</td>\n",
       "      <td>NaN</td>\n",
       "      <td>13.225000</td>\n",
       "      <td>2.116667</td>\n",
       "      <td>NaN</td>\n",
       "      <td>1.0</td>\n",
       "      <td>1.0</td>\n",
       "    </tr>\n",
       "    <tr>\n",
       "      <th>1</th>\n",
       "      <td>1</td>\n",
       "      <td>ed3a3f1a-0c26-402b-b922-159589036b46</td>\n",
       "      <td>67</td>\n",
       "      <td>0.0</td>\n",
       "      <td>0.0</td>\n",
       "      <td>0.0</td>\n",
       "      <td>1.0</td>\n",
       "      <td>0.0</td>\n",
       "      <td>2.575000</td>\n",
       "      <td>0.7500</td>\n",
       "      <td>0.650000</td>\n",
       "      <td>21.0</td>\n",
       "      <td>10.388889</td>\n",
       "      <td>4.300000</td>\n",
       "      <td>39.000000</td>\n",
       "      <td>1.0</td>\n",
       "      <td>1.0</td>\n",
       "    </tr>\n",
       "    <tr>\n",
       "      <th>2</th>\n",
       "      <td>0</td>\n",
       "      <td>4d3ea8f4-15b6-477f-805e-7932c6aabc74</td>\n",
       "      <td>33</td>\n",
       "      <td>0.0</td>\n",
       "      <td>59.0</td>\n",
       "      <td>13.0</td>\n",
       "      <td>2.0</td>\n",
       "      <td>3.0</td>\n",
       "      <td>4.200000</td>\n",
       "      <td>1.8214</td>\n",
       "      <td>0.806818</td>\n",
       "      <td>14.9</td>\n",
       "      <td>14.171429</td>\n",
       "      <td>3.325758</td>\n",
       "      <td>35.285714</td>\n",
       "      <td>1.0</td>\n",
       "      <td>1.0</td>\n",
       "    </tr>\n",
       "    <tr>\n",
       "      <th>3</th>\n",
       "      <td>0</td>\n",
       "      <td>bad06e68-caea-40fa-bd43-bf242ed67dad</td>\n",
       "      <td>45</td>\n",
       "      <td>0.0</td>\n",
       "      <td>1.0</td>\n",
       "      <td>2.0</td>\n",
       "      <td>3.0</td>\n",
       "      <td>6.0</td>\n",
       "      <td>3.530000</td>\n",
       "      <td>2.4100</td>\n",
       "      <td>8.956250</td>\n",
       "      <td>2.4</td>\n",
       "      <td>13.012000</td>\n",
       "      <td>21.078947</td>\n",
       "      <td>8.000000</td>\n",
       "      <td>1.0</td>\n",
       "      <td>1.0</td>\n",
       "    </tr>\n",
       "    <tr>\n",
       "      <th>4</th>\n",
       "      <td>0</td>\n",
       "      <td>dba8cd2e-1a6c-49a3-8d84-e95c58edf52d</td>\n",
       "      <td>66</td>\n",
       "      <td>0.0</td>\n",
       "      <td>0.0</td>\n",
       "      <td>0.0</td>\n",
       "      <td>3.0</td>\n",
       "      <td>4.0</td>\n",
       "      <td>2.705556</td>\n",
       "      <td>0.3000</td>\n",
       "      <td>2.340000</td>\n",
       "      <td>10.0</td>\n",
       "      <td>12.604545</td>\n",
       "      <td>7.684615</td>\n",
       "      <td>NaN</td>\n",
       "      <td>1.0</td>\n",
       "      <td>1.0</td>\n",
       "    </tr>\n",
       "  </tbody>\n",
       "</table>\n",
       "</div>"
      ],
      "text/plain": [
       "   GENDER                    PROJECT_PATIENT_ID  AGE  OUTPATIENT  PHONE  \\\n",
       "0       1  524c0db3-6ef0-47c6-9b99-098d0bf998cd   63         0.0    0.0   \n",
       "1       1  ed3a3f1a-0c26-402b-b922-159589036b46   67         0.0    0.0   \n",
       "2       0  4d3ea8f4-15b6-477f-805e-7932c6aabc74   33         0.0   59.0   \n",
       "3       0  bad06e68-caea-40fa-bd43-bf242ed67dad   45         0.0    1.0   \n",
       "4       0  dba8cd2e-1a6c-49a3-8d84-e95c58edf52d   66         0.0    0.0   \n",
       "\n",
       "   VISIT  HOSPITALIZATION   ER   ALBUMIN     CRP       EOS   ESR  HEMOGLOBIN  \\\n",
       "0    0.0              1.0  1.0  3.566667     NaN  0.533333   NaN   13.225000   \n",
       "1    0.0              1.0  0.0  2.575000  0.7500  0.650000  21.0   10.388889   \n",
       "2   13.0              2.0  3.0  4.200000  1.8214  0.806818  14.9   14.171429   \n",
       "3    2.0              3.0  6.0  3.530000  2.4100  8.956250   2.4   13.012000   \n",
       "4    0.0              3.0  4.0  2.705556  0.3000  2.340000  10.0   12.604545   \n",
       "\n",
       "   MONOCYTES  VITAMIN_D  MARITAL_STATUS_ENC  EMPLOYMENT_STATUS_ENC  \n",
       "0   2.116667        NaN                 1.0                    1.0  \n",
       "1   4.300000  39.000000                 1.0                    1.0  \n",
       "2   3.325758  35.285714                 1.0                    1.0  \n",
       "3  21.078947   8.000000                 1.0                    1.0  \n",
       "4   7.684615        NaN                 1.0                    1.0  "
      ]
     },
     "execution_count": 97,
     "metadata": {},
     "output_type": "execute_result"
    }
   ],
   "source": [
    "df.head()"
   ]
  },
  {
   "cell_type": "code",
   "execution_count": 98,
   "metadata": {},
   "outputs": [
    {
     "data": {
      "text/html": [
       "<div>\n",
       "<style scoped>\n",
       "    .dataframe tbody tr th:only-of-type {\n",
       "        vertical-align: middle;\n",
       "    }\n",
       "\n",
       "    .dataframe tbody tr th {\n",
       "        vertical-align: top;\n",
       "    }\n",
       "\n",
       "    .dataframe thead th {\n",
       "        text-align: right;\n",
       "    }\n",
       "</style>\n",
       "<table border=\"1\" class=\"dataframe\">\n",
       "  <thead>\n",
       "    <tr style=\"text-align: right;\">\n",
       "      <th></th>\n",
       "      <th>GENDER</th>\n",
       "      <th>AGE</th>\n",
       "      <th>OUTPATIENT</th>\n",
       "      <th>PHONE</th>\n",
       "      <th>VISIT</th>\n",
       "      <th>HOSPITALIZATION</th>\n",
       "      <th>ER</th>\n",
       "      <th>ALBUMIN</th>\n",
       "      <th>CRP</th>\n",
       "      <th>EOS</th>\n",
       "      <th>ESR</th>\n",
       "      <th>HEMOGLOBIN</th>\n",
       "      <th>MONOCYTES</th>\n",
       "      <th>VITAMIN_D</th>\n",
       "      <th>MARITAL_STATUS_ENC</th>\n",
       "      <th>EMPLOYMENT_STATUS_ENC</th>\n",
       "    </tr>\n",
       "    <tr>\n",
       "      <th>PROJECT_PATIENT_ID</th>\n",
       "      <th></th>\n",
       "      <th></th>\n",
       "      <th></th>\n",
       "      <th></th>\n",
       "      <th></th>\n",
       "      <th></th>\n",
       "      <th></th>\n",
       "      <th></th>\n",
       "      <th></th>\n",
       "      <th></th>\n",
       "      <th></th>\n",
       "      <th></th>\n",
       "      <th></th>\n",
       "      <th></th>\n",
       "      <th></th>\n",
       "      <th></th>\n",
       "    </tr>\n",
       "  </thead>\n",
       "  <tbody>\n",
       "    <tr>\n",
       "      <th>524c0db3-6ef0-47c6-9b99-098d0bf998cd</th>\n",
       "      <td>1</td>\n",
       "      <td>63</td>\n",
       "      <td>0.0</td>\n",
       "      <td>0.0</td>\n",
       "      <td>0.0</td>\n",
       "      <td>1.0</td>\n",
       "      <td>1.0</td>\n",
       "      <td>3.566667</td>\n",
       "      <td>NaN</td>\n",
       "      <td>0.533333</td>\n",
       "      <td>NaN</td>\n",
       "      <td>13.225000</td>\n",
       "      <td>2.116667</td>\n",
       "      <td>NaN</td>\n",
       "      <td>1.0</td>\n",
       "      <td>1.0</td>\n",
       "    </tr>\n",
       "    <tr>\n",
       "      <th>ed3a3f1a-0c26-402b-b922-159589036b46</th>\n",
       "      <td>1</td>\n",
       "      <td>67</td>\n",
       "      <td>0.0</td>\n",
       "      <td>0.0</td>\n",
       "      <td>0.0</td>\n",
       "      <td>1.0</td>\n",
       "      <td>0.0</td>\n",
       "      <td>2.575000</td>\n",
       "      <td>0.7500</td>\n",
       "      <td>0.650000</td>\n",
       "      <td>21.0</td>\n",
       "      <td>10.388889</td>\n",
       "      <td>4.300000</td>\n",
       "      <td>39.000000</td>\n",
       "      <td>1.0</td>\n",
       "      <td>1.0</td>\n",
       "    </tr>\n",
       "    <tr>\n",
       "      <th>4d3ea8f4-15b6-477f-805e-7932c6aabc74</th>\n",
       "      <td>0</td>\n",
       "      <td>33</td>\n",
       "      <td>0.0</td>\n",
       "      <td>59.0</td>\n",
       "      <td>13.0</td>\n",
       "      <td>2.0</td>\n",
       "      <td>3.0</td>\n",
       "      <td>4.200000</td>\n",
       "      <td>1.8214</td>\n",
       "      <td>0.806818</td>\n",
       "      <td>14.9</td>\n",
       "      <td>14.171429</td>\n",
       "      <td>3.325758</td>\n",
       "      <td>35.285714</td>\n",
       "      <td>1.0</td>\n",
       "      <td>1.0</td>\n",
       "    </tr>\n",
       "    <tr>\n",
       "      <th>bad06e68-caea-40fa-bd43-bf242ed67dad</th>\n",
       "      <td>0</td>\n",
       "      <td>45</td>\n",
       "      <td>0.0</td>\n",
       "      <td>1.0</td>\n",
       "      <td>2.0</td>\n",
       "      <td>3.0</td>\n",
       "      <td>6.0</td>\n",
       "      <td>3.530000</td>\n",
       "      <td>2.4100</td>\n",
       "      <td>8.956250</td>\n",
       "      <td>2.4</td>\n",
       "      <td>13.012000</td>\n",
       "      <td>21.078947</td>\n",
       "      <td>8.000000</td>\n",
       "      <td>1.0</td>\n",
       "      <td>1.0</td>\n",
       "    </tr>\n",
       "    <tr>\n",
       "      <th>dba8cd2e-1a6c-49a3-8d84-e95c58edf52d</th>\n",
       "      <td>0</td>\n",
       "      <td>66</td>\n",
       "      <td>0.0</td>\n",
       "      <td>0.0</td>\n",
       "      <td>0.0</td>\n",
       "      <td>3.0</td>\n",
       "      <td>4.0</td>\n",
       "      <td>2.705556</td>\n",
       "      <td>0.3000</td>\n",
       "      <td>2.340000</td>\n",
       "      <td>10.0</td>\n",
       "      <td>12.604545</td>\n",
       "      <td>7.684615</td>\n",
       "      <td>NaN</td>\n",
       "      <td>1.0</td>\n",
       "      <td>1.0</td>\n",
       "    </tr>\n",
       "  </tbody>\n",
       "</table>\n",
       "</div>"
      ],
      "text/plain": [
       "                                      GENDER  AGE  OUTPATIENT  PHONE  VISIT  \\\n",
       "PROJECT_PATIENT_ID                                                            \n",
       "524c0db3-6ef0-47c6-9b99-098d0bf998cd       1   63         0.0    0.0    0.0   \n",
       "ed3a3f1a-0c26-402b-b922-159589036b46       1   67         0.0    0.0    0.0   \n",
       "4d3ea8f4-15b6-477f-805e-7932c6aabc74       0   33         0.0   59.0   13.0   \n",
       "bad06e68-caea-40fa-bd43-bf242ed67dad       0   45         0.0    1.0    2.0   \n",
       "dba8cd2e-1a6c-49a3-8d84-e95c58edf52d       0   66         0.0    0.0    0.0   \n",
       "\n",
       "                                      HOSPITALIZATION   ER   ALBUMIN     CRP  \\\n",
       "PROJECT_PATIENT_ID                                                             \n",
       "524c0db3-6ef0-47c6-9b99-098d0bf998cd              1.0  1.0  3.566667     NaN   \n",
       "ed3a3f1a-0c26-402b-b922-159589036b46              1.0  0.0  2.575000  0.7500   \n",
       "4d3ea8f4-15b6-477f-805e-7932c6aabc74              2.0  3.0  4.200000  1.8214   \n",
       "bad06e68-caea-40fa-bd43-bf242ed67dad              3.0  6.0  3.530000  2.4100   \n",
       "dba8cd2e-1a6c-49a3-8d84-e95c58edf52d              3.0  4.0  2.705556  0.3000   \n",
       "\n",
       "                                           EOS   ESR  HEMOGLOBIN  MONOCYTES  \\\n",
       "PROJECT_PATIENT_ID                                                            \n",
       "524c0db3-6ef0-47c6-9b99-098d0bf998cd  0.533333   NaN   13.225000   2.116667   \n",
       "ed3a3f1a-0c26-402b-b922-159589036b46  0.650000  21.0   10.388889   4.300000   \n",
       "4d3ea8f4-15b6-477f-805e-7932c6aabc74  0.806818  14.9   14.171429   3.325758   \n",
       "bad06e68-caea-40fa-bd43-bf242ed67dad  8.956250   2.4   13.012000  21.078947   \n",
       "dba8cd2e-1a6c-49a3-8d84-e95c58edf52d  2.340000  10.0   12.604545   7.684615   \n",
       "\n",
       "                                      VITAMIN_D  MARITAL_STATUS_ENC  \\\n",
       "PROJECT_PATIENT_ID                                                    \n",
       "524c0db3-6ef0-47c6-9b99-098d0bf998cd        NaN                 1.0   \n",
       "ed3a3f1a-0c26-402b-b922-159589036b46  39.000000                 1.0   \n",
       "4d3ea8f4-15b6-477f-805e-7932c6aabc74  35.285714                 1.0   \n",
       "bad06e68-caea-40fa-bd43-bf242ed67dad   8.000000                 1.0   \n",
       "dba8cd2e-1a6c-49a3-8d84-e95c58edf52d        NaN                 1.0   \n",
       "\n",
       "                                      EMPLOYMENT_STATUS_ENC  \n",
       "PROJECT_PATIENT_ID                                           \n",
       "524c0db3-6ef0-47c6-9b99-098d0bf998cd                    1.0  \n",
       "ed3a3f1a-0c26-402b-b922-159589036b46                    1.0  \n",
       "4d3ea8f4-15b6-477f-805e-7932c6aabc74                    1.0  \n",
       "bad06e68-caea-40fa-bd43-bf242ed67dad                    1.0  \n",
       "dba8cd2e-1a6c-49a3-8d84-e95c58edf52d                    1.0  "
      ]
     },
     "execution_count": 98,
     "metadata": {},
     "output_type": "execute_result"
    }
   ],
   "source": [
    "df.set_index('PROJECT_PATIENT_ID', inplace=True)\n",
    "df.head()"
   ]
  },
  {
   "cell_type": "code",
   "execution_count": null,
   "metadata": {},
   "outputs": [],
   "source": [
    "\n"
   ]
  },
  {
   "cell_type": "markdown",
   "metadata": {},
   "source": [
    "## Check Missing Values"
   ]
  },
  {
   "cell_type": "code",
   "execution_count": 99,
   "metadata": {},
   "outputs": [
    {
     "data": {
      "text/plain": [
       "GENDER                     0\n",
       "AGE                        0\n",
       "OUTPATIENT                 0\n",
       "PHONE                      0\n",
       "VISIT                      0\n",
       "HOSPITALIZATION            0\n",
       "ER                         0\n",
       "ALBUMIN                   60\n",
       "CRP                      594\n",
       "EOS                       25\n",
       "ESR                      586\n",
       "HEMOGLOBIN                13\n",
       "MONOCYTES                 23\n",
       "VITAMIN_D                780\n",
       "MARITAL_STATUS_ENC         0\n",
       "EMPLOYMENT_STATUS_ENC      0\n",
       "dtype: int64"
      ]
     },
     "execution_count": 99,
     "metadata": {},
     "output_type": "execute_result"
    }
   ],
   "source": [
    "df.isnull().sum()"
   ]
  },
  {
   "cell_type": "markdown",
   "metadata": {},
   "source": [
    "## Imputation\n",
    "\n",
    "Raghunathan et al. recommend 10 iterations for each imputation. The idea is that, at the end of 10 iterations, the imputations should have stabilized such that the order in which variables were imputed no longer matters. The imputed values at the end of the 10th iteration, combined with the observed data, constitute one imputed data set. This entire process is then repeated to create multiple imputed data sets, such that, to create 10 complete data sets, a total of 10 × 10 iterations are performed.\n",
    "* https://academic.oup.com/aje/article/169/9/1133/125871\n",
    "* Raghunathan TE,  Solenberger PW,  Van Hoewyk J. , IVEware: Imputation and Variance Estimation Software, 2007Ann Arbor, MISurvey Methodology Program, Survey Research Center, Institute for Social Research, University of Michigan (http://www.isr.umich.edu/src/smp/ive/). (Accessed December 20, 2008)\n",
    "Google Scholar"
   ]
  },
  {
   "cell_type": "markdown",
   "metadata": {},
   "source": [
    "## Imputation with MICE"
   ]
  },
  {
   "cell_type": "code",
   "execution_count": 100,
   "metadata": {},
   "outputs": [
    {
     "name": "stdout",
     "output_type": "stream",
     "text": [
      "Dataset 0\n",
      "1  | ALBUMIN | CRP | EOS | ESR | HEMOGLOBIN | MONOCYTES | VITAMIN_D\n",
      "2  | ALBUMIN | CRP | EOS | ESR | HEMOGLOBIN | MONOCYTES | VITAMIN_D\n",
      "3  | ALBUMIN | CRP | EOS | ESR | HEMOGLOBIN | MONOCYTES | VITAMIN_D\n",
      "4  | ALBUMIN | CRP | EOS | ESR | HEMOGLOBIN | MONOCYTES | VITAMIN_D\n",
      "5  | ALBUMIN | CRP | EOS | ESR | HEMOGLOBIN | MONOCYTES | VITAMIN_D\n",
      "6  | ALBUMIN | CRP | EOS | ESR | HEMOGLOBIN | MONOCYTES | VITAMIN_D\n",
      "7  | ALBUMIN | CRP | EOS | ESR | HEMOGLOBIN | MONOCYTES | VITAMIN_D\n",
      "8  | ALBUMIN | CRP | EOS | ESR | HEMOGLOBIN | MONOCYTES | VITAMIN_D\n",
      "9  | ALBUMIN | CRP | EOS | ESR | HEMOGLOBIN | MONOCYTES | VITAMIN_D\n",
      "10  | ALBUMIN | CRP | EOS | ESR | HEMOGLOBIN | MONOCYTES | VITAMIN_D\n",
      "Dataset 1\n",
      "1  | ALBUMIN | CRP | EOS | ESR | HEMOGLOBIN | MONOCYTES | VITAMIN_D\n",
      "2  | ALBUMIN | CRP | EOS | ESR | HEMOGLOBIN | MONOCYTES | VITAMIN_D\n",
      "3  | ALBUMIN | CRP | EOS | ESR | HEMOGLOBIN | MONOCYTES | VITAMIN_D\n",
      "4  | ALBUMIN | CRP | EOS | ESR | HEMOGLOBIN | MONOCYTES | VITAMIN_D\n",
      "5  | ALBUMIN | CRP | EOS | ESR | HEMOGLOBIN | MONOCYTES | VITAMIN_D\n",
      "6  | ALBUMIN | CRP | EOS | ESR | HEMOGLOBIN | MONOCYTES | VITAMIN_D\n",
      "7  | ALBUMIN | CRP | EOS | ESR | HEMOGLOBIN | MONOCYTES | VITAMIN_D\n",
      "8  | ALBUMIN | CRP | EOS | ESR | HEMOGLOBIN | MONOCYTES | VITAMIN_D\n",
      "9  | ALBUMIN | CRP | EOS | ESR | HEMOGLOBIN | MONOCYTES | VITAMIN_D\n",
      "10  | ALBUMIN | CRP | EOS | ESR | HEMOGLOBIN | MONOCYTES | VITAMIN_D\n",
      "Dataset 2\n",
      "1  | ALBUMIN | CRP | EOS | ESR | HEMOGLOBIN | MONOCYTES | VITAMIN_D\n",
      "2  | ALBUMIN | CRP | EOS | ESR | HEMOGLOBIN | MONOCYTES | VITAMIN_D\n",
      "3  | ALBUMIN | CRP | EOS | ESR | HEMOGLOBIN | MONOCYTES | VITAMIN_D\n",
      "4  | ALBUMIN | CRP | EOS | ESR | HEMOGLOBIN | MONOCYTES | VITAMIN_D\n",
      "5  | ALBUMIN | CRP | EOS | ESR | HEMOGLOBIN | MONOCYTES | VITAMIN_D\n",
      "6  | ALBUMIN | CRP | EOS | ESR | HEMOGLOBIN | MONOCYTES | VITAMIN_D\n",
      "7  | ALBUMIN | CRP | EOS | ESR | HEMOGLOBIN | MONOCYTES | VITAMIN_D\n",
      "8  | ALBUMIN | CRP | EOS | ESR | HEMOGLOBIN | MONOCYTES | VITAMIN_D\n",
      "9  | ALBUMIN | CRP | EOS | ESR | HEMOGLOBIN | MONOCYTES | VITAMIN_D\n",
      "10  | ALBUMIN | CRP | EOS | ESR | HEMOGLOBIN | MONOCYTES | VITAMIN_D\n",
      "Dataset 3\n",
      "1  | ALBUMIN | CRP | EOS | ESR | HEMOGLOBIN | MONOCYTES | VITAMIN_D\n",
      "2  | ALBUMIN | CRP | EOS | ESR | HEMOGLOBIN | MONOCYTES | VITAMIN_D\n",
      "3  | ALBUMIN | CRP | EOS | ESR | HEMOGLOBIN | MONOCYTES | VITAMIN_D\n",
      "4  | ALBUMIN | CRP | EOS | ESR | HEMOGLOBIN | MONOCYTES | VITAMIN_D\n",
      "5  | ALBUMIN | CRP | EOS | ESR | HEMOGLOBIN | MONOCYTES | VITAMIN_D\n",
      "6  | ALBUMIN | CRP | EOS | ESR | HEMOGLOBIN | MONOCYTES | VITAMIN_D\n",
      "7  | ALBUMIN | CRP | EOS | ESR | HEMOGLOBIN | MONOCYTES | VITAMIN_D\n",
      "8  | ALBUMIN | CRP | EOS | ESR | HEMOGLOBIN | MONOCYTES | VITAMIN_D\n",
      "9  | ALBUMIN | CRP | EOS | ESR | HEMOGLOBIN | MONOCYTES | VITAMIN_D\n",
      "10  | ALBUMIN | CRP | EOS | ESR | HEMOGLOBIN | MONOCYTES | VITAMIN_D\n",
      "Dataset 4\n",
      "1  | ALBUMIN | CRP | EOS | ESR | HEMOGLOBIN | MONOCYTES | VITAMIN_D\n",
      "2  | ALBUMIN | CRP | EOS | ESR | HEMOGLOBIN | MONOCYTES | VITAMIN_D\n",
      "3  | ALBUMIN | CRP | EOS | ESR | HEMOGLOBIN | MONOCYTES | VITAMIN_D\n",
      "4  | ALBUMIN | CRP | EOS | ESR | HEMOGLOBIN | MONOCYTES | VITAMIN_D\n",
      "5  | ALBUMIN | CRP | EOS | ESR | HEMOGLOBIN | MONOCYTES | VITAMIN_D\n",
      "6  | ALBUMIN | CRP | EOS | ESR | HEMOGLOBIN | MONOCYTES | VITAMIN_D\n",
      "7  | ALBUMIN | CRP | EOS | ESR | HEMOGLOBIN | MONOCYTES | VITAMIN_D\n",
      "8  | ALBUMIN | CRP | EOS | ESR | HEMOGLOBIN | MONOCYTES | VITAMIN_D\n",
      "9  | ALBUMIN | CRP | EOS | ESR | HEMOGLOBIN | MONOCYTES | VITAMIN_D\n",
      "10  | ALBUMIN | CRP | EOS | ESR | HEMOGLOBIN | MONOCYTES | VITAMIN_D\n"
     ]
    }
   ],
   "source": [
    "# Create kernels. \n",
    "kernel = mf.MultipleImputedKernel(\n",
    "  data=df,\n",
    "  save_all_iterations=True,\n",
    "  random_state=1\n",
    ")\n",
    "\n",
    "# Run the MICE algorithm for 10 iterations on each of the datasets\n",
    "kernel.mice(10,verbose=True)"
   ]
  },
  {
   "cell_type": "code",
   "execution_count": 101,
   "metadata": {},
   "outputs": [
    {
     "data": {
      "image/png": "[encoded data removed]",
      "text/plain": [
       "<Figure size 432x288 with 9 Axes>"
      ]
     },
     "metadata": {
      "needs_background": "light"
     },
     "output_type": "display_data"
    }
   ],
   "source": [
    "kernel.plot_correlations(wspace=0.4,hspace=0.5)"
   ]
  },
  {
   "cell_type": "code",
   "execution_count": 102,
   "metadata": {},
   "outputs": [],
   "source": [
    "# Make a multiple imputed dataset with our new data\n",
    "mice_data_imputed = kernel.impute_new_data(df)\n",
    "# Return a completed dataset\n",
    "mice_completed_data = mice_data_imputed.complete_data(0)"
   ]
  },
  {
   "cell_type": "code",
   "execution_count": null,
   "metadata": {},
   "outputs": [],
   "source": []
  },
  {
   "cell_type": "markdown",
   "metadata": {},
   "source": [
    "## Multivariate feature imputation"
   ]
  },
  {
   "cell_type": "code",
   "execution_count": 103,
   "metadata": {},
   "outputs": [],
   "source": [
    "from sklearn.experimental import enable_iterative_imputer\n",
    "from sklearn.impute import IterativeImputer"
   ]
  },
  {
   "cell_type": "code",
   "execution_count": 104,
   "metadata": {},
   "outputs": [
    {
     "data": {
      "text/plain": [
       "IterativeImputer(random_state=0)"
      ]
     },
     "execution_count": 104,
     "metadata": {},
     "output_type": "execute_result"
    }
   ],
   "source": [
    "imp = IterativeImputer(max_iter=10, random_state=0)\n",
    "imp.fit(df)"
   ]
  },
  {
   "cell_type": "code",
   "execution_count": 105,
   "metadata": {},
   "outputs": [
    {
     "data": {
      "text/plain": [
       "array([[1.00000000e+00, 6.30000000e+01, 0.00000000e+00, ...,\n",
       "        1.51244140e+04, 1.00000000e+00, 1.00000000e+00],\n",
       "       [1.00000000e+00, 6.70000000e+01, 0.00000000e+00, ...,\n",
       "        3.90000000e+01, 1.00000000e+00, 1.00000000e+00],\n",
       "       [0.00000000e+00, 3.30000000e+01, 0.00000000e+00, ...,\n",
       "        3.52857143e+01, 1.00000000e+00, 1.00000000e+00],\n",
       "       ...,\n",
       "       [1.00000000e+00, 6.00000000e+01, 0.00000000e+00, ...,\n",
       "        3.10000000e+01, 0.00000000e+00, 0.00000000e+00],\n",
       "       [0.00000000e+00, 3.60000000e+01, 0.00000000e+00, ...,\n",
       "        2.70000000e+01, 5.00000000e-01, 0.00000000e+00],\n",
       "       [0.00000000e+00, 6.10000000e+01, 0.00000000e+00, ...,\n",
       "        1.53348344e+04, 0.00000000e+00, 0.00000000e+00]])"
      ]
     },
     "execution_count": 105,
     "metadata": {},
     "output_type": "execute_result"
    }
   ],
   "source": [
    "new_data = imp.transform(df.to_numpy())\n",
    "new_data"
   ]
  },
  {
   "cell_type": "code",
   "execution_count": null,
   "metadata": {},
   "outputs": [],
   "source": []
  },
  {
   "cell_type": "code",
   "execution_count": null,
   "metadata": {},
   "outputs": [],
   "source": []
  },
  {
   "cell_type": "markdown",
   "metadata": {},
   "source": [
    "## Multivariate feature imputation with BayesianRidge Regression\n",
    "\"Bayesian regression allows a natural mechanism to survive insufficient data or poorly distributed data by formulating linear regression using probability distributors rather than point estimates. The output or response ‘y’ is assumed to drawn from a probability distribution rather than estimated as a single value.\"\n",
    "https://www.tutorialspoint.com/scikit_learn/scikit_learn_bayesian_ridge_regression.htm"
   ]
  },
  {
   "cell_type": "code",
   "execution_count": 108,
   "metadata": {},
   "outputs": [],
   "source": [
    "imputer = IterativeImputer(BayesianRidge())   # Note that max_iter for IterativeImputer is 10 by default\n",
    "impute_data_br = pd.DataFrame(imputer.fit_transform(df))\n",
    "impute_data_br.columns = df.columns"
   ]
  },
  {
   "cell_type": "code",
   "execution_count": 109,
   "metadata": {},
   "outputs": [
    {
     "data": {
      "text/html": [
       "<div>\n",
       "<style scoped>\n",
       "    .dataframe tbody tr th:only-of-type {\n",
       "        vertical-align: middle;\n",
       "    }\n",
       "\n",
       "    .dataframe tbody tr th {\n",
       "        vertical-align: top;\n",
       "    }\n",
       "\n",
       "    .dataframe thead th {\n",
       "        text-align: right;\n",
       "    }\n",
       "</style>\n",
       "<table border=\"1\" class=\"dataframe\">\n",
       "  <thead>\n",
       "    <tr style=\"text-align: right;\">\n",
       "      <th></th>\n",
       "      <th>0</th>\n",
       "      <th>1</th>\n",
       "      <th>2</th>\n",
       "      <th>3</th>\n",
       "      <th>4</th>\n",
       "      <th>5</th>\n",
       "      <th>6</th>\n",
       "      <th>7</th>\n",
       "      <th>8</th>\n",
       "      <th>9</th>\n",
       "      <th>10</th>\n",
       "      <th>11</th>\n",
       "      <th>12</th>\n",
       "      <th>13</th>\n",
       "      <th>14</th>\n",
       "      <th>15</th>\n",
       "    </tr>\n",
       "  </thead>\n",
       "  <tbody>\n",
       "    <tr>\n",
       "      <th>0</th>\n",
       "      <td>1.0</td>\n",
       "      <td>63.0</td>\n",
       "      <td>0.0</td>\n",
       "      <td>0.0</td>\n",
       "      <td>0.0</td>\n",
       "      <td>1.0</td>\n",
       "      <td>1.0</td>\n",
       "      <td>3.566667</td>\n",
       "      <td>1.179918e+06</td>\n",
       "      <td>0.533333</td>\n",
       "      <td>24102.513708</td>\n",
       "      <td>13.225000</td>\n",
       "      <td>2.116667</td>\n",
       "      <td>15124.414006</td>\n",
       "      <td>1.0</td>\n",
       "      <td>1.0</td>\n",
       "    </tr>\n",
       "    <tr>\n",
       "      <th>1</th>\n",
       "      <td>1.0</td>\n",
       "      <td>67.0</td>\n",
       "      <td>0.0</td>\n",
       "      <td>0.0</td>\n",
       "      <td>0.0</td>\n",
       "      <td>1.0</td>\n",
       "      <td>0.0</td>\n",
       "      <td>2.575000</td>\n",
       "      <td>7.500000e-01</td>\n",
       "      <td>0.650000</td>\n",
       "      <td>21.000000</td>\n",
       "      <td>10.388889</td>\n",
       "      <td>4.300000</td>\n",
       "      <td>39.000000</td>\n",
       "      <td>1.0</td>\n",
       "      <td>1.0</td>\n",
       "    </tr>\n",
       "    <tr>\n",
       "      <th>2</th>\n",
       "      <td>0.0</td>\n",
       "      <td>33.0</td>\n",
       "      <td>0.0</td>\n",
       "      <td>59.0</td>\n",
       "      <td>13.0</td>\n",
       "      <td>2.0</td>\n",
       "      <td>3.0</td>\n",
       "      <td>4.200000</td>\n",
       "      <td>1.821400e+00</td>\n",
       "      <td>0.806818</td>\n",
       "      <td>14.900000</td>\n",
       "      <td>14.171429</td>\n",
       "      <td>3.325758</td>\n",
       "      <td>35.285714</td>\n",
       "      <td>1.0</td>\n",
       "      <td>1.0</td>\n",
       "    </tr>\n",
       "    <tr>\n",
       "      <th>3</th>\n",
       "      <td>0.0</td>\n",
       "      <td>45.0</td>\n",
       "      <td>0.0</td>\n",
       "      <td>1.0</td>\n",
       "      <td>2.0</td>\n",
       "      <td>3.0</td>\n",
       "      <td>6.0</td>\n",
       "      <td>3.530000</td>\n",
       "      <td>2.410000e+00</td>\n",
       "      <td>8.956250</td>\n",
       "      <td>2.400000</td>\n",
       "      <td>13.012000</td>\n",
       "      <td>21.078947</td>\n",
       "      <td>8.000000</td>\n",
       "      <td>1.0</td>\n",
       "      <td>1.0</td>\n",
       "    </tr>\n",
       "    <tr>\n",
       "      <th>4</th>\n",
       "      <td>0.0</td>\n",
       "      <td>66.0</td>\n",
       "      <td>0.0</td>\n",
       "      <td>0.0</td>\n",
       "      <td>0.0</td>\n",
       "      <td>3.0</td>\n",
       "      <td>4.0</td>\n",
       "      <td>2.705556</td>\n",
       "      <td>3.000000e-01</td>\n",
       "      <td>2.340000</td>\n",
       "      <td>10.000000</td>\n",
       "      <td>12.604545</td>\n",
       "      <td>7.684615</td>\n",
       "      <td>15334.831663</td>\n",
       "      <td>1.0</td>\n",
       "      <td>1.0</td>\n",
       "    </tr>\n",
       "  </tbody>\n",
       "</table>\n",
       "</div>"
      ],
      "text/plain": [
       "    0     1    2     3     4    5    6         7             8         9   \\\n",
       "0  1.0  63.0  0.0   0.0   0.0  1.0  1.0  3.566667  1.179918e+06  0.533333   \n",
       "1  1.0  67.0  0.0   0.0   0.0  1.0  0.0  2.575000  7.500000e-01  0.650000   \n",
       "2  0.0  33.0  0.0  59.0  13.0  2.0  3.0  4.200000  1.821400e+00  0.806818   \n",
       "3  0.0  45.0  0.0   1.0   2.0  3.0  6.0  3.530000  2.410000e+00  8.956250   \n",
       "4  0.0  66.0  0.0   0.0   0.0  3.0  4.0  2.705556  3.000000e-01  2.340000   \n",
       "\n",
       "             10         11         12            13   14   15  \n",
       "0  24102.513708  13.225000   2.116667  15124.414006  1.0  1.0  \n",
       "1     21.000000  10.388889   4.300000     39.000000  1.0  1.0  \n",
       "2     14.900000  14.171429   3.325758     35.285714  1.0  1.0  \n",
       "3      2.400000  13.012000  21.078947      8.000000  1.0  1.0  \n",
       "4     10.000000  12.604545   7.684615  15334.831663  1.0  1.0  "
      ]
     },
     "execution_count": 109,
     "metadata": {},
     "output_type": "execute_result"
    }
   ],
   "source": [
    "impute_data_br.head()"
   ]
  },
  {
   "cell_type": "code",
   "execution_count": null,
   "metadata": {},
   "outputs": [],
   "source": []
  },
  {
   "cell_type": "markdown",
   "metadata": {},
   "source": [
    "## Multivariate feature imputation with RandomForest"
   ]
  },
  {
   "cell_type": "code",
   "execution_count": 110,
   "metadata": {
    "scrolled": true
   },
   "outputs": [
    {
     "name": "stderr",
     "output_type": "stream",
     "text": [
      "/Users/dbabichenko/opt/anaconda3/lib/python3.8/site-packages/sklearn/impute/_iterative.py:669: ConvergenceWarning: [IterativeImputer] Early stopping criterion not reached.\n",
      "  warnings.warn(\"[IterativeImputer] Early stopping criterion not\"\n"
     ]
    }
   ],
   "source": [
    "from sklearn.ensemble import RandomForestRegressor\n",
    "from sklearn.datasets import make_regression\n",
    "imputer = IterativeImputer(RandomForestRegressor())  # Note that max_iter for IterativeImputer is 10 by default\n",
    "impute_data = pd.DataFrame(imputer.fit_transform(df))\n",
    "impute_data.columns = df.columns"
   ]
  },
  {
   "cell_type": "code",
   "execution_count": 111,
   "metadata": {},
   "outputs": [
    {
     "data": {
      "text/html": [
       "<div>\n",
       "<style scoped>\n",
       "    .dataframe tbody tr th:only-of-type {\n",
       "        vertical-align: middle;\n",
       "    }\n",
       "\n",
       "    .dataframe tbody tr th {\n",
       "        vertical-align: top;\n",
       "    }\n",
       "\n",
       "    .dataframe thead th {\n",
       "        text-align: right;\n",
       "    }\n",
       "</style>\n",
       "<table border=\"1\" class=\"dataframe\">\n",
       "  <thead>\n",
       "    <tr style=\"text-align: right;\">\n",
       "      <th></th>\n",
       "      <th>GENDER</th>\n",
       "      <th>AGE</th>\n",
       "      <th>OUTPATIENT</th>\n",
       "      <th>PHONE</th>\n",
       "      <th>VISIT</th>\n",
       "      <th>HOSPITALIZATION</th>\n",
       "      <th>ER</th>\n",
       "      <th>ALBUMIN</th>\n",
       "      <th>CRP</th>\n",
       "      <th>EOS</th>\n",
       "      <th>ESR</th>\n",
       "      <th>HEMOGLOBIN</th>\n",
       "      <th>MONOCYTES</th>\n",
       "      <th>VITAMIN_D</th>\n",
       "      <th>MARITAL_STATUS_ENC</th>\n",
       "      <th>EMPLOYMENT_STATUS_ENC</th>\n",
       "    </tr>\n",
       "  </thead>\n",
       "  <tbody>\n",
       "    <tr>\n",
       "      <th>0</th>\n",
       "      <td>1.0</td>\n",
       "      <td>63.0</td>\n",
       "      <td>0.0</td>\n",
       "      <td>0.0</td>\n",
       "      <td>0.0</td>\n",
       "      <td>1.0</td>\n",
       "      <td>1.0</td>\n",
       "      <td>3.566667</td>\n",
       "      <td>61117.696031</td>\n",
       "      <td>0.533333</td>\n",
       "      <td>28.875484</td>\n",
       "      <td>13.225000</td>\n",
       "      <td>2.116667</td>\n",
       "      <td>32.359494</td>\n",
       "      <td>1.0</td>\n",
       "      <td>1.0</td>\n",
       "    </tr>\n",
       "    <tr>\n",
       "      <th>1</th>\n",
       "      <td>1.0</td>\n",
       "      <td>67.0</td>\n",
       "      <td>0.0</td>\n",
       "      <td>0.0</td>\n",
       "      <td>0.0</td>\n",
       "      <td>1.0</td>\n",
       "      <td>0.0</td>\n",
       "      <td>2.575000</td>\n",
       "      <td>0.750000</td>\n",
       "      <td>0.650000</td>\n",
       "      <td>21.000000</td>\n",
       "      <td>10.388889</td>\n",
       "      <td>4.300000</td>\n",
       "      <td>39.000000</td>\n",
       "      <td>1.0</td>\n",
       "      <td>1.0</td>\n",
       "    </tr>\n",
       "    <tr>\n",
       "      <th>2</th>\n",
       "      <td>0.0</td>\n",
       "      <td>33.0</td>\n",
       "      <td>0.0</td>\n",
       "      <td>59.0</td>\n",
       "      <td>13.0</td>\n",
       "      <td>2.0</td>\n",
       "      <td>3.0</td>\n",
       "      <td>4.200000</td>\n",
       "      <td>1.821400</td>\n",
       "      <td>0.806818</td>\n",
       "      <td>14.900000</td>\n",
       "      <td>14.171429</td>\n",
       "      <td>3.325758</td>\n",
       "      <td>35.285714</td>\n",
       "      <td>1.0</td>\n",
       "      <td>1.0</td>\n",
       "    </tr>\n",
       "    <tr>\n",
       "      <th>3</th>\n",
       "      <td>0.0</td>\n",
       "      <td>45.0</td>\n",
       "      <td>0.0</td>\n",
       "      <td>1.0</td>\n",
       "      <td>2.0</td>\n",
       "      <td>3.0</td>\n",
       "      <td>6.0</td>\n",
       "      <td>3.530000</td>\n",
       "      <td>2.410000</td>\n",
       "      <td>8.956250</td>\n",
       "      <td>2.400000</td>\n",
       "      <td>13.012000</td>\n",
       "      <td>21.078947</td>\n",
       "      <td>8.000000</td>\n",
       "      <td>1.0</td>\n",
       "      <td>1.0</td>\n",
       "    </tr>\n",
       "    <tr>\n",
       "      <th>4</th>\n",
       "      <td>0.0</td>\n",
       "      <td>66.0</td>\n",
       "      <td>0.0</td>\n",
       "      <td>0.0</td>\n",
       "      <td>0.0</td>\n",
       "      <td>3.0</td>\n",
       "      <td>4.0</td>\n",
       "      <td>2.705556</td>\n",
       "      <td>0.300000</td>\n",
       "      <td>2.340000</td>\n",
       "      <td>10.000000</td>\n",
       "      <td>12.604545</td>\n",
       "      <td>7.684615</td>\n",
       "      <td>29.813717</td>\n",
       "      <td>1.0</td>\n",
       "      <td>1.0</td>\n",
       "    </tr>\n",
       "  </tbody>\n",
       "</table>\n",
       "</div>"
      ],
      "text/plain": [
       "   GENDER   AGE  OUTPATIENT  PHONE  VISIT  HOSPITALIZATION   ER   ALBUMIN  \\\n",
       "0     1.0  63.0         0.0    0.0    0.0              1.0  1.0  3.566667   \n",
       "1     1.0  67.0         0.0    0.0    0.0              1.0  0.0  2.575000   \n",
       "2     0.0  33.0         0.0   59.0   13.0              2.0  3.0  4.200000   \n",
       "3     0.0  45.0         0.0    1.0    2.0              3.0  6.0  3.530000   \n",
       "4     0.0  66.0         0.0    0.0    0.0              3.0  4.0  2.705556   \n",
       "\n",
       "            CRP       EOS        ESR  HEMOGLOBIN  MONOCYTES  VITAMIN_D  \\\n",
       "0  61117.696031  0.533333  28.875484   13.225000   2.116667  32.359494   \n",
       "1      0.750000  0.650000  21.000000   10.388889   4.300000  39.000000   \n",
       "2      1.821400  0.806818  14.900000   14.171429   3.325758  35.285714   \n",
       "3      2.410000  8.956250   2.400000   13.012000  21.078947   8.000000   \n",
       "4      0.300000  2.340000  10.000000   12.604545   7.684615  29.813717   \n",
       "\n",
       "   MARITAL_STATUS_ENC  EMPLOYMENT_STATUS_ENC  \n",
       "0                 1.0                    1.0  \n",
       "1                 1.0                    1.0  \n",
       "2                 1.0                    1.0  \n",
       "3                 1.0                    1.0  \n",
       "4                 1.0                    1.0  "
      ]
     },
     "execution_count": 111,
     "metadata": {},
     "output_type": "execute_result"
    }
   ],
   "source": [
    "impute_data.head()"
   ]
  },
  {
   "cell_type": "code",
   "execution_count": null,
   "metadata": {},
   "outputs": [],
   "source": []
  }
 ],
 "metadata": {
  "kernelspec": {
   "display_name": "Python 3",
   "language": "python",
   "name": "python3"
  },
  "language_info": {
   "codemirror_mode": {
    "name": "ipython",
    "version": 3
   },
   "file_extension": ".py",
   "mimetype": "text/x-python",
   "name": "python",
   "nbconvert_exporter": "python",
   "pygments_lexer": "ipython3",
   "version": "3.8.5"
  }
 },
 "nbformat": 4,
 "nbformat_minor": 5
}
