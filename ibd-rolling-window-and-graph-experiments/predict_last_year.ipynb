{
 "cells": [
  {
   "cell_type": "code",
   "execution_count": 1,
   "metadata": {},
   "outputs": [],
   "source": [
    "\n",
    "import pandas as pd\n",
    "import numpy as np\n",
    "import matplotlib.pyplot as plt\n",
    "from sklearn.model_selection import train_test_split\n",
    "from sklearn.ensemble import RandomForestClassifier\n",
    "from sklearn.model_selection import KFold # import KFold\n",
    "from sklearn.model_selection import cross_val_score, cross_val_predict"
   ]
  },
  {
   "cell_type": "code",
   "execution_count": 2,
   "metadata": {},
   "outputs": [
    {
     "data": {
      "text/html": [
       "<div>\n",
       "<style scoped>\n",
       "    .dataframe tbody tr th:only-of-type {\n",
       "        vertical-align: middle;\n",
       "    }\n",
       "\n",
       "    .dataframe tbody tr th {\n",
       "        vertical-align: top;\n",
       "    }\n",
       "\n",
       "    .dataframe thead th {\n",
       "        text-align: right;\n",
       "    }\n",
       "</style>\n",
       "<table border=\"1\" class=\"dataframe\">\n",
       "  <thead>\n",
       "    <tr style=\"text-align: right;\">\n",
       "      <th></th>\n",
       "      <th>Unnamed: 0</th>\n",
       "      <th>project_patient_id</th>\n",
       "      <th>window_id</th>\n",
       "      <th>window_start</th>\n",
       "      <th>window_train_breakpoint</th>\n",
       "      <th>window_end</th>\n",
       "      <th>contact_encounter_frequency</th>\n",
       "      <th>office_encounter_frequency</th>\n",
       "      <th>outpatient_procedure_encounter_frequency</th>\n",
       "      <th>psych_comorbidity</th>\n",
       "      <th>...</th>\n",
       "      <th>gender</th>\n",
       "      <th>race</th>\n",
       "      <th>ethnic_group</th>\n",
       "      <th>is_alive</th>\n",
       "      <th>grand_max_date</th>\n",
       "      <th>grand_min_date</th>\n",
       "      <th>grand_timespan</th>\n",
       "      <th>age_le</th>\n",
       "      <th>marital_status_le</th>\n",
       "      <th>employment_status_le</th>\n",
       "    </tr>\n",
       "  </thead>\n",
       "  <tbody>\n",
       "    <tr>\n",
       "      <th>0</th>\n",
       "      <td>0</td>\n",
       "      <td>4d3ea8f4-15b6-477f-805e-7932c6aabc74</td>\n",
       "      <td>0</td>\n",
       "      <td>2011-06-16 00:00:00</td>\n",
       "      <td>2014-06-15 18:00:00</td>\n",
       "      <td>2015-06-16 00:00:00</td>\n",
       "      <td>2.0</td>\n",
       "      <td>2.0</td>\n",
       "      <td>0.0</td>\n",
       "      <td>0.0</td>\n",
       "      <td>...</td>\n",
       "      <td>1</td>\n",
       "      <td>-1</td>\n",
       "      <td>-1</td>\n",
       "      <td>0</td>\n",
       "      <td>2015-06-16 00:00:00</td>\n",
       "      <td>2011-04-05 00:00:00</td>\n",
       "      <td>1533 days</td>\n",
       "      <td>1</td>\n",
       "      <td>3</td>\n",
       "      <td>6</td>\n",
       "    </tr>\n",
       "    <tr>\n",
       "      <th>1</th>\n",
       "      <td>1</td>\n",
       "      <td>dba8cd2e-1a6c-49a3-8d84-e95c58edf52d</td>\n",
       "      <td>0</td>\n",
       "      <td>2010-05-27 06:00:00</td>\n",
       "      <td>2016-05-26 18:00:00</td>\n",
       "      <td>2017-05-27 00:00:00</td>\n",
       "      <td>0.0</td>\n",
       "      <td>0.0</td>\n",
       "      <td>0.0</td>\n",
       "      <td>1.0</td>\n",
       "      <td>...</td>\n",
       "      <td>1</td>\n",
       "      <td>-1</td>\n",
       "      <td>-1</td>\n",
       "      <td>0</td>\n",
       "      <td>2017-05-27 00:00:00</td>\n",
       "      <td>2009-06-26 00:00:00</td>\n",
       "      <td>2892 days</td>\n",
       "      <td>3</td>\n",
       "      <td>3</td>\n",
       "      <td>6</td>\n",
       "    </tr>\n",
       "    <tr>\n",
       "      <th>2</th>\n",
       "      <td>2</td>\n",
       "      <td>0ff04104-f7a3-4dc0-9277-000228d22250</td>\n",
       "      <td>0</td>\n",
       "      <td>2011-07-14 00:00:00</td>\n",
       "      <td>2018-07-13 18:00:00</td>\n",
       "      <td>2019-07-14 00:00:00</td>\n",
       "      <td>2.0</td>\n",
       "      <td>2.0</td>\n",
       "      <td>0.0</td>\n",
       "      <td>0.0</td>\n",
       "      <td>...</td>\n",
       "      <td>1</td>\n",
       "      <td>-1</td>\n",
       "      <td>-1</td>\n",
       "      <td>0</td>\n",
       "      <td>2019-07-14 00:00:00</td>\n",
       "      <td>2011-02-16 00:00:00</td>\n",
       "      <td>3070 days</td>\n",
       "      <td>4</td>\n",
       "      <td>3</td>\n",
       "      <td>6</td>\n",
       "    </tr>\n",
       "    <tr>\n",
       "      <th>3</th>\n",
       "      <td>3</td>\n",
       "      <td>05bc4955-38b2-48da-9e00-e18d1c9e122f</td>\n",
       "      <td>0</td>\n",
       "      <td>2009-12-21 12:00:00</td>\n",
       "      <td>2018-12-21 18:00:00</td>\n",
       "      <td>2019-12-22 00:00:00</td>\n",
       "      <td>2.0</td>\n",
       "      <td>2.0</td>\n",
       "      <td>0.0</td>\n",
       "      <td>1.0</td>\n",
       "      <td>...</td>\n",
       "      <td>0</td>\n",
       "      <td>-1</td>\n",
       "      <td>-1</td>\n",
       "      <td>0</td>\n",
       "      <td>2019-12-22 00:00:00</td>\n",
       "      <td>2009-01-16 00:00:00</td>\n",
       "      <td>3992 days</td>\n",
       "      <td>1</td>\n",
       "      <td>3</td>\n",
       "      <td>6</td>\n",
       "    </tr>\n",
       "    <tr>\n",
       "      <th>4</th>\n",
       "      <td>4</td>\n",
       "      <td>2d0556cd-d28b-46cb-b57a-d83156835990</td>\n",
       "      <td>0</td>\n",
       "      <td>2009-12-19 12:00:00</td>\n",
       "      <td>2018-12-19 18:00:00</td>\n",
       "      <td>2019-12-20 00:00:00</td>\n",
       "      <td>0.0</td>\n",
       "      <td>0.0</td>\n",
       "      <td>0.0</td>\n",
       "      <td>0.0</td>\n",
       "      <td>...</td>\n",
       "      <td>0</td>\n",
       "      <td>-1</td>\n",
       "      <td>-1</td>\n",
       "      <td>0</td>\n",
       "      <td>2019-12-20 00:00:00</td>\n",
       "      <td>2009-01-26 00:00:00</td>\n",
       "      <td>3980 days</td>\n",
       "      <td>4</td>\n",
       "      <td>3</td>\n",
       "      <td>6</td>\n",
       "    </tr>\n",
       "  </tbody>\n",
       "</table>\n",
       "<p>5 rows × 36 columns</p>\n",
       "</div>"
      ],
      "text/plain": [
       "   Unnamed: 0                    project_patient_id  window_id  \\\n",
       "0           0  4d3ea8f4-15b6-477f-805e-7932c6aabc74          0   \n",
       "1           1  dba8cd2e-1a6c-49a3-8d84-e95c58edf52d          0   \n",
       "2           2  0ff04104-f7a3-4dc0-9277-000228d22250          0   \n",
       "3           3  05bc4955-38b2-48da-9e00-e18d1c9e122f          0   \n",
       "4           4  2d0556cd-d28b-46cb-b57a-d83156835990          0   \n",
       "\n",
       "          window_start window_train_breakpoint           window_end  \\\n",
       "0  2011-06-16 00:00:00     2014-06-15 18:00:00  2015-06-16 00:00:00   \n",
       "1  2010-05-27 06:00:00     2016-05-26 18:00:00  2017-05-27 00:00:00   \n",
       "2  2011-07-14 00:00:00     2018-07-13 18:00:00  2019-07-14 00:00:00   \n",
       "3  2009-12-21 12:00:00     2018-12-21 18:00:00  2019-12-22 00:00:00   \n",
       "4  2009-12-19 12:00:00     2018-12-19 18:00:00  2019-12-20 00:00:00   \n",
       "\n",
       "   contact_encounter_frequency  office_encounter_frequency  \\\n",
       "0                          2.0                         2.0   \n",
       "1                          0.0                         0.0   \n",
       "2                          2.0                         2.0   \n",
       "3                          2.0                         2.0   \n",
       "4                          0.0                         0.0   \n",
       "\n",
       "   outpatient_procedure_encounter_frequency  psych_comorbidity  ...  gender  \\\n",
       "0                                       0.0                0.0  ...       1   \n",
       "1                                       0.0                1.0  ...       1   \n",
       "2                                       0.0                0.0  ...       1   \n",
       "3                                       0.0                1.0  ...       0   \n",
       "4                                       0.0                0.0  ...       0   \n",
       "\n",
       "   race  ethnic_group  is_alive       grand_max_date       grand_min_date  \\\n",
       "0    -1            -1         0  2015-06-16 00:00:00  2011-04-05 00:00:00   \n",
       "1    -1            -1         0  2017-05-27 00:00:00  2009-06-26 00:00:00   \n",
       "2    -1            -1         0  2019-07-14 00:00:00  2011-02-16 00:00:00   \n",
       "3    -1            -1         0  2019-12-22 00:00:00  2009-01-16 00:00:00   \n",
       "4    -1            -1         0  2019-12-20 00:00:00  2009-01-26 00:00:00   \n",
       "\n",
       "   grand_timespan  age_le  marital_status_le  employment_status_le  \n",
       "0       1533 days       1                  3                     6  \n",
       "1       2892 days       3                  3                     6  \n",
       "2       3070 days       4                  3                     6  \n",
       "3       3992 days       1                  3                     6  \n",
       "4       3980 days       4                  3                     6  \n",
       "\n",
       "[5 rows x 36 columns]"
      ]
     },
     "execution_count": 2,
     "metadata": {},
     "output_type": "execute_result"
    }
   ],
   "source": [
    "df = pd.read_csv('preprocessed_data_one_window_per_patient.csv')\n",
    "df.head()"
   ]
  },
  {
   "cell_type": "code",
   "execution_count": 3,
   "metadata": {},
   "outputs": [],
   "source": [
    "# define X and y\n",
    "X = df[['contact_encounter_frequency',\n",
    "       'office_encounter_frequency',\n",
    "       'outpatient_procedure_encounter_frequency', 'psych_comorbidity',\n",
    "       'med_5asa', 'med_ai', 'med_ail12', 'med_antibiotics', 'med_atnf',\n",
    "       'med_st', 'med_vitd', 'labs_abnormal_albumin', 'labs_abnormal_crp',\n",
    "       'labs_abnormal_eos', 'labs_abnormal_esr', 'labs_abnormal_hemoglobin',\n",
    "       'labs_abnormal_monocytes', 'labs_abnormal_vitamin_d', 'gender', 'race',\n",
    "       'ethnic_group', 'is_alive', 'age_le', 'marital_status_le',\n",
    "       'employment_status_le']]\n",
    "\n",
    "y1 = df['target_hospitalizations']\n",
    "y2 = df['target_er_visits']"
   ]
  },
  {
   "cell_type": "code",
   "execution_count": 4,
   "metadata": {},
   "outputs": [
    {
     "name": "stdout",
     "output_type": "stream",
     "text": [
      "Cross-validated scores: [0.69325153 0.65644172 0.69325153 0.69325153 0.68711656 0.70987654\n",
      " 0.68518519 0.69135802 0.66666667 0.62345679]\n",
      "0.6799856093312127\n"
     ]
    }
   ],
   "source": [
    "# Predict hospitalizations\n",
    "model = RandomForestClassifier(random_state=1, max_depth=10)\n",
    "model.fit(X, y1)\n",
    "# Perform 10-fold cross validation\n",
    "kf = KFold(n_splits=10, random_state=1, shuffle=True)\n",
    "scores = cross_val_score(model, X, y1, cv=kf)\n",
    "print('Cross-validated scores:', scores)\n",
    "print(scores.mean())"
   ]
  },
  {
   "cell_type": "code",
   "execution_count": 5,
   "metadata": {},
   "outputs": [
    {
     "name": "stdout",
     "output_type": "stream",
     "text": [
      "Cross-validated scores: [0.44785276 0.36196319 0.38650307 0.41717791 0.46625767 0.4691358\n",
      " 0.43209877 0.38888889 0.38271605 0.45061728]\n",
      "0.42032113913504504\n"
     ]
    }
   ],
   "source": [
    "# Predict ER Visits\n",
    "model.fit(X, y2)\n",
    "# Perform 10-fold cross validation\n",
    "kf = KFold(n_splits=10, random_state=1, shuffle=True)\n",
    "scores = cross_val_score(model, X, y2, cv=kf)\n",
    "print('Cross-validated scores:', scores)\n",
    "print(scores.mean())"
   ]
  },
  {
   "cell_type": "code",
   "execution_count": 6,
   "metadata": {},
   "outputs": [],
   "source": [
    "# define X and y\n",
    "X = df[['contact_encounter_frequency',\n",
    "       'office_encounter_frequency',\n",
    "       'outpatient_procedure_encounter_frequency', 'psych_comorbidity',\n",
    "       'med_5asa', 'med_ai', 'med_ail12', 'med_antibiotics', 'med_atnf',\n",
    "       'med_st', 'med_vitd', 'labs_abnormal_albumin', 'labs_abnormal_crp',\n",
    "       'labs_abnormal_eos', 'labs_abnormal_esr', 'labs_abnormal_hemoglobin',\n",
    "       'labs_abnormal_monocytes', 'labs_abnormal_vitamin_d', 'gender', 'race',\n",
    "       'ethnic_group', 'is_alive', 'age_le', 'marital_status_le',\n",
    "       'employment_status_le', 'target_er_visits']]\n",
    "\n",
    "y = df['target_hospitalizations']"
   ]
  },
  {
   "cell_type": "code",
   "execution_count": null,
   "metadata": {},
   "outputs": [],
   "source": []
  },
  {
   "cell_type": "code",
   "execution_count": 33,
   "metadata": {},
   "outputs": [
    {
     "data": {
      "text/plain": [
       "(1625, 26)"
      ]
     },
     "execution_count": 33,
     "metadata": {},
     "output_type": "execute_result"
    }
   ],
   "source": [
    "X.shape"
   ]
  },
  {
   "cell_type": "code",
   "execution_count": 34,
   "metadata": {},
   "outputs": [
    {
     "name": "stdout",
     "output_type": "stream",
     "text": [
      "Cross-validated scores: [0.67484663 0.67484663 0.65030675 0.66257669 0.6993865  0.69135802\n",
      " 0.69135802 0.72839506 0.63580247 0.66666667]\n",
      "0.6775543437097629\n"
     ]
    }
   ],
   "source": [
    "# Predict hospitalizations with ER visits as a feature\n",
    "model = RandomForestClassifier(random_state=1, max_depth=10)\n",
    "model.fit(X, y)\n",
    "# Perform 10-fold cross validation\n",
    "kf = KFold(n_splits=10, random_state=1, shuffle=True)\n",
    "scores = cross_val_score(model, X, y, cv=kf)\n",
    "print('Cross-validated scores:', scores)\n",
    "print(scores.mean())"
   ]
  },
  {
   "cell_type": "code",
   "execution_count": null,
   "metadata": {},
   "outputs": [],
   "source": []
  },
  {
   "cell_type": "code",
   "execution_count": null,
   "metadata": {},
   "outputs": [],
   "source": []
  },
  {
   "cell_type": "code",
   "execution_count": null,
   "metadata": {
    "scrolled": false
   },
   "outputs": [],
   "source": [
    "# Make cross validated predictions\n",
    "pred = cross_val_predict(model, X, y1, cv=kf)"
   ]
  },
  {
   "cell_type": "code",
   "execution_count": null,
   "metadata": {},
   "outputs": [],
   "source": []
  },
  {
   "cell_type": "code",
   "execution_count": 40,
   "metadata": {},
   "outputs": [],
   "source": [
    "from keras.models import Sequential\n",
    "from keras.layers import Dense\n",
    "from keras.layers import LSTM"
   ]
  },
  {
   "cell_type": "code",
   "execution_count": 45,
   "metadata": {},
   "outputs": [],
   "source": [
    "model = Sequential()\n",
    "model.add(Dense(12, input_dim=26, activation='relu'))\n",
    "#model.add(LSTM(12, input_dim=26, activation='relu'))\n",
    "model.add(Dense(8, activation='relu'))\n",
    "model.add(Dense(1, activation='sigmoid'))"
   ]
  },
  {
   "cell_type": "code",
   "execution_count": 46,
   "metadata": {},
   "outputs": [],
   "source": [
    "model.compile(loss='binary_crossentropy', optimizer='adam', metrics=['accuracy'])"
   ]
  },
  {
   "cell_type": "code",
   "execution_count": 47,
   "metadata": {},
   "outputs": [
    {
     "name": "stdout",
     "output_type": "stream",
     "text": [
      "Epoch 1/10\n",
      "163/163 [==============================] - 1s 1ms/step - loss: 0.4237 - accuracy: 0.4888\n",
      "Epoch 2/10\n",
      "163/163 [==============================] - 0s 1ms/step - loss: -1.2168 - accuracy: 0.3597\n",
      "Epoch 3/10\n",
      "163/163 [==============================] - 0s 2ms/step - loss: -3.7417 - accuracy: 0.3769\n",
      "Epoch 4/10\n",
      "163/163 [==============================] - 0s 1ms/step - loss: -12.0888 - accuracy: 0.4402\n",
      "Epoch 5/10\n",
      "163/163 [==============================] - 0s 1ms/step - loss: -23.3541 - accuracy: 0.5235\n",
      "Epoch 6/10\n",
      "163/163 [==============================] - 0s 1ms/step - loss: -39.9182 - accuracy: 0.4515\n",
      "Epoch 7/10\n",
      "163/163 [==============================] - 0s 1ms/step - loss: -62.0906 - accuracy: 0.4491\n",
      "Epoch 8/10\n",
      "163/163 [==============================] - 0s 1ms/step - loss: -90.0895 - accuracy: 0.5072\n",
      "Epoch 9/10\n",
      "163/163 [==============================] - 0s 1ms/step - loss: -107.2576 - accuracy: 0.5078\n",
      "Epoch 10/10\n",
      "163/163 [==============================] - 0s 2ms/step - loss: -143.1697 - accuracy: 0.4695\n"
     ]
    },
    {
     "data": {
      "text/plain": [
       "<tensorflow.python.keras.callbacks.History at 0x7ff14fb86f40>"
      ]
     },
     "execution_count": 47,
     "metadata": {},
     "output_type": "execute_result"
    }
   ],
   "source": [
    "model.fit(X, y, epochs=10, batch_size=10)"
   ]
  },
  {
   "cell_type": "code",
   "execution_count": 38,
   "metadata": {},
   "outputs": [
    {
     "name": "stdout",
     "output_type": "stream",
     "text": [
      "51/51 [==============================] - 0s 1ms/step - loss: -182.9620 - accuracy: 0.4308\n",
      "[-182.96202087402344, 0.4307692348957062]\n"
     ]
    }
   ],
   "source": [
    "accuracy = model.evaluate(X, y)\n",
    "print(accuracy)"
   ]
  },
  {
   "cell_type": "code",
   "execution_count": null,
   "metadata": {},
   "outputs": [],
   "source": []
  }
 ],
 "metadata": {
  "kernelspec": {
   "display_name": "Python 3",
   "language": "python",
   "name": "python3"
  },
  "language_info": {
   "codemirror_mode": {
    "name": "ipython",
    "version": 3
   },
   "file_extension": ".py",
   "mimetype": "text/x-python",
   "name": "python",
   "nbconvert_exporter": "python",
   "pygments_lexer": "ipython3",
   "version": "3.8.5"
  }
 },
 "nbformat": 4,
 "nbformat_minor": 2
}
