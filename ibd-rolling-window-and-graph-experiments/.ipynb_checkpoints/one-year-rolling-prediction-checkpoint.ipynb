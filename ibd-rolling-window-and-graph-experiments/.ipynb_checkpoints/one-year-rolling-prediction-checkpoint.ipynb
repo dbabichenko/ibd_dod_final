{
 "cells": [
  {
   "cell_type": "code",
   "execution_count": 87,
   "metadata": {},
   "outputs": [],
   "source": [
    "#https://www.annytab.com/dynamic-bayesian-network-in-python/"
   ]
  },
  {
   "cell_type": "code",
   "execution_count": 10,
   "metadata": {},
   "outputs": [],
   "source": [
    "import pandas as pd\n",
    "import numpy as np\n",
    "import networkx as nx\n",
    "import matplotlib.pyplot as plt\n",
    "\n",
    "from sklearn.model_selection import train_test_split\n",
    "from sklearn.naive_bayes import GaussianNB\n",
    "from sklearn import metrics\n",
    "from sklearn.neighbors import KNeighborsClassifier\n",
    "from sklearn import svm\n",
    "from sklearn.ensemble import RandomForestClassifier\n",
    "from sklearn.model_selection import KFold\n",
    "from sklearn.model_selection import cross_val_score, cross_val_predict\n",
    "from sklearn.feature_selection import RFE\n",
    "\n",
    "from keras.models import Sequential\n",
    "from keras.layers import Dense\n",
    "from keras.layers import LSTM"
   ]
  },
  {
   "cell_type": "code",
   "execution_count": 11,
   "metadata": {},
   "outputs": [
    {
     "data": {
      "text/html": [
       "<div>\n",
       "<style scoped>\n",
       "    .dataframe tbody tr th:only-of-type {\n",
       "        vertical-align: middle;\n",
       "    }\n",
       "\n",
       "    .dataframe tbody tr th {\n",
       "        vertical-align: top;\n",
       "    }\n",
       "\n",
       "    .dataframe thead th {\n",
       "        text-align: right;\n",
       "    }\n",
       "</style>\n",
       "<table border=\"1\" class=\"dataframe\">\n",
       "  <thead>\n",
       "    <tr style=\"text-align: right;\">\n",
       "      <th></th>\n",
       "      <th>Unnamed: 0</th>\n",
       "      <th>project_patient_id</th>\n",
       "      <th>window_id</th>\n",
       "      <th>window_start</th>\n",
       "      <th>window_train_breakpoint</th>\n",
       "      <th>window_end</th>\n",
       "      <th>contact_encounter_frequency</th>\n",
       "      <th>office_encounter_frequency</th>\n",
       "      <th>outpatient_procedure_encounter_frequency</th>\n",
       "      <th>psych_comorbidity</th>\n",
       "      <th>...</th>\n",
       "      <th>race</th>\n",
       "      <th>ethnic_group</th>\n",
       "      <th>is_alive</th>\n",
       "      <th>grand_max_date</th>\n",
       "      <th>grand_min_date</th>\n",
       "      <th>grand_timespan</th>\n",
       "      <th>age_le</th>\n",
       "      <th>marital_status_le</th>\n",
       "      <th>employment_status_le</th>\n",
       "      <th>timeslice</th>\n",
       "    </tr>\n",
       "  </thead>\n",
       "  <tbody>\n",
       "    <tr>\n",
       "      <th>0</th>\n",
       "      <td>0</td>\n",
       "      <td>4d3ea8f4-15b6-477f-805e-7932c6aabc74</td>\n",
       "      <td>0</td>\n",
       "      <td>2014-06-15 18:00:00</td>\n",
       "      <td>2015-06-16 00:00:00</td>\n",
       "      <td>2015-06-16 00:00:00</td>\n",
       "      <td>2.0</td>\n",
       "      <td>2.0</td>\n",
       "      <td>0.0</td>\n",
       "      <td>0.0</td>\n",
       "      <td>...</td>\n",
       "      <td>-1</td>\n",
       "      <td>-1</td>\n",
       "      <td>0</td>\n",
       "      <td>2015-06-16 00:00:00</td>\n",
       "      <td>2011-04-05 00:00:00</td>\n",
       "      <td>1533 days</td>\n",
       "      <td>1</td>\n",
       "      <td>3</td>\n",
       "      <td>6</td>\n",
       "      <td>1</td>\n",
       "    </tr>\n",
       "    <tr>\n",
       "      <th>1</th>\n",
       "      <td>1</td>\n",
       "      <td>4d3ea8f4-15b6-477f-805e-7932c6aabc74</td>\n",
       "      <td>1</td>\n",
       "      <td>2013-06-15 12:00:00</td>\n",
       "      <td>2014-06-15 18:00:00</td>\n",
       "      <td>2014-06-15 18:00:00</td>\n",
       "      <td>2.0</td>\n",
       "      <td>2.0</td>\n",
       "      <td>0.0</td>\n",
       "      <td>0.0</td>\n",
       "      <td>...</td>\n",
       "      <td>-1</td>\n",
       "      <td>-1</td>\n",
       "      <td>0</td>\n",
       "      <td>2015-06-16 00:00:00</td>\n",
       "      <td>2011-04-05 00:00:00</td>\n",
       "      <td>1533 days</td>\n",
       "      <td>1</td>\n",
       "      <td>3</td>\n",
       "      <td>6</td>\n",
       "      <td>1</td>\n",
       "    </tr>\n",
       "    <tr>\n",
       "      <th>2</th>\n",
       "      <td>2</td>\n",
       "      <td>4d3ea8f4-15b6-477f-805e-7932c6aabc74</td>\n",
       "      <td>2</td>\n",
       "      <td>2012-06-15 06:00:00</td>\n",
       "      <td>2013-06-15 12:00:00</td>\n",
       "      <td>2013-06-15 12:00:00</td>\n",
       "      <td>2.0</td>\n",
       "      <td>0.0</td>\n",
       "      <td>0.0</td>\n",
       "      <td>0.0</td>\n",
       "      <td>...</td>\n",
       "      <td>-1</td>\n",
       "      <td>-1</td>\n",
       "      <td>0</td>\n",
       "      <td>2015-06-16 00:00:00</td>\n",
       "      <td>2011-04-05 00:00:00</td>\n",
       "      <td>1533 days</td>\n",
       "      <td>1</td>\n",
       "      <td>3</td>\n",
       "      <td>6</td>\n",
       "      <td>1</td>\n",
       "    </tr>\n",
       "    <tr>\n",
       "      <th>3</th>\n",
       "      <td>3</td>\n",
       "      <td>dba8cd2e-1a6c-49a3-8d84-e95c58edf52d</td>\n",
       "      <td>0</td>\n",
       "      <td>2016-05-26 18:00:00</td>\n",
       "      <td>2017-05-27 00:00:00</td>\n",
       "      <td>2017-05-27 00:00:00</td>\n",
       "      <td>0.0</td>\n",
       "      <td>0.0</td>\n",
       "      <td>0.0</td>\n",
       "      <td>0.0</td>\n",
       "      <td>...</td>\n",
       "      <td>-1</td>\n",
       "      <td>-1</td>\n",
       "      <td>0</td>\n",
       "      <td>2017-05-27 00:00:00</td>\n",
       "      <td>2009-06-26 00:00:00</td>\n",
       "      <td>2892 days</td>\n",
       "      <td>3</td>\n",
       "      <td>3</td>\n",
       "      <td>6</td>\n",
       "      <td>1</td>\n",
       "    </tr>\n",
       "    <tr>\n",
       "      <th>4</th>\n",
       "      <td>4</td>\n",
       "      <td>dba8cd2e-1a6c-49a3-8d84-e95c58edf52d</td>\n",
       "      <td>1</td>\n",
       "      <td>2015-05-27 12:00:00</td>\n",
       "      <td>2016-05-26 18:00:00</td>\n",
       "      <td>2016-05-26 18:00:00</td>\n",
       "      <td>0.0</td>\n",
       "      <td>0.0</td>\n",
       "      <td>0.0</td>\n",
       "      <td>0.0</td>\n",
       "      <td>...</td>\n",
       "      <td>-1</td>\n",
       "      <td>-1</td>\n",
       "      <td>0</td>\n",
       "      <td>2017-05-27 00:00:00</td>\n",
       "      <td>2009-06-26 00:00:00</td>\n",
       "      <td>2892 days</td>\n",
       "      <td>3</td>\n",
       "      <td>3</td>\n",
       "      <td>6</td>\n",
       "      <td>1</td>\n",
       "    </tr>\n",
       "  </tbody>\n",
       "</table>\n",
       "<p>5 rows × 37 columns</p>\n",
       "</div>"
      ],
      "text/plain": [
       "   Unnamed: 0                    project_patient_id  window_id  \\\n",
       "0           0  4d3ea8f4-15b6-477f-805e-7932c6aabc74          0   \n",
       "1           1  4d3ea8f4-15b6-477f-805e-7932c6aabc74          1   \n",
       "2           2  4d3ea8f4-15b6-477f-805e-7932c6aabc74          2   \n",
       "3           3  dba8cd2e-1a6c-49a3-8d84-e95c58edf52d          0   \n",
       "4           4  dba8cd2e-1a6c-49a3-8d84-e95c58edf52d          1   \n",
       "\n",
       "          window_start window_train_breakpoint           window_end  \\\n",
       "0  2014-06-15 18:00:00     2015-06-16 00:00:00  2015-06-16 00:00:00   \n",
       "1  2013-06-15 12:00:00     2014-06-15 18:00:00  2014-06-15 18:00:00   \n",
       "2  2012-06-15 06:00:00     2013-06-15 12:00:00  2013-06-15 12:00:00   \n",
       "3  2016-05-26 18:00:00     2017-05-27 00:00:00  2017-05-27 00:00:00   \n",
       "4  2015-05-27 12:00:00     2016-05-26 18:00:00  2016-05-26 18:00:00   \n",
       "\n",
       "   contact_encounter_frequency  office_encounter_frequency  \\\n",
       "0                          2.0                         2.0   \n",
       "1                          2.0                         2.0   \n",
       "2                          2.0                         0.0   \n",
       "3                          0.0                         0.0   \n",
       "4                          0.0                         0.0   \n",
       "\n",
       "   outpatient_procedure_encounter_frequency  psych_comorbidity  ...  race  \\\n",
       "0                                       0.0                0.0  ...    -1   \n",
       "1                                       0.0                0.0  ...    -1   \n",
       "2                                       0.0                0.0  ...    -1   \n",
       "3                                       0.0                0.0  ...    -1   \n",
       "4                                       0.0                0.0  ...    -1   \n",
       "\n",
       "   ethnic_group  is_alive       grand_max_date       grand_min_date  \\\n",
       "0            -1         0  2015-06-16 00:00:00  2011-04-05 00:00:00   \n",
       "1            -1         0  2015-06-16 00:00:00  2011-04-05 00:00:00   \n",
       "2            -1         0  2015-06-16 00:00:00  2011-04-05 00:00:00   \n",
       "3            -1         0  2017-05-27 00:00:00  2009-06-26 00:00:00   \n",
       "4            -1         0  2017-05-27 00:00:00  2009-06-26 00:00:00   \n",
       "\n",
       "   grand_timespan  age_le  marital_status_le  employment_status_le  timeslice  \n",
       "0       1533 days       1                  3                     6          1  \n",
       "1       1533 days       1                  3                     6          1  \n",
       "2       1533 days       1                  3                     6          1  \n",
       "3       2892 days       3                  3                     6          1  \n",
       "4       2892 days       3                  3                     6          1  \n",
       "\n",
       "[5 rows x 37 columns]"
      ]
     },
     "execution_count": 11,
     "metadata": {},
     "output_type": "execute_result"
    }
   ],
   "source": [
    "df = pd.read_csv('preprocessed_data_predict_current_year.csv')\n",
    "df['timeslice'] = 1\n",
    "df.head()"
   ]
  },
  {
   "cell_type": "code",
   "execution_count": 12,
   "metadata": {},
   "outputs": [
    {
     "data": {
      "text/plain": [
       "(9595, 37)"
      ]
     },
     "execution_count": 12,
     "metadata": {},
     "output_type": "execute_result"
    }
   ],
   "source": [
    "df.shape"
   ]
  },
  {
   "cell_type": "code",
   "execution_count": 13,
   "metadata": {},
   "outputs": [
    {
     "data": {
      "text/plain": [
       "1625"
      ]
     },
     "execution_count": 13,
     "metadata": {},
     "output_type": "execute_result"
    }
   ],
   "source": [
    "# Unique patients\n",
    "len(df['project_patient_id'].unique())"
   ]
  },
  {
   "cell_type": "code",
   "execution_count": 14,
   "metadata": {},
   "outputs": [],
   "source": [
    "# Create a sequence number representing individual timeslices for each patient\n",
    "for p_id in df['project_patient_id'].unique():\n",
    "    temp = df.query('project_patient_id == \"' + p_id + '\"').sort_values('window_start')\n",
    "    cnt = 1\n",
    "    for idx, row in temp.iterrows():\n",
    "        df.at[idx, 'timeslice'] = cnt\n",
    "        cnt+=1"
   ]
  },
  {
   "cell_type": "code",
   "execution_count": 15,
   "metadata": {},
   "outputs": [
    {
     "data": {
      "text/html": [
       "<div>\n",
       "<style scoped>\n",
       "    .dataframe tbody tr th:only-of-type {\n",
       "        vertical-align: middle;\n",
       "    }\n",
       "\n",
       "    .dataframe tbody tr th {\n",
       "        vertical-align: top;\n",
       "    }\n",
       "\n",
       "    .dataframe thead th {\n",
       "        text-align: right;\n",
       "    }\n",
       "</style>\n",
       "<table border=\"1\" class=\"dataframe\">\n",
       "  <thead>\n",
       "    <tr style=\"text-align: right;\">\n",
       "      <th></th>\n",
       "      <th>Unnamed: 0</th>\n",
       "      <th>project_patient_id</th>\n",
       "      <th>window_id</th>\n",
       "      <th>window_start</th>\n",
       "      <th>window_train_breakpoint</th>\n",
       "      <th>window_end</th>\n",
       "      <th>contact_encounter_frequency</th>\n",
       "      <th>office_encounter_frequency</th>\n",
       "      <th>outpatient_procedure_encounter_frequency</th>\n",
       "      <th>psych_comorbidity</th>\n",
       "      <th>...</th>\n",
       "      <th>race</th>\n",
       "      <th>ethnic_group</th>\n",
       "      <th>is_alive</th>\n",
       "      <th>grand_max_date</th>\n",
       "      <th>grand_min_date</th>\n",
       "      <th>grand_timespan</th>\n",
       "      <th>age_le</th>\n",
       "      <th>marital_status_le</th>\n",
       "      <th>employment_status_le</th>\n",
       "      <th>timeslice</th>\n",
       "    </tr>\n",
       "  </thead>\n",
       "  <tbody>\n",
       "    <tr>\n",
       "      <th>0</th>\n",
       "      <td>0</td>\n",
       "      <td>4d3ea8f4-15b6-477f-805e-7932c6aabc74</td>\n",
       "      <td>0</td>\n",
       "      <td>2014-06-15 18:00:00</td>\n",
       "      <td>2015-06-16 00:00:00</td>\n",
       "      <td>2015-06-16 00:00:00</td>\n",
       "      <td>2.0</td>\n",
       "      <td>2.0</td>\n",
       "      <td>0.0</td>\n",
       "      <td>0.0</td>\n",
       "      <td>...</td>\n",
       "      <td>-1</td>\n",
       "      <td>-1</td>\n",
       "      <td>0</td>\n",
       "      <td>2015-06-16 00:00:00</td>\n",
       "      <td>2011-04-05 00:00:00</td>\n",
       "      <td>1533 days</td>\n",
       "      <td>1</td>\n",
       "      <td>3</td>\n",
       "      <td>6</td>\n",
       "      <td>3</td>\n",
       "    </tr>\n",
       "    <tr>\n",
       "      <th>1</th>\n",
       "      <td>1</td>\n",
       "      <td>4d3ea8f4-15b6-477f-805e-7932c6aabc74</td>\n",
       "      <td>1</td>\n",
       "      <td>2013-06-15 12:00:00</td>\n",
       "      <td>2014-06-15 18:00:00</td>\n",
       "      <td>2014-06-15 18:00:00</td>\n",
       "      <td>2.0</td>\n",
       "      <td>2.0</td>\n",
       "      <td>0.0</td>\n",
       "      <td>0.0</td>\n",
       "      <td>...</td>\n",
       "      <td>-1</td>\n",
       "      <td>-1</td>\n",
       "      <td>0</td>\n",
       "      <td>2015-06-16 00:00:00</td>\n",
       "      <td>2011-04-05 00:00:00</td>\n",
       "      <td>1533 days</td>\n",
       "      <td>1</td>\n",
       "      <td>3</td>\n",
       "      <td>6</td>\n",
       "      <td>2</td>\n",
       "    </tr>\n",
       "    <tr>\n",
       "      <th>2</th>\n",
       "      <td>2</td>\n",
       "      <td>4d3ea8f4-15b6-477f-805e-7932c6aabc74</td>\n",
       "      <td>2</td>\n",
       "      <td>2012-06-15 06:00:00</td>\n",
       "      <td>2013-06-15 12:00:00</td>\n",
       "      <td>2013-06-15 12:00:00</td>\n",
       "      <td>2.0</td>\n",
       "      <td>0.0</td>\n",
       "      <td>0.0</td>\n",
       "      <td>0.0</td>\n",
       "      <td>...</td>\n",
       "      <td>-1</td>\n",
       "      <td>-1</td>\n",
       "      <td>0</td>\n",
       "      <td>2015-06-16 00:00:00</td>\n",
       "      <td>2011-04-05 00:00:00</td>\n",
       "      <td>1533 days</td>\n",
       "      <td>1</td>\n",
       "      <td>3</td>\n",
       "      <td>6</td>\n",
       "      <td>1</td>\n",
       "    </tr>\n",
       "    <tr>\n",
       "      <th>3</th>\n",
       "      <td>3</td>\n",
       "      <td>dba8cd2e-1a6c-49a3-8d84-e95c58edf52d</td>\n",
       "      <td>0</td>\n",
       "      <td>2016-05-26 18:00:00</td>\n",
       "      <td>2017-05-27 00:00:00</td>\n",
       "      <td>2017-05-27 00:00:00</td>\n",
       "      <td>0.0</td>\n",
       "      <td>0.0</td>\n",
       "      <td>0.0</td>\n",
       "      <td>0.0</td>\n",
       "      <td>...</td>\n",
       "      <td>-1</td>\n",
       "      <td>-1</td>\n",
       "      <td>0</td>\n",
       "      <td>2017-05-27 00:00:00</td>\n",
       "      <td>2009-06-26 00:00:00</td>\n",
       "      <td>2892 days</td>\n",
       "      <td>3</td>\n",
       "      <td>3</td>\n",
       "      <td>6</td>\n",
       "      <td>6</td>\n",
       "    </tr>\n",
       "    <tr>\n",
       "      <th>4</th>\n",
       "      <td>4</td>\n",
       "      <td>dba8cd2e-1a6c-49a3-8d84-e95c58edf52d</td>\n",
       "      <td>1</td>\n",
       "      <td>2015-05-27 12:00:00</td>\n",
       "      <td>2016-05-26 18:00:00</td>\n",
       "      <td>2016-05-26 18:00:00</td>\n",
       "      <td>0.0</td>\n",
       "      <td>0.0</td>\n",
       "      <td>0.0</td>\n",
       "      <td>0.0</td>\n",
       "      <td>...</td>\n",
       "      <td>-1</td>\n",
       "      <td>-1</td>\n",
       "      <td>0</td>\n",
       "      <td>2017-05-27 00:00:00</td>\n",
       "      <td>2009-06-26 00:00:00</td>\n",
       "      <td>2892 days</td>\n",
       "      <td>3</td>\n",
       "      <td>3</td>\n",
       "      <td>6</td>\n",
       "      <td>5</td>\n",
       "    </tr>\n",
       "  </tbody>\n",
       "</table>\n",
       "<p>5 rows × 37 columns</p>\n",
       "</div>"
      ],
      "text/plain": [
       "   Unnamed: 0                    project_patient_id  window_id  \\\n",
       "0           0  4d3ea8f4-15b6-477f-805e-7932c6aabc74          0   \n",
       "1           1  4d3ea8f4-15b6-477f-805e-7932c6aabc74          1   \n",
       "2           2  4d3ea8f4-15b6-477f-805e-7932c6aabc74          2   \n",
       "3           3  dba8cd2e-1a6c-49a3-8d84-e95c58edf52d          0   \n",
       "4           4  dba8cd2e-1a6c-49a3-8d84-e95c58edf52d          1   \n",
       "\n",
       "          window_start window_train_breakpoint           window_end  \\\n",
       "0  2014-06-15 18:00:00     2015-06-16 00:00:00  2015-06-16 00:00:00   \n",
       "1  2013-06-15 12:00:00     2014-06-15 18:00:00  2014-06-15 18:00:00   \n",
       "2  2012-06-15 06:00:00     2013-06-15 12:00:00  2013-06-15 12:00:00   \n",
       "3  2016-05-26 18:00:00     2017-05-27 00:00:00  2017-05-27 00:00:00   \n",
       "4  2015-05-27 12:00:00     2016-05-26 18:00:00  2016-05-26 18:00:00   \n",
       "\n",
       "   contact_encounter_frequency  office_encounter_frequency  \\\n",
       "0                          2.0                         2.0   \n",
       "1                          2.0                         2.0   \n",
       "2                          2.0                         0.0   \n",
       "3                          0.0                         0.0   \n",
       "4                          0.0                         0.0   \n",
       "\n",
       "   outpatient_procedure_encounter_frequency  psych_comorbidity  ...  race  \\\n",
       "0                                       0.0                0.0  ...    -1   \n",
       "1                                       0.0                0.0  ...    -1   \n",
       "2                                       0.0                0.0  ...    -1   \n",
       "3                                       0.0                0.0  ...    -1   \n",
       "4                                       0.0                0.0  ...    -1   \n",
       "\n",
       "   ethnic_group  is_alive       grand_max_date       grand_min_date  \\\n",
       "0            -1         0  2015-06-16 00:00:00  2011-04-05 00:00:00   \n",
       "1            -1         0  2015-06-16 00:00:00  2011-04-05 00:00:00   \n",
       "2            -1         0  2015-06-16 00:00:00  2011-04-05 00:00:00   \n",
       "3            -1         0  2017-05-27 00:00:00  2009-06-26 00:00:00   \n",
       "4            -1         0  2017-05-27 00:00:00  2009-06-26 00:00:00   \n",
       "\n",
       "   grand_timespan  age_le  marital_status_le  employment_status_le  timeslice  \n",
       "0       1533 days       1                  3                     6          3  \n",
       "1       1533 days       1                  3                     6          2  \n",
       "2       1533 days       1                  3                     6          1  \n",
       "3       2892 days       3                  3                     6          6  \n",
       "4       2892 days       3                  3                     6          5  \n",
       "\n",
       "[5 rows x 37 columns]"
      ]
     },
     "execution_count": 15,
     "metadata": {},
     "output_type": "execute_result"
    }
   ],
   "source": [
    "df.head()"
   ]
  },
  {
   "cell_type": "code",
   "execution_count": 16,
   "metadata": {},
   "outputs": [],
   "source": [
    "G = nx.Graph()"
   ]
  },
  {
   "cell_type": "code",
   "execution_count": 17,
   "metadata": {},
   "outputs": [
    {
     "data": {
      "text/plain": [
       "Index(['window_end', 'contact_encounter_frequency',\n",
       "       'office_encounter_frequency',\n",
       "       'outpatient_procedure_encounter_frequency', 'psych_comorbidity',\n",
       "       'med_5asa', 'med_ai', 'med_ail12', 'med_antibiotics', 'med_atnf',\n",
       "       'med_st', 'med_vitd', 'labs_abnormal_albumin', 'labs_abnormal_crp',\n",
       "       'labs_abnormal_eos', 'labs_abnormal_esr', 'labs_abnormal_hemoglobin',\n",
       "       'labs_abnormal_monocytes', 'labs_abnormal_vitamin_d',\n",
       "       'target_hospitalizations', 'target_er_visits', 'gender', 'race',\n",
       "       'ethnic_group', 'is_alive', 'grand_max_date', 'grand_min_date',\n",
       "       'grand_timespan', 'age_le', 'marital_status_le', 'employment_status_le',\n",
       "       'timeslice'],\n",
       "      dtype='object')"
      ]
     },
     "execution_count": 17,
     "metadata": {},
     "output_type": "execute_result"
    }
   ],
   "source": [
    "df.columns[5:]"
   ]
  },
  {
   "cell_type": "code",
   "execution_count": 18,
   "metadata": {},
   "outputs": [],
   "source": [
    "for col in df.columns[5:]:\n",
    "    for t in range(1,2): #sorted(df['timeslice'].unique()):\n",
    "        #print(col + \"_\" + str(t))\n",
    "        G.add_node(col + \"_\" + str(t))"
   ]
  },
  {
   "cell_type": "code",
   "execution_count": 19,
   "metadata": {},
   "outputs": [],
   "source": [
    "from itertools import combinations\n",
    "for t in range(1,2): #sorted(df['timeslice'].unique()):\n",
    "    for pair in list(combinations(df.columns[5:], 2)):\n",
    "        origin = pair[0] + '_' + str(t)\n",
    "        dest = pair[1] + '_' + str((t + 1))\n",
    "        G.add_edge(origin, dest)"
   ]
  },
  {
   "cell_type": "code",
   "execution_count": 20,
   "metadata": {},
   "outputs": [
    {
     "data": {
      "image/png": "[encoded data removed]",
      "text/plain": [
       "<Figure size 1440x1440 with 1 Axes>"
      ]
     },
     "metadata": {},
     "output_type": "display_data"
    }
   ],
   "source": [
    "#nx.draw_networkx(G, with_labels=True)\n",
    "plt.figure(figsize=(20, 20))\n",
    "nx.draw_networkx(G)"
   ]
  },
  {
   "cell_type": "code",
   "execution_count": null,
   "metadata": {},
   "outputs": [],
   "source": []
  },
  {
   "cell_type": "code",
   "execution_count": 21,
   "metadata": {},
   "outputs": [],
   "source": [
    "def train_predict_with_model(model, X, y):\n",
    "    model.fit(X, y)\n",
    "    kf = KFold(n_splits=10, random_state=1, shuffle=True)\n",
    "    scores = cross_val_score(model, X, y, cv=kf)\n",
    "    return scores.mean()"
   ]
  },
  {
   "cell_type": "code",
   "execution_count": 22,
   "metadata": {},
   "outputs": [],
   "source": [
    "def train_predict_ann(X, y):\n",
    "    model = Sequential()\n",
    "    model.add(Dense(12, input_dim=len(X.columns), activation='relu'))\n",
    "    model.add(Dense(8, activation='relu'))\n",
    "    model.add(Dense(1, activation='sigmoid'))\n",
    "    model.compile(loss='binary_crossentropy', optimizer='adam', metrics=['accuracy'])\n",
    "    model.fit(X, y, epochs=10, batch_size=10)\n",
    "    return model.evaluate(X, y)\n"
   ]
  },
  {
   "cell_type": "code",
   "execution_count": 23,
   "metadata": {},
   "outputs": [],
   "source": [
    "def eval_models(start_timeslice, predictors, response, key, show_rankings = False, train_ann = False):\n",
    "    X = df.sort_values(key).query('timeslice == ' + str(start_timeslice))[\n",
    "        predictors\n",
    "    ]\n",
    "\n",
    "    y = df.sort_values(key).query('timeslice == ' + str((start_timeslice + 1)))[response]\n",
    "    \n",
    "    match_df = pd.merge(X, y, how='inner', left_on=key, right_on=key)\n",
    "    \n",
    "    \n",
    "    X = match_df[predictors].drop([key], axis=1)\n",
    "    y = match_df[response].drop([key], axis=1).iloc[:, 0]\n",
    "    #y2 = match_df['target_er_visits']\n",
    "    \n",
    "    \n",
    "    models = {\n",
    "        #\"NB\" : GaussianNB(), \n",
    "        \"kNN\" : KNeighborsClassifier(n_neighbors=3), \n",
    "        \"SVM\" : svm.SVC(kernel='linear'),\n",
    "        \"RF\" : RandomForestClassifier(random_state=1, max_depth=10)\n",
    "    }\n",
    "        \n",
    "    print(\"Starting timeslice: \", start_timeslice)\n",
    "    print(\"Patients used in training models: \", match_df.shape[0])\n",
    "    for key, model in models.items():\n",
    "        \n",
    "        \n",
    "        \n",
    "        score = train_predict_with_model(model, X, y)\n",
    "        print(\"\\t\" + key + \": \", score)\n",
    "        print(\"\\t--------------------\")\n",
    "        \n",
    "        if key == \"RF\" and show_rankings:\n",
    "            features = X.columns\n",
    "            importances = model.feature_importances_\n",
    "            indices = np.argsort(importances)[-10:]  # top features\n",
    "            plt.title('Feature Importances')\n",
    "            plt.barh(range(len(indices)), importances[indices], color='b', align='center')\n",
    "            plt.yticks(range(len(indices)), [features[i] for i in indices])\n",
    "            plt.xlabel('Relative Importance')\n",
    "            plt.show()\n",
    "            \n",
    "            rfe = RFE(model, 10)\n",
    "            fit = rfe.fit(X, y)\n",
    "            #print(\"Num Features:\",  fit.n_features_)\n",
    "            #print(\"Selected Features: \", fit.support_)\n",
    "            #print(\"Feature Ranking: \",  fit.ranking_)\n",
    "            features = str(fit.ranking_).replace('\\n', '').replace('[', '').replace(']', '').replace('  ', ' ').split(' ')[1:]\n",
    "            #print(features)\n",
    "            for i in range(0, len(features)):\n",
    "                if int(features[i]) == 1:\n",
    "                    print(X.columns[i])\n",
    "    if train_ann:        \n",
    "        ann = train_predict_ann(X, y)\n",
    "        print(\"ANN: \", ann)\n",
    "        \n",
    "    print(\"_________________________________________________\")"
   ]
  },
  {
   "cell_type": "code",
   "execution_count": 28,
   "metadata": {},
   "outputs": [],
   "source": [
    "predictors = ['project_patient_id','contact_encounter_frequency', 'office_encounter_frequency',\n",
    "       'outpatient_procedure_encounter_frequency', 'psych_comorbidity',\n",
    "       'med_5asa', 'med_ai', 'med_ail12', 'med_antibiotics', 'med_atnf',\n",
    "       'med_st', 'med_vitd', 'labs_abnormal_albumin', 'labs_abnormal_crp',\n",
    "       'labs_abnormal_eos', 'labs_abnormal_esr', 'labs_abnormal_hemoglobin',\n",
    "       'labs_abnormal_monocytes', 'labs_abnormal_vitamin_d', 'gender', 'race',\n",
    "       'ethnic_group', 'age_le', 'marital_status_le', 'employment_status_le', 'target_er_visits']\n",
    "\n",
    "response = ['project_patient_id','target_hospitalizations'] #'target_er_visits'\n",
    "key = 'project_patient_id'"
   ]
  },
  {
   "cell_type": "code",
   "execution_count": 29,
   "metadata": {},
   "outputs": [
    {
     "name": "stdout",
     "output_type": "stream",
     "text": [
      "Starting timeslice:  1\n",
      "Patients used in training models:  1625\n",
      "\tkNN:  0.7600015148072408\n",
      "\t--------------------\n",
      "\tSVM:  0.7760130273422707\n",
      "\t--------------------\n",
      "\tRF:  0.7784670150723321\n",
      "\t--------------------\n"
     ]
    },
    {
     "data": {
      "image/png": "[encoded data removed]",
      "text/plain": [
       "<Figure size 432x288 with 1 Axes>"
      ]
     },
     "metadata": {
      "needs_background": "light"
     },
     "output_type": "display_data"
    },
    {
     "name": "stderr",
     "output_type": "stream",
     "text": [
      "/Users/dmitriyb/opt/anaconda3/lib/python3.8/site-packages/sklearn/utils/validation.py:67: FutureWarning:\n",
      "\n",
      "Pass n_features_to_select=10 as keyword args. From version 0.25 passing these as positional arguments will result in an error\n",
      "\n"
     ]
    },
    {
     "name": "stdout",
     "output_type": "stream",
     "text": [
      "contact_encounter_frequency\n",
      "office_encounter_frequency\n",
      "psych_comorbidity\n",
      "med_antibiotics\n",
      "gender\n",
      "race\n",
      "age_le\n",
      "marital_status_le\n",
      "employment_status_le\n",
      "target_er_visits\n",
      "_________________________________________________\n"
     ]
    }
   ],
   "source": [
    "for i in range(1, 2):\n",
    "    eval_models(i, predictors, response, key, True, False)"
   ]
  },
  {
   "cell_type": "code",
   "execution_count": 30,
   "metadata": {},
   "outputs": [],
   "source": [
    "predictors = ['project_patient_id','contact_encounter_frequency', 'office_encounter_frequency',\n",
    "       'psych_comorbidity','med_antibiotics', 'gender', 'race',\n",
    "       'age_le', 'employment_status_le','target_er_visits']\n",
    "\n",
    "response = ['project_patient_id','target_hospitalizations'] #'target_er_visits'\n",
    "key = 'project_patient_id'"
   ]
  },
  {
   "cell_type": "code",
   "execution_count": 27,
   "metadata": {},
   "outputs": [
    {
     "name": "stdout",
     "output_type": "stream",
     "text": [
      "Starting timeslice:  1\n",
      "Patients used in training models:  1625\n",
      "\tkNN:  0.7409414527001438\n",
      "\t--------------------\n",
      "\tSVM:  0.7766303112928881\n",
      "\t--------------------\n",
      "\tRF:  0.753260622585776\n",
      "\t--------------------\n"
     ]
    },
    {
     "data": {
      "image/png": "[encoded data removed]",
      "text/plain": [
       "<Figure size 432x288 with 1 Axes>"
      ]
     },
     "metadata": {
      "needs_background": "light"
     },
     "output_type": "display_data"
    },
    {
     "name": "stderr",
     "output_type": "stream",
     "text": [
      "/Users/dmitriyb/opt/anaconda3/lib/python3.8/site-packages/sklearn/utils/validation.py:67: FutureWarning:\n",
      "\n",
      "Pass n_features_to_select=10 as keyword args. From version 0.25 passing these as positional arguments will result in an error\n",
      "\n"
     ]
    },
    {
     "name": "stdout",
     "output_type": "stream",
     "text": [
      "contact_encounter_frequency\n",
      "office_encounter_frequency\n",
      "psych_comorbidity\n",
      "med_antibiotics\n",
      "gender\n",
      "race\n",
      "age_le\n",
      "_________________________________________________\n",
      "Starting timeslice:  2\n",
      "Patients used in training models:  1625\n",
      "\tkNN:  0.710766492463834\n",
      "\t--------------------\n",
      "\tSVM:  0.7563205332121488\n",
      "\t--------------------\n",
      "\tRF:  0.7360107551314095\n",
      "\t--------------------\n"
     ]
    },
    {
     "data": {
      "image/png": "[encoded data removed]",
      "text/plain": [
       "<Figure size 432x288 with 1 Axes>"
      ]
     },
     "metadata": {
      "needs_background": "light"
     },
     "output_type": "display_data"
    },
    {
     "name": "stderr",
     "output_type": "stream",
     "text": [
      "/Users/dmitriyb/opt/anaconda3/lib/python3.8/site-packages/sklearn/utils/validation.py:67: FutureWarning:\n",
      "\n",
      "Pass n_features_to_select=10 as keyword args. From version 0.25 passing these as positional arguments will result in an error\n",
      "\n"
     ]
    },
    {
     "name": "stdout",
     "output_type": "stream",
     "text": [
      "contact_encounter_frequency\n",
      "office_encounter_frequency\n",
      "psych_comorbidity\n",
      "med_antibiotics\n",
      "gender\n",
      "race\n",
      "age_le\n",
      "_________________________________________________\n",
      "Starting timeslice:  3\n",
      "Patients used in training models:  1357\n",
      "\tkNN:  0.7229629629629629\n",
      "\t--------------------\n",
      "\tSVM:  0.7575925925925927\n",
      "\t--------------------\n",
      "\tRF:  0.7332734204793028\n",
      "\t--------------------\n"
     ]
    },
    {
     "data": {
      "image/png": "[encoded data removed]",
      "text/plain": [
       "<Figure size 432x288 with 1 Axes>"
      ]
     },
     "metadata": {
      "needs_background": "light"
     },
     "output_type": "display_data"
    },
    {
     "name": "stderr",
     "output_type": "stream",
     "text": [
      "/Users/dmitriyb/opt/anaconda3/lib/python3.8/site-packages/sklearn/utils/validation.py:67: FutureWarning:\n",
      "\n",
      "Pass n_features_to_select=10 as keyword args. From version 0.25 passing these as positional arguments will result in an error\n",
      "\n"
     ]
    },
    {
     "name": "stdout",
     "output_type": "stream",
     "text": [
      "contact_encounter_frequency\n",
      "office_encounter_frequency\n",
      "psych_comorbidity\n",
      "med_antibiotics\n",
      "gender\n",
      "race\n",
      "age_le\n",
      "_________________________________________________\n",
      "Starting timeslice:  4\n",
      "Patients used in training models:  1106\n",
      "\tkNN:  0.7207043407043406\n",
      "\t--------------------\n",
      "\tSVM:  0.7514742014742015\n",
      "\t--------------------\n",
      "\tRF:  0.7242997542997542\n",
      "\t--------------------\n"
     ]
    },
    {
     "data": {
      "image/png": "[encoded data removed]",
      "text/plain": [
       "<Figure size 432x288 with 1 Axes>"
      ]
     },
     "metadata": {
      "needs_background": "light"
     },
     "output_type": "display_data"
    },
    {
     "name": "stderr",
     "output_type": "stream",
     "text": [
      "/Users/dmitriyb/opt/anaconda3/lib/python3.8/site-packages/sklearn/utils/validation.py:67: FutureWarning:\n",
      "\n",
      "Pass n_features_to_select=10 as keyword args. From version 0.25 passing these as positional arguments will result in an error\n",
      "\n"
     ]
    },
    {
     "name": "stdout",
     "output_type": "stream",
     "text": [
      "contact_encounter_frequency\n",
      "office_encounter_frequency\n",
      "psych_comorbidity\n",
      "med_antibiotics\n",
      "gender\n",
      "race\n",
      "age_le\n",
      "_________________________________________________\n",
      "Starting timeslice:  5\n",
      "Patients used in training models:  882\n",
      "\tkNN:  0.7244892747701737\n",
      "\t--------------------\n",
      "\tSVM:  0.7585291113381001\n",
      "\t--------------------\n",
      "\tRF:  0.7335418794688457\n",
      "\t--------------------\n"
     ]
    },
    {
     "data": {
      "image/png": "[encoded data removed]",
      "text/plain": [
       "<Figure size 432x288 with 1 Axes>"
      ]
     },
     "metadata": {
      "needs_background": "light"
     },
     "output_type": "display_data"
    },
    {
     "name": "stderr",
     "output_type": "stream",
     "text": [
      "/Users/dmitriyb/opt/anaconda3/lib/python3.8/site-packages/sklearn/utils/validation.py:67: FutureWarning:\n",
      "\n",
      "Pass n_features_to_select=10 as keyword args. From version 0.25 passing these as positional arguments will result in an error\n",
      "\n"
     ]
    },
    {
     "name": "stdout",
     "output_type": "stream",
     "text": [
      "contact_encounter_frequency\n",
      "office_encounter_frequency\n",
      "psych_comorbidity\n",
      "med_antibiotics\n",
      "gender\n",
      "race\n",
      "age_le\n",
      "_________________________________________________\n"
     ]
    }
   ],
   "source": [
    "for i in range(1, 6):\n",
    "    eval_models(i, predictors, response, key, True, False)"
   ]
  },
  {
   "cell_type": "code",
   "execution_count": 1,
   "metadata": {},
   "outputs": [],
   "source": [
    "# https://plotly.com/python/sankey-diagram/"
   ]
  },
  {
   "cell_type": "code",
   "execution_count": 3,
   "metadata": {},
   "outputs": [],
   "source": [
    "import plotly.graph_objects as go\n",
    "import urllib, json"
   ]
  },
  {
   "cell_type": "code",
   "execution_count": 8,
   "metadata": {},
   "outputs": [
    {
     "data": {
      "application/vnd.plotly.v1+json": {
       "config": {
        "plotlyServerURL": "https://plot.ly"
       },
       "data": [
        {
         "link": {
          "source": [
           0,
           1,
           0,
           2,
           3,
           3
          ],
          "target": [
           2,
           3,
           3,
           4,
           4,
           5
          ],
          "value": [
           8,
           4,
           2,
           8,
           4,
           2
          ]
         },
         "node": {
          "color": "blue",
          "label": [
           "A1",
           "A2",
           "B1",
           "B2",
           "C1",
           "C2"
          ],
          "line": {
           "color": "black",
           "width": 0.5
          },
          "pad": 15,
          "thickness": 20
         },
         "type": "sankey"
        }
       ],
       "layout": {
        "font": {
         "size": 10
        },
        "template": {
         "data": {
          "bar": [
           {
            "error_x": {
             "color": "#2a3f5f"
            },
            "error_y": {
             "color": "#2a3f5f"
            },
            "marker": {
             "line": {
              "color": "#E5ECF6",
              "width": 0.5
             }
            },
            "type": "bar"
           }
          ],
          "barpolar": [
           {
            "marker": {
             "line": {
              "color": "#E5ECF6",
              "width": 0.5
             }
            },
            "type": "barpolar"
           }
          ],
          "carpet": [
           {
            "aaxis": {
             "endlinecolor": "#2a3f5f",
             "gridcolor": "white",
             "linecolor": "white",
             "minorgridcolor": "white",
             "startlinecolor": "#2a3f5f"
            },
            "baxis": {
             "endlinecolor": "#2a3f5f",
             "gridcolor": "white",
             "linecolor": "white",
             "minorgridcolor": "white",
             "startlinecolor": "#2a3f5f"
            },
            "type": "carpet"
           }
          ],
          "choropleth": [
           {
            "colorbar": {
             "outlinewidth": 0,
             "ticks": ""
            },
            "type": "choropleth"
           }
          ],
          "contour": [
           {
            "colorbar": {
             "outlinewidth": 0,
             "ticks": ""
            },
            "colorscale": [
             [
              0,
              "#0d0887"
             ],
             [
              0.1111111111111111,
              "#46039f"
             ],
             [
              0.2222222222222222,
              "#7201a8"
             ],
             [
              0.3333333333333333,
              "#9c179e"
             ],
             [
              0.4444444444444444,
              "#bd3786"
             ],
             [
              0.5555555555555556,
              "#d8576b"
             ],
             [
              0.6666666666666666,
              "#ed7953"
             ],
             [
              0.7777777777777778,
              "#fb9f3a"
             ],
             [
              0.8888888888888888,
              "#fdca26"
             ],
             [
              1,
              "#f0f921"
             ]
            ],
            "type": "contour"
           }
          ],
          "contourcarpet": [
           {
            "colorbar": {
             "outlinewidth": 0,
             "ticks": ""
            },
            "type": "contourcarpet"
           }
          ],
          "heatmap": [
           {
            "colorbar": {
             "outlinewidth": 0,
             "ticks": ""
            },
            "colorscale": [
             [
              0,
              "#0d0887"
             ],
             [
              0.1111111111111111,
              "#46039f"
             ],
             [
              0.2222222222222222,
              "#7201a8"
             ],
             [
              0.3333333333333333,
              "#9c179e"
             ],
             [
              0.4444444444444444,
              "#bd3786"
             ],
             [
              0.5555555555555556,
              "#d8576b"
             ],
             [
              0.6666666666666666,
              "#ed7953"
             ],
             [
              0.7777777777777778,
              "#fb9f3a"
             ],
             [
              0.8888888888888888,
              "#fdca26"
             ],
             [
              1,
              "#f0f921"
             ]
            ],
            "type": "heatmap"
           }
          ],
          "heatmapgl": [
           {
            "colorbar": {
             "outlinewidth": 0,
             "ticks": ""
            },
            "colorscale": [
             [
              0,
              "#0d0887"
             ],
             [
              0.1111111111111111,
              "#46039f"
             ],
             [
              0.2222222222222222,
              "#7201a8"
             ],
             [
              0.3333333333333333,
              "#9c179e"
             ],
             [
              0.4444444444444444,
              "#bd3786"
             ],
             [
              0.5555555555555556,
              "#d8576b"
             ],
             [
              0.6666666666666666,
              "#ed7953"
             ],
             [
              0.7777777777777778,
              "#fb9f3a"
             ],
             [
              0.8888888888888888,
              "#fdca26"
             ],
             [
              1,
              "#f0f921"
             ]
            ],
            "type": "heatmapgl"
           }
          ],
          "histogram": [
           {
            "marker": {
             "colorbar": {
              "outlinewidth": 0,
              "ticks": ""
             }
            },
            "type": "histogram"
           }
          ],
          "histogram2d": [
           {
            "colorbar": {
             "outlinewidth": 0,
             "ticks": ""
            },
            "colorscale": [
             [
              0,
              "#0d0887"
             ],
             [
              0.1111111111111111,
              "#46039f"
             ],
             [
              0.2222222222222222,
              "#7201a8"
             ],
             [
              0.3333333333333333,
              "#9c179e"
             ],
             [
              0.4444444444444444,
              "#bd3786"
             ],
             [
              0.5555555555555556,
              "#d8576b"
             ],
             [
              0.6666666666666666,
              "#ed7953"
             ],
             [
              0.7777777777777778,
              "#fb9f3a"
             ],
             [
              0.8888888888888888,
              "#fdca26"
             ],
             [
              1,
              "#f0f921"
             ]
            ],
            "type": "histogram2d"
           }
          ],
          "histogram2dcontour": [
           {
            "colorbar": {
             "outlinewidth": 0,
             "ticks": ""
            },
            "colorscale": [
             [
              0,
              "#0d0887"
             ],
             [
              0.1111111111111111,
              "#46039f"
             ],
             [
              0.2222222222222222,
              "#7201a8"
             ],
             [
              0.3333333333333333,
              "#9c179e"
             ],
             [
              0.4444444444444444,
              "#bd3786"
             ],
             [
              0.5555555555555556,
              "#d8576b"
             ],
             [
              0.6666666666666666,
              "#ed7953"
             ],
             [
              0.7777777777777778,
              "#fb9f3a"
             ],
             [
              0.8888888888888888,
              "#fdca26"
             ],
             [
              1,
              "#f0f921"
             ]
            ],
            "type": "histogram2dcontour"
           }
          ],
          "mesh3d": [
           {
            "colorbar": {
             "outlinewidth": 0,
             "ticks": ""
            },
            "type": "mesh3d"
           }
          ],
          "parcoords": [
           {
            "line": {
             "colorbar": {
              "outlinewidth": 0,
              "ticks": ""
             }
            },
            "type": "parcoords"
           }
          ],
          "pie": [
           {
            "automargin": true,
            "type": "pie"
           }
          ],
          "scatter": [
           {
            "marker": {
             "colorbar": {
              "outlinewidth": 0,
              "ticks": ""
             }
            },
            "type": "scatter"
           }
          ],
          "scatter3d": [
           {
            "line": {
             "colorbar": {
              "outlinewidth": 0,
              "ticks": ""
             }
            },
            "marker": {
             "colorbar": {
              "outlinewidth": 0,
              "ticks": ""
             }
            },
            "type": "scatter3d"
           }
          ],
          "scattercarpet": [
           {
            "marker": {
             "colorbar": {
              "outlinewidth": 0,
              "ticks": ""
             }
            },
            "type": "scattercarpet"
           }
          ],
          "scattergeo": [
           {
            "marker": {
             "colorbar": {
              "outlinewidth": 0,
              "ticks": ""
             }
            },
            "type": "scattergeo"
           }
          ],
          "scattergl": [
           {
            "marker": {
             "colorbar": {
              "outlinewidth": 0,
              "ticks": ""
             }
            },
            "type": "scattergl"
           }
          ],
          "scattermapbox": [
           {
            "marker": {
             "colorbar": {
              "outlinewidth": 0,
              "ticks": ""
             }
            },
            "type": "scattermapbox"
           }
          ],
          "scatterpolar": [
           {
            "marker": {
             "colorbar": {
              "outlinewidth": 0,
              "ticks": ""
             }
            },
            "type": "scatterpolar"
           }
          ],
          "scatterpolargl": [
           {
            "marker": {
             "colorbar": {
              "outlinewidth": 0,
              "ticks": ""
             }
            },
            "type": "scatterpolargl"
           }
          ],
          "scatterternary": [
           {
            "marker": {
             "colorbar": {
              "outlinewidth": 0,
              "ticks": ""
             }
            },
            "type": "scatterternary"
           }
          ],
          "surface": [
           {
            "colorbar": {
             "outlinewidth": 0,
             "ticks": ""
            },
            "colorscale": [
             [
              0,
              "#0d0887"
             ],
             [
              0.1111111111111111,
              "#46039f"
             ],
             [
              0.2222222222222222,
              "#7201a8"
             ],
             [
              0.3333333333333333,
              "#9c179e"
             ],
             [
              0.4444444444444444,
              "#bd3786"
             ],
             [
              0.5555555555555556,
              "#d8576b"
             ],
             [
              0.6666666666666666,
              "#ed7953"
             ],
             [
              0.7777777777777778,
              "#fb9f3a"
             ],
             [
              0.8888888888888888,
              "#fdca26"
             ],
             [
              1,
              "#f0f921"
             ]
            ],
            "type": "surface"
           }
          ],
          "table": [
           {
            "cells": {
             "fill": {
              "color": "#EBF0F8"
             },
             "line": {
              "color": "white"
             }
            },
            "header": {
             "fill": {
              "color": "#C8D4E3"
             },
             "line": {
              "color": "white"
             }
            },
            "type": "table"
           }
          ]
         },
         "layout": {
          "annotationdefaults": {
           "arrowcolor": "#2a3f5f",
           "arrowhead": 0,
           "arrowwidth": 1
          },
          "autotypenumbers": "strict",
          "coloraxis": {
           "colorbar": {
            "outlinewidth": 0,
            "ticks": ""
           }
          },
          "colorscale": {
           "diverging": [
            [
             0,
             "#8e0152"
            ],
            [
             0.1,
             "#c51b7d"
            ],
            [
             0.2,
             "#de77ae"
            ],
            [
             0.3,
             "#f1b6da"
            ],
            [
             0.4,
             "#fde0ef"
            ],
            [
             0.5,
             "#f7f7f7"
            ],
            [
             0.6,
             "#e6f5d0"
            ],
            [
             0.7,
             "#b8e186"
            ],
            [
             0.8,
             "#7fbc41"
            ],
            [
             0.9,
             "#4d9221"
            ],
            [
             1,
             "#276419"
            ]
           ],
           "sequential": [
            [
             0,
             "#0d0887"
            ],
            [
             0.1111111111111111,
             "#46039f"
            ],
            [
             0.2222222222222222,
             "#7201a8"
            ],
            [
             0.3333333333333333,
             "#9c179e"
            ],
            [
             0.4444444444444444,
             "#bd3786"
            ],
            [
             0.5555555555555556,
             "#d8576b"
            ],
            [
             0.6666666666666666,
             "#ed7953"
            ],
            [
             0.7777777777777778,
             "#fb9f3a"
            ],
            [
             0.8888888888888888,
             "#fdca26"
            ],
            [
             1,
             "#f0f921"
            ]
           ],
           "sequentialminus": [
            [
             0,
             "#0d0887"
            ],
            [
             0.1111111111111111,
             "#46039f"
            ],
            [
             0.2222222222222222,
             "#7201a8"
            ],
            [
             0.3333333333333333,
             "#9c179e"
            ],
            [
             0.4444444444444444,
             "#bd3786"
            ],
            [
             0.5555555555555556,
             "#d8576b"
            ],
            [
             0.6666666666666666,
             "#ed7953"
            ],
            [
             0.7777777777777778,
             "#fb9f3a"
            ],
            [
             0.8888888888888888,
             "#fdca26"
            ],
            [
             1,
             "#f0f921"
            ]
           ]
          },
          "colorway": [
           "#636efa",
           "#EF553B",
           "#00cc96",
           "#ab63fa",
           "#FFA15A",
           "#19d3f3",
           "#FF6692",
           "#B6E880",
           "#FF97FF",
           "#FECB52"
          ],
          "font": {
           "color": "#2a3f5f"
          },
          "geo": {
           "bgcolor": "white",
           "lakecolor": "white",
           "landcolor": "#E5ECF6",
           "showlakes": true,
           "showland": true,
           "subunitcolor": "white"
          },
          "hoverlabel": {
           "align": "left"
          },
          "hovermode": "closest",
          "mapbox": {
           "style": "light"
          },
          "paper_bgcolor": "white",
          "plot_bgcolor": "#E5ECF6",
          "polar": {
           "angularaxis": {
            "gridcolor": "white",
            "linecolor": "white",
            "ticks": ""
           },
           "bgcolor": "#E5ECF6",
           "radialaxis": {
            "gridcolor": "white",
            "linecolor": "white",
            "ticks": ""
           }
          },
          "scene": {
           "xaxis": {
            "backgroundcolor": "#E5ECF6",
            "gridcolor": "white",
            "gridwidth": 2,
            "linecolor": "white",
            "showbackground": true,
            "ticks": "",
            "zerolinecolor": "white"
           },
           "yaxis": {
            "backgroundcolor": "#E5ECF6",
            "gridcolor": "white",
            "gridwidth": 2,
            "linecolor": "white",
            "showbackground": true,
            "ticks": "",
            "zerolinecolor": "white"
           },
           "zaxis": {
            "backgroundcolor": "#E5ECF6",
            "gridcolor": "white",
            "gridwidth": 2,
            "linecolor": "white",
            "showbackground": true,
            "ticks": "",
            "zerolinecolor": "white"
           }
          },
          "shapedefaults": {
           "line": {
            "color": "#2a3f5f"
           }
          },
          "ternary": {
           "aaxis": {
            "gridcolor": "white",
            "linecolor": "white",
            "ticks": ""
           },
           "baxis": {
            "gridcolor": "white",
            "linecolor": "white",
            "ticks": ""
           },
           "bgcolor": "#E5ECF6",
           "caxis": {
            "gridcolor": "white",
            "linecolor": "white",
            "ticks": ""
           }
          },
          "title": {
           "x": 0.05
          },
          "xaxis": {
           "automargin": true,
           "gridcolor": "white",
           "linecolor": "white",
           "ticks": "",
           "title": {
            "standoff": 15
           },
           "zerolinecolor": "white",
           "zerolinewidth": 2
          },
          "yaxis": {
           "automargin": true,
           "gridcolor": "white",
           "linecolor": "white",
           "ticks": "",
           "title": {
            "standoff": 15
           },
           "zerolinecolor": "white",
           "zerolinewidth": 2
          }
         }
        },
        "title": {
         "text": "Basic Sankey Diagram"
        }
       }
      },
      "text/html": [
       "<div>                            <div id=\"8907c33c-ce99-4fb1-aeaf-61476a96b405\" class=\"plotly-graph-div\" style=\"height:525px; width:100%;\"></div>            <script type=\"text/javascript\">                require([\"plotly\"], function(Plotly) {                    window.PLOTLYENV=window.PLOTLYENV || {};                                    if (document.getElementById(\"8907c33c-ce99-4fb1-aeaf-61476a96b405\")) {                    Plotly.newPlot(                        \"8907c33c-ce99-4fb1-aeaf-61476a96b405\",                        [{\"link\": {\"source\": [0, 1, 0, 2, 3, 3], \"target\": [2, 3, 3, 4, 4, 5], \"value\": [8, 4, 2, 8, 4, 2]}, \"node\": {\"color\": \"blue\", \"label\": [\"A1\", \"A2\", \"B1\", \"B2\", \"C1\", \"C2\"], \"line\": {\"color\": \"black\", \"width\": 0.5}, \"pad\": 15, \"thickness\": 20}, \"type\": \"sankey\"}],                        {\"font\": {\"size\": 10}, \"template\": {\"data\": {\"bar\": [{\"error_x\": {\"color\": \"#2a3f5f\"}, \"error_y\": {\"color\": \"#2a3f5f\"}, \"marker\": {\"line\": {\"color\": \"#E5ECF6\", \"width\": 0.5}}, \"type\": \"bar\"}], \"barpolar\": [{\"marker\": {\"line\": {\"color\": \"#E5ECF6\", \"width\": 0.5}}, \"type\": \"barpolar\"}], \"carpet\": [{\"aaxis\": {\"endlinecolor\": \"#2a3f5f\", \"gridcolor\": \"white\", \"linecolor\": \"white\", \"minorgridcolor\": \"white\", \"startlinecolor\": \"#2a3f5f\"}, \"baxis\": {\"endlinecolor\": \"#2a3f5f\", \"gridcolor\": \"white\", \"linecolor\": \"white\", \"minorgridcolor\": \"white\", \"startlinecolor\": \"#2a3f5f\"}, \"type\": \"carpet\"}], \"choropleth\": [{\"colorbar\": {\"outlinewidth\": 0, \"ticks\": \"\"}, \"type\": \"choropleth\"}], \"contour\": [{\"colorbar\": {\"outlinewidth\": 0, \"ticks\": \"\"}, \"colorscale\": [[0.0, \"#0d0887\"], [0.1111111111111111, \"#46039f\"], [0.2222222222222222, \"#7201a8\"], [0.3333333333333333, \"#9c179e\"], [0.4444444444444444, \"#bd3786\"], [0.5555555555555556, \"#d8576b\"], [0.6666666666666666, \"#ed7953\"], [0.7777777777777778, \"#fb9f3a\"], [0.8888888888888888, \"#fdca26\"], [1.0, \"#f0f921\"]], \"type\": \"contour\"}], \"contourcarpet\": [{\"colorbar\": {\"outlinewidth\": 0, \"ticks\": \"\"}, \"type\": \"contourcarpet\"}], \"heatmap\": [{\"colorbar\": {\"outlinewidth\": 0, \"ticks\": \"\"}, \"colorscale\": [[0.0, \"#0d0887\"], [0.1111111111111111, \"#46039f\"], [0.2222222222222222, \"#7201a8\"], [0.3333333333333333, \"#9c179e\"], [0.4444444444444444, \"#bd3786\"], [0.5555555555555556, \"#d8576b\"], [0.6666666666666666, \"#ed7953\"], [0.7777777777777778, \"#fb9f3a\"], [0.8888888888888888, \"#fdca26\"], [1.0, \"#f0f921\"]], \"type\": \"heatmap\"}], \"heatmapgl\": [{\"colorbar\": {\"outlinewidth\": 0, \"ticks\": \"\"}, \"colorscale\": [[0.0, \"#0d0887\"], [0.1111111111111111, \"#46039f\"], [0.2222222222222222, \"#7201a8\"], [0.3333333333333333, \"#9c179e\"], [0.4444444444444444, \"#bd3786\"], [0.5555555555555556, \"#d8576b\"], [0.6666666666666666, \"#ed7953\"], [0.7777777777777778, \"#fb9f3a\"], [0.8888888888888888, \"#fdca26\"], [1.0, \"#f0f921\"]], \"type\": \"heatmapgl\"}], \"histogram\": [{\"marker\": {\"colorbar\": {\"outlinewidth\": 0, \"ticks\": \"\"}}, \"type\": \"histogram\"}], \"histogram2d\": [{\"colorbar\": {\"outlinewidth\": 0, \"ticks\": \"\"}, \"colorscale\": [[0.0, \"#0d0887\"], [0.1111111111111111, \"#46039f\"], [0.2222222222222222, \"#7201a8\"], [0.3333333333333333, \"#9c179e\"], [0.4444444444444444, \"#bd3786\"], [0.5555555555555556, \"#d8576b\"], [0.6666666666666666, \"#ed7953\"], [0.7777777777777778, \"#fb9f3a\"], [0.8888888888888888, \"#fdca26\"], [1.0, \"#f0f921\"]], \"type\": \"histogram2d\"}], \"histogram2dcontour\": [{\"colorbar\": {\"outlinewidth\": 0, \"ticks\": \"\"}, \"colorscale\": [[0.0, \"#0d0887\"], [0.1111111111111111, \"#46039f\"], [0.2222222222222222, \"#7201a8\"], [0.3333333333333333, \"#9c179e\"], [0.4444444444444444, \"#bd3786\"], [0.5555555555555556, \"#d8576b\"], [0.6666666666666666, \"#ed7953\"], [0.7777777777777778, \"#fb9f3a\"], [0.8888888888888888, \"#fdca26\"], [1.0, \"#f0f921\"]], \"type\": \"histogram2dcontour\"}], \"mesh3d\": [{\"colorbar\": {\"outlinewidth\": 0, \"ticks\": \"\"}, \"type\": \"mesh3d\"}], \"parcoords\": [{\"line\": {\"colorbar\": {\"outlinewidth\": 0, \"ticks\": \"\"}}, \"type\": \"parcoords\"}], \"pie\": [{\"automargin\": true, \"type\": \"pie\"}], \"scatter\": [{\"marker\": {\"colorbar\": {\"outlinewidth\": 0, \"ticks\": \"\"}}, \"type\": \"scatter\"}], \"scatter3d\": [{\"line\": {\"colorbar\": {\"outlinewidth\": 0, \"ticks\": \"\"}}, \"marker\": {\"colorbar\": {\"outlinewidth\": 0, \"ticks\": \"\"}}, \"type\": \"scatter3d\"}], \"scattercarpet\": [{\"marker\": {\"colorbar\": {\"outlinewidth\": 0, \"ticks\": \"\"}}, \"type\": \"scattercarpet\"}], \"scattergeo\": [{\"marker\": {\"colorbar\": {\"outlinewidth\": 0, \"ticks\": \"\"}}, \"type\": \"scattergeo\"}], \"scattergl\": [{\"marker\": {\"colorbar\": {\"outlinewidth\": 0, \"ticks\": \"\"}}, \"type\": \"scattergl\"}], \"scattermapbox\": [{\"marker\": {\"colorbar\": {\"outlinewidth\": 0, \"ticks\": \"\"}}, \"type\": \"scattermapbox\"}], \"scatterpolar\": [{\"marker\": {\"colorbar\": {\"outlinewidth\": 0, \"ticks\": \"\"}}, \"type\": \"scatterpolar\"}], \"scatterpolargl\": [{\"marker\": {\"colorbar\": {\"outlinewidth\": 0, \"ticks\": \"\"}}, \"type\": \"scatterpolargl\"}], \"scatterternary\": [{\"marker\": {\"colorbar\": {\"outlinewidth\": 0, \"ticks\": \"\"}}, \"type\": \"scatterternary\"}], \"surface\": [{\"colorbar\": {\"outlinewidth\": 0, \"ticks\": \"\"}, \"colorscale\": [[0.0, \"#0d0887\"], [0.1111111111111111, \"#46039f\"], [0.2222222222222222, \"#7201a8\"], [0.3333333333333333, \"#9c179e\"], [0.4444444444444444, \"#bd3786\"], [0.5555555555555556, \"#d8576b\"], [0.6666666666666666, \"#ed7953\"], [0.7777777777777778, \"#fb9f3a\"], [0.8888888888888888, \"#fdca26\"], [1.0, \"#f0f921\"]], \"type\": \"surface\"}], \"table\": [{\"cells\": {\"fill\": {\"color\": \"#EBF0F8\"}, \"line\": {\"color\": \"white\"}}, \"header\": {\"fill\": {\"color\": \"#C8D4E3\"}, \"line\": {\"color\": \"white\"}}, \"type\": \"table\"}]}, \"layout\": {\"annotationdefaults\": {\"arrowcolor\": \"#2a3f5f\", \"arrowhead\": 0, \"arrowwidth\": 1}, \"autotypenumbers\": \"strict\", \"coloraxis\": {\"colorbar\": {\"outlinewidth\": 0, \"ticks\": \"\"}}, \"colorscale\": {\"diverging\": [[0, \"#8e0152\"], [0.1, \"#c51b7d\"], [0.2, \"#de77ae\"], [0.3, \"#f1b6da\"], [0.4, \"#fde0ef\"], [0.5, \"#f7f7f7\"], [0.6, \"#e6f5d0\"], [0.7, \"#b8e186\"], [0.8, \"#7fbc41\"], [0.9, \"#4d9221\"], [1, \"#276419\"]], \"sequential\": [[0.0, \"#0d0887\"], [0.1111111111111111, \"#46039f\"], [0.2222222222222222, \"#7201a8\"], [0.3333333333333333, \"#9c179e\"], [0.4444444444444444, \"#bd3786\"], [0.5555555555555556, \"#d8576b\"], [0.6666666666666666, \"#ed7953\"], [0.7777777777777778, \"#fb9f3a\"], [0.8888888888888888, \"#fdca26\"], [1.0, \"#f0f921\"]], \"sequentialminus\": [[0.0, \"#0d0887\"], [0.1111111111111111, \"#46039f\"], [0.2222222222222222, \"#7201a8\"], [0.3333333333333333, \"#9c179e\"], [0.4444444444444444, \"#bd3786\"], [0.5555555555555556, \"#d8576b\"], [0.6666666666666666, \"#ed7953\"], [0.7777777777777778, \"#fb9f3a\"], [0.8888888888888888, \"#fdca26\"], [1.0, \"#f0f921\"]]}, \"colorway\": [\"#636efa\", \"#EF553B\", \"#00cc96\", \"#ab63fa\", \"#FFA15A\", \"#19d3f3\", \"#FF6692\", \"#B6E880\", \"#FF97FF\", \"#FECB52\"], \"font\": {\"color\": \"#2a3f5f\"}, \"geo\": {\"bgcolor\": \"white\", \"lakecolor\": \"white\", \"landcolor\": \"#E5ECF6\", \"showlakes\": true, \"showland\": true, \"subunitcolor\": \"white\"}, \"hoverlabel\": {\"align\": \"left\"}, \"hovermode\": \"closest\", \"mapbox\": {\"style\": \"light\"}, \"paper_bgcolor\": \"white\", \"plot_bgcolor\": \"#E5ECF6\", \"polar\": {\"angularaxis\": {\"gridcolor\": \"white\", \"linecolor\": \"white\", \"ticks\": \"\"}, \"bgcolor\": \"#E5ECF6\", \"radialaxis\": {\"gridcolor\": \"white\", \"linecolor\": \"white\", \"ticks\": \"\"}}, \"scene\": {\"xaxis\": {\"backgroundcolor\": \"#E5ECF6\", \"gridcolor\": \"white\", \"gridwidth\": 2, \"linecolor\": \"white\", \"showbackground\": true, \"ticks\": \"\", \"zerolinecolor\": \"white\"}, \"yaxis\": {\"backgroundcolor\": \"#E5ECF6\", \"gridcolor\": \"white\", \"gridwidth\": 2, \"linecolor\": \"white\", \"showbackground\": true, \"ticks\": \"\", \"zerolinecolor\": \"white\"}, \"zaxis\": {\"backgroundcolor\": \"#E5ECF6\", \"gridcolor\": \"white\", \"gridwidth\": 2, \"linecolor\": \"white\", \"showbackground\": true, \"ticks\": \"\", \"zerolinecolor\": \"white\"}}, \"shapedefaults\": {\"line\": {\"color\": \"#2a3f5f\"}}, \"ternary\": {\"aaxis\": {\"gridcolor\": \"white\", \"linecolor\": \"white\", \"ticks\": \"\"}, \"baxis\": {\"gridcolor\": \"white\", \"linecolor\": \"white\", \"ticks\": \"\"}, \"bgcolor\": \"#E5ECF6\", \"caxis\": {\"gridcolor\": \"white\", \"linecolor\": \"white\", \"ticks\": \"\"}}, \"title\": {\"x\": 0.05}, \"xaxis\": {\"automargin\": true, \"gridcolor\": \"white\", \"linecolor\": \"white\", \"ticks\": \"\", \"title\": {\"standoff\": 15}, \"zerolinecolor\": \"white\", \"zerolinewidth\": 2}, \"yaxis\": {\"automargin\": true, \"gridcolor\": \"white\", \"linecolor\": \"white\", \"ticks\": \"\", \"title\": {\"standoff\": 15}, \"zerolinecolor\": \"white\", \"zerolinewidth\": 2}}}, \"title\": {\"text\": \"Basic Sankey Diagram\"}},                        {\"responsive\": true}                    ).then(function(){\n",
       "                            \n",
       "var gd = document.getElementById('8907c33c-ce99-4fb1-aeaf-61476a96b405');\n",
       "var x = new MutationObserver(function (mutations, observer) {{\n",
       "        var display = window.getComputedStyle(gd).display;\n",
       "        if (!display || display === 'none') {{\n",
       "            console.log([gd, 'removed!']);\n",
       "            Plotly.purge(gd);\n",
       "            observer.disconnect();\n",
       "        }}\n",
       "}});\n",
       "\n",
       "// Listen for the removal of the full notebook cells\n",
       "var notebookContainer = gd.closest('#notebook-container');\n",
       "if (notebookContainer) {{\n",
       "    x.observe(notebookContainer, {childList: true});\n",
       "}}\n",
       "\n",
       "// Listen for the clearing of the current output cell\n",
       "var outputEl = gd.closest('.output');\n",
       "if (outputEl) {{\n",
       "    x.observe(outputEl, {childList: true});\n",
       "}}\n",
       "\n",
       "                        })                };                });            </script>        </div>"
      ]
     },
     "metadata": {},
     "output_type": "display_data"
    }
   ],
   "source": [
    "fig = go.Figure(data=[go.Sankey(\n",
    "    node = dict(\n",
    "      pad = 15,\n",
    "      thickness = 20,\n",
    "      line = dict(color = \"black\", width = 0.5),\n",
    "      label = [\"A1\", \"A2\", \"B1\", \"B2\", \"C1\", \"C2\"],\n",
    "      color = \"blue\"\n",
    "    ),\n",
    "    link = dict(\n",
    "      source = [0, 1, 0, 2, 3, 3], # indices correspond to labels, eg A1, A2, A1, B1, ...\n",
    "      target = [2, 3, 3, 4, 4, 5],\n",
    "      value = [8, 4, 2, 8, 4, 2]\n",
    "  ))])\n",
    "\n",
    "fig.update_layout(title_text=\"Basic Sankey Diagram\", font_size=10)\n",
    "fig.show()"
   ]
  },
  {
   "cell_type": "code",
   "execution_count": 9,
   "metadata": {},
   "outputs": [
    {
     "ename": "NameError",
     "evalue": "name 'df' is not defined",
     "output_type": "error",
     "traceback": [
      "\u001b[0;31m---------------------------------------------------------------------------\u001b[0m",
      "\u001b[0;31mNameError\u001b[0m                                 Traceback (most recent call last)",
      "\u001b[0;32m<ipython-input-9-c42a15b2c7cf>\u001b[0m in \u001b[0;36m<module>\u001b[0;34m\u001b[0m\n\u001b[0;32m----> 1\u001b[0;31m \u001b[0mdf\u001b[0m\u001b[0;34m.\u001b[0m\u001b[0mhead\u001b[0m\u001b[0;34m(\u001b[0m\u001b[0;34m)\u001b[0m\u001b[0;34m\u001b[0m\u001b[0;34m\u001b[0m\u001b[0m\n\u001b[0m",
      "\u001b[0;31mNameError\u001b[0m: name 'df' is not defined"
     ]
    }
   ],
   "source": [
    "df.head()"
   ]
  },
  {
   "cell_type": "code",
   "execution_count": 5,
   "metadata": {},
   "outputs": [],
   "source": [
    "url = 'https://raw.githubusercontent.com/plotly/plotly.js/master/test/image/mocks/sankey_energy.json'\n",
    "response = urllib.request.urlopen(url)\n",
    "data = json.loads(response.read())\n",
    "\n"
   ]
  },
  {
   "cell_type": "code",
   "execution_count": 7,
   "metadata": {},
   "outputs": [
    {
     "data": {
      "text/plain": [
       "{'data': [{'type': 'sankey',\n",
       "   'domain': {'x': [0, 1], 'y': [0, 1]},\n",
       "   'orientation': 'h',\n",
       "   'valueformat': '.0f',\n",
       "   'valuesuffix': 'TWh',\n",
       "   'node': {'pad': 15,\n",
       "    'thickness': 15,\n",
       "    'line': {'color': 'black', 'width': 0.5},\n",
       "    'label': [\"Agricultural 'waste'\",\n",
       "     'Bio-conversion',\n",
       "     'Liquid',\n",
       "     'Losses',\n",
       "     'Solid',\n",
       "     'Gas',\n",
       "     'Biofuel imports',\n",
       "     'Biomass imports',\n",
       "     'Coal imports',\n",
       "     'Coal',\n",
       "     'Coal reserves',\n",
       "     'District heating',\n",
       "     'Industry',\n",
       "     'Heating and cooling - commercial',\n",
       "     'Heating and cooling - homes',\n",
       "     'Electricity grid',\n",
       "     'Over generation / exports',\n",
       "     'H2 conversion',\n",
       "     'Road transport',\n",
       "     'Agriculture',\n",
       "     'Rail transport',\n",
       "     'Lighting & appliances - commercial',\n",
       "     'Lighting & appliances - homes',\n",
       "     'Gas imports',\n",
       "     'Ngas',\n",
       "     'Gas reserves',\n",
       "     'Thermal generation',\n",
       "     'Geothermal',\n",
       "     'H2',\n",
       "     'Hydro',\n",
       "     'International shipping',\n",
       "     'Domestic aviation',\n",
       "     'International aviation',\n",
       "     'National navigation',\n",
       "     'Marine algae',\n",
       "     'Nuclear',\n",
       "     'Oil imports',\n",
       "     'Oil',\n",
       "     'Oil reserves',\n",
       "     'Other waste',\n",
       "     'Pumped heat',\n",
       "     'Solar PV',\n",
       "     'Solar Thermal',\n",
       "     'Solar',\n",
       "     'Tidal',\n",
       "     'UK land based bioenergy',\n",
       "     'Wave',\n",
       "     'Wind'],\n",
       "    'color': ['rgba(31, 119, 180, 0.8)',\n",
       "     'rgba(255, 127, 14, 0.8)',\n",
       "     'rgba(44, 160, 44, 0.8)',\n",
       "     'rgba(214, 39, 40, 0.8)',\n",
       "     'rgba(148, 103, 189, 0.8)',\n",
       "     'rgba(140, 86, 75, 0.8)',\n",
       "     'rgba(227, 119, 194, 0.8)',\n",
       "     'rgba(127, 127, 127, 0.8)',\n",
       "     'rgba(188, 189, 34, 0.8)',\n",
       "     'rgba(23, 190, 207, 0.8)',\n",
       "     'rgba(31, 119, 180, 0.8)',\n",
       "     'rgba(255, 127, 14, 0.8)',\n",
       "     'rgba(44, 160, 44, 0.8)',\n",
       "     'rgba(214, 39, 40, 0.8)',\n",
       "     'rgba(148, 103, 189, 0.8)',\n",
       "     'rgba(140, 86, 75, 0.8)',\n",
       "     'rgba(227, 119, 194, 0.8)',\n",
       "     'rgba(127, 127, 127, 0.8)',\n",
       "     'rgba(188, 189, 34, 0.8)',\n",
       "     'rgba(23, 190, 207, 0.8)',\n",
       "     'rgba(31, 119, 180, 0.8)',\n",
       "     'rgba(255, 127, 14, 0.8)',\n",
       "     'rgba(44, 160, 44, 0.8)',\n",
       "     'rgba(214, 39, 40, 0.8)',\n",
       "     'rgba(148, 103, 189, 0.8)',\n",
       "     'rgba(140, 86, 75, 0.8)',\n",
       "     'rgba(227, 119, 194, 0.8)',\n",
       "     'rgba(127, 127, 127, 0.8)',\n",
       "     'rgba(188, 189, 34, 0.8)',\n",
       "     'rgba(23, 190, 207, 0.8)',\n",
       "     'rgba(31, 119, 180, 0.8)',\n",
       "     'rgba(255, 127, 14, 0.8)',\n",
       "     'rgba(44, 160, 44, 0.8)',\n",
       "     'rgba(214, 39, 40, 0.8)',\n",
       "     'rgba(148, 103, 189, 0.8)',\n",
       "     'magenta',\n",
       "     'rgba(227, 119, 194, 0.8)',\n",
       "     'rgba(127, 127, 127, 0.8)',\n",
       "     'rgba(188, 189, 34, 0.8)',\n",
       "     'rgba(23, 190, 207, 0.8)',\n",
       "     'rgba(31, 119, 180, 0.8)',\n",
       "     'rgba(255, 127, 14, 0.8)',\n",
       "     'rgba(44, 160, 44, 0.8)',\n",
       "     'rgba(214, 39, 40, 0.8)',\n",
       "     'rgba(148, 103, 189, 0.8)',\n",
       "     'rgba(140, 86, 75, 0.8)',\n",
       "     'rgba(227, 119, 194, 0.8)',\n",
       "     'rgba(127, 127, 127, 0.8)']},\n",
       "   'link': {'source': [0,\n",
       "     1,\n",
       "     1,\n",
       "     1,\n",
       "     1,\n",
       "     6,\n",
       "     7,\n",
       "     8,\n",
       "     10,\n",
       "     9,\n",
       "     11,\n",
       "     11,\n",
       "     11,\n",
       "     15,\n",
       "     15,\n",
       "     15,\n",
       "     15,\n",
       "     15,\n",
       "     15,\n",
       "     15,\n",
       "     15,\n",
       "     15,\n",
       "     15,\n",
       "     15,\n",
       "     23,\n",
       "     25,\n",
       "     5,\n",
       "     5,\n",
       "     5,\n",
       "     5,\n",
       "     5,\n",
       "     27,\n",
       "     17,\n",
       "     17,\n",
       "     28,\n",
       "     29,\n",
       "     2,\n",
       "     2,\n",
       "     2,\n",
       "     2,\n",
       "     2,\n",
       "     2,\n",
       "     2,\n",
       "     2,\n",
       "     34,\n",
       "     24,\n",
       "     35,\n",
       "     35,\n",
       "     36,\n",
       "     38,\n",
       "     37,\n",
       "     39,\n",
       "     39,\n",
       "     40,\n",
       "     40,\n",
       "     41,\n",
       "     42,\n",
       "     43,\n",
       "     43,\n",
       "     4,\n",
       "     4,\n",
       "     4,\n",
       "     26,\n",
       "     26,\n",
       "     26,\n",
       "     44,\n",
       "     45,\n",
       "     46,\n",
       "     47,\n",
       "     35,\n",
       "     35],\n",
       "    'target': [1,\n",
       "     2,\n",
       "     3,\n",
       "     4,\n",
       "     5,\n",
       "     2,\n",
       "     4,\n",
       "     9,\n",
       "     9,\n",
       "     4,\n",
       "     12,\n",
       "     13,\n",
       "     14,\n",
       "     16,\n",
       "     14,\n",
       "     17,\n",
       "     12,\n",
       "     18,\n",
       "     19,\n",
       "     13,\n",
       "     3,\n",
       "     20,\n",
       "     21,\n",
       "     22,\n",
       "     24,\n",
       "     24,\n",
       "     13,\n",
       "     3,\n",
       "     26,\n",
       "     19,\n",
       "     12,\n",
       "     15,\n",
       "     28,\n",
       "     3,\n",
       "     18,\n",
       "     15,\n",
       "     12,\n",
       "     30,\n",
       "     18,\n",
       "     31,\n",
       "     32,\n",
       "     19,\n",
       "     33,\n",
       "     20,\n",
       "     1,\n",
       "     5,\n",
       "     26,\n",
       "     26,\n",
       "     37,\n",
       "     37,\n",
       "     2,\n",
       "     4,\n",
       "     1,\n",
       "     14,\n",
       "     13,\n",
       "     15,\n",
       "     14,\n",
       "     42,\n",
       "     41,\n",
       "     19,\n",
       "     26,\n",
       "     12,\n",
       "     15,\n",
       "     3,\n",
       "     11,\n",
       "     15,\n",
       "     1,\n",
       "     15,\n",
       "     15,\n",
       "     26,\n",
       "     26],\n",
       "    'value': [124.729,\n",
       "     0.597,\n",
       "     26.862,\n",
       "     280.322,\n",
       "     81.144,\n",
       "     35,\n",
       "     35,\n",
       "     11.606,\n",
       "     63.965,\n",
       "     75.571,\n",
       "     10.639,\n",
       "     22.505,\n",
       "     46.184,\n",
       "     104.453,\n",
       "     113.726,\n",
       "     27.14,\n",
       "     342.165,\n",
       "     37.797,\n",
       "     4.412,\n",
       "     40.858,\n",
       "     56.691,\n",
       "     7.863,\n",
       "     90.008,\n",
       "     93.494,\n",
       "     40.719,\n",
       "     82.233,\n",
       "     0.129,\n",
       "     1.401,\n",
       "     151.891,\n",
       "     2.096,\n",
       "     48.58,\n",
       "     7.013,\n",
       "     20.897,\n",
       "     6.242,\n",
       "     20.897,\n",
       "     6.995,\n",
       "     121.066,\n",
       "     128.69,\n",
       "     135.835,\n",
       "     14.458,\n",
       "     206.267,\n",
       "     3.64,\n",
       "     33.218,\n",
       "     4.413,\n",
       "     14.375,\n",
       "     122.952,\n",
       "     500,\n",
       "     139.978,\n",
       "     504.287,\n",
       "     107.703,\n",
       "     611.99,\n",
       "     56.587,\n",
       "     77.81,\n",
       "     193.026,\n",
       "     70.672,\n",
       "     59.901,\n",
       "     19.263,\n",
       "     19.263,\n",
       "     59.901,\n",
       "     0.882,\n",
       "     400.12,\n",
       "     46.477,\n",
       "     525.531,\n",
       "     787.129,\n",
       "     79.329,\n",
       "     9.452,\n",
       "     182.01,\n",
       "     19.013,\n",
       "     289.366,\n",
       "     100,\n",
       "     100],\n",
       "    'color': ['rgba(0,0,96,0.2)',\n",
       "     'rgba(0,0,96,0.2)',\n",
       "     'rgba(0,0,96,0.2)',\n",
       "     'rgba(0,0,96,0.2)',\n",
       "     'rgba(0,0,96,0.2)',\n",
       "     'rgba(0,0,96,0.2)',\n",
       "     'rgba(0,0,96,0.2)',\n",
       "     'rgba(0,0,96,0.2)',\n",
       "     'rgba(0,0,96,0.2)',\n",
       "     'rgba(0,0,96,0.2)',\n",
       "     'rgba(0,0,96,0.2)',\n",
       "     'rgba(0,0,96,0.2)',\n",
       "     'rgba(0,0,96,0.2)',\n",
       "     'rgba(0,0,96,0.2)',\n",
       "     'rgba(0,0,96,0.2)',\n",
       "     'rgba(0,0,96,0.2)',\n",
       "     'rgba(0,0,96,0.2)',\n",
       "     'rgba(0,0,96,0.2)',\n",
       "     'rgba(0,0,96,0.2)',\n",
       "     'rgba(0,0,96,0.2)',\n",
       "     'rgba(0,0,96,0.2)',\n",
       "     'rgba(0,0,96,0.2)',\n",
       "     'rgba(0,0,96,0.2)',\n",
       "     'rgba(0,0,96,0.2)',\n",
       "     'rgba(0,0,96,0.2)',\n",
       "     'rgba(0,0,96,0.2)',\n",
       "     'rgba(0,0,96,0.2)',\n",
       "     'rgba(0,0,96,0.2)',\n",
       "     'rgba(0,0,96,0.2)',\n",
       "     'rgba(0,0,96,0.2)',\n",
       "     'rgba(0,0,96,0.2)',\n",
       "     'rgba(0,0,96,0.2)',\n",
       "     'rgba(0,0,96,0.2)',\n",
       "     'rgba(0,0,96,0.2)',\n",
       "     'rgba(0,0,96,0.2)',\n",
       "     'rgba(0,0,96,0.2)',\n",
       "     'rgba(0,0,96,0.2)',\n",
       "     'rgba(0,0,96,0.2)',\n",
       "     'rgba(0,0,96,0.2)',\n",
       "     'rgba(0,0,96,0.2)',\n",
       "     'rgba(0,0,96,0.2)',\n",
       "     'rgba(0,0,96,0.2)',\n",
       "     'rgba(0,0,96,0.2)',\n",
       "     'rgba(0,0,96,0.2)',\n",
       "     'rgba(0,0,96,0.2)',\n",
       "     'rgba(0,0,96,0.2)',\n",
       "     'rgba(33,102,172,0.35)',\n",
       "     'rgba(178,24,43,0.35)',\n",
       "     'rgba(0,0,96,0.2)',\n",
       "     'rgba(0,0,96,0.2)',\n",
       "     'rgba(0,0,96,0.2)',\n",
       "     'rgba(0,0,96,0.2)',\n",
       "     'rgba(0,0,96,0.2)',\n",
       "     'rgba(0,0,96,0.2)',\n",
       "     'rgba(0,0,96,0.2)',\n",
       "     'rgba(0,0,96,0.2)',\n",
       "     'rgba(0,0,96,0.2)',\n",
       "     'rgba(0,0,96,0.2)',\n",
       "     'rgba(0,0,96,0.2)',\n",
       "     'rgba(0,0,96,0.2)',\n",
       "     'rgba(0,0,96,0.2)',\n",
       "     'rgba(0,0,96,0.2)',\n",
       "     'rgba(0,0,96,0.2)',\n",
       "     'rgba(0,0,96,0.2)',\n",
       "     'rgba(0,0,96,0.2)',\n",
       "     'rgba(0,0,96,0.2)',\n",
       "     'rgba(0,0,96,0.2)',\n",
       "     'rgba(0,0,96,0.2)',\n",
       "     'rgba(0,0,96,0.2)',\n",
       "     'lightgreen',\n",
       "     'goldenrod'],\n",
       "    'label': ['stream 1',\n",
       "     '',\n",
       "     '',\n",
       "     '',\n",
       "     'stream 1',\n",
       "     '',\n",
       "     '',\n",
       "     '',\n",
       "     '',\n",
       "     '',\n",
       "     '',\n",
       "     '',\n",
       "     '',\n",
       "     '',\n",
       "     '',\n",
       "     '',\n",
       "     '',\n",
       "     '',\n",
       "     '',\n",
       "     '',\n",
       "     '',\n",
       "     '',\n",
       "     '',\n",
       "     '',\n",
       "     '',\n",
       "     '',\n",
       "     '',\n",
       "     '',\n",
       "     '',\n",
       "     '',\n",
       "     'stream 1',\n",
       "     '',\n",
       "     '',\n",
       "     '',\n",
       "     '',\n",
       "     '',\n",
       "     '',\n",
       "     '',\n",
       "     '',\n",
       "     '',\n",
       "     '',\n",
       "     '',\n",
       "     '',\n",
       "     '',\n",
       "     '',\n",
       "     '',\n",
       "     'Old generation plant (made-up)',\n",
       "     'New generation plant (made-up)',\n",
       "     '',\n",
       "     '',\n",
       "     '',\n",
       "     '',\n",
       "     '',\n",
       "     '',\n",
       "     '',\n",
       "     '',\n",
       "     '',\n",
       "     '',\n",
       "     '',\n",
       "     '',\n",
       "     '',\n",
       "     '',\n",
       "     '',\n",
       "     '',\n",
       "     '',\n",
       "     '',\n",
       "     '',\n",
       "     '',\n",
       "     '',\n",
       "     '',\n",
       "     '']}}],\n",
       " 'layout': {'title': {'text': \"Energy forecast for 2050, UK — Department of Energy & Climate Change<br>Imperfect copy of <a href='https://bost.ocks.org/mike/sankey/'>Mike Bostock's example</a><br>with numerous <a href='https://plotly.com/javascript/'>Plotly</a> features\"},\n",
       "  'width': 1118,\n",
       "  'height': 772,\n",
       "  'font': {'size': 10},\n",
       "  'updatemenus': [{'y': 1,\n",
       "    'buttons': [{'label': 'Light',\n",
       "      'method': 'relayout',\n",
       "      'args': ['paper_bgcolor', 'white']},\n",
       "     {'label': 'Dark',\n",
       "      'method': 'relayout',\n",
       "      'args': ['paper_bgcolor', 'black']}]},\n",
       "   {'y': 0.9,\n",
       "    'buttons': [{'label': 'Thick',\n",
       "      'method': 'restyle',\n",
       "      'args': ['node.thickness', 15]},\n",
       "     {'label': 'Thin', 'method': 'restyle', 'args': ['node.thickness', 8]}]},\n",
       "   {'y': 0.8,\n",
       "    'buttons': [{'label': 'Small gap',\n",
       "      'method': 'restyle',\n",
       "      'args': ['node.pad', 15]},\n",
       "     {'label': 'Large gap', 'method': 'restyle', 'args': ['node.pad', 20]}]},\n",
       "   {'y': 0.7,\n",
       "    'buttons': [{'label': 'Snap',\n",
       "      'method': 'restyle',\n",
       "      'args': ['arrangement', 'snap']},\n",
       "     {'label': 'Perpendicular',\n",
       "      'method': 'restyle',\n",
       "      'args': ['arrangement', 'perpendicular']},\n",
       "     {'label': 'Freeform',\n",
       "      'method': 'restyle',\n",
       "      'args': ['arrangement', 'freeform']},\n",
       "     {'label': 'Fixed',\n",
       "      'method': 'restyle',\n",
       "      'args': ['arrangement', 'fixed']}]},\n",
       "   {'y': 0.6,\n",
       "    'buttons': [{'label': 'Horizontal',\n",
       "      'method': 'restyle',\n",
       "      'args': ['orientation', 'h']},\n",
       "     {'label': 'Vertical',\n",
       "      'method': 'restyle',\n",
       "      'args': ['orientation', 'v']}]}]}}"
      ]
     },
     "execution_count": 7,
     "metadata": {},
     "output_type": "execute_result"
    }
   ],
   "source": [
    "data"
   ]
  },
  {
   "cell_type": "code",
   "execution_count": null,
   "metadata": {},
   "outputs": [],
   "source": [
    "# override gray link colors with 'source' colors\n",
    "opacity = 0.4\n",
    "# change 'magenta' to its 'rgba' value to add opacity\n",
    "data['data'][0]['node']['color'] = ['rgba(255,0,255, 0.8)' if color == \"magenta\" else color for color in data['data'][0]['node']['color']]\n",
    "data['data'][0]['link']['color'] = [data['data'][0]['node']['color'][src].replace(\"0.8\", str(opacity))\n",
    "                                    for src in data['data'][0]['link']['source']]\n",
    "\n",
    "fig = go.Figure(data=[go.Sankey(\n",
    "    valueformat = \".0f\",\n",
    "    valuesuffix = \"TWh\",\n",
    "    # Define nodes\n",
    "    node = dict(\n",
    "      pad = 15,\n",
    "      thickness = 15,\n",
    "      line = dict(color = \"black\", width = 0.5),\n",
    "      label =  data['data'][0]['node']['label'],\n",
    "      color =  data['data'][0]['node']['color']\n",
    "    ),\n",
    "    # Add links\n",
    "    link = dict(\n",
    "      source =  data['data'][0]['link']['source'],\n",
    "      target =  data['data'][0]['link']['target'],\n",
    "      value =  data['data'][0]['link']['value'],\n",
    "      label =  data['data'][0]['link']['label'],\n",
    "      color =  data['data'][0]['link']['color']\n",
    "))])\n",
    "\n",
    "fig.update_layout(title_text=\"Energy forecast for 2050<br>Source: Department of Energy & Climate Change, Tom Counsell via <a href='https://bost.ocks.org/mike/sankey/'>Mike Bostock</a>\",\n",
    "                  font_size=10)\n",
    "fig.show()"
   ]
  }
 ],
 "metadata": {
  "kernelspec": {
   "display_name": "Python 3",
   "language": "python",
   "name": "python3"
  },
  "language_info": {
   "codemirror_mode": {
    "name": "ipython",
    "version": 3
   },
   "file_extension": ".py",
   "mimetype": "text/x-python",
   "name": "python",
   "nbconvert_exporter": "python",
   "pygments_lexer": "ipython3",
   "version": "3.8.5"
  }
 },
 "nbformat": 4,
 "nbformat_minor": 4
}
