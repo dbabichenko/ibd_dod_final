{
 "cells": [
  {
   "cell_type": "code",
   "execution_count": 3,
   "metadata": {
    "collapsed": true
   },
   "outputs": [],
   "source": [
    "import pandas as pd\n",
    "import math\n",
    "from datetime import datetime"
   ]
  },
  {
   "cell_type": "code",
   "execution_count": 4,
   "metadata": {
    "collapsed": true
   },
   "outputs": [],
   "source": [
    "\n",
    "#source_path = \"/Users/dmitriyb/Desktop/Data/ibd_data_2018/\"\n",
    "source_path = 'D:\\\\Projects\\\\ibd_data\\\\2020 from epic care team\\\\'\n",
    "#output_path = \"/Users/dmitriyb/Box Sync/Research/IBD Research/Inflammatory Bowel Disease DOD Grant/data/De-identified with linkers 09-24-2018/\"\n",
    "output_path = 'C:\\\\Users\\\\dmb72\\\\Box Sync\\\\Research\\\\IBD Research\\\\Inflammatory Bowel Disease DOD Grant\\\\data\\\\De-identified with linkers 05-15-2020\\\\'"
   ]
  },
  {
   "cell_type": "code",
   "execution_count": 5,
   "metadata": {},
   "outputs": [
    {
     "data": {
      "text/html": [
       "<div>\n",
       "<style>\n",
       "    .dataframe thead tr:only-child th {\n",
       "        text-align: right;\n",
       "    }\n",
       "\n",
       "    .dataframe thead th {\n",
       "        text-align: left;\n",
       "    }\n",
       "\n",
       "    .dataframe tbody tr th {\n",
       "        vertical-align: top;\n",
       "    }\n",
       "</style>\n",
       "<table border=\"1\" class=\"dataframe\">\n",
       "  <thead>\n",
       "    <tr style=\"text-align: right;\">\n",
       "      <th></th>\n",
       "      <th>Unnamed: 0</th>\n",
       "      <th>AUTO_ID</th>\n",
       "      <th>PAT_ID</th>\n",
       "      <th>PAT_MRN_ID</th>\n",
       "      <th>GENDER</th>\n",
       "      <th>BIRTH_YEAR</th>\n",
       "      <th>MARITAL STATUS</th>\n",
       "      <th>PATIENT_STATUS</th>\n",
       "      <th>RACE</th>\n",
       "      <th>ETHNIC_GROUP</th>\n",
       "      <th>EMPLOYMENT_STATUS</th>\n",
       "      <th>FYI_FLAG_NAME</th>\n",
       "      <th>ZIP</th>\n",
       "      <th>DATE_FLAG_CREATED</th>\n",
       "    </tr>\n",
       "  </thead>\n",
       "  <tbody>\n",
       "    <tr>\n",
       "      <th>0</th>\n",
       "      <td>0</td>\n",
       "      <td>0</td>\n",
       "      <td>000156369</td>\n",
       "      <td>000156369</td>\n",
       "      <td>M</td>\n",
       "      <td>1963</td>\n",
       "      <td>Married</td>\n",
       "      <td>Alive</td>\n",
       "      <td>White</td>\n",
       "      <td>Not Hispanic or Latino</td>\n",
       "      <td>Full Time</td>\n",
       "      <td>Inflammatory Bowel Diseases (IBD) Registry Con...</td>\n",
       "      <td>15601-1744</td>\n",
       "      <td>2014-02-20 15:00:00</td>\n",
       "    </tr>\n",
       "    <tr>\n",
       "      <th>1</th>\n",
       "      <td>1</td>\n",
       "      <td>1</td>\n",
       "      <td>124829160</td>\n",
       "      <td>841539243</td>\n",
       "      <td>M</td>\n",
       "      <td>1952</td>\n",
       "      <td>Married</td>\n",
       "      <td>Alive</td>\n",
       "      <td>White</td>\n",
       "      <td>Not Hispanic or Latino</td>\n",
       "      <td>Full Time</td>\n",
       "      <td>Inflammatory Bowel Diseases (IBD) Registry Con...</td>\n",
       "      <td>15213</td>\n",
       "      <td>2019-06-19 12:33:00</td>\n",
       "    </tr>\n",
       "    <tr>\n",
       "      <th>2</th>\n",
       "      <td>2</td>\n",
       "      <td>2</td>\n",
       "      <td>174687646</td>\n",
       "      <td>841189757</td>\n",
       "      <td>M</td>\n",
       "      <td>1987</td>\n",
       "      <td>Single</td>\n",
       "      <td>Alive</td>\n",
       "      <td>White</td>\n",
       "      <td>Not Hispanic or Latino</td>\n",
       "      <td>Not Employed</td>\n",
       "      <td>Inflammatory Bowel Diseases (IBD) Registry Con...</td>\n",
       "      <td>15221-4502</td>\n",
       "      <td>2017-08-21 09:21:00</td>\n",
       "    </tr>\n",
       "    <tr>\n",
       "      <th>3</th>\n",
       "      <td>3</td>\n",
       "      <td>3</td>\n",
       "      <td>738090216</td>\n",
       "      <td>738090216</td>\n",
       "      <td>F</td>\n",
       "      <td>1984</td>\n",
       "      <td>Married</td>\n",
       "      <td>Alive</td>\n",
       "      <td>White</td>\n",
       "      <td>Not Hispanic or Latino</td>\n",
       "      <td>Not Employed</td>\n",
       "      <td>Inflammatory Bowel Diseases (IBD) Registry Con...</td>\n",
       "      <td>43947</td>\n",
       "      <td>2014-02-20 14:01:00</td>\n",
       "    </tr>\n",
       "    <tr>\n",
       "      <th>4</th>\n",
       "      <td>4</td>\n",
       "      <td>4</td>\n",
       "      <td>075395597</td>\n",
       "      <td>075395597</td>\n",
       "      <td>M</td>\n",
       "      <td>1993</td>\n",
       "      <td>Single</td>\n",
       "      <td>Alive</td>\n",
       "      <td>Filipino</td>\n",
       "      <td>Not Hispanic or Latino</td>\n",
       "      <td>Not Employed</td>\n",
       "      <td>Inflammatory Bowel Diseases (IBD) Registry Con...</td>\n",
       "      <td>15104-2543</td>\n",
       "      <td>2018-11-28 13:02:00</td>\n",
       "    </tr>\n",
       "  </tbody>\n",
       "</table>\n",
       "</div>"
      ],
      "text/plain": [
       "  Unnamed: 0 AUTO_ID     PAT_ID PAT_MRN_ID GENDER BIRTH_YEAR MARITAL STATUS  \\\n",
       "0          0       0  000156369  000156369      M       1963        Married   \n",
       "1          1       1  124829160  841539243      M       1952        Married   \n",
       "2          2       2  174687646  841189757      M       1987         Single   \n",
       "3          3       3  738090216  738090216      F       1984        Married   \n",
       "4          4       4  075395597  075395597      M       1993         Single   \n",
       "\n",
       "  PATIENT_STATUS      RACE            ETHNIC_GROUP EMPLOYMENT_STATUS  \\\n",
       "0          Alive     White  Not Hispanic or Latino         Full Time   \n",
       "1          Alive     White  Not Hispanic or Latino         Full Time   \n",
       "2          Alive     White  Not Hispanic or Latino      Not Employed   \n",
       "3          Alive     White  Not Hispanic or Latino      Not Employed   \n",
       "4          Alive  Filipino  Not Hispanic or Latino      Not Employed   \n",
       "\n",
       "                                       FYI_FLAG_NAME         ZIP  \\\n",
       "0  Inflammatory Bowel Diseases (IBD) Registry Con...  15601-1744   \n",
       "1  Inflammatory Bowel Diseases (IBD) Registry Con...       15213   \n",
       "2  Inflammatory Bowel Diseases (IBD) Registry Con...  15221-4502   \n",
       "3  Inflammatory Bowel Diseases (IBD) Registry Con...       43947   \n",
       "4  Inflammatory Bowel Diseases (IBD) Registry Con...  15104-2543   \n",
       "\n",
       "     DATE_FLAG_CREATED  \n",
       "0  2014-02-20 15:00:00  \n",
       "1  2019-06-19 12:33:00  \n",
       "2  2017-08-21 09:21:00  \n",
       "3  2014-02-20 14:01:00  \n",
       "4  2018-11-28 13:02:00  "
      ]
     },
     "execution_count": 5,
     "metadata": {},
     "output_type": "execute_result"
    }
   ],
   "source": [
    "#patient_master = pd.read_csv(output_path + \"patient_master_2018.csv\", dtype=str)\n",
    "patient_master = pd.read_csv(output_path + \"deid_patient_master_2020.csv\", dtype=str)\n",
    "patient_master.head()"
   ]
  },
  {
   "cell_type": "code",
   "execution_count": 6,
   "metadata": {},
   "outputs": [
    {
     "data": {
      "text/html": [
       "<div>\n",
       "<style>\n",
       "    .dataframe thead tr:only-child th {\n",
       "        text-align: right;\n",
       "    }\n",
       "\n",
       "    .dataframe thead th {\n",
       "        text-align: left;\n",
       "    }\n",
       "\n",
       "    .dataframe tbody tr th {\n",
       "        vertical-align: top;\n",
       "    }\n",
       "</style>\n",
       "<table border=\"1\" class=\"dataframe\">\n",
       "  <thead>\n",
       "    <tr style=\"text-align: right;\">\n",
       "      <th></th>\n",
       "      <th>AUTO_ID</th>\n",
       "      <th>PAT_ID</th>\n",
       "      <th>PAT_MRN_ID</th>\n",
       "      <th>GENDER</th>\n",
       "      <th>BIRTH_YEAR</th>\n",
       "      <th>MARITAL STATUS</th>\n",
       "      <th>PATIENT_STATUS</th>\n",
       "      <th>RACE</th>\n",
       "      <th>ETHNIC_GROUP</th>\n",
       "      <th>EMPLOYMENT_STATUS</th>\n",
       "      <th>FYI_FLAG_NAME</th>\n",
       "      <th>ZIP</th>\n",
       "      <th>DATE_FLAG_CREATED</th>\n",
       "    </tr>\n",
       "  </thead>\n",
       "  <tbody>\n",
       "    <tr>\n",
       "      <th>0</th>\n",
       "      <td>0</td>\n",
       "      <td>000156369</td>\n",
       "      <td>000156369</td>\n",
       "      <td>M</td>\n",
       "      <td>1963</td>\n",
       "      <td>Married</td>\n",
       "      <td>Alive</td>\n",
       "      <td>White</td>\n",
       "      <td>Not Hispanic or Latino</td>\n",
       "      <td>Full Time</td>\n",
       "      <td>Inflammatory Bowel Diseases (IBD) Registry Con...</td>\n",
       "      <td>15601-1744</td>\n",
       "      <td>2014-02-20 15:00:00</td>\n",
       "    </tr>\n",
       "    <tr>\n",
       "      <th>1</th>\n",
       "      <td>1</td>\n",
       "      <td>124829160</td>\n",
       "      <td>841539243</td>\n",
       "      <td>M</td>\n",
       "      <td>1952</td>\n",
       "      <td>Married</td>\n",
       "      <td>Alive</td>\n",
       "      <td>White</td>\n",
       "      <td>Not Hispanic or Latino</td>\n",
       "      <td>Full Time</td>\n",
       "      <td>Inflammatory Bowel Diseases (IBD) Registry Con...</td>\n",
       "      <td>15213</td>\n",
       "      <td>2019-06-19 12:33:00</td>\n",
       "    </tr>\n",
       "    <tr>\n",
       "      <th>2</th>\n",
       "      <td>2</td>\n",
       "      <td>174687646</td>\n",
       "      <td>841189757</td>\n",
       "      <td>M</td>\n",
       "      <td>1987</td>\n",
       "      <td>Single</td>\n",
       "      <td>Alive</td>\n",
       "      <td>White</td>\n",
       "      <td>Not Hispanic or Latino</td>\n",
       "      <td>Not Employed</td>\n",
       "      <td>Inflammatory Bowel Diseases (IBD) Registry Con...</td>\n",
       "      <td>15221-4502</td>\n",
       "      <td>2017-08-21 09:21:00</td>\n",
       "    </tr>\n",
       "    <tr>\n",
       "      <th>3</th>\n",
       "      <td>3</td>\n",
       "      <td>738090216</td>\n",
       "      <td>738090216</td>\n",
       "      <td>F</td>\n",
       "      <td>1984</td>\n",
       "      <td>Married</td>\n",
       "      <td>Alive</td>\n",
       "      <td>White</td>\n",
       "      <td>Not Hispanic or Latino</td>\n",
       "      <td>Not Employed</td>\n",
       "      <td>Inflammatory Bowel Diseases (IBD) Registry Con...</td>\n",
       "      <td>43947</td>\n",
       "      <td>2014-02-20 14:01:00</td>\n",
       "    </tr>\n",
       "    <tr>\n",
       "      <th>4</th>\n",
       "      <td>4</td>\n",
       "      <td>075395597</td>\n",
       "      <td>075395597</td>\n",
       "      <td>M</td>\n",
       "      <td>1993</td>\n",
       "      <td>Single</td>\n",
       "      <td>Alive</td>\n",
       "      <td>Filipino</td>\n",
       "      <td>Not Hispanic or Latino</td>\n",
       "      <td>Not Employed</td>\n",
       "      <td>Inflammatory Bowel Diseases (IBD) Registry Con...</td>\n",
       "      <td>15104-2543</td>\n",
       "      <td>2018-11-28 13:02:00</td>\n",
       "    </tr>\n",
       "  </tbody>\n",
       "</table>\n",
       "</div>"
      ],
      "text/plain": [
       "   AUTO_ID     PAT_ID PAT_MRN_ID GENDER  BIRTH_YEAR MARITAL STATUS  \\\n",
       "0        0  000156369  000156369      M        1963        Married   \n",
       "1        1  124829160  841539243      M        1952        Married   \n",
       "2        2  174687646  841189757      M        1987         Single   \n",
       "3        3  738090216  738090216      F        1984        Married   \n",
       "4        4  075395597  075395597      M        1993         Single   \n",
       "\n",
       "  PATIENT_STATUS      RACE            ETHNIC_GROUP EMPLOYMENT_STATUS  \\\n",
       "0          Alive     White  Not Hispanic or Latino         Full Time   \n",
       "1          Alive     White  Not Hispanic or Latino         Full Time   \n",
       "2          Alive     White  Not Hispanic or Latino      Not Employed   \n",
       "3          Alive     White  Not Hispanic or Latino      Not Employed   \n",
       "4          Alive  Filipino  Not Hispanic or Latino      Not Employed   \n",
       "\n",
       "                                       FYI_FLAG_NAME         ZIP  \\\n",
       "0  Inflammatory Bowel Diseases (IBD) Registry Con...  15601-1744   \n",
       "1  Inflammatory Bowel Diseases (IBD) Registry Con...       15213   \n",
       "2  Inflammatory Bowel Diseases (IBD) Registry Con...  15221-4502   \n",
       "3  Inflammatory Bowel Diseases (IBD) Registry Con...       43947   \n",
       "4  Inflammatory Bowel Diseases (IBD) Registry Con...  15104-2543   \n",
       "\n",
       "    DATE_FLAG_CREATED  \n",
       "0 2014-02-20 15:00:00  \n",
       "1 2019-06-19 12:33:00  \n",
       "2 2017-08-21 09:21:00  \n",
       "3 2014-02-20 14:01:00  \n",
       "4 2018-11-28 13:02:00  "
      ]
     },
     "execution_count": 6,
     "metadata": {},
     "output_type": "execute_result"
    }
   ],
   "source": [
    "# Make sure to only execute this block once for each year.\n",
    "\n",
    "df = pd.read_excel(source_path + \"IBD_Registry_BA1951_Participant_List_2020-01-05-09-41-48.xls\")\n",
    "df[\"PAT_ID\"] = df[\"PAT_ID\"].astype(str)\n",
    "df[\"PAT_ID\"] = df[\"PAT_ID\"].apply(lambda x: x.zfill(9))\n",
    "df[\"PAT_MRN_ID\"] = df[\"PAT_MRN_ID\"].astype(str)\n",
    "df[\"PAT_MRN_ID\"] = df[\"PAT_MRN_ID\"].apply(lambda x: x.zfill(9))\n",
    "\n",
    "df['BIRTH_DATE_CONVERTED'] = pd.to_datetime(df['BIRTH_DATE'])\n",
    "df['BIRTH_YEAR'] = pd.DatetimeIndex(df['BIRTH_DATE_CONVERTED']).year\n",
    "#df['BIRTH_YEAR'] = datetime.strptime(df['BIRTH_DATE'], '%m/%d/%y')\n",
    "\n",
    "df['AUTO_ID'] = df.index\n",
    "patient_master = df[['AUTO_ID','PAT_ID', 'PAT_MRN_ID', 'GENDER',\n",
    "       'BIRTH_YEAR', 'MARITAL STATUS', 'PATIENT_STATUS', 'RACE',\n",
    "       'ETHNIC_GROUP', 'EMPLOYMENT_STATUS', 'FYI_FLAG_NAME', 'ZIP',\n",
    "       'DATE_FLAG_CREATED']]\n",
    "#patient_master.index.names = ['AUTO_ID']\n",
    "\n",
    "\n",
    "patient_master.to_csv(output_path + 'deid_patient_master_2020.csv')\n",
    "patient_master.head()\n"
   ]
  },
  {
   "cell_type": "code",
   "execution_count": 7,
   "metadata": {
    "collapsed": true
   },
   "outputs": [],
   "source": [
    "def deid_patient_file(patient_master, source_file_path, source_file_name, output_path, id_col_name, col_list, source_file_type='csv', output_file_type='csv'):\n",
    "    if source_file_type == 'csv':\n",
    "        df = pd.read_csv(source_file_path + source_file_name, dtype=str)\n",
    "    elif source_file_type == 'excel':\n",
    "        df = pd.read_excel(source_file_path + source_file_name, dtype=str)\n",
    "    df[id_col_name] = df[id_col_name].astype(str)\n",
    "    df[id_col_name] = df[id_col_name].apply(lambda x: x.zfill(9))\n",
    "    df = pd.merge(df, patient_master, left_on=id_col_name, right_on=id_col_name, how=\"left\")\n",
    "    \n",
    "    df = df[cols]\n",
    "    df[\"AUTO_ID\"].fillna(\"NO_MATCH\", inplace=True)\n",
    "    df.fillna('', inplace=True)\n",
    "    \n",
    "    if output_file_type == 'csv':\n",
    "        df.to_csv(output_path + \"deid_\" + source_file_name + '.csv')\n",
    "    elif output_file_type == 'excel':\n",
    "        df.to_excel(output_path + \"deid_\" + source_file_name)\n",
    "    "
   ]
  },
  {
   "cell_type": "code",
   "execution_count": null,
   "metadata": {
    "collapsed": true
   },
   "outputs": [],
   "source": []
  },
  {
   "cell_type": "code",
   "execution_count": null,
   "metadata": {
    "collapsed": true
   },
   "outputs": [],
   "source": []
  },
  {
   "cell_type": "markdown",
   "metadata": {},
   "source": [
    "## Patient Registry Data"
   ]
  },
  {
   "cell_type": "code",
   "execution_count": 8,
   "metadata": {
    "collapsed": true
   },
   "outputs": [],
   "source": [
    "#source_file = \"IBD_Registry_BA1951_Participant_List_2018-07-05-09-41-25.csv\"\n",
    "#cols = ['AUTO_ID', 'PAT_ID', 'GENDER', 'BIRTH_DATE', 'MARITAL STATUS', 'PATIENT_STATUS', 'RACE',\n",
    "#       'ETHNIC_GROUP', 'EMPLOYMENT_STATUS', 'FYI_FLAG_NAME', 'ZIP', 'DATE_FLAG_CREATED']\n",
    "#deid_patient_file(patient_master, source_path, source_file, output_path, 'PAT_ID', cols)"
   ]
  },
  {
   "cell_type": "code",
   "execution_count": null,
   "metadata": {
    "collapsed": true
   },
   "outputs": [],
   "source": []
  },
  {
   "cell_type": "markdown",
   "metadata": {},
   "source": [
    "## Allegries"
   ]
  },
  {
   "cell_type": "code",
   "execution_count": 9,
   "metadata": {
    "collapsed": true
   },
   "outputs": [],
   "source": [
    "source_file = \"IBD_Registry_BA1951_Allergy_Information_2020-01-05-09-17-16.xlsx\"\n",
    "cols = ['AUTO_ID', 'DESCRIPTION', 'SEVERITY', 'REACTION']\n",
    "deid_patient_file(patient_master, source_path, source_file, output_path, 'PAT_MRN_ID', cols, source_file_type='excel', output_file_type='excel')\n"
   ]
  },
  {
   "cell_type": "code",
   "execution_count": null,
   "metadata": {
    "collapsed": true
   },
   "outputs": [],
   "source": []
  },
  {
   "cell_type": "code",
   "execution_count": null,
   "metadata": {
    "collapsed": true
   },
   "outputs": [],
   "source": []
  },
  {
   "cell_type": "markdown",
   "metadata": {},
   "source": [
    "## ER / OP / DC Reports"
   ]
  },
  {
   "cell_type": "code",
   "execution_count": 10,
   "metadata": {
    "collapsed": true
   },
   "outputs": [],
   "source": [
    "source_file = \"IBD_Registry_BA1951_ER_OP_DC_Reports_2020-01-05-09-11-16.xls\"\n",
    "cols = ['AUTO_ID', 'ENC_TYPE_C', 'ENC_TYPE_NAME', 'CONTACT_DATE', 'DEPT_ID', 'DEPT_NAME']\n",
    "deid_patient_file(patient_master, source_path, source_file, output_path, 'PAT_MRN_ID', cols, source_file_type='excel', output_file_type='excel')"
   ]
  },
  {
   "cell_type": "code",
   "execution_count": null,
   "metadata": {
    "collapsed": true
   },
   "outputs": [],
   "source": []
  },
  {
   "cell_type": "code",
   "execution_count": null,
   "metadata": {
    "collapsed": true
   },
   "outputs": [],
   "source": []
  },
  {
   "cell_type": "markdown",
   "metadata": {},
   "source": [
    "## Family History"
   ]
  },
  {
   "cell_type": "code",
   "execution_count": 11,
   "metadata": {
    "collapsed": true
   },
   "outputs": [],
   "source": [
    "source_file = \"IBD_Registry_BA1951_Family_Hx_2020-01-05-11-06-30.xlsx\"\n",
    "cols = ['AUTO_ID', 'CONTACT_DATE', 'MEDICAL_HX', 'RELATION', 'COMMENTS']\n",
    "deid_patient_file(patient_master, source_path, source_file, output_path, 'PAT_MRN_ID', cols, source_file_type='excel', output_file_type='excel')"
   ]
  },
  {
   "cell_type": "code",
   "execution_count": null,
   "metadata": {
    "collapsed": true
   },
   "outputs": [],
   "source": []
  },
  {
   "cell_type": "code",
   "execution_count": null,
   "metadata": {
    "collapsed": true
   },
   "outputs": [],
   "source": []
  },
  {
   "cell_type": "markdown",
   "metadata": {},
   "source": [
    "## Immunizations"
   ]
  },
  {
   "cell_type": "code",
   "execution_count": 12,
   "metadata": {
    "collapsed": true
   },
   "outputs": [],
   "source": [
    "source_file = \"IBD_Registry_BA1951_Immunizations_2020-01-05-10-00-26.xls\"\n",
    "cols = ['AUTO_ID','IMMUNE_DATE', 'IMMUNIZATION_NAME']\n",
    "deid_patient_file(patient_master, source_path, source_file, output_path, 'PAT_MRN_ID', cols, source_file_type='excel', output_file_type='excel')"
   ]
  },
  {
   "cell_type": "code",
   "execution_count": null,
   "metadata": {
    "collapsed": true
   },
   "outputs": [],
   "source": []
  },
  {
   "cell_type": "code",
   "execution_count": null,
   "metadata": {
    "collapsed": true
   },
   "outputs": [],
   "source": []
  },
  {
   "cell_type": "markdown",
   "metadata": {},
   "source": [
    "## Medications"
   ]
  },
  {
   "cell_type": "code",
   "execution_count": 86,
   "metadata": {
    "collapsed": true
   },
   "outputs": [],
   "source": [
    "source_file = \"IBD_Registry_BA1951_Medications_2020-01-05-09-47-26.xlsx\"\n",
    "cols = ['AUTO_ID', 'ORDER_ID', 'MED_ID', 'MED_NAME', 'SIMPLE_GENERIC_C',\n",
    "       'SIMPLE_GENERIC_NAME', 'ORDERING_DATE', 'START_DATE', 'END_DATE',\n",
    "       'THERA_CLASS_C', 'THERAPEUTIC_CLASS', 'PHARM_CLASS_C', 'PHARM_CLASS',\n",
    "       'PHARM_SUBCLASS_C', 'PHARM_SUB_CLASS', 'DESCRIPTION', 'SIG']\n",
    "deid_patient_file(patient_master, source_path, source_file, output_path, 'PAT_ID', cols, source_file_type='excel', output_file_type='excel')"
   ]
  },
  {
   "cell_type": "code",
   "execution_count": null,
   "metadata": {
    "collapsed": true
   },
   "outputs": [],
   "source": []
  },
  {
   "cell_type": "markdown",
   "metadata": {
    "collapsed": true
   },
   "source": [
    "### Filter Medications"
   ]
  },
  {
   "cell_type": "code",
   "execution_count": 87,
   "metadata": {},
   "outputs": [
    {
     "data": {
      "text/html": [
       "<div>\n",
       "<style>\n",
       "    .dataframe thead tr:only-child th {\n",
       "        text-align: right;\n",
       "    }\n",
       "\n",
       "    .dataframe thead th {\n",
       "        text-align: left;\n",
       "    }\n",
       "\n",
       "    .dataframe tbody tr th {\n",
       "        vertical-align: top;\n",
       "    }\n",
       "</style>\n",
       "<table border=\"1\" class=\"dataframe\">\n",
       "  <thead>\n",
       "    <tr style=\"text-align: right;\">\n",
       "      <th></th>\n",
       "      <th>AUTO_ID</th>\n",
       "      <th>ORDER_ID</th>\n",
       "      <th>MED_ID</th>\n",
       "      <th>MED_NAME</th>\n",
       "      <th>SIMPLE_GENERIC_C</th>\n",
       "      <th>SIMPLE_GENERIC_NAME</th>\n",
       "      <th>ORDERING_DATE</th>\n",
       "      <th>START_DATE</th>\n",
       "      <th>END_DATE</th>\n",
       "      <th>THERA_CLASS_C</th>\n",
       "      <th>THERAPEUTIC_CLASS</th>\n",
       "      <th>PHARM_CLASS_C</th>\n",
       "      <th>PHARM_CLASS</th>\n",
       "      <th>PHARM_SUBCLASS_C</th>\n",
       "      <th>PHARM_SUB_CLASS</th>\n",
       "      <th>DESCRIPTION</th>\n",
       "      <th>SIG</th>\n",
       "    </tr>\n",
       "  </thead>\n",
       "  <tbody>\n",
       "    <tr>\n",
       "      <th>0</th>\n",
       "      <td>0</td>\n",
       "      <td>41818775</td>\n",
       "      <td>2786</td>\n",
       "      <td>AZATHIOPRINE 50 MG TABLET</td>\n",
       "      <td>9.940601e+09</td>\n",
       "      <td>AZATHIOPRINE</td>\n",
       "      <td>2010-08-12 00:00:00</td>\n",
       "      <td>NaN</td>\n",
       "      <td>2010-08-20 00:00:00</td>\n",
       "      <td>72.0</td>\n",
       "      <td>IMMUNOSUPPRESSANTS</td>\n",
       "      <td>12531.0</td>\n",
       "      <td>IMMUNOSUPPRESSIVES</td>\n",
       "      <td>10897.0</td>\n",
       "      <td>IMMUNOSUPPRESSIVE - PURINE ANALOGS</td>\n",
       "      <td>AZATHIOPRINE 50 MG TAB</td>\n",
       "      <td>2 tabs daily</td>\n",
       "    </tr>\n",
       "    <tr>\n",
       "      <th>1</th>\n",
       "      <td>0</td>\n",
       "      <td>41818776</td>\n",
       "      <td>84990</td>\n",
       "      <td>PREDNISOLONE 10 MG DISINTEGRATING TABLET</td>\n",
       "      <td>9.990301e+09</td>\n",
       "      <td>PREDNISOLONE SODIUM PHOSPHATE</td>\n",
       "      <td>2010-08-12 00:00:00</td>\n",
       "      <td>NaN</td>\n",
       "      <td>2010-10-14 00:00:00</td>\n",
       "      <td>68.0</td>\n",
       "      <td>HORMONES</td>\n",
       "      <td>12321.0</td>\n",
       "      <td>GLUCOCORTICOIDS</td>\n",
       "      <td>11107.0</td>\n",
       "      <td>GLUCOCORTICOIDS</td>\n",
       "      <td>PREDNISOLONE 10 MG TAB, RAPID DISSOLVE</td>\n",
       "      <td>3 tabs daily</td>\n",
       "    </tr>\n",
       "    <tr>\n",
       "      <th>2</th>\n",
       "      <td>0</td>\n",
       "      <td>41818777</td>\n",
       "      <td>53767</td>\n",
       "      <td>MESALAMINE 400 MG TABLET,DELAYED RELEASE</td>\n",
       "      <td>5.250003e+09</td>\n",
       "      <td>MESALAMINE</td>\n",
       "      <td>2010-08-12 00:00:00</td>\n",
       "      <td>NaN</td>\n",
       "      <td>2011-04-07 00:00:00</td>\n",
       "      <td>65.0</td>\n",
       "      <td>GASTROINTESTINAL</td>\n",
       "      <td>12923.0</td>\n",
       "      <td>DRUG TX-CHRONIC INFLAM. COLON DX,5-AMINOSALICYLAT</td>\n",
       "      <td>11206.0</td>\n",
       "      <td>INFLAMMATORY BOWEL AGENT - AMINOSALICYLATES AN...</td>\n",
       "      <td>MESALAMINE 400 MG TAB, DELAYED RELEASE</td>\n",
       "      <td>4 tabs 3 x daily</td>\n",
       "    </tr>\n",
       "    <tr>\n",
       "      <th>3</th>\n",
       "      <td>0</td>\n",
       "      <td>41818778</td>\n",
       "      <td>31588</td>\n",
       "      <td>FOLIC ACID 1 MG TABLET</td>\n",
       "      <td>8.220001e+09</td>\n",
       "      <td>FOLIC ACID</td>\n",
       "      <td>2010-08-12 00:00:00</td>\n",
       "      <td>NaN</td>\n",
       "      <td>2011-04-07 00:00:00</td>\n",
       "      <td>95.0</td>\n",
       "      <td>VITAMINS</td>\n",
       "      <td>12173.0</td>\n",
       "      <td>FOLIC ACID PREPARATIONS</td>\n",
       "      <td>10563.0</td>\n",
       "      <td>VITAMINS - FOLIC ACID AND DERIVATIVES</td>\n",
       "      <td>FOLIC ACID 1 MG TAB</td>\n",
       "      <td>1 tab daily</td>\n",
       "    </tr>\n",
       "    <tr>\n",
       "      <th>4</th>\n",
       "      <td>0</td>\n",
       "      <td>41818779</td>\n",
       "      <td>114099</td>\n",
       "      <td>MESALAMINE RECT</td>\n",
       "      <td>5.250003e+09</td>\n",
       "      <td>MESALAMINE</td>\n",
       "      <td>2010-08-12 00:00:00</td>\n",
       "      <td>NaN</td>\n",
       "      <td>2011-04-07 00:00:00</td>\n",
       "      <td>65.0</td>\n",
       "      <td>GASTROINTESTINAL</td>\n",
       "      <td>12931.0</td>\n",
       "      <td>CHRONIC INFLAM. COLON DX, 5-A-SALICYLAT,RECTAL TX</td>\n",
       "      <td>11206.0</td>\n",
       "      <td>INFLAMMATORY BOWEL AGENT - AMINOSALICYLATES AN...</td>\n",
       "      <td>MESALAMINE RECT</td>\n",
       "      <td>1 daily</td>\n",
       "    </tr>\n",
       "  </tbody>\n",
       "</table>\n",
       "</div>"
      ],
      "text/plain": [
       "   AUTO_ID  ORDER_ID  MED_ID                                  MED_NAME  \\\n",
       "0        0  41818775    2786                 AZATHIOPRINE 50 MG TABLET   \n",
       "1        0  41818776   84990  PREDNISOLONE 10 MG DISINTEGRATING TABLET   \n",
       "2        0  41818777   53767  MESALAMINE 400 MG TABLET,DELAYED RELEASE   \n",
       "3        0  41818778   31588                    FOLIC ACID 1 MG TABLET   \n",
       "4        0  41818779  114099                           MESALAMINE RECT   \n",
       "\n",
       "   SIMPLE_GENERIC_C            SIMPLE_GENERIC_NAME        ORDERING_DATE  \\\n",
       "0      9.940601e+09                   AZATHIOPRINE  2010-08-12 00:00:00   \n",
       "1      9.990301e+09  PREDNISOLONE SODIUM PHOSPHATE  2010-08-12 00:00:00   \n",
       "2      5.250003e+09                     MESALAMINE  2010-08-12 00:00:00   \n",
       "3      8.220001e+09                     FOLIC ACID  2010-08-12 00:00:00   \n",
       "4      5.250003e+09                     MESALAMINE  2010-08-12 00:00:00   \n",
       "\n",
       "  START_DATE             END_DATE  THERA_CLASS_C   THERAPEUTIC_CLASS  \\\n",
       "0        NaN  2010-08-20 00:00:00           72.0  IMMUNOSUPPRESSANTS   \n",
       "1        NaN  2010-10-14 00:00:00           68.0            HORMONES   \n",
       "2        NaN  2011-04-07 00:00:00           65.0    GASTROINTESTINAL   \n",
       "3        NaN  2011-04-07 00:00:00           95.0            VITAMINS   \n",
       "4        NaN  2011-04-07 00:00:00           65.0    GASTROINTESTINAL   \n",
       "\n",
       "   PHARM_CLASS_C                                        PHARM_CLASS  \\\n",
       "0        12531.0                                 IMMUNOSUPPRESSIVES   \n",
       "1        12321.0                                    GLUCOCORTICOIDS   \n",
       "2        12923.0  DRUG TX-CHRONIC INFLAM. COLON DX,5-AMINOSALICYLAT   \n",
       "3        12173.0                            FOLIC ACID PREPARATIONS   \n",
       "4        12931.0  CHRONIC INFLAM. COLON DX, 5-A-SALICYLAT,RECTAL TX   \n",
       "\n",
       "   PHARM_SUBCLASS_C                                    PHARM_SUB_CLASS  \\\n",
       "0           10897.0                 IMMUNOSUPPRESSIVE - PURINE ANALOGS   \n",
       "1           11107.0                                    GLUCOCORTICOIDS   \n",
       "2           11206.0  INFLAMMATORY BOWEL AGENT - AMINOSALICYLATES AN...   \n",
       "3           10563.0              VITAMINS - FOLIC ACID AND DERIVATIVES   \n",
       "4           11206.0  INFLAMMATORY BOWEL AGENT - AMINOSALICYLATES AN...   \n",
       "\n",
       "                              DESCRIPTION               SIG  \n",
       "0                  AZATHIOPRINE 50 MG TAB      2 tabs daily  \n",
       "1  PREDNISOLONE 10 MG TAB, RAPID DISSOLVE      3 tabs daily  \n",
       "2  MESALAMINE 400 MG TAB, DELAYED RELEASE  4 tabs 3 x daily  \n",
       "3                     FOLIC ACID 1 MG TAB       1 tab daily  \n",
       "4                         MESALAMINE RECT           1 daily  "
      ]
     },
     "execution_count": 87,
     "metadata": {},
     "output_type": "execute_result"
    }
   ],
   "source": [
    "from dictionaries import meds_dictionary\n",
    "meds = pd.read_excel(output_path + 'deid_' + source_file)\n",
    "meds.head()\n",
    "\n",
    "    "
   ]
  },
  {
   "cell_type": "code",
   "execution_count": 88,
   "metadata": {},
   "outputs": [
    {
     "data": {
      "text/plain": [
       "(74804, 17)"
      ]
     },
     "execution_count": 88,
     "metadata": {},
     "output_type": "execute_result"
    }
   ],
   "source": [
    "# Select only those meds that are related to IBD\n",
    "ibd_meds = list(meds_dictionary.meds_dict.keys())\n",
    "meds = meds[meds['SIMPLE_GENERIC_NAME'].isin(ibd_meds)]\n",
    "meds.reset_index()\n",
    "meds.shape"
   ]
  },
  {
   "cell_type": "code",
   "execution_count": 91,
   "metadata": {
    "collapsed": true
   },
   "outputs": [],
   "source": [
    "def update_med_group(generic_name, med_name):\n",
    "    if len(meds_dictionary.meds_dict[generic_name].med_generic_name) == 0:\n",
    "        return meds_dictionary.meds_dict[generic_name].group\n",
    "    else:\n",
    "        if med_name in meds_dictionary.meds_dict[generic_name].med_names:\n",
    "             return meds_dictionary.meds_dict[generic_name].group\n",
    "    return ''\n",
    "    "
   ]
  },
  {
   "cell_type": "code",
   "execution_count": 92,
   "metadata": {},
   "outputs": [],
   "source": [
    "meds['GROUP'] = meds.apply(lambda x: update_med_group(x['SIMPLE_GENERIC_NAME'], x['MED_NAME']), axis=1)"
   ]
  },
  {
   "cell_type": "code",
   "execution_count": 93,
   "metadata": {
    "collapsed": true
   },
   "outputs": [],
   "source": [
    "meds.to_excel(output_path + 'filtered_meds.xlsx')"
   ]
  },
  {
   "cell_type": "markdown",
   "metadata": {},
   "source": [
    "## Encounters"
   ]
  },
  {
   "cell_type": "code",
   "execution_count": 20,
   "metadata": {
    "collapsed": true
   },
   "outputs": [],
   "source": [
    "source_file = \"IBD_Registry_BA1951_Office_Phone_Email_Encs_2020-01-05-09-43-50.xlsx\"\n",
    "cols = ['AUTO_ID', 'ENC_TYPE_C', 'ENC_TYPE_NAME',\n",
    "       'CONTACT_DATE', 'DEPT_ID', 'DEPT_NAME', 'VISIT_PROV_ID',\n",
    "       'VISIT_PROV_NAME', 'ICD9_CODE', 'ICD10_CODE', 'PRIMARY_DX']\n",
    "deid_patient_file(patient_master, source_path, source_file, output_path, 'PAT_MRN_ID', cols, source_file_type='excel', output_file_type='excel')"
   ]
  },
  {
   "cell_type": "code",
   "execution_count": null,
   "metadata": {
    "collapsed": true
   },
   "outputs": [],
   "source": []
  },
  {
   "cell_type": "code",
   "execution_count": null,
   "metadata": {
    "collapsed": true
   },
   "outputs": [],
   "source": []
  },
  {
   "cell_type": "markdown",
   "metadata": {},
   "source": [
    "## Problem List (Comorbidities)\n"
   ]
  },
  {
   "cell_type": "code",
   "execution_count": 21,
   "metadata": {
    "collapsed": true
   },
   "outputs": [],
   "source": [
    "source_file = \"IBD_Registry_BA1951_Problem_List_2020-01-05-09-30-19.xls\"\n",
    "cols = ['AUTO_ID', 'DATE_OF_ENTRY', 'NOTED_DATE',\n",
    "       'RESOLVED_DATE', 'UPDATE_DATE', 'PROBLEM_DESCRIPTION', 'ICD9_CODE',\n",
    "       'ICD10_CODE', 'DIAGNOSIS_NAME', 'CLASS_OF_PROBLEM', 'PROBLEM_TYPE',\n",
    "       'PROBLEM_STATUS', 'PRIORITY']\n",
    "deid_patient_file(patient_master, source_path, source_file, output_path, 'PAT_MRN_ID', cols, source_file_type='excel', output_file_type='excel')"
   ]
  },
  {
   "cell_type": "code",
   "execution_count": null,
   "metadata": {
    "collapsed": true
   },
   "outputs": [],
   "source": []
  },
  {
   "cell_type": "code",
   "execution_count": null,
   "metadata": {
    "collapsed": true
   },
   "outputs": [],
   "source": []
  },
  {
   "cell_type": "markdown",
   "metadata": {},
   "source": [
    "## Radiology Tests"
   ]
  },
  {
   "cell_type": "code",
   "execution_count": 22,
   "metadata": {
    "collapsed": true
   },
   "outputs": [],
   "source": [
    "source_file = \"IBD_Registry_BA1951_Rad_Diagnostic_Tests_2020-01-05-12-18-06.xlsx\"\n",
    "cols = ['AUTO_ID', 'VISIT DEPT', 'VISIT_DATE', 'ORDERING_DATE',\n",
    "       'CPT_CODE', 'DESCRIPTION', 'QUANTITY', 'PROC_START_DATE', 'PAT_STATUS',\n",
    "       'PROC_CAT_NAME', 'ORDER_TYPE', 'ORDER_CLASS', 'ORDER_STATUS',\n",
    "       'UPDATE_DATE', 'AUTH_PROV_NAME', 'RESULT_DATE', 'REVIEW_DATE', 'CENTER',\n",
    "       'STUDY_RESULT']\n",
    "deid_patient_file(patient_master, source_path, source_file, output_path, 'PAT_MRN_ID', cols, source_file_type='excel', output_file_type='excel')"
   ]
  },
  {
   "cell_type": "code",
   "execution_count": null,
   "metadata": {
    "collapsed": true
   },
   "outputs": [],
   "source": []
  },
  {
   "cell_type": "code",
   "execution_count": null,
   "metadata": {
    "collapsed": true
   },
   "outputs": [],
   "source": []
  },
  {
   "cell_type": "markdown",
   "metadata": {},
   "source": [
    "## SIBDQ Questionnaires"
   ]
  },
  {
   "cell_type": "code",
   "execution_count": 23,
   "metadata": {
    "collapsed": true
   },
   "outputs": [],
   "source": [
    "source_file = \"IBD_Registry_BA1951_SIBDQ_Pain_Questionnaires_2020-01-05-10-28-55.xls\"\n",
    "cols = ['AUTO_ID', 'CONTACT_DATE', 'ENC_TYPE', 'VISIT_DEPT_NAME',\n",
    "       'COMPLETED_ON', 'Q01_FEELING_FATIGUE',\n",
    "       'Q02_SOCIAL_ENGAGEMENT', 'Q03_DIFFICULTY_ACTIVITIES',\n",
    "       'Q04_TROUBLED_PAIN', 'Q05_FELT_DEPRESSED', 'Q06_PROBLEM_PASSING',\n",
    "       'Q07_MAINTAINING_WEIGHT', 'Q08_FELT_RELAXED', 'Q09_TROUBLED_EMPTY',\n",
    "       'Q10_FELT_ANGRY', 'SIBDQ_TOTAL_SCORE', 'PAIN_TODAY']\n",
    "deid_patient_file(patient_master, source_path, source_file, output_path, 'PAT_ID', cols, source_file_type='excel', output_file_type='excel')"
   ]
  },
  {
   "cell_type": "code",
   "execution_count": null,
   "metadata": {
    "collapsed": true
   },
   "outputs": [],
   "source": []
  },
  {
   "cell_type": "code",
   "execution_count": null,
   "metadata": {
    "collapsed": true
   },
   "outputs": [],
   "source": []
  },
  {
   "cell_type": "markdown",
   "metadata": {},
   "source": [
    "## Social History"
   ]
  },
  {
   "cell_type": "code",
   "execution_count": 24,
   "metadata": {
    "collapsed": true
   },
   "outputs": [],
   "source": [
    "source_file = \"IBD_Registry_BA1951_Social_Hx_2020-01-05-11-09-14.xlsx\"\n",
    "cols = ['AUTO_ID', 'CONTACT_DATE', 'TOBACCO_USER',\n",
    "       'SMOKING_TOB_USE', 'SMOKELESS_TOB_USE', 'TOBACCO_PAK_PER_DY',\n",
    "       'TOBACCO_USED_YEARS', 'TOBACCO_COMMENT', 'SMOKING_QUIT_DATE',\n",
    "       'CIGARETTES_YN', 'PIPES_YN', 'CIGARS_YN', 'SNUFF_YN', 'CHEW_YN',\n",
    "       'ALCOHOL_USE', 'ALCOHOL_OZ_PER_WK', 'ALCOHOL_COMMENT']\n",
    "deid_patient_file(patient_master, source_path, source_file, output_path, 'PAT_MRN_ID', cols, source_file_type='excel', output_file_type='excel')"
   ]
  },
  {
   "cell_type": "code",
   "execution_count": null,
   "metadata": {
    "collapsed": true
   },
   "outputs": [],
   "source": []
  },
  {
   "cell_type": "code",
   "execution_count": null,
   "metadata": {
    "collapsed": true
   },
   "outputs": [],
   "source": []
  },
  {
   "cell_type": "markdown",
   "metadata": {},
   "source": [
    "## Vitals"
   ]
  },
  {
   "cell_type": "code",
   "execution_count": 25,
   "metadata": {
    "collapsed": true
   },
   "outputs": [],
   "source": [
    "source_file = \"IBD_Registry_BA1951_Vitals_BP_Ht_Wt_2020-01-05-11-14-00.xlsx\"\n",
    "cols = ['AUTO_ID', 'ENCOUNTER_TYPE', 'CONTACT_DATE', 'BMI',\n",
    "       'HEIGHT', 'WEIGHT', 'PULSE', 'RESPIRATIONS', 'BP_RECORDED_DATE_TIME',\n",
    "       'BP', 'BP_POSITION']\n",
    "deid_patient_file(patient_master, source_path, source_file, output_path, 'PAT_MRN_ID', cols, source_file_type='excel', output_file_type='excel')"
   ]
  },
  {
   "cell_type": "code",
   "execution_count": null,
   "metadata": {
    "collapsed": true
   },
   "outputs": [],
   "source": []
  },
  {
   "cell_type": "code",
   "execution_count": null,
   "metadata": {
    "collapsed": true
   },
   "outputs": [],
   "source": []
  },
  {
   "cell_type": "markdown",
   "metadata": {},
   "source": [
    "## Labs"
   ]
  },
  {
   "cell_type": "code",
   "execution_count": 26,
   "metadata": {
    "collapsed": true
   },
   "outputs": [],
   "source": [
    "source_files = [\"IBD_Registry_BA1951_Labs_A-G_2020-01-05-13-33-16.xlsx\",\n",
    "               \"IBD_Registry_BA1951_Labs_H-Q_2020-01-05-14-00-14.xlsx\",\n",
    "               \"IBD_Registry_BA1951_Labs_R-Z_2020-01-05-14-30-12.xlsx\"]\n",
    "cols = ['AUTO_ID', 'ORDER_DATE', 'PROC_CODE', 'PROC_NAME', 'ORDER_STATUS',\n",
    "       'CPT_CODE', 'LAB_COMP_ID', 'LAB_COMP_NAME', 'RESULT_DATE', 'ORD_VALUE',\n",
    "       'ORD_NUM_VALUE', 'REF_LOW', 'REF_HIGH', 'REF_NORMAL_VALS', 'REF_UNIT',\n",
    "       'RESULT_FLAG']\n",
    "for source_file in source_files:\n",
    "    deid_patient_file(patient_master, source_path, source_file, output_path, 'PAT_MRN_ID', cols, source_file_type='excel', output_file_type='excel')"
   ]
  },
  {
   "cell_type": "markdown",
   "metadata": {
    "collapsed": true
   },
   "source": [
    "### Filter Labs"
   ]
  },
  {
   "cell_type": "code",
   "execution_count": 28,
   "metadata": {},
   "outputs": [
    {
     "data": {
      "text/plain": [
       "(3145725, 16)"
      ]
     },
     "execution_count": 28,
     "metadata": {},
     "output_type": "execute_result"
    }
   ],
   "source": [
    "from dictionaries import labs_dictionary\n",
    "\n",
    "labs = pd.DataFrame()\n",
    "\n",
    "for source_file in source_files:\n",
    "    df = pd.read_excel(output_path + 'deid_' + source_file, dtype=str)\n",
    "    labs = pd.concat([labs, df])\n",
    "    \n",
    "labs.shape"
   ]
  },
  {
   "cell_type": "code",
   "execution_count": 30,
   "metadata": {},
   "outputs": [
    {
     "data": {
      "text/html": [
       "<div>\n",
       "<style>\n",
       "    .dataframe thead tr:only-child th {\n",
       "        text-align: right;\n",
       "    }\n",
       "\n",
       "    .dataframe thead th {\n",
       "        text-align: left;\n",
       "    }\n",
       "\n",
       "    .dataframe tbody tr th {\n",
       "        vertical-align: top;\n",
       "    }\n",
       "</style>\n",
       "<table border=\"1\" class=\"dataframe\">\n",
       "  <thead>\n",
       "    <tr style=\"text-align: right;\">\n",
       "      <th></th>\n",
       "      <th>AUTO_ID</th>\n",
       "      <th>ORDER_DATE</th>\n",
       "      <th>PROC_CODE</th>\n",
       "      <th>PROC_NAME</th>\n",
       "      <th>ORDER_STATUS</th>\n",
       "      <th>CPT_CODE</th>\n",
       "      <th>LAB_COMP_ID</th>\n",
       "      <th>LAB_COMP_NAME</th>\n",
       "      <th>RESULT_DATE</th>\n",
       "      <th>ORD_VALUE</th>\n",
       "      <th>ORD_NUM_VALUE</th>\n",
       "      <th>REF_LOW</th>\n",
       "      <th>REF_HIGH</th>\n",
       "      <th>REF_NORMAL_VALS</th>\n",
       "      <th>REF_UNIT</th>\n",
       "      <th>RESULT_FLAG</th>\n",
       "      <th>GROUP</th>\n",
       "    </tr>\n",
       "  </thead>\n",
       "  <tbody>\n",
       "    <tr>\n",
       "      <th>0</th>\n",
       "      <td>0</td>\n",
       "      <td>2010-08-12 00:00:00</td>\n",
       "      <td>8355001</td>\n",
       "      <td>IRON(FE) &amp; TIBC (OO)</td>\n",
       "      <td>Completed</td>\n",
       "      <td>83550</td>\n",
       "      <td>214</td>\n",
       "      <td>% IRON(FE) SATURATION</td>\n",
       "      <td>2010-08-12 00:00:00</td>\n",
       "      <td>6</td>\n",
       "      <td>6</td>\n",
       "      <td>25</td>\n",
       "      <td>50</td>\n",
       "      <td>nan</td>\n",
       "      <td>%</td>\n",
       "      <td>Low</td>\n",
       "      <td></td>\n",
       "    </tr>\n",
       "    <tr>\n",
       "      <th>1</th>\n",
       "      <td>0</td>\n",
       "      <td>2010-08-12 00:00:00</td>\n",
       "      <td>8502502</td>\n",
       "      <td>CBC &amp; DIFF INC PLATELET</td>\n",
       "      <td>Completed</td>\n",
       "      <td>85025</td>\n",
       "      <td>76</td>\n",
       "      <td>ABS BASOPHILS</td>\n",
       "      <td>2010-08-12 00:00:00</td>\n",
       "      <td>0.00</td>\n",
       "      <td>0</td>\n",
       "      <td>0.00</td>\n",
       "      <td>0.06</td>\n",
       "      <td>nan</td>\n",
       "      <td>X10E+09/L</td>\n",
       "      <td>nan</td>\n",
       "      <td></td>\n",
       "    </tr>\n",
       "    <tr>\n",
       "      <th>2</th>\n",
       "      <td>0</td>\n",
       "      <td>2010-08-12 00:00:00</td>\n",
       "      <td>8502502</td>\n",
       "      <td>CBC &amp; DIFF INC PLATELET</td>\n",
       "      <td>Completed</td>\n",
       "      <td>85025</td>\n",
       "      <td>74</td>\n",
       "      <td>ABS EOSINOPHILS</td>\n",
       "      <td>2010-08-12 00:00:00</td>\n",
       "      <td>0.00</td>\n",
       "      <td>0</td>\n",
       "      <td>0.00</td>\n",
       "      <td>0.40</td>\n",
       "      <td>nan</td>\n",
       "      <td>X10E+09/L</td>\n",
       "      <td>nan</td>\n",
       "      <td></td>\n",
       "    </tr>\n",
       "    <tr>\n",
       "      <th>3</th>\n",
       "      <td>0</td>\n",
       "      <td>2010-08-12 00:00:00</td>\n",
       "      <td>8502502</td>\n",
       "      <td>CBC &amp; DIFF INC PLATELET</td>\n",
       "      <td>Completed</td>\n",
       "      <td>85025</td>\n",
       "      <td>70</td>\n",
       "      <td>ABS LYMPHOCYTES</td>\n",
       "      <td>2010-08-12 00:00:00</td>\n",
       "      <td>0.50</td>\n",
       "      <td>0.5</td>\n",
       "      <td>0.80</td>\n",
       "      <td>3.65</td>\n",
       "      <td>nan</td>\n",
       "      <td>X10E+09/L</td>\n",
       "      <td>Low</td>\n",
       "      <td></td>\n",
       "    </tr>\n",
       "    <tr>\n",
       "      <th>4</th>\n",
       "      <td>0</td>\n",
       "      <td>2010-08-12 00:00:00</td>\n",
       "      <td>8502502</td>\n",
       "      <td>CBC &amp; DIFF INC PLATELET</td>\n",
       "      <td>Completed</td>\n",
       "      <td>85025</td>\n",
       "      <td>72</td>\n",
       "      <td>ABS MONOCYTES</td>\n",
       "      <td>2010-08-12 00:00:00</td>\n",
       "      <td>0.50</td>\n",
       "      <td>0.5</td>\n",
       "      <td>0.30</td>\n",
       "      <td>0.90</td>\n",
       "      <td>nan</td>\n",
       "      <td>X10E+09/L</td>\n",
       "      <td>nan</td>\n",
       "      <td></td>\n",
       "    </tr>\n",
       "  </tbody>\n",
       "</table>\n",
       "</div>"
      ],
      "text/plain": [
       "  AUTO_ID           ORDER_DATE PROC_CODE                PROC_NAME  \\\n",
       "0       0  2010-08-12 00:00:00   8355001     IRON(FE) & TIBC (OO)   \n",
       "1       0  2010-08-12 00:00:00   8502502  CBC & DIFF INC PLATELET   \n",
       "2       0  2010-08-12 00:00:00   8502502  CBC & DIFF INC PLATELET   \n",
       "3       0  2010-08-12 00:00:00   8502502  CBC & DIFF INC PLATELET   \n",
       "4       0  2010-08-12 00:00:00   8502502  CBC & DIFF INC PLATELET   \n",
       "\n",
       "  ORDER_STATUS CPT_CODE LAB_COMP_ID          LAB_COMP_NAME  \\\n",
       "0    Completed    83550         214  % IRON(FE) SATURATION   \n",
       "1    Completed    85025          76          ABS BASOPHILS   \n",
       "2    Completed    85025          74        ABS EOSINOPHILS   \n",
       "3    Completed    85025          70        ABS LYMPHOCYTES   \n",
       "4    Completed    85025          72          ABS MONOCYTES   \n",
       "\n",
       "           RESULT_DATE ORD_VALUE ORD_NUM_VALUE REF_LOW REF_HIGH  \\\n",
       "0  2010-08-12 00:00:00         6             6      25       50   \n",
       "1  2010-08-12 00:00:00      0.00             0    0.00     0.06   \n",
       "2  2010-08-12 00:00:00      0.00             0    0.00     0.40   \n",
       "3  2010-08-12 00:00:00      0.50           0.5    0.80     3.65   \n",
       "4  2010-08-12 00:00:00      0.50           0.5    0.30     0.90   \n",
       "\n",
       "  REF_NORMAL_VALS   REF_UNIT RESULT_FLAG GROUP  \n",
       "0             nan          %         Low        \n",
       "1             nan  X10E+09/L         nan        \n",
       "2             nan  X10E+09/L         nan        \n",
       "3             nan  X10E+09/L         Low        \n",
       "4             nan  X10E+09/L         nan        "
      ]
     },
     "execution_count": 30,
     "metadata": {},
     "output_type": "execute_result"
    }
   ],
   "source": [
    "labs['GROUP'] = ''\n",
    "labs.head()"
   ]
  },
  {
   "cell_type": "code",
   "execution_count": 33,
   "metadata": {},
   "outputs": [
    {
     "data": {
      "text/plain": [
       "(3145725, 17)"
      ]
     },
     "execution_count": 33,
     "metadata": {},
     "output_type": "execute_result"
    }
   ],
   "source": [
    "labs.shape"
   ]
  },
  {
   "cell_type": "code",
   "execution_count": 76,
   "metadata": {},
   "outputs": [
    {
     "data": {
      "text/plain": [
       "(423780, 17)"
      ]
     },
     "execution_count": 76,
     "metadata": {},
     "output_type": "execute_result"
    }
   ],
   "source": [
    "# Select only those labs that are related to IBD\n",
    "ibd_labs = list(labs_dictionary.labs_dict.keys())\n",
    "labs = labs[labs['LAB_COMP_NAME'].isin(ibd_labs)]\n",
    "labs.reset_index()\n",
    "labs.shape"
   ]
  },
  {
   "cell_type": "code",
   "execution_count": 77,
   "metadata": {},
   "outputs": [],
   "source": [
    "def update_lab_group(lab_comp_name, proc_name):\n",
    "    if len(labs_dictionary.labs_dict[lab_comp_name].proc_names) == 0:\n",
    "        return labs_dictionary.labs_dict[lab_comp_name].group\n",
    "    else:\n",
    "        if proc_name in labs_dictionary.labs_dict[lab_comp_name].proc_names:\n",
    "            return labs_dictionary.labs_dict[lab_comp_name].group\n",
    "    return ''"
   ]
  },
  {
   "cell_type": "code",
   "execution_count": 78,
   "metadata": {
    "scrolled": true
   },
   "outputs": [],
   "source": [
    "labs['GROUP'] = labs.apply(lambda x: update_lab_group(x['LAB_COMP_NAME'], x['PROC_NAME']), axis=1)\n",
    "\n",
    "#df['CustomRating'] = df.apply(lambda x: custom_rating(x['Genre'],x['Rating']),axis=1)"
   ]
  },
  {
   "cell_type": "code",
   "execution_count": 80,
   "metadata": {
    "collapsed": true
   },
   "outputs": [],
   "source": [
    "labs.to_excel(output_path + 'labs_filtered.xlsx')"
   ]
  },
  {
   "cell_type": "code",
   "execution_count": null,
   "metadata": {
    "collapsed": true
   },
   "outputs": [],
   "source": []
  },
  {
   "cell_type": "code",
   "execution_count": null,
   "metadata": {
    "collapsed": true
   },
   "outputs": [],
   "source": []
  },
  {
   "cell_type": "markdown",
   "metadata": {},
   "source": [
    "## ER, OP, DC Reports"
   ]
  },
  {
   "cell_type": "code",
   "execution_count": 81,
   "metadata": {
    "collapsed": true
   },
   "outputs": [],
   "source": [
    "source_file = \"IBD_Registry_BA1951_ER_OP_DC_Reports_2020-01-05-09-11-16.xls\"\n",
    "cols = ['AUTO_ID', 'ENC_TYPE_C', 'ENC_TYPE_NAME', 'CONTACT_DATE', 'DEPT_ID',\n",
    "       'DEPT_NAME']\n",
    "\n",
    "deid_patient_file(patient_master, source_path, source_file, output_path, 'PAT_MRN_ID', cols, source_file_type='excel', output_file_type='excel')"
   ]
  },
  {
   "cell_type": "code",
   "execution_count": null,
   "metadata": {
    "collapsed": true
   },
   "outputs": [],
   "source": []
  },
  {
   "cell_type": "code",
   "execution_count": null,
   "metadata": {
    "collapsed": true
   },
   "outputs": [],
   "source": []
  },
  {
   "cell_type": "markdown",
   "metadata": {
    "collapsed": true
   },
   "source": [
    "# Harvey Bradshaw "
   ]
  },
  {
   "cell_type": "code",
   "execution_count": 82,
   "metadata": {
    "collapsed": true
   },
   "outputs": [],
   "source": [
    "source_file = 'IBD_Registry_BA1951_Harvey_Bradshaw_Questionnaires_2020-01-05-07-57-00.xlsx'\n",
    "cols = ['AUTO_ID', 'CONTACT_DATE', 'ENC_TYPE',\n",
    "       'VISIT_DEPT_NAME',\n",
    "       'CR_GEN_WELL_BEING', 'CR_ABDOMINAL_PAIN', 'CR_LIQUID',\n",
    "       'CR_ABDOMINAL_MASS', 'CR_ARTHRALGIA', 'CR_UVEITIS', 'CR_ERYTHEMA',\n",
    "       'CR_APHTHOUS', 'CR_PYODERMA', 'CR_FISSURE', 'CR_NEW_FISTULA',\n",
    "       'CR_ABSCESS', 'CROHNS_SCORE', 'UC_GEN_WELL_BEING', 'UC_ABDOMINAL_PAIN',\n",
    "       'UC_LIQUID', 'UC_DEGREE_BLEED', 'UC_APHTHOUS', 'UC_ERYTHEMA',\n",
    "       'UC_PERIPHERAL', 'UC_ACUTE_IRITIS', 'UC_SCORE']\n",
    "\n",
    "deid_patient_file(patient_master, source_path, source_file, output_path, 'PAT_ID', cols, source_file_type='excel', output_file_type='excel')"
   ]
  },
  {
   "cell_type": "code",
   "execution_count": null,
   "metadata": {
    "collapsed": true
   },
   "outputs": [],
   "source": []
  },
  {
   "cell_type": "code",
   "execution_count": null,
   "metadata": {
    "collapsed": true
   },
   "outputs": [],
   "source": []
  }
 ],
 "metadata": {
  "kernelspec": {
   "display_name": "Python 3",
   "language": "python",
   "name": "python3"
  },
  "language_info": {
   "codemirror_mode": {
    "name": "ipython",
    "version": 3
   },
   "file_extension": ".py",
   "mimetype": "text/x-python",
   "name": "python",
   "nbconvert_exporter": "python",
   "pygments_lexer": "ipython3",
   "version": "3.6.3"
  }
 },
 "nbformat": 4,
 "nbformat_minor": 2
}
