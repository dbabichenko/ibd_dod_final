{
 "cells": [
  {
   "cell_type": "code",
   "execution_count": 142,
   "metadata": {
    "collapsed": true,
    "jupyter": {
     "outputs_hidden": true
    }
   },
   "outputs": [],
   "source": [
    "import pandas as pd\n",
    "import os\n",
    "import uuid"
   ]
  },
  {
   "cell_type": "code",
   "execution_count": 143,
   "metadata": {
    "collapsed": true,
    "jupyter": {
     "outputs_hidden": true
    }
   },
   "outputs": [],
   "source": [
    "data_path_r3 = 'D:\\\\Projects\\\\ibd_data\\\\R3_1646_BINION_DATA_2020_05_12\\\\'\n",
    "#data_path_registry = 'D:\\\\Projects\\\\ibd_data\\\\2020 from epic care team\\\\'\n",
    "data_path_registry = 'C:\\\\Users\\\\dmb72\\\\Box Sync\\\\Research\\\\IBD Research\\\\Inflammatory Bowel Disease DOD Grant\\\\data\\\\De-identified with linkers 05-15-2020\\\\'"
   ]
  },
  {
   "cell_type": "markdown",
   "metadata": {},
   "source": [
    "\n",
    "# Demographic information"
   ]
  },
  {
   "cell_type": "markdown",
   "metadata": {},
   "source": [
    "## UPMC demographic data"
   ]
  },
  {
   "cell_type": "code",
   "execution_count": 13,
   "metadata": {},
   "outputs": [
    {
     "data": {
      "text/html": [
       "<div>\n",
       "<style>\n",
       "    .dataframe thead tr:only-child th {\n",
       "        text-align: right;\n",
       "    }\n",
       "\n",
       "    .dataframe thead th {\n",
       "        text-align: left;\n",
       "    }\n",
       "\n",
       "    .dataframe tbody tr th {\n",
       "        vertical-align: top;\n",
       "    }\n",
       "</style>\n",
       "<table border=\"1\" class=\"dataframe\">\n",
       "  <thead>\n",
       "    <tr style=\"text-align: right;\">\n",
       "      <th></th>\n",
       "      <th>AUTO_ID</th>\n",
       "      <th>BIRTH_YEAR</th>\n",
       "      <th>GENDER</th>\n",
       "      <th>IS_ALIVE</th>\n",
       "      <th>DATA_SOURCE</th>\n",
       "      <th>MARITAL STATUS</th>\n",
       "      <th>RACE</th>\n",
       "      <th>ETHNIC_GROUP</th>\n",
       "      <th>EMPLOYMENT_STATUS</th>\n",
       "    </tr>\n",
       "  </thead>\n",
       "  <tbody>\n",
       "    <tr>\n",
       "      <th>0</th>\n",
       "      <td>6999994666</td>\n",
       "      <td>1958</td>\n",
       "      <td>MALE</td>\n",
       "      <td>True</td>\n",
       "      <td>R3</td>\n",
       "      <td>Unknown</td>\n",
       "      <td>Unknown</td>\n",
       "      <td>Unknown</td>\n",
       "      <td>Unknown</td>\n",
       "    </tr>\n",
       "    <tr>\n",
       "      <th>1</th>\n",
       "      <td>6999993266</td>\n",
       "      <td>1928</td>\n",
       "      <td>FEMALE</td>\n",
       "      <td>False</td>\n",
       "      <td>R3</td>\n",
       "      <td>Unknown</td>\n",
       "      <td>Unknown</td>\n",
       "      <td>Unknown</td>\n",
       "      <td>Unknown</td>\n",
       "    </tr>\n",
       "    <tr>\n",
       "      <th>2</th>\n",
       "      <td>6999997423</td>\n",
       "      <td>1958</td>\n",
       "      <td>FEMALE</td>\n",
       "      <td>True</td>\n",
       "      <td>R3</td>\n",
       "      <td>Unknown</td>\n",
       "      <td>Unknown</td>\n",
       "      <td>Unknown</td>\n",
       "      <td>Unknown</td>\n",
       "    </tr>\n",
       "    <tr>\n",
       "      <th>3</th>\n",
       "      <td>6999947820</td>\n",
       "      <td>1954</td>\n",
       "      <td>FEMALE</td>\n",
       "      <td>True</td>\n",
       "      <td>R3</td>\n",
       "      <td>Unknown</td>\n",
       "      <td>Unknown</td>\n",
       "      <td>Unknown</td>\n",
       "      <td>Unknown</td>\n",
       "    </tr>\n",
       "    <tr>\n",
       "      <th>4</th>\n",
       "      <td>6999947304</td>\n",
       "      <td>1988</td>\n",
       "      <td>MALE</td>\n",
       "      <td>True</td>\n",
       "      <td>R3</td>\n",
       "      <td>Unknown</td>\n",
       "      <td>Unknown</td>\n",
       "      <td>Unknown</td>\n",
       "      <td>Unknown</td>\n",
       "    </tr>\n",
       "  </tbody>\n",
       "</table>\n",
       "</div>"
      ],
      "text/plain": [
       "      AUTO_ID  BIRTH_YEAR  GENDER  IS_ALIVE DATA_SOURCE MARITAL STATUS  \\\n",
       "0  6999994666        1958    MALE      True          R3        Unknown   \n",
       "1  6999993266        1928  FEMALE     False          R3        Unknown   \n",
       "2  6999997423        1958  FEMALE      True          R3        Unknown   \n",
       "3  6999947820        1954  FEMALE      True          R3        Unknown   \n",
       "4  6999947304        1988    MALE      True          R3        Unknown   \n",
       "\n",
       "      RACE ETHNIC_GROUP EMPLOYMENT_STATUS  \n",
       "0  Unknown      Unknown           Unknown  \n",
       "1  Unknown      Unknown           Unknown  \n",
       "2  Unknown      Unknown           Unknown  \n",
       "3  Unknown      Unknown           Unknown  \n",
       "4  Unknown      Unknown           Unknown  "
      ]
     },
     "execution_count": 13,
     "metadata": {},
     "output_type": "execute_result"
    }
   ],
   "source": [
    "\n",
    "demo_file = 'R3_1646_BINION_DEMOGRAPHICS_2020_05_12.csv'\n",
    "df_pat = pd.read_csv(data_path_r3 + demo_file)\n",
    "df_pat['IS_ALIVE'] = pd.isnull(df_pat['DEATH_DATE'])\n",
    "df_pat = df_pat[['STUDY_ID','BIRTH_YEAR','GENDER','IS_ALIVE']]\n",
    "df_pat.columns = ['AUTO_ID','BIRTH_YEAR','GENDER','IS_ALIVE']\n",
    "df_pat['DATA_SOURCE'] = 'R3'\n",
    "df_pat['MARITAL STATUS'] = 'Unknown'\n",
    "df_pat['RACE'] = 'Unknown'\n",
    "df_pat['ETHNIC_GROUP'] = 'Unknown'\n",
    "df_pat['EMPLOYMENT_STATUS'] = 'Unknown'\n",
    "df_pat.head()\n",
    "\n",
    "\n",
    "\n"
   ]
  },
  {
   "cell_type": "markdown",
   "metadata": {},
   "source": [
    "## Registry demographic data"
   ]
  },
  {
   "cell_type": "code",
   "execution_count": 14,
   "metadata": {
    "scrolled": true
   },
   "outputs": [
    {
     "name": "stderr",
     "output_type": "stream",
     "text": [
      "C:\\ProgramData\\Anaconda3\\lib\\site-packages\\ipykernel_launcher.py:7: SettingWithCopyWarning: \n",
      "A value is trying to be set on a copy of a slice from a DataFrame.\n",
      "Try using .loc[row_indexer,col_indexer] = value instead\n",
      "\n",
      "See the caveats in the documentation: http://pandas.pydata.org/pandas-docs/stable/indexing.html#indexing-view-versus-copy\n",
      "  import sys\n",
      "C:\\ProgramData\\Anaconda3\\lib\\site-packages\\ipykernel_launcher.py:8: SettingWithCopyWarning: \n",
      "A value is trying to be set on a copy of a slice from a DataFrame.\n",
      "Try using .loc[row_indexer,col_indexer] = value instead\n",
      "\n",
      "See the caveats in the documentation: http://pandas.pydata.org/pandas-docs/stable/indexing.html#indexing-view-versus-copy\n",
      "  \n"
     ]
    },
    {
     "data": {
      "text/html": [
       "<div>\n",
       "<style>\n",
       "    .dataframe thead tr:only-child th {\n",
       "        text-align: right;\n",
       "    }\n",
       "\n",
       "    .dataframe thead th {\n",
       "        text-align: left;\n",
       "    }\n",
       "\n",
       "    .dataframe tbody tr th {\n",
       "        vertical-align: top;\n",
       "    }\n",
       "</style>\n",
       "<table border=\"1\" class=\"dataframe\">\n",
       "  <thead>\n",
       "    <tr style=\"text-align: right;\">\n",
       "      <th></th>\n",
       "      <th>AUTO_ID</th>\n",
       "      <th>BIRTH_YEAR</th>\n",
       "      <th>GENDER</th>\n",
       "      <th>IS_ALIVE</th>\n",
       "      <th>DATA_SOURCE</th>\n",
       "      <th>MARITAL STATUS</th>\n",
       "      <th>RACE</th>\n",
       "      <th>ETHNIC_GROUP</th>\n",
       "      <th>EMPLOYMENT_STATUS</th>\n",
       "    </tr>\n",
       "  </thead>\n",
       "  <tbody>\n",
       "    <tr>\n",
       "      <th>0</th>\n",
       "      <td>0</td>\n",
       "      <td>1963</td>\n",
       "      <td>M</td>\n",
       "      <td>True</td>\n",
       "      <td>REGISTRY</td>\n",
       "      <td>Married</td>\n",
       "      <td>White</td>\n",
       "      <td>Not Hispanic or Latino</td>\n",
       "      <td>Full Time</td>\n",
       "    </tr>\n",
       "    <tr>\n",
       "      <th>1</th>\n",
       "      <td>1</td>\n",
       "      <td>1952</td>\n",
       "      <td>M</td>\n",
       "      <td>True</td>\n",
       "      <td>REGISTRY</td>\n",
       "      <td>Married</td>\n",
       "      <td>White</td>\n",
       "      <td>Not Hispanic or Latino</td>\n",
       "      <td>Full Time</td>\n",
       "    </tr>\n",
       "    <tr>\n",
       "      <th>2</th>\n",
       "      <td>2</td>\n",
       "      <td>1987</td>\n",
       "      <td>M</td>\n",
       "      <td>True</td>\n",
       "      <td>REGISTRY</td>\n",
       "      <td>Single</td>\n",
       "      <td>White</td>\n",
       "      <td>Not Hispanic or Latino</td>\n",
       "      <td>Not Employed</td>\n",
       "    </tr>\n",
       "    <tr>\n",
       "      <th>3</th>\n",
       "      <td>3</td>\n",
       "      <td>1984</td>\n",
       "      <td>F</td>\n",
       "      <td>True</td>\n",
       "      <td>REGISTRY</td>\n",
       "      <td>Married</td>\n",
       "      <td>White</td>\n",
       "      <td>Not Hispanic or Latino</td>\n",
       "      <td>Not Employed</td>\n",
       "    </tr>\n",
       "    <tr>\n",
       "      <th>4</th>\n",
       "      <td>4</td>\n",
       "      <td>1993</td>\n",
       "      <td>M</td>\n",
       "      <td>True</td>\n",
       "      <td>REGISTRY</td>\n",
       "      <td>Single</td>\n",
       "      <td>Filipino</td>\n",
       "      <td>Not Hispanic or Latino</td>\n",
       "      <td>Not Employed</td>\n",
       "    </tr>\n",
       "  </tbody>\n",
       "</table>\n",
       "</div>"
      ],
      "text/plain": [
       "   AUTO_ID  BIRTH_YEAR GENDER  IS_ALIVE DATA_SOURCE MARITAL STATUS      RACE  \\\n",
       "0        0        1963      M      True    REGISTRY        Married     White   \n",
       "1        1        1952      M      True    REGISTRY        Married     White   \n",
       "2        2        1987      M      True    REGISTRY         Single     White   \n",
       "3        3        1984      F      True    REGISTRY        Married     White   \n",
       "4        4        1993      M      True    REGISTRY         Single  Filipino   \n",
       "\n",
       "             ETHNIC_GROUP EMPLOYMENT_STATUS  \n",
       "0  Not Hispanic or Latino         Full Time  \n",
       "1  Not Hispanic or Latino         Full Time  \n",
       "2  Not Hispanic or Latino      Not Employed  \n",
       "3  Not Hispanic or Latino      Not Employed  \n",
       "4  Not Hispanic or Latino      Not Employed  "
      ]
     },
     "execution_count": 14,
     "metadata": {},
     "output_type": "execute_result"
    }
   ],
   "source": [
    "\n",
    "df_pat_reg = pd.read_excel(data_path_registry + 'deid_patient_master_2020.xlsx')\n",
    "#df_pat_reg.columns\n",
    "df_pat_master = df_pat_reg[['AUTO_ID', 'BIRTH_YEAR', 'GENDER', 'PATIENT_STATUS',\n",
    "       'MARITAL STATUS', 'RACE', 'ETHNIC_GROUP', 'EMPLOYMENT_STATUS']]\n",
    "\n",
    "df_pat_master['IS_ALIVE'] = df_pat_master['PATIENT_STATUS'].map({'Alive': True, 'Deceased': False})\n",
    "df_pat_master['DATA_SOURCE'] = 'REGISTRY'\n",
    "\n",
    "df_pat_master = df_pat_master[['AUTO_ID', 'BIRTH_YEAR', 'GENDER', 'IS_ALIVE', 'DATA_SOURCE',\n",
    "       'MARITAL STATUS', 'RACE', 'ETHNIC_GROUP', 'EMPLOYMENT_STATUS']]\n",
    "\n",
    "df_pat_master.head()\n"
   ]
  },
  {
   "cell_type": "code",
   "execution_count": 15,
   "metadata": {},
   "outputs": [
    {
     "name": "stdout",
     "output_type": "stream",
     "text": [
      "(2020, 9)\n",
      "(4215, 9)\n"
     ]
    }
   ],
   "source": [
    "print(df_pat.shape)\n",
    "print(df_pat_master.shape)"
   ]
  },
  {
   "cell_type": "code",
   "execution_count": 16,
   "metadata": {},
   "outputs": [
    {
     "name": "stdout",
     "output_type": "stream",
     "text": [
      "(6235, 9)\n"
     ]
    }
   ],
   "source": [
    "df_pat_master = pd.concat([df_pat_master, df_pat], axis = 0)\n",
    "print(df_pat_master.shape)\n"
   ]
  },
  {
   "cell_type": "code",
   "execution_count": 18,
   "metadata": {
    "collapsed": true,
    "jupyter": {
     "outputs_hidden": true
    }
   },
   "outputs": [],
   "source": [
    "df_pat_master.to_excel(data_path_registry + 'patients_merged.xlsx')"
   ]
  },
  {
   "cell_type": "markdown",
   "metadata": {},
   "source": [
    "\n",
    "# Labs data"
   ]
  },
  {
   "cell_type": "markdown",
   "metadata": {},
   "source": [
    "## R3 lab data"
   ]
  },
  {
   "cell_type": "code",
   "execution_count": 19,
   "metadata": {
    "scrolled": true
   },
   "outputs": [
    {
     "data": {
      "text/html": [
       "<div>\n",
       "<style>\n",
       "    .dataframe thead tr:only-child th {\n",
       "        text-align: right;\n",
       "    }\n",
       "\n",
       "    .dataframe thead th {\n",
       "        text-align: left;\n",
       "    }\n",
       "\n",
       "    .dataframe tbody tr th {\n",
       "        vertical-align: top;\n",
       "    }\n",
       "</style>\n",
       "<table border=\"1\" class=\"dataframe\">\n",
       "  <thead>\n",
       "    <tr style=\"text-align: right;\">\n",
       "      <th></th>\n",
       "      <th>STUDY_ID</th>\n",
       "      <th>VISIT_ID</th>\n",
       "      <th>ORDER_PROC_ID</th>\n",
       "      <th>RESULT_DATE</th>\n",
       "      <th>COMPONENT_NAME</th>\n",
       "      <th>ORD_VALUE</th>\n",
       "      <th>ORD_NUM_VALUE</th>\n",
       "      <th>REFERENCE_UNIT</th>\n",
       "      <th>REFERENCE_LOW</th>\n",
       "      <th>REFERENCE_HIGH</th>\n",
       "      <th>RESULT_FLAG</th>\n",
       "      <th>LAB_RESULT_STATUS</th>\n",
       "      <th>SPECIMEN_COLLECTED_DATE</th>\n",
       "      <th>SPECIMEN_RECEIVED_DATE</th>\n",
       "      <th>SPECIMEN_TYPE</th>\n",
       "      <th>SPECIMEN_SOURCE</th>\n",
       "    </tr>\n",
       "  </thead>\n",
       "  <tbody>\n",
       "    <tr>\n",
       "      <th>0</th>\n",
       "      <td>6999997423</td>\n",
       "      <td>351489117</td>\n",
       "      <td>203602100</td>\n",
       "      <td>03/27/2015</td>\n",
       "      <td>SPECIMEN DESCRIPTION</td>\n",
       "      <td>Stool</td>\n",
       "      <td>NaN</td>\n",
       "      <td>NaN</td>\n",
       "      <td>NaN</td>\n",
       "      <td>NaN</td>\n",
       "      <td>NaN</td>\n",
       "      <td>FINAL</td>\n",
       "      <td>03/25/2015</td>\n",
       "      <td>03/25/2015</td>\n",
       "      <td>STOOL</td>\n",
       "      <td>NaN</td>\n",
       "    </tr>\n",
       "    <tr>\n",
       "      <th>1</th>\n",
       "      <td>6999997423</td>\n",
       "      <td>351489117</td>\n",
       "      <td>203602100</td>\n",
       "      <td>03/27/2015</td>\n",
       "      <td>SPECIAL REQUESTS</td>\n",
       "      <td>None</td>\n",
       "      <td>NaN</td>\n",
       "      <td>NaN</td>\n",
       "      <td>NaN</td>\n",
       "      <td>NaN</td>\n",
       "      <td>NaN</td>\n",
       "      <td>FINAL</td>\n",
       "      <td>03/25/2015</td>\n",
       "      <td>03/25/2015</td>\n",
       "      <td>STOOL</td>\n",
       "      <td>NaN</td>\n",
       "    </tr>\n",
       "    <tr>\n",
       "      <th>2</th>\n",
       "      <td>6999997423</td>\n",
       "      <td>351489117</td>\n",
       "      <td>203602100</td>\n",
       "      <td>03/27/2015</td>\n",
       "      <td>CULTURE</td>\n",
       "      <td>NaN</td>\n",
       "      <td>NaN</td>\n",
       "      <td>NaN</td>\n",
       "      <td>NaN</td>\n",
       "      <td>NaN</td>\n",
       "      <td>NaN</td>\n",
       "      <td>FINAL</td>\n",
       "      <td>03/25/2015</td>\n",
       "      <td>03/25/2015</td>\n",
       "      <td>STOOL</td>\n",
       "      <td>NaN</td>\n",
       "    </tr>\n",
       "    <tr>\n",
       "      <th>3</th>\n",
       "      <td>6999997423</td>\n",
       "      <td>351489117</td>\n",
       "      <td>203602100</td>\n",
       "      <td>03/27/2015</td>\n",
       "      <td>REPORT</td>\n",
       "      <td>Final Result 03/27/2015</td>\n",
       "      <td>NaN</td>\n",
       "      <td>NaN</td>\n",
       "      <td>NaN</td>\n",
       "      <td>NaN</td>\n",
       "      <td>NaN</td>\n",
       "      <td>FINAL</td>\n",
       "      <td>03/25/2015</td>\n",
       "      <td>03/25/2015</td>\n",
       "      <td>STOOL</td>\n",
       "      <td>NaN</td>\n",
       "    </tr>\n",
       "    <tr>\n",
       "      <th>4</th>\n",
       "      <td>6999997423</td>\n",
       "      <td>351489117</td>\n",
       "      <td>114670251</td>\n",
       "      <td>03/23/2015</td>\n",
       "      <td>LIPASE</td>\n",
       "      <td>164</td>\n",
       "      <td>164.0</td>\n",
       "      <td>U/L</td>\n",
       "      <td>50</td>\n",
       "      <td>393</td>\n",
       "      <td>NaN</td>\n",
       "      <td>FINAL</td>\n",
       "      <td>03/23/2015</td>\n",
       "      <td>03/23/2015</td>\n",
       "      <td>NaN</td>\n",
       "      <td>NaN</td>\n",
       "    </tr>\n",
       "  </tbody>\n",
       "</table>\n",
       "</div>"
      ],
      "text/plain": [
       "     STUDY_ID   VISIT_ID  ORDER_PROC_ID RESULT_DATE        COMPONENT_NAME  \\\n",
       "0  6999997423  351489117      203602100  03/27/2015  SPECIMEN DESCRIPTION   \n",
       "1  6999997423  351489117      203602100  03/27/2015      SPECIAL REQUESTS   \n",
       "2  6999997423  351489117      203602100  03/27/2015               CULTURE   \n",
       "3  6999997423  351489117      203602100  03/27/2015                REPORT   \n",
       "4  6999997423  351489117      114670251  03/23/2015                LIPASE   \n",
       "\n",
       "                 ORD_VALUE  ORD_NUM_VALUE REFERENCE_UNIT REFERENCE_LOW  \\\n",
       "0                    Stool            NaN            NaN           NaN   \n",
       "1                     None            NaN            NaN           NaN   \n",
       "2                      NaN            NaN            NaN           NaN   \n",
       "3  Final Result 03/27/2015            NaN            NaN           NaN   \n",
       "4                      164          164.0            U/L            50   \n",
       "\n",
       "  REFERENCE_HIGH RESULT_FLAG LAB_RESULT_STATUS SPECIMEN_COLLECTED_DATE  \\\n",
       "0            NaN         NaN             FINAL              03/25/2015   \n",
       "1            NaN         NaN             FINAL              03/25/2015   \n",
       "2            NaN         NaN             FINAL              03/25/2015   \n",
       "3            NaN         NaN             FINAL              03/25/2015   \n",
       "4            393         NaN             FINAL              03/23/2015   \n",
       "\n",
       "  SPECIMEN_RECEIVED_DATE SPECIMEN_TYPE  SPECIMEN_SOURCE  \n",
       "0             03/25/2015         STOOL              NaN  \n",
       "1             03/25/2015         STOOL              NaN  \n",
       "2             03/25/2015         STOOL              NaN  \n",
       "3             03/25/2015         STOOL              NaN  \n",
       "4             03/23/2015           NaN              NaN  "
      ]
     },
     "execution_count": 19,
     "metadata": {},
     "output_type": "execute_result"
    }
   ],
   "source": [
    "lab_file = 'R3_1646_BINION_LAB_RESULTS_2020_05_12.csv'\n",
    "df_labs = pd.read_csv(data_path_r3 + lab_file)\n",
    "df_labs.head()\n"
   ]
  },
  {
   "cell_type": "code",
   "execution_count": 20,
   "metadata": {
    "collapsed": true,
    "jupyter": {
     "outputs_hidden": true
    },
    "scrolled": true
   },
   "outputs": [],
   "source": [
    "df_labs.columns\n",
    "df_labs = df_labs[['STUDY_ID', 'RESULT_DATE', 'ORDER_PROC_ID', \n",
    "       'COMPONENT_NAME', 'ORD_VALUE', 'ORD_NUM_VALUE', 'REFERENCE_UNIT',\n",
    "       'REFERENCE_LOW', 'REFERENCE_HIGH', 'RESULT_FLAG']]\n",
    "df_labs['GROUP'] = ''\n",
    "df_labs['DATA_SOURCE'] = 'R3'\n",
    "df_labs.columns = ['AUTO_ID', 'RESULT_DATE', 'ORDER_PROC_ID', \n",
    "       'COMPONENT_NAME', 'ORD_VALUE', 'ORD_NUM_VALUE', 'REFERENCE_UNIT',\n",
    "       'REFERENCE_LOW', 'REFERENCE_HIGH', 'RESULT_FLAG', 'GROUP', 'DATA_SOURCE']"
   ]
  },
  {
   "cell_type": "code",
   "execution_count": 21,
   "metadata": {},
   "outputs": [
    {
     "data": {
      "text/plain": [
       "(117712, 12)"
      ]
     },
     "execution_count": 21,
     "metadata": {},
     "output_type": "execute_result"
    }
   ],
   "source": [
    "from dictionaries import labs_dictionary\n",
    "\n",
    "# Select only those labs that are related to IBD\n",
    "ibd_labs = list(labs_dictionary.labs_dict.keys())\n",
    "df_labs = df_labs[df_labs['COMPONENT_NAME'].isin(ibd_labs)]\n",
    "df_labs.reset_index()\n",
    "df_labs.shape"
   ]
  },
  {
   "cell_type": "code",
   "execution_count": 22,
   "metadata": {
    "collapsed": true,
    "jupyter": {
     "outputs_hidden": true
    }
   },
   "outputs": [],
   "source": [
    "def update_lab_group(lab_comp_name, proc_name):\n",
    "    if len(labs_dictionary.labs_dict[lab_comp_name].proc_names) == 0:\n",
    "        return labs_dictionary.labs_dict[lab_comp_name].group\n",
    "    else:\n",
    "        if proc_name in labs_dictionary.labs_dict[lab_comp_name].proc_names:\n",
    "            return labs_dictionary.labs_dict[lab_comp_name].group\n",
    "    return ''"
   ]
  },
  {
   "cell_type": "code",
   "execution_count": 23,
   "metadata": {
    "collapsed": true,
    "jupyter": {
     "outputs_hidden": true
    }
   },
   "outputs": [],
   "source": [
    "df_labs['GROUP'] = df_labs.apply(lambda x: update_lab_group(x['COMPONENT_NAME'], x['COMPONENT_NAME']), axis=1)"
   ]
  },
  {
   "cell_type": "markdown",
   "metadata": {},
   "source": [
    "## Registry lab data"
   ]
  },
  {
   "cell_type": "code",
   "execution_count": 24,
   "metadata": {
    "scrolled": true
   },
   "outputs": [
    {
     "data": {
      "text/html": [
       "<div>\n",
       "<style>\n",
       "    .dataframe thead tr:only-child th {\n",
       "        text-align: right;\n",
       "    }\n",
       "\n",
       "    .dataframe thead th {\n",
       "        text-align: left;\n",
       "    }\n",
       "\n",
       "    .dataframe tbody tr th {\n",
       "        vertical-align: top;\n",
       "    }\n",
       "</style>\n",
       "<table border=\"1\" class=\"dataframe\">\n",
       "  <thead>\n",
       "    <tr style=\"text-align: right;\">\n",
       "      <th></th>\n",
       "      <th>AUTO_ID</th>\n",
       "      <th>ORDER_DATE</th>\n",
       "      <th>PROC_CODE</th>\n",
       "      <th>PROC_NAME</th>\n",
       "      <th>ORDER_STATUS</th>\n",
       "      <th>CPT_CODE</th>\n",
       "      <th>LAB_COMP_ID</th>\n",
       "      <th>LAB_COMP_NAME</th>\n",
       "      <th>RESULT_DATE</th>\n",
       "      <th>ORD_VALUE</th>\n",
       "      <th>ORD_NUM_VALUE</th>\n",
       "      <th>REF_LOW</th>\n",
       "      <th>REF_HIGH</th>\n",
       "      <th>REF_NORMAL_VALS</th>\n",
       "      <th>REF_UNIT</th>\n",
       "      <th>RESULT_FLAG</th>\n",
       "      <th>GROUP</th>\n",
       "    </tr>\n",
       "  </thead>\n",
       "  <tbody>\n",
       "    <tr>\n",
       "      <th>2</th>\n",
       "      <td>0</td>\n",
       "      <td>2010-08-12 00:00:00</td>\n",
       "      <td>8502502</td>\n",
       "      <td>CBC &amp; DIFF INC PLATELET</td>\n",
       "      <td>Completed</td>\n",
       "      <td>85025</td>\n",
       "      <td>74</td>\n",
       "      <td>ABS EOSINOPHILS</td>\n",
       "      <td>2010-08-12 00:00:00</td>\n",
       "      <td>0.00</td>\n",
       "      <td>0.000</td>\n",
       "      <td>0.00</td>\n",
       "      <td>0.40</td>\n",
       "      <td>NaN</td>\n",
       "      <td>X10E+09/L</td>\n",
       "      <td>NaN</td>\n",
       "      <td>eos</td>\n",
       "    </tr>\n",
       "    <tr>\n",
       "      <th>4</th>\n",
       "      <td>0</td>\n",
       "      <td>2010-08-12 00:00:00</td>\n",
       "      <td>8502502</td>\n",
       "      <td>CBC &amp; DIFF INC PLATELET</td>\n",
       "      <td>Completed</td>\n",
       "      <td>85025</td>\n",
       "      <td>72</td>\n",
       "      <td>ABS MONOCYTES</td>\n",
       "      <td>2010-08-12 00:00:00</td>\n",
       "      <td>0.50</td>\n",
       "      <td>0.500</td>\n",
       "      <td>0.30</td>\n",
       "      <td>0.90</td>\n",
       "      <td>NaN</td>\n",
       "      <td>X10E+09/L</td>\n",
       "      <td>NaN</td>\n",
       "      <td>monocytes</td>\n",
       "    </tr>\n",
       "    <tr>\n",
       "      <th>7</th>\n",
       "      <td>0</td>\n",
       "      <td>2010-08-12 00:00:00</td>\n",
       "      <td>8007602</td>\n",
       "      <td>HEPATIC FUNCTION PANEL</td>\n",
       "      <td>Completed</td>\n",
       "      <td>HFPA</td>\n",
       "      <td>20</td>\n",
       "      <td>ALBUMIN</td>\n",
       "      <td>2010-08-12 00:00:00</td>\n",
       "      <td>2.9</td>\n",
       "      <td>2.900</td>\n",
       "      <td>3.4</td>\n",
       "      <td>5.0</td>\n",
       "      <td>NaN</td>\n",
       "      <td>g/dL</td>\n",
       "      <td>Low</td>\n",
       "      <td>albumin</td>\n",
       "    </tr>\n",
       "    <tr>\n",
       "      <th>20</th>\n",
       "      <td>0</td>\n",
       "      <td>2010-08-12 00:00:00</td>\n",
       "      <td>8614001</td>\n",
       "      <td>CRP QUANTITATION</td>\n",
       "      <td>Completed</td>\n",
       "      <td>86140</td>\n",
       "      <td>530</td>\n",
       "      <td>CRP QUANTITATION</td>\n",
       "      <td>2010-08-12 00:00:00</td>\n",
       "      <td>10.085</td>\n",
       "      <td>10.085</td>\n",
       "      <td>&lt;0.748</td>\n",
       "      <td>NaN</td>\n",
       "      <td>NaN</td>\n",
       "      <td>mg/dL</td>\n",
       "      <td>High</td>\n",
       "      <td>crp</td>\n",
       "    </tr>\n",
       "    <tr>\n",
       "      <th>23</th>\n",
       "      <td>0</td>\n",
       "      <td>2010-08-12 00:00:00</td>\n",
       "      <td>8502502</td>\n",
       "      <td>CBC &amp; DIFF INC PLATELET</td>\n",
       "      <td>Completed</td>\n",
       "      <td>85025</td>\n",
       "      <td>73</td>\n",
       "      <td>EOSINOPHILS</td>\n",
       "      <td>2010-08-12 00:00:00</td>\n",
       "      <td>0</td>\n",
       "      <td>0.000</td>\n",
       "      <td>0</td>\n",
       "      <td>6</td>\n",
       "      <td>NaN</td>\n",
       "      <td>%</td>\n",
       "      <td>NaN</td>\n",
       "      <td>eos</td>\n",
       "    </tr>\n",
       "  </tbody>\n",
       "</table>\n",
       "</div>"
      ],
      "text/plain": [
       "    AUTO_ID           ORDER_DATE PROC_CODE                PROC_NAME  \\\n",
       "2         0  2010-08-12 00:00:00   8502502  CBC & DIFF INC PLATELET   \n",
       "4         0  2010-08-12 00:00:00   8502502  CBC & DIFF INC PLATELET   \n",
       "7         0  2010-08-12 00:00:00   8007602   HEPATIC FUNCTION PANEL   \n",
       "20        0  2010-08-12 00:00:00   8614001         CRP QUANTITATION   \n",
       "23        0  2010-08-12 00:00:00   8502502  CBC & DIFF INC PLATELET   \n",
       "\n",
       "   ORDER_STATUS CPT_CODE  LAB_COMP_ID     LAB_COMP_NAME          RESULT_DATE  \\\n",
       "2     Completed    85025           74   ABS EOSINOPHILS  2010-08-12 00:00:00   \n",
       "4     Completed    85025           72     ABS MONOCYTES  2010-08-12 00:00:00   \n",
       "7     Completed     HFPA           20           ALBUMIN  2010-08-12 00:00:00   \n",
       "20    Completed    86140          530  CRP QUANTITATION  2010-08-12 00:00:00   \n",
       "23    Completed    85025           73       EOSINOPHILS  2010-08-12 00:00:00   \n",
       "\n",
       "   ORD_VALUE  ORD_NUM_VALUE REF_LOW REF_HIGH REF_NORMAL_VALS   REF_UNIT  \\\n",
       "2       0.00          0.000    0.00     0.40             NaN  X10E+09/L   \n",
       "4       0.50          0.500    0.30     0.90             NaN  X10E+09/L   \n",
       "7        2.9          2.900     3.4      5.0             NaN       g/dL   \n",
       "20    10.085         10.085  <0.748      NaN             NaN      mg/dL   \n",
       "23         0          0.000       0        6             NaN          %   \n",
       "\n",
       "   RESULT_FLAG      GROUP  \n",
       "2          NaN        eos  \n",
       "4          NaN  monocytes  \n",
       "7          Low    albumin  \n",
       "20        High        crp  \n",
       "23         NaN        eos  "
      ]
     },
     "execution_count": 24,
     "metadata": {},
     "output_type": "execute_result"
    }
   ],
   "source": [
    "lab_file_reg = 'labs_filtered.xlsx'\n",
    "\n",
    "df_labs_registry = pd.read_excel(data_path_registry + lab_file_reg)\n",
    "df_labs_registry.head()"
   ]
  },
  {
   "cell_type": "code",
   "execution_count": 25,
   "metadata": {
    "collapsed": true,
    "jupyter": {
     "outputs_hidden": true
    }
   },
   "outputs": [],
   "source": [
    "df_labs_registry.columns\n",
    "df_labs_registry = df_labs_registry[['AUTO_ID', 'RESULT_DATE', 'LAB_COMP_ID', 'LAB_COMP_NAME', 'ORD_VALUE',\n",
    "       'ORD_NUM_VALUE', 'REF_UNIT', 'REF_LOW', 'REF_HIGH', 'RESULT_FLAG', 'GROUP']]\n",
    "\n",
    "df_labs_registry['DATA_SOURCE'] = 'REGISTRY'\n",
    "\n",
    "df_labs_registry.columns = ['AUTO_ID', 'RESULT_DATE', 'ORDER_PROC_ID', \n",
    "       'COMPONENT_NAME', 'ORD_VALUE', 'ORD_NUM_VALUE', 'REFERENCE_UNIT',\n",
    "       'REFERENCE_LOW', 'REFERENCE_HIGH', 'RESULT_FLAG', 'GROUP', 'DATA_SOURCE']"
   ]
  },
  {
   "cell_type": "code",
   "execution_count": 26,
   "metadata": {},
   "outputs": [
    {
     "name": "stdout",
     "output_type": "stream",
     "text": [
      "(117712, 12)\n",
      "(423780, 12)\n"
     ]
    }
   ],
   "source": [
    "print(df_labs.shape)\n",
    "print(df_labs_registry.shape)"
   ]
  },
  {
   "cell_type": "code",
   "execution_count": 27,
   "metadata": {
    "collapsed": true,
    "jupyter": {
     "outputs_hidden": true
    }
   },
   "outputs": [],
   "source": [
    "df_labs.reset_index(drop=True, inplace=True)\n",
    "df_labs_registry.reset_index(drop=True, inplace=True)\n"
   ]
  },
  {
   "cell_type": "code",
   "execution_count": 28,
   "metadata": {},
   "outputs": [
    {
     "data": {
      "text/plain": [
       "(541492, 12)"
      ]
     },
     "execution_count": 28,
     "metadata": {},
     "output_type": "execute_result"
    }
   ],
   "source": [
    "# Concatenate the registry and the R3 lab datasets\n",
    "df_labs_master = pd.concat([df_labs, df_labs_registry], axis=0)\n",
    "df_labs_master.shape\n"
   ]
  },
  {
   "cell_type": "code",
   "execution_count": 29,
   "metadata": {
    "collapsed": true,
    "jupyter": {
     "outputs_hidden": true
    }
   },
   "outputs": [],
   "source": [
    "# Save filtered & merged labs to Excel\n",
    "df_labs_master.to_excel(data_path_registry + 'labs_merged.xlsx')"
   ]
  },
  {
   "cell_type": "markdown",
   "metadata": {},
   "source": [
    "# Medication data"
   ]
  },
  {
   "cell_type": "code",
   "execution_count": 31,
   "metadata": {
    "scrolled": true
   },
   "outputs": [
    {
     "name": "stderr",
     "output_type": "stream",
     "text": [
      "C:\\ProgramData\\Anaconda3\\lib\\site-packages\\IPython\\core\\interactiveshell.py:2698: DtypeWarning: Columns (10) have mixed types. Specify dtype option on import or set low_memory=False.\n",
      "  interactivity=interactivity, compiler=compiler, result=result)\n"
     ]
    },
    {
     "data": {
      "text/html": [
       "<div>\n",
       "<style>\n",
       "    .dataframe thead tr:only-child th {\n",
       "        text-align: right;\n",
       "    }\n",
       "\n",
       "    .dataframe thead th {\n",
       "        text-align: left;\n",
       "    }\n",
       "\n",
       "    .dataframe tbody tr th {\n",
       "        vertical-align: top;\n",
       "    }\n",
       "</style>\n",
       "<table border=\"1\" class=\"dataframe\">\n",
       "  <thead>\n",
       "    <tr style=\"text-align: right;\">\n",
       "      <th></th>\n",
       "      <th>AUTO_ID</th>\n",
       "      <th>ORDER_ID</th>\n",
       "      <th>MED_NAME</th>\n",
       "      <th>SIMPLE_GENERIC_NAME</th>\n",
       "      <th>ORDERING_DATE</th>\n",
       "      <th>START_DATE</th>\n",
       "      <th>END_DATE</th>\n",
       "      <th>PHARM_CLASS</th>\n",
       "      <th>GROUP</th>\n",
       "    </tr>\n",
       "  </thead>\n",
       "  <tbody>\n",
       "    <tr>\n",
       "      <th>0</th>\n",
       "      <td>6999994666</td>\n",
       "      <td>367023442</td>\n",
       "      <td>LISINOPRIL 10 MG TABLET</td>\n",
       "      <td>LISINOPRIL</td>\n",
       "      <td>08/13/2018</td>\n",
       "      <td>08/13/2018</td>\n",
       "      <td>NaN</td>\n",
       "      <td>ANTIHYPERTENSIVES, ACE INHIBITORS</td>\n",
       "      <td>unknown</td>\n",
       "    </tr>\n",
       "    <tr>\n",
       "      <th>1</th>\n",
       "      <td>6999994666</td>\n",
       "      <td>367023441</td>\n",
       "      <td>LISINOPRIL 5 MG TABLET</td>\n",
       "      <td>LISINOPRIL</td>\n",
       "      <td>08/13/2018</td>\n",
       "      <td>08/13/2018</td>\n",
       "      <td>NaN</td>\n",
       "      <td>ANTIHYPERTENSIVES, ACE INHIBITORS</td>\n",
       "      <td>unknown</td>\n",
       "    </tr>\n",
       "    <tr>\n",
       "      <th>2</th>\n",
       "      <td>6999994666</td>\n",
       "      <td>367023443</td>\n",
       "      <td>LEVOTHYROXINE 100 MCG TABLET</td>\n",
       "      <td>LEVOTHYROXINE SODIUM</td>\n",
       "      <td>08/13/2018</td>\n",
       "      <td>08/13/2018</td>\n",
       "      <td>NaN</td>\n",
       "      <td>THYROID HORMONES</td>\n",
       "      <td>unknown</td>\n",
       "    </tr>\n",
       "    <tr>\n",
       "      <th>3</th>\n",
       "      <td>6999994666</td>\n",
       "      <td>367023438</td>\n",
       "      <td>VARICELLA-ZOSTER GLYCOE VACC-AS01B ADJ(PF) 50 ...</td>\n",
       "      <td>VARICELLA-ZOSTER GE/AS01B/PF</td>\n",
       "      <td>08/13/2018</td>\n",
       "      <td>08/13/2018</td>\n",
       "      <td>08/13/2018</td>\n",
       "      <td>VIRAL/TUMORIGENIC VACCINES</td>\n",
       "      <td>unknown</td>\n",
       "    </tr>\n",
       "    <tr>\n",
       "      <th>4</th>\n",
       "      <td>6999994666</td>\n",
       "      <td>146936464</td>\n",
       "      <td>SIMVASTATIN 20 MG TABLET</td>\n",
       "      <td>SIMVASTATIN</td>\n",
       "      <td>01/16/2014</td>\n",
       "      <td>01/16/2014</td>\n",
       "      <td>04/25/2014</td>\n",
       "      <td>ANTIHYPERLIPIDEMIC - HMG COA REDUCTASE INHIBITORS</td>\n",
       "      <td>unknown</td>\n",
       "    </tr>\n",
       "  </tbody>\n",
       "</table>\n",
       "</div>"
      ],
      "text/plain": [
       "      AUTO_ID   ORDER_ID                                           MED_NAME  \\\n",
       "0  6999994666  367023442                            LISINOPRIL 10 MG TABLET   \n",
       "1  6999994666  367023441                             LISINOPRIL 5 MG TABLET   \n",
       "2  6999994666  367023443                       LEVOTHYROXINE 100 MCG TABLET   \n",
       "3  6999994666  367023438  VARICELLA-ZOSTER GLYCOE VACC-AS01B ADJ(PF) 50 ...   \n",
       "4  6999994666  146936464                           SIMVASTATIN 20 MG TABLET   \n",
       "\n",
       "            SIMPLE_GENERIC_NAME ORDERING_DATE  START_DATE    END_DATE  \\\n",
       "0                    LISINOPRIL    08/13/2018  08/13/2018         NaN   \n",
       "1                    LISINOPRIL    08/13/2018  08/13/2018         NaN   \n",
       "2          LEVOTHYROXINE SODIUM    08/13/2018  08/13/2018         NaN   \n",
       "3  VARICELLA-ZOSTER GE/AS01B/PF    08/13/2018  08/13/2018  08/13/2018   \n",
       "4                   SIMVASTATIN    01/16/2014  01/16/2014  04/25/2014   \n",
       "\n",
       "                                         PHARM_CLASS    GROUP  \n",
       "0                  ANTIHYPERTENSIVES, ACE INHIBITORS  unknown  \n",
       "1                  ANTIHYPERTENSIVES, ACE INHIBITORS  unknown  \n",
       "2                                   THYROID HORMONES  unknown  \n",
       "3                         VIRAL/TUMORIGENIC VACCINES  unknown  \n",
       "4  ANTIHYPERLIPIDEMIC - HMG COA REDUCTASE INHIBITORS  unknown  "
      ]
     },
     "execution_count": 31,
     "metadata": {},
     "output_type": "execute_result"
    }
   ],
   "source": [
    "# UPMC medication data\n",
    "med_file_orders = 'R3_1646_BINION_MED_ORDERS_2020_05_12.csv'\n",
    "med_file_fills = 'R3_1646_BINION_MED_FILLS_2020_05_12.csv'\n",
    "med_file_dispenses = 'R3_1646_BINION_MED_DISPENSES_2020_05_12.csv'\n",
    "\n",
    "df_meds_r3 = pd.read_csv(data_path_r3 + med_file_orders)\n",
    "df_meds_r3 = df_meds_r3[['STUDY_ID', 'MED_ORDER_ID', 'MEDICATION_NAME', 'SIMPLE_GENERIC', 'ORDER_DATE', 'START_DATE', 'END_DATE', 'PHARM_CLASS']]\n",
    "df_meds_r3['GROUP'] = 'unknown'\n",
    "df_meds_r3.columns = ['AUTO_ID', 'ORDER_ID', 'MED_NAME', 'SIMPLE_GENERIC_NAME', 'ORDERING_DATE', 'START_DATE', 'END_DATE', 'PHARM_CLASS', 'GROUP']\n",
    "df_meds_r3.head()"
   ]
  },
  {
   "cell_type": "code",
   "execution_count": 33,
   "metadata": {},
   "outputs": [
    {
     "data": {
      "text/plain": [
       "(13598, 9)"
      ]
     },
     "execution_count": 33,
     "metadata": {},
     "output_type": "execute_result"
    }
   ],
   "source": [
    "from dictionaries import meds_dictionary\n",
    "\n",
    "# Select only those meds that are related to IBD\n",
    "ibd_meds = list(meds_dictionary.meds_dict.keys())\n",
    "df_meds_r3 = df_meds_r3[df_meds_r3['SIMPLE_GENERIC_NAME'].isin(ibd_meds)]\n",
    "df_meds_r3.reset_index()\n",
    "df_meds_r3.shape"
   ]
  },
  {
   "cell_type": "code",
   "execution_count": 34,
   "metadata": {
    "collapsed": true,
    "jupyter": {
     "outputs_hidden": true
    }
   },
   "outputs": [],
   "source": [
    "def update_med_group(generic_name, med_name):\n",
    "    if len(meds_dictionary.meds_dict[generic_name].med_generic_name) == 0:\n",
    "        return meds_dictionary.meds_dict[generic_name].group\n",
    "    else:\n",
    "        if med_name in meds_dictionary.meds_dict[generic_name].med_names:\n",
    "             return meds_dictionary.meds_dict[generic_name].group\n",
    "    return ''\n",
    "    "
   ]
  },
  {
   "cell_type": "code",
   "execution_count": 36,
   "metadata": {
    "collapsed": true,
    "jupyter": {
     "outputs_hidden": true
    }
   },
   "outputs": [],
   "source": [
    "df_meds_r3['GROUP'] = df_meds_r3.apply(lambda x: update_med_group(x['SIMPLE_GENERIC_NAME'], x['MED_NAME']), axis=1)"
   ]
  },
  {
   "cell_type": "code",
   "execution_count": 37,
   "metadata": {},
   "outputs": [
    {
     "data": {
      "text/html": [
       "<div>\n",
       "<style>\n",
       "    .dataframe thead tr:only-child th {\n",
       "        text-align: right;\n",
       "    }\n",
       "\n",
       "    .dataframe thead th {\n",
       "        text-align: left;\n",
       "    }\n",
       "\n",
       "    .dataframe tbody tr th {\n",
       "        vertical-align: top;\n",
       "    }\n",
       "</style>\n",
       "<table border=\"1\" class=\"dataframe\">\n",
       "  <thead>\n",
       "    <tr style=\"text-align: right;\">\n",
       "      <th></th>\n",
       "      <th>AUTO_ID</th>\n",
       "      <th>ORDER_ID</th>\n",
       "      <th>MED_NAME</th>\n",
       "      <th>SIMPLE_GENERIC_NAME</th>\n",
       "      <th>ORDERING_DATE</th>\n",
       "      <th>START_DATE</th>\n",
       "      <th>END_DATE</th>\n",
       "      <th>PHARM_CLASS</th>\n",
       "      <th>GROUP</th>\n",
       "    </tr>\n",
       "  </thead>\n",
       "  <tbody>\n",
       "    <tr>\n",
       "      <th>0</th>\n",
       "      <td>0</td>\n",
       "      <td>41818775</td>\n",
       "      <td>AZATHIOPRINE 50 MG TABLET</td>\n",
       "      <td>AZATHIOPRINE</td>\n",
       "      <td>2010-08-12 00:00:00</td>\n",
       "      <td>NaN</td>\n",
       "      <td>2010-08-20 00:00:00</td>\n",
       "      <td>IMMUNOSUPPRESSIVES</td>\n",
       "      <td>NaN</td>\n",
       "    </tr>\n",
       "    <tr>\n",
       "      <th>2</th>\n",
       "      <td>0</td>\n",
       "      <td>41818777</td>\n",
       "      <td>MESALAMINE 400 MG TABLET,DELAYED RELEASE</td>\n",
       "      <td>MESALAMINE</td>\n",
       "      <td>2010-08-12 00:00:00</td>\n",
       "      <td>NaN</td>\n",
       "      <td>2011-04-07 00:00:00</td>\n",
       "      <td>DRUG TX-CHRONIC INFLAM. COLON DX,5-AMINOSALICYLAT</td>\n",
       "      <td>NaN</td>\n",
       "    </tr>\n",
       "    <tr>\n",
       "      <th>4</th>\n",
       "      <td>0</td>\n",
       "      <td>41818779</td>\n",
       "      <td>MESALAMINE RECT</td>\n",
       "      <td>MESALAMINE</td>\n",
       "      <td>2010-08-12 00:00:00</td>\n",
       "      <td>NaN</td>\n",
       "      <td>2011-04-07 00:00:00</td>\n",
       "      <td>CHRONIC INFLAM. COLON DX, 5-A-SALICYLAT,RECTAL TX</td>\n",
       "      <td>NaN</td>\n",
       "    </tr>\n",
       "    <tr>\n",
       "      <th>9</th>\n",
       "      <td>0</td>\n",
       "      <td>54197256</td>\n",
       "      <td>PREDNISONE 20 MG TABLET</td>\n",
       "      <td>PREDNISONE</td>\n",
       "      <td>2010-08-12 00:00:00</td>\n",
       "      <td>2010-08-12 00:00:00</td>\n",
       "      <td>2011-04-07 00:00:00</td>\n",
       "      <td>GLUCOCORTICOIDS</td>\n",
       "      <td>NaN</td>\n",
       "    </tr>\n",
       "    <tr>\n",
       "      <th>10</th>\n",
       "      <td>0</td>\n",
       "      <td>54424224</td>\n",
       "      <td>AZATHIOPRINE 50 MG TABLET</td>\n",
       "      <td>AZATHIOPRINE</td>\n",
       "      <td>2010-08-20 00:00:00</td>\n",
       "      <td>2010-08-20 00:00:00</td>\n",
       "      <td>2011-01-07 00:00:00</td>\n",
       "      <td>IMMUNOSUPPRESSIVES</td>\n",
       "      <td>NaN</td>\n",
       "    </tr>\n",
       "  </tbody>\n",
       "</table>\n",
       "</div>"
      ],
      "text/plain": [
       "    AUTO_ID  ORDER_ID                                  MED_NAME  \\\n",
       "0         0  41818775                 AZATHIOPRINE 50 MG TABLET   \n",
       "2         0  41818777  MESALAMINE 400 MG TABLET,DELAYED RELEASE   \n",
       "4         0  41818779                           MESALAMINE RECT   \n",
       "9         0  54197256                   PREDNISONE 20 MG TABLET   \n",
       "10        0  54424224                 AZATHIOPRINE 50 MG TABLET   \n",
       "\n",
       "   SIMPLE_GENERIC_NAME        ORDERING_DATE           START_DATE  \\\n",
       "0         AZATHIOPRINE  2010-08-12 00:00:00                  NaN   \n",
       "2           MESALAMINE  2010-08-12 00:00:00                  NaN   \n",
       "4           MESALAMINE  2010-08-12 00:00:00                  NaN   \n",
       "9           PREDNISONE  2010-08-12 00:00:00  2010-08-12 00:00:00   \n",
       "10        AZATHIOPRINE  2010-08-20 00:00:00  2010-08-20 00:00:00   \n",
       "\n",
       "               END_DATE                                        PHARM_CLASS  \\\n",
       "0   2010-08-20 00:00:00                                 IMMUNOSUPPRESSIVES   \n",
       "2   2011-04-07 00:00:00  DRUG TX-CHRONIC INFLAM. COLON DX,5-AMINOSALICYLAT   \n",
       "4   2011-04-07 00:00:00  CHRONIC INFLAM. COLON DX, 5-A-SALICYLAT,RECTAL TX   \n",
       "9   2011-04-07 00:00:00                                    GLUCOCORTICOIDS   \n",
       "10  2011-01-07 00:00:00                                 IMMUNOSUPPRESSIVES   \n",
       "\n",
       "   GROUP  \n",
       "0    NaN  \n",
       "2    NaN  \n",
       "4    NaN  \n",
       "9    NaN  \n",
       "10   NaN  "
      ]
     },
     "execution_count": 37,
     "metadata": {},
     "output_type": "execute_result"
    }
   ],
   "source": [
    "# Registry medication data.\n",
    "\n",
    "df_meds_registry = pd.read_excel(data_path_registry + 'filtered_meds.xlsx')\n",
    "df_meds_registry = df_meds_registry[['AUTO_ID', 'ORDER_ID', 'MED_NAME', 'SIMPLE_GENERIC_NAME', 'ORDERING_DATE', 'START_DATE', 'END_DATE', 'PHARM_CLASS', 'GROUP']]\n",
    "df_meds_registry.head()"
   ]
  },
  {
   "cell_type": "code",
   "execution_count": 38,
   "metadata": {
    "collapsed": true,
    "jupyter": {
     "outputs_hidden": true
    }
   },
   "outputs": [],
   "source": [
    "# Save filtered & merged labs to Excel\n",
    "df_meds_master = pd.concat([df_meds_r3, df_meds_registry])\n",
    "df_meds_master.to_excel(data_path_registry + 'meds_merged.xlsx')"
   ]
  },
  {
   "cell_type": "markdown",
   "metadata": {},
   "source": [
    "## Encounter data"
   ]
  },
  {
   "cell_type": "markdown",
   "metadata": {},
   "source": [
    "* COLON RECTAL DDC HBC\n",
    "* GAS HBC OAKLAND DDC PH\n",
    "* GASTRO DDC\n",
    "* GASTRO IBD MED HOME\n",
    "* GI SURG DDC HBC"
   ]
  },
  {
   "cell_type": "markdown",
   "metadata": {},
   "source": [
    "### R3 encounter data"
   ]
  },
  {
   "cell_type": "code",
   "execution_count": 96,
   "metadata": {},
   "outputs": [
    {
     "data": {
      "text/html": [
       "<div>\n",
       "<style>\n",
       "    .dataframe thead tr:only-child th {\n",
       "        text-align: right;\n",
       "    }\n",
       "\n",
       "    .dataframe thead th {\n",
       "        text-align: left;\n",
       "    }\n",
       "\n",
       "    .dataframe tbody tr th {\n",
       "        vertical-align: top;\n",
       "    }\n",
       "</style>\n",
       "<table border=\"1\" class=\"dataframe\">\n",
       "  <thead>\n",
       "    <tr style=\"text-align: right;\">\n",
       "      <th></th>\n",
       "      <th>STUDY_ID</th>\n",
       "      <th>VISIT_ID</th>\n",
       "      <th>START_DATE</th>\n",
       "      <th>END_DATE</th>\n",
       "      <th>ENC_TYPE</th>\n",
       "      <th>LOCATION</th>\n",
       "      <th>APPT_STATUS</th>\n",
       "      <th>ADMIT_SOURCE</th>\n",
       "      <th>HOSPITAL_SERVICE</th>\n",
       "      <th>PATIENT_TYPE</th>\n",
       "      <th>PATIENT_CLASS</th>\n",
       "      <th>CHIEF_COMPLAINT</th>\n",
       "      <th>CHIEF_COMPLAINT_ONSET_DATE</th>\n",
       "    </tr>\n",
       "  </thead>\n",
       "  <tbody>\n",
       "    <tr>\n",
       "      <th>0</th>\n",
       "      <td>6999994666</td>\n",
       "      <td>452902438</td>\n",
       "      <td>09/21/2011 00:00:00</td>\n",
       "      <td>NaN</td>\n",
       "      <td>OFFICE VISIT</td>\n",
       "      <td>PIMA GREENTREE</td>\n",
       "      <td>COMPLETED</td>\n",
       "      <td>NaN</td>\n",
       "      <td>NaN</td>\n",
       "      <td>NaN</td>\n",
       "      <td>NaN</td>\n",
       "      <td>NaN</td>\n",
       "      <td>NaN</td>\n",
       "    </tr>\n",
       "    <tr>\n",
       "      <th>1</th>\n",
       "      <td>6999994666</td>\n",
       "      <td>450398659</td>\n",
       "      <td>10/10/2011 00:00:00</td>\n",
       "      <td>NaN</td>\n",
       "      <td>OFFICE VISIT</td>\n",
       "      <td>RAVI GI GREENTREE</td>\n",
       "      <td>COMPLETED</td>\n",
       "      <td>NaN</td>\n",
       "      <td>NaN</td>\n",
       "      <td>NaN</td>\n",
       "      <td>NaN</td>\n",
       "      <td>NaN</td>\n",
       "      <td>NaN</td>\n",
       "    </tr>\n",
       "    <tr>\n",
       "      <th>2</th>\n",
       "      <td>6999994666</td>\n",
       "      <td>452908020</td>\n",
       "      <td>09/07/2011 00:00:00</td>\n",
       "      <td>NaN</td>\n",
       "      <td>TELEPHONE</td>\n",
       "      <td>PIMA GREENTREE</td>\n",
       "      <td>NaN</td>\n",
       "      <td>NaN</td>\n",
       "      <td>NaN</td>\n",
       "      <td>NaN</td>\n",
       "      <td>NaN</td>\n",
       "      <td>NaN</td>\n",
       "      <td>NaN</td>\n",
       "    </tr>\n",
       "    <tr>\n",
       "      <th>3</th>\n",
       "      <td>6999994666</td>\n",
       "      <td>452509743</td>\n",
       "      <td>09/12/2011 00:00:00</td>\n",
       "      <td>NaN</td>\n",
       "      <td>APPOINTMENT</td>\n",
       "      <td>PIMA GREENTREE</td>\n",
       "      <td>CANCELED</td>\n",
       "      <td>NaN</td>\n",
       "      <td>NaN</td>\n",
       "      <td>NaN</td>\n",
       "      <td>NaN</td>\n",
       "      <td>NaN</td>\n",
       "      <td>NaN</td>\n",
       "    </tr>\n",
       "    <tr>\n",
       "      <th>4</th>\n",
       "      <td>6999994666</td>\n",
       "      <td>451199413</td>\n",
       "      <td>09/21/2011 00:00:00</td>\n",
       "      <td>NaN</td>\n",
       "      <td>HISTORY</td>\n",
       "      <td>PIMA GREENTREE</td>\n",
       "      <td>NaN</td>\n",
       "      <td>NaN</td>\n",
       "      <td>NaN</td>\n",
       "      <td>NaN</td>\n",
       "      <td>NaN</td>\n",
       "      <td>NaN</td>\n",
       "      <td>NaN</td>\n",
       "    </tr>\n",
       "  </tbody>\n",
       "</table>\n",
       "</div>"
      ],
      "text/plain": [
       "     STUDY_ID   VISIT_ID           START_DATE END_DATE      ENC_TYPE  \\\n",
       "0  6999994666  452902438  09/21/2011 00:00:00      NaN  OFFICE VISIT   \n",
       "1  6999994666  450398659  10/10/2011 00:00:00      NaN  OFFICE VISIT   \n",
       "2  6999994666  452908020  09/07/2011 00:00:00      NaN     TELEPHONE   \n",
       "3  6999994666  452509743  09/12/2011 00:00:00      NaN   APPOINTMENT   \n",
       "4  6999994666  451199413  09/21/2011 00:00:00      NaN       HISTORY   \n",
       "\n",
       "            LOCATION APPT_STATUS ADMIT_SOURCE HOSPITAL_SERVICE PATIENT_TYPE  \\\n",
       "0     PIMA GREENTREE   COMPLETED          NaN              NaN          NaN   \n",
       "1  RAVI GI GREENTREE   COMPLETED          NaN              NaN          NaN   \n",
       "2     PIMA GREENTREE         NaN          NaN              NaN          NaN   \n",
       "3     PIMA GREENTREE    CANCELED          NaN              NaN          NaN   \n",
       "4     PIMA GREENTREE         NaN          NaN              NaN          NaN   \n",
       "\n",
       "  PATIENT_CLASS CHIEF_COMPLAINT CHIEF_COMPLAINT_ONSET_DATE  \n",
       "0           NaN             NaN                        NaN  \n",
       "1           NaN             NaN                        NaN  \n",
       "2           NaN             NaN                        NaN  \n",
       "3           NaN             NaN                        NaN  \n",
       "4           NaN             NaN                        NaN  "
      ]
     },
     "execution_count": 96,
     "metadata": {},
     "output_type": "execute_result"
    }
   ],
   "source": [
    "enc_file_r3 = 'R3_1646_BINION_ENCOUNTERS_2020_05_12.csv'\n",
    "df_enc_r3 = pd.read_csv(data_path_r3 + enc_file_r3)\n",
    "df_enc_r3.head()"
   ]
  },
  {
   "cell_type": "code",
   "execution_count": 97,
   "metadata": {},
   "outputs": [
    {
     "name": "stdout",
     "output_type": "stream",
     "text": [
      "Encounters before filter:  (559221, 13)\n",
      "Encounters after filter:  (12514, 13)\n"
     ]
    }
   ],
   "source": [
    "print(\"Encounters before filter: \", df_enc_r3.shape)\n",
    "dept_list = ['COLON RECTAL DDC HBC', 'GAS HBC OAKLAND DDC PH', 'GASTRO DDC', 'GASTRO IBD MED HOME', 'GI SURG DDC HBC']\n",
    "df_enc_r3 = df_enc_r3[df_enc_r3['LOCATION'].isin(dept_list)]\n",
    "print(\"Encounters after filter: \", df_enc_r3.shape)"
   ]
  },
  {
   "cell_type": "code",
   "execution_count": 98,
   "metadata": {
    "collapsed": true,
    "jupyter": {
     "outputs_hidden": true
    }
   },
   "outputs": [],
   "source": [
    "df_enc_r3 = df_enc_r3[['STUDY_ID', 'ENC_TYPE', 'START_DATE', 'LOCATION']]\n",
    "df_enc_r3.columns = ['AUTO_ID', 'ENCOUNTER_TYPE', 'ENCOUTNER_DATE', 'DEPT_NAME']\n",
    "df_enc_r3['ICD9_CODE'] = ''\n",
    "df_enc_r3['ICD10_CODE'] = ''\n",
    "df_enc_r3['PRIMARY_DX'] = ''"
   ]
  },
  {
   "cell_type": "code",
   "execution_count": null,
   "metadata": {
    "collapsed": true,
    "jupyter": {
     "outputs_hidden": true
    }
   },
   "outputs": [],
   "source": []
  },
  {
   "cell_type": "code",
   "execution_count": null,
   "metadata": {
    "collapsed": true,
    "jupyter": {
     "outputs_hidden": true
    }
   },
   "outputs": [],
   "source": []
  },
  {
   "cell_type": "markdown",
   "metadata": {},
   "source": [
    "### Registry encounter data"
   ]
  },
  {
   "cell_type": "code",
   "execution_count": 99,
   "metadata": {
    "scrolled": true
   },
   "outputs": [
    {
     "data": {
      "text/html": [
       "<div>\n",
       "<style>\n",
       "    .dataframe thead tr:only-child th {\n",
       "        text-align: right;\n",
       "    }\n",
       "\n",
       "    .dataframe thead th {\n",
       "        text-align: left;\n",
       "    }\n",
       "\n",
       "    .dataframe tbody tr th {\n",
       "        vertical-align: top;\n",
       "    }\n",
       "</style>\n",
       "<table border=\"1\" class=\"dataframe\">\n",
       "  <thead>\n",
       "    <tr style=\"text-align: right;\">\n",
       "      <th></th>\n",
       "      <th>AUTO_ID</th>\n",
       "      <th>ENC_TYPE_C</th>\n",
       "      <th>ENC_TYPE_NAME</th>\n",
       "      <th>CONTACT_DATE</th>\n",
       "      <th>DEPT_ID</th>\n",
       "      <th>DEPT_NAME</th>\n",
       "      <th>VISIT_PROV_ID</th>\n",
       "      <th>VISIT_PROV_NAME</th>\n",
       "      <th>ICD9_CODE</th>\n",
       "      <th>ICD10_CODE</th>\n",
       "      <th>PRIMARY_DX</th>\n",
       "    </tr>\n",
       "  </thead>\n",
       "  <tbody>\n",
       "    <tr>\n",
       "      <th>0</th>\n",
       "      <td>0</td>\n",
       "      <td>101</td>\n",
       "      <td>Office Visit</td>\n",
       "      <td>2010-10-14 00:00:00</td>\n",
       "      <td>1045102.0</td>\n",
       "      <td>GAS HBC OAKLAND DDC PH</td>\n",
       "      <td>58718</td>\n",
       "      <td>SCHWARTZ, MARC B</td>\n",
       "      <td>556.9</td>\n",
       "      <td>K51.90</td>\n",
       "      <td>Ulcerative colitis, unspecified</td>\n",
       "    </tr>\n",
       "    <tr>\n",
       "      <th>1</th>\n",
       "      <td>0</td>\n",
       "      <td>101</td>\n",
       "      <td>Office Visit</td>\n",
       "      <td>2011-04-07 00:00:00</td>\n",
       "      <td>1045102.0</td>\n",
       "      <td>GAS HBC OAKLAND DDC PH</td>\n",
       "      <td>58718</td>\n",
       "      <td>SCHWARTZ, MARC B</td>\n",
       "      <td>556.9</td>\n",
       "      <td>K51.90</td>\n",
       "      <td>Ulcerative colitis, unspecified</td>\n",
       "    </tr>\n",
       "    <tr>\n",
       "      <th>2</th>\n",
       "      <td>0</td>\n",
       "      <td>101</td>\n",
       "      <td>Office Visit</td>\n",
       "      <td>2011-07-07 00:00:00</td>\n",
       "      <td>1045102.0</td>\n",
       "      <td>GAS HBC OAKLAND DDC PH</td>\n",
       "      <td>58718</td>\n",
       "      <td>SCHWARTZ, MARC B</td>\n",
       "      <td>556.9</td>\n",
       "      <td>K51.90</td>\n",
       "      <td>Ulcerative colitis, unspecified</td>\n",
       "    </tr>\n",
       "    <tr>\n",
       "      <th>3</th>\n",
       "      <td>0</td>\n",
       "      <td>101</td>\n",
       "      <td>Office Visit</td>\n",
       "      <td>2012-01-12 00:00:00</td>\n",
       "      <td>1045102.0</td>\n",
       "      <td>GAS HBC OAKLAND DDC PH</td>\n",
       "      <td>58718</td>\n",
       "      <td>SCHWARTZ, MARC B</td>\n",
       "      <td>556.9</td>\n",
       "      <td>K51.90</td>\n",
       "      <td>Ulcerative colitis, unspecified</td>\n",
       "    </tr>\n",
       "    <tr>\n",
       "      <th>4</th>\n",
       "      <td>0</td>\n",
       "      <td>101</td>\n",
       "      <td>Office Visit</td>\n",
       "      <td>2012-07-12 00:00:00</td>\n",
       "      <td>1045102.0</td>\n",
       "      <td>GAS HBC OAKLAND DDC PH</td>\n",
       "      <td>58718</td>\n",
       "      <td>SCHWARTZ, MARC B</td>\n",
       "      <td>556.9</td>\n",
       "      <td>K51.90</td>\n",
       "      <td>Ulcerative colitis, unspecified</td>\n",
       "    </tr>\n",
       "  </tbody>\n",
       "</table>\n",
       "</div>"
      ],
      "text/plain": [
       "   AUTO_ID  ENC_TYPE_C ENC_TYPE_NAME         CONTACT_DATE    DEPT_ID  \\\n",
       "0        0         101  Office Visit  2010-10-14 00:00:00  1045102.0   \n",
       "1        0         101  Office Visit  2011-04-07 00:00:00  1045102.0   \n",
       "2        0         101  Office Visit  2011-07-07 00:00:00  1045102.0   \n",
       "3        0         101  Office Visit  2012-01-12 00:00:00  1045102.0   \n",
       "4        0         101  Office Visit  2012-07-12 00:00:00  1045102.0   \n",
       "\n",
       "                DEPT_NAME  VISIT_PROV_ID   VISIT_PROV_NAME ICD9_CODE  \\\n",
       "0  GAS HBC OAKLAND DDC PH          58718  SCHWARTZ, MARC B     556.9   \n",
       "1  GAS HBC OAKLAND DDC PH          58718  SCHWARTZ, MARC B     556.9   \n",
       "2  GAS HBC OAKLAND DDC PH          58718  SCHWARTZ, MARC B     556.9   \n",
       "3  GAS HBC OAKLAND DDC PH          58718  SCHWARTZ, MARC B     556.9   \n",
       "4  GAS HBC OAKLAND DDC PH          58718  SCHWARTZ, MARC B     556.9   \n",
       "\n",
       "  ICD10_CODE                       PRIMARY_DX  \n",
       "0     K51.90  Ulcerative colitis, unspecified  \n",
       "1     K51.90  Ulcerative colitis, unspecified  \n",
       "2     K51.90  Ulcerative colitis, unspecified  \n",
       "3     K51.90  Ulcerative colitis, unspecified  \n",
       "4     K51.90  Ulcerative colitis, unspecified  "
      ]
     },
     "execution_count": 99,
     "metadata": {},
     "output_type": "execute_result"
    }
   ],
   "source": [
    "enc_file_registry = 'deid_IBD_Registry_BA1951_Office_Phone_Email_Encs_2020-01-05-09-43-50.xlsx'\n",
    "df_enc_registry = pd.read_excel(data_path_registry + enc_file_registry)\n",
    "df_enc_registry.head()"
   ]
  },
  {
   "cell_type": "code",
   "execution_count": 100,
   "metadata": {},
   "outputs": [
    {
     "name": "stdout",
     "output_type": "stream",
     "text": [
      "Encounters before filter:  (375485, 11)\n",
      "Encounters after filter:  (137227, 11)\n"
     ]
    }
   ],
   "source": [
    "print(\"Encounters before filter: \", df_enc_registry.shape)\n",
    "df_enc_registry = df_enc_registry[df_enc_registry['DEPT_NAME'].isin(dept_list)]\n",
    "print(\"Encounters after filter: \", df_enc_registry.shape)"
   ]
  },
  {
   "cell_type": "code",
   "execution_count": 102,
   "metadata": {
    "collapsed": true,
    "jupyter": {
     "outputs_hidden": true
    }
   },
   "outputs": [],
   "source": [
    "df_enc_registry = df_enc_registry[['AUTO_ID', 'ENC_TYPE_NAME', 'CONTACT_DATE', 'DEPT_NAME', 'ICD9_CODE', 'ICD10_CODE', 'PRIMARY_DX']]\n",
    "df_enc_registry.columns = ['AUTO_ID', 'ENCOUNTER_TYPE', 'ENCOUTNER_DATE', 'DEPT_NAME', 'ICD9_CODE', 'ICD10_CODE', 'PRIMARY_DX']"
   ]
  },
  {
   "cell_type": "code",
   "execution_count": 103,
   "metadata": {
    "collapsed": true,
    "jupyter": {
     "outputs_hidden": true
    }
   },
   "outputs": [],
   "source": [
    "# Save filtered & merged encounters to Excel\n",
    "df_enc_master = pd.concat([df_enc_r3, df_enc_registry])\n",
    "df_enc_master.to_excel(data_path_registry + 'encounters_merged.xlsx')"
   ]
  },
  {
   "cell_type": "code",
   "execution_count": null,
   "metadata": {
    "collapsed": true,
    "jupyter": {
     "outputs_hidden": true
    }
   },
   "outputs": [],
   "source": []
  },
  {
   "cell_type": "code",
   "execution_count": null,
   "metadata": {
    "collapsed": true,
    "jupyter": {
     "outputs_hidden": true
    }
   },
   "outputs": [],
   "source": []
  },
  {
   "cell_type": "markdown",
   "metadata": {},
   "source": [
    "## Diagnoses Data"
   ]
  },
  {
   "cell_type": "markdown",
   "metadata": {},
   "source": [
    "### R3 problem list data"
   ]
  },
  {
   "cell_type": "code",
   "execution_count": 187,
   "metadata": {},
   "outputs": [
    {
     "data": {
      "text/html": [
       "<div>\n",
       "<style>\n",
       "    .dataframe thead tr:only-child th {\n",
       "        text-align: right;\n",
       "    }\n",
       "\n",
       "    .dataframe thead th {\n",
       "        text-align: left;\n",
       "    }\n",
       "\n",
       "    .dataframe tbody tr th {\n",
       "        vertical-align: top;\n",
       "    }\n",
       "</style>\n",
       "<table border=\"1\" class=\"dataframe\">\n",
       "  <thead>\n",
       "    <tr style=\"text-align: right;\">\n",
       "      <th></th>\n",
       "      <th>STUDY_ID</th>\n",
       "      <th>DX_CODE_TYPE</th>\n",
       "      <th>DX_CODE</th>\n",
       "      <th>DX_NAME</th>\n",
       "      <th>REPORTED_DATE</th>\n",
       "      <th>ONSET_DATE</th>\n",
       "      <th>RESOLVED_DATE</th>\n",
       "      <th>RESOLVED_REASON</th>\n",
       "      <th>PROBLEM_STATUS</th>\n",
       "    </tr>\n",
       "  </thead>\n",
       "  <tbody>\n",
       "    <tr>\n",
       "      <th>0</th>\n",
       "      <td>6999994666</td>\n",
       "      <td>ICD9</td>\n",
       "      <td>535.50</td>\n",
       "      <td>Unspecified gastritis and gastroduodenitis wit...</td>\n",
       "      <td>11/15/2011</td>\n",
       "      <td>11/15/2011</td>\n",
       "      <td>NaN</td>\n",
       "      <td>NaN</td>\n",
       "      <td>ACTIVE</td>\n",
       "    </tr>\n",
       "    <tr>\n",
       "      <th>1</th>\n",
       "      <td>6999994666</td>\n",
       "      <td>ICD9</td>\n",
       "      <td>578.1</td>\n",
       "      <td>Blood in stool</td>\n",
       "      <td>10/10/2011</td>\n",
       "      <td>10/10/2011</td>\n",
       "      <td>NaN</td>\n",
       "      <td>NaN</td>\n",
       "      <td>ACTIVE</td>\n",
       "    </tr>\n",
       "    <tr>\n",
       "      <th>2</th>\n",
       "      <td>6999994666</td>\n",
       "      <td>ICD9</td>\n",
       "      <td>555.2</td>\n",
       "      <td>Regional enteritis of small intestine with lar...</td>\n",
       "      <td>04/04/2012</td>\n",
       "      <td>04/04/2012</td>\n",
       "      <td>NaN</td>\n",
       "      <td>NaN</td>\n",
       "      <td>ACTIVE</td>\n",
       "    </tr>\n",
       "    <tr>\n",
       "      <th>3</th>\n",
       "      <td>6999994666</td>\n",
       "      <td>ICD10</td>\n",
       "      <td>H26.9</td>\n",
       "      <td>Cataract</td>\n",
       "      <td>06/20/2016</td>\n",
       "      <td>06/20/2016</td>\n",
       "      <td>NaN</td>\n",
       "      <td>NaN</td>\n",
       "      <td>ACTIVE</td>\n",
       "    </tr>\n",
       "    <tr>\n",
       "      <th>4</th>\n",
       "      <td>6999994666</td>\n",
       "      <td>ICD10</td>\n",
       "      <td>H04.129</td>\n",
       "      <td>Dry eye</td>\n",
       "      <td>06/20/2016</td>\n",
       "      <td>06/20/2016</td>\n",
       "      <td>NaN</td>\n",
       "      <td>NaN</td>\n",
       "      <td>ACTIVE</td>\n",
       "    </tr>\n",
       "  </tbody>\n",
       "</table>\n",
       "</div>"
      ],
      "text/plain": [
       "     STUDY_ID DX_CODE_TYPE  DX_CODE  \\\n",
       "0  6999994666         ICD9   535.50   \n",
       "1  6999994666         ICD9    578.1   \n",
       "2  6999994666         ICD9    555.2   \n",
       "3  6999994666        ICD10    H26.9   \n",
       "4  6999994666        ICD10  H04.129   \n",
       "\n",
       "                                             DX_NAME REPORTED_DATE  \\\n",
       "0  Unspecified gastritis and gastroduodenitis wit...    11/15/2011   \n",
       "1                                     Blood in stool    10/10/2011   \n",
       "2  Regional enteritis of small intestine with lar...    04/04/2012   \n",
       "3                                           Cataract    06/20/2016   \n",
       "4                                            Dry eye    06/20/2016   \n",
       "\n",
       "   ONSET_DATE RESOLVED_DATE  RESOLVED_REASON PROBLEM_STATUS  \n",
       "0  11/15/2011           NaN              NaN         ACTIVE  \n",
       "1  10/10/2011           NaN              NaN         ACTIVE  \n",
       "2  04/04/2012           NaN              NaN         ACTIVE  \n",
       "3  06/20/2016           NaN              NaN         ACTIVE  \n",
       "4  06/20/2016           NaN              NaN         ACTIVE  "
      ]
     },
     "execution_count": 187,
     "metadata": {},
     "output_type": "execute_result"
    }
   ],
   "source": [
    "prob_file_r3 = 'R3_1646_BINION_PROB_LIST_2020_05_12.csv'\n",
    "df_prob_r3 = pd.read_csv(data_path_r3 + prob_file_r3)\n",
    "df_prob_r3.head()"
   ]
  },
  {
   "cell_type": "code",
   "execution_count": 188,
   "metadata": {
    "collapsed": true,
    "jupyter": {
     "outputs_hidden": true
    }
   },
   "outputs": [],
   "source": [
    "df_prob_r3 = df_prob_r3[['STUDY_ID', 'DX_CODE_TYPE', 'DX_CODE', 'DX_NAME','ONSET_DATE']]\n",
    "df_prob_r3.columns = ['AUTO_ID', 'DX_CODE_TYPE', 'DX_CODE', 'DX_NAME', 'DX_DATE']"
   ]
  },
  {
   "cell_type": "markdown",
   "metadata": {},
   "source": [
    "### R3 dx list data"
   ]
  },
  {
   "cell_type": "code",
   "execution_count": 189,
   "metadata": {},
   "outputs": [
    {
     "data": {
      "text/html": [
       "<div>\n",
       "<style>\n",
       "    .dataframe thead tr:only-child th {\n",
       "        text-align: right;\n",
       "    }\n",
       "\n",
       "    .dataframe thead th {\n",
       "        text-align: left;\n",
       "    }\n",
       "\n",
       "    .dataframe tbody tr th {\n",
       "        vertical-align: top;\n",
       "    }\n",
       "</style>\n",
       "<table border=\"1\" class=\"dataframe\">\n",
       "  <thead>\n",
       "    <tr style=\"text-align: right;\">\n",
       "      <th></th>\n",
       "      <th>STUDY_ID</th>\n",
       "      <th>VISIT_ID</th>\n",
       "      <th>DIAGNOSIS_TYPE</th>\n",
       "      <th>DX_CODE</th>\n",
       "      <th>DIAGNOSIS_NAME</th>\n",
       "      <th>PRIMARY_DX_IND</th>\n",
       "      <th>DX_FROM_DATE</th>\n",
       "      <th>DX_TO_DATE</th>\n",
       "    </tr>\n",
       "  </thead>\n",
       "  <tbody>\n",
       "    <tr>\n",
       "      <th>0</th>\n",
       "      <td>6999994666</td>\n",
       "      <td>463260127</td>\n",
       "      <td>ICD9CM</td>\n",
       "      <td>790.29</td>\n",
       "      <td>Other abnormal glucose</td>\n",
       "      <td>Y</td>\n",
       "      <td>11/11/2014</td>\n",
       "      <td>NaN</td>\n",
       "    </tr>\n",
       "    <tr>\n",
       "      <th>1</th>\n",
       "      <td>6999994666</td>\n",
       "      <td>476176269</td>\n",
       "      <td>ICD9CM</td>\n",
       "      <td>543.9</td>\n",
       "      <td>Other and unspecified diseases of appendix</td>\n",
       "      <td>N</td>\n",
       "      <td>11/05/2014</td>\n",
       "      <td>NaN</td>\n",
       "    </tr>\n",
       "    <tr>\n",
       "      <th>2</th>\n",
       "      <td>6999994666</td>\n",
       "      <td>476176269</td>\n",
       "      <td>ICD9CM</td>\n",
       "      <td>455.6</td>\n",
       "      <td>Unspecified hemorrhoids without mention of com...</td>\n",
       "      <td>N</td>\n",
       "      <td>11/05/2014</td>\n",
       "      <td>NaN</td>\n",
       "    </tr>\n",
       "    <tr>\n",
       "      <th>3</th>\n",
       "      <td>6999994666</td>\n",
       "      <td>463591352</td>\n",
       "      <td>ICD9CM</td>\n",
       "      <td>V81.1</td>\n",
       "      <td>Screening for hypertension</td>\n",
       "      <td>N</td>\n",
       "      <td>11/07/2014</td>\n",
       "      <td>NaN</td>\n",
       "    </tr>\n",
       "    <tr>\n",
       "      <th>4</th>\n",
       "      <td>6999994666</td>\n",
       "      <td>463591352</td>\n",
       "      <td>ICD10CM</td>\n",
       "      <td>V81.1</td>\n",
       "      <td>Occupant of railway train or railway vehicle i...</td>\n",
       "      <td>N</td>\n",
       "      <td>11/07/2014</td>\n",
       "      <td>NaN</td>\n",
       "    </tr>\n",
       "  </tbody>\n",
       "</table>\n",
       "</div>"
      ],
      "text/plain": [
       "     STUDY_ID   VISIT_ID DIAGNOSIS_TYPE DX_CODE  \\\n",
       "0  6999994666  463260127         ICD9CM  790.29   \n",
       "1  6999994666  476176269         ICD9CM   543.9   \n",
       "2  6999994666  476176269         ICD9CM   455.6   \n",
       "3  6999994666  463591352         ICD9CM   V81.1   \n",
       "4  6999994666  463591352        ICD10CM   V81.1   \n",
       "\n",
       "                                      DIAGNOSIS_NAME PRIMARY_DX_IND  \\\n",
       "0                             Other abnormal glucose              Y   \n",
       "1         Other and unspecified diseases of appendix              N   \n",
       "2  Unspecified hemorrhoids without mention of com...              N   \n",
       "3                         Screening for hypertension              N   \n",
       "4  Occupant of railway train or railway vehicle i...              N   \n",
       "\n",
       "  DX_FROM_DATE DX_TO_DATE  \n",
       "0   11/11/2014        NaN  \n",
       "1   11/05/2014        NaN  \n",
       "2   11/05/2014        NaN  \n",
       "3   11/07/2014        NaN  \n",
       "4   11/07/2014        NaN  "
      ]
     },
     "execution_count": 189,
     "metadata": {},
     "output_type": "execute_result"
    }
   ],
   "source": [
    "dx_file_r3 = 'R3_1646_BINION_DIAGNOSES_2020_05_12.csv'\n",
    "df_dx_r3 = pd.read_csv(data_path_r3 + dx_file_r3)\n",
    "df_dx_r3.head()"
   ]
  },
  {
   "cell_type": "code",
   "execution_count": 190,
   "metadata": {
    "collapsed": true,
    "jupyter": {
     "outputs_hidden": true
    }
   },
   "outputs": [],
   "source": [
    "df_dx_r3 = df_dx_r3[['STUDY_ID', 'DIAGNOSIS_TYPE', 'DX_CODE', 'DIAGNOSIS_NAME','DX_FROM_DATE']]\n",
    "df_dx_r3.columns = ['AUTO_ID', 'DX_CODE_TYPE', 'DX_CODE', 'DX_NAME', 'DX_DATE']"
   ]
  },
  {
   "cell_type": "markdown",
   "metadata": {},
   "source": [
    "### Registry dx data"
   ]
  },
  {
   "cell_type": "code",
   "execution_count": 193,
   "metadata": {},
   "outputs": [
    {
     "data": {
      "text/html": [
       "<div>\n",
       "<style>\n",
       "    .dataframe thead tr:only-child th {\n",
       "        text-align: right;\n",
       "    }\n",
       "\n",
       "    .dataframe thead th {\n",
       "        text-align: left;\n",
       "    }\n",
       "\n",
       "    .dataframe tbody tr th {\n",
       "        vertical-align: top;\n",
       "    }\n",
       "</style>\n",
       "<table border=\"1\" class=\"dataframe\">\n",
       "  <thead>\n",
       "    <tr style=\"text-align: right;\">\n",
       "      <th></th>\n",
       "      <th>AUTO_ID</th>\n",
       "      <th>DATE_OF_ENTRY</th>\n",
       "      <th>NOTED_DATE</th>\n",
       "      <th>RESOLVED_DATE</th>\n",
       "      <th>UPDATE_DATE</th>\n",
       "      <th>PROBLEM_DESCRIPTION</th>\n",
       "      <th>ICD9_CODE</th>\n",
       "      <th>ICD10_CODE</th>\n",
       "      <th>DIAGNOSIS_NAME</th>\n",
       "      <th>CLASS_OF_PROBLEM</th>\n",
       "      <th>PROBLEM_TYPE</th>\n",
       "      <th>PROBLEM_STATUS</th>\n",
       "      <th>PRIORITY</th>\n",
       "    </tr>\n",
       "  </thead>\n",
       "  <tbody>\n",
       "    <tr>\n",
       "      <th>0</th>\n",
       "      <td>0</td>\n",
       "      <td>2018-11-14 00:00:00</td>\n",
       "      <td>2009-08-27 00:00:00</td>\n",
       "      <td>NaN</td>\n",
       "      <td>2018-11-14 14:06:00</td>\n",
       "      <td>NaN</td>\n",
       "      <td>715.26</td>\n",
       "      <td>M17.31</td>\n",
       "      <td>Post-traumatic osteoarthritis of right knee</td>\n",
       "      <td>NaN</td>\n",
       "      <td>NaN</td>\n",
       "      <td>ACTIVE</td>\n",
       "      <td>NaN</td>\n",
       "    </tr>\n",
       "    <tr>\n",
       "      <th>1</th>\n",
       "      <td>0</td>\n",
       "      <td>2018-11-14 00:00:00</td>\n",
       "      <td>2009-08-27 00:00:00</td>\n",
       "      <td>NaN</td>\n",
       "      <td>2018-11-14 14:06:00</td>\n",
       "      <td>NaN</td>\n",
       "      <td>719.46</td>\n",
       "      <td>M25.569</td>\n",
       "      <td>Pain in joint, lower leg</td>\n",
       "      <td>NaN</td>\n",
       "      <td>NaN</td>\n",
       "      <td>DELETED</td>\n",
       "      <td>NaN</td>\n",
       "    </tr>\n",
       "    <tr>\n",
       "      <th>2</th>\n",
       "      <td>0</td>\n",
       "      <td>2014-04-03 00:00:00</td>\n",
       "      <td>2010-04-07 00:00:00</td>\n",
       "      <td>NaN</td>\n",
       "      <td>2015-07-28 12:14:00</td>\n",
       "      <td>NaN</td>\n",
       "      <td>836.1</td>\n",
       "      <td>S83.289A</td>\n",
       "      <td>Tear of lateral cartilage or meniscus of knee,...</td>\n",
       "      <td>NaN</td>\n",
       "      <td>NaN</td>\n",
       "      <td>ACTIVE</td>\n",
       "      <td>NaN</td>\n",
       "    </tr>\n",
       "    <tr>\n",
       "      <th>3</th>\n",
       "      <td>0</td>\n",
       "      <td>2014-04-03 00:00:00</td>\n",
       "      <td>2010-04-07 00:00:00</td>\n",
       "      <td>NaN</td>\n",
       "      <td>2015-07-28 12:14:00</td>\n",
       "      <td>NaN</td>\n",
       "      <td>727.09</td>\n",
       "      <td>M65.80</td>\n",
       "      <td>Other synovitis and tenosynovitis</td>\n",
       "      <td>NaN</td>\n",
       "      <td>NaN</td>\n",
       "      <td>ACTIVE</td>\n",
       "      <td>NaN</td>\n",
       "    </tr>\n",
       "    <tr>\n",
       "      <th>4</th>\n",
       "      <td>0</td>\n",
       "      <td>2014-04-03 00:00:00</td>\n",
       "      <td>2010-11-29 00:00:00</td>\n",
       "      <td>NaN</td>\n",
       "      <td>2015-07-28 12:14:00</td>\n",
       "      <td>NaN</td>\n",
       "      <td>727.05</td>\n",
       "      <td>M65.849, M65.839</td>\n",
       "      <td>Other tenosynovitis of hand and wrist</td>\n",
       "      <td>NaN</td>\n",
       "      <td>NaN</td>\n",
       "      <td>ACTIVE</td>\n",
       "      <td>NaN</td>\n",
       "    </tr>\n",
       "  </tbody>\n",
       "</table>\n",
       "</div>"
      ],
      "text/plain": [
       "   AUTO_ID        DATE_OF_ENTRY           NOTED_DATE RESOLVED_DATE  \\\n",
       "0        0  2018-11-14 00:00:00  2009-08-27 00:00:00           NaN   \n",
       "1        0  2018-11-14 00:00:00  2009-08-27 00:00:00           NaN   \n",
       "2        0  2014-04-03 00:00:00  2010-04-07 00:00:00           NaN   \n",
       "3        0  2014-04-03 00:00:00  2010-04-07 00:00:00           NaN   \n",
       "4        0  2014-04-03 00:00:00  2010-11-29 00:00:00           NaN   \n",
       "\n",
       "           UPDATE_DATE PROBLEM_DESCRIPTION ICD9_CODE        ICD10_CODE  \\\n",
       "0  2018-11-14 14:06:00                 NaN    715.26            M17.31   \n",
       "1  2018-11-14 14:06:00                 NaN    719.46           M25.569   \n",
       "2  2015-07-28 12:14:00                 NaN     836.1          S83.289A   \n",
       "3  2015-07-28 12:14:00                 NaN    727.09            M65.80   \n",
       "4  2015-07-28 12:14:00                 NaN    727.05  M65.849, M65.839   \n",
       "\n",
       "                                      DIAGNOSIS_NAME CLASS_OF_PROBLEM  \\\n",
       "0        Post-traumatic osteoarthritis of right knee              NaN   \n",
       "1                           Pain in joint, lower leg              NaN   \n",
       "2  Tear of lateral cartilage or meniscus of knee,...              NaN   \n",
       "3                  Other synovitis and tenosynovitis              NaN   \n",
       "4              Other tenosynovitis of hand and wrist              NaN   \n",
       "\n",
       "   PROBLEM_TYPE PROBLEM_STATUS PRIORITY  \n",
       "0           NaN         ACTIVE      NaN  \n",
       "1           NaN        DELETED      NaN  \n",
       "2           NaN         ACTIVE      NaN  \n",
       "3           NaN         ACTIVE      NaN  \n",
       "4           NaN         ACTIVE      NaN  "
      ]
     },
     "execution_count": 193,
     "metadata": {},
     "output_type": "execute_result"
    }
   ],
   "source": [
    "dx_file_registry = 'deid_IBD_Registry_BA1951_Problem_List_2020-01-05-09-30-19.xls'\n",
    "df_dx_registry = pd.read_excel(data_path_registry + dx_file_registry)\n",
    "df_dx_registry.head()"
   ]
  },
  {
   "cell_type": "code",
   "execution_count": 194,
   "metadata": {
    "collapsed": true,
    "jupyter": {
     "outputs_hidden": true
    }
   },
   "outputs": [],
   "source": [
    "df_dx_registry['DX_CODE_TYPE'] = 'ICD10'\n",
    "df_dx_registry = df_dx_registry[['AUTO_ID', 'DX_CODE_TYPE', 'ICD10_CODE', 'DIAGNOSIS_NAME', 'DATE_OF_ENTRY']]\n",
    "df_dx_registry.columns = ['AUTO_ID', 'DX_CODE_TYPE', 'DX_CODE', 'DX_NAME', 'DX_DATE']"
   ]
  },
  {
   "cell_type": "code",
   "execution_count": 195,
   "metadata": {
    "collapsed": true,
    "jupyter": {
     "outputs_hidden": true
    }
   },
   "outputs": [],
   "source": [
    "# Save filtered & merged diagnosis/problems to Excel\n",
    "df_dx_master = pd.concat([df_prob_r3, df_dx_r3, df_dx_registry])\n",
    "df_dx_master.to_excel(data_path_registry + 'problem_list_merged.xlsx')"
   ]
  },
  {
   "cell_type": "code",
   "execution_count": null,
   "metadata": {
    "collapsed": true,
    "jupyter": {
     "outputs_hidden": true
    }
   },
   "outputs": [],
   "source": []
  },
  {
   "cell_type": "code",
   "execution_count": null,
   "metadata": {
    "collapsed": true,
    "jupyter": {
     "outputs_hidden": true
    }
   },
   "outputs": [],
   "source": []
  },
  {
   "cell_type": "markdown",
   "metadata": {},
   "source": [
    "## Procedures List"
   ]
  },
  {
   "cell_type": "markdown",
   "metadata": {},
   "source": [
    "* MR CHOLANGIOPANCREATOGRAPHY (MRCP)\n",
    "* CT ABD AND PELVIS WITH/ WITHOUT CONTRAST (SAME DATE ER)\n",
    "* CT ABD WITH/ WITHOUT CONTRAST (SAME DATE ER)\n",
    "* CT PELVIS WITH/ WITHOUT CONTRAST (SAME DATE ER)\n",
    "* CT ABDOMEN AND PELVIS WITH AND WITHOUT CONTRAST \n",
    "* CT ABDOMEN WITH AND WITHOUT CONTRAST \n"
   ]
  },
  {
   "cell_type": "markdown",
   "metadata": {},
   "source": [
    "### R3 procedures data"
   ]
  },
  {
   "cell_type": "code",
   "execution_count": 133,
   "metadata": {},
   "outputs": [
    {
     "data": {
      "text/html": [
       "<div>\n",
       "<style>\n",
       "    .dataframe thead tr:only-child th {\n",
       "        text-align: right;\n",
       "    }\n",
       "\n",
       "    .dataframe thead th {\n",
       "        text-align: left;\n",
       "    }\n",
       "\n",
       "    .dataframe tbody tr th {\n",
       "        vertical-align: top;\n",
       "    }\n",
       "</style>\n",
       "<table border=\"1\" class=\"dataframe\">\n",
       "  <thead>\n",
       "    <tr style=\"text-align: right;\">\n",
       "      <th></th>\n",
       "      <th>STUDY_ID</th>\n",
       "      <th>VISIT_ID</th>\n",
       "      <th>ORDER_PROC_ID</th>\n",
       "      <th>PROC_DATE</th>\n",
       "      <th>PROC_CODE</th>\n",
       "      <th>PROC_TYPE</th>\n",
       "      <th>PROC_NAME</th>\n",
       "      <th>PROC_LOCATION</th>\n",
       "      <th>ORDER_DATE</th>\n",
       "    </tr>\n",
       "  </thead>\n",
       "  <tbody>\n",
       "    <tr>\n",
       "      <th>0</th>\n",
       "      <td>6999994666</td>\n",
       "      <td>4.529024e+08</td>\n",
       "      <td>74962671.0</td>\n",
       "      <td>NaN</td>\n",
       "      <td>71260</td>\n",
       "      <td>CUSTOM</td>\n",
       "      <td>CT CHEST WITH CONTRAST</td>\n",
       "      <td>NaN</td>\n",
       "      <td>09/21/2011</td>\n",
       "    </tr>\n",
       "    <tr>\n",
       "      <th>1</th>\n",
       "      <td>6999994666</td>\n",
       "      <td>4.529024e+08</td>\n",
       "      <td>74962676.0</td>\n",
       "      <td>NaN</td>\n",
       "      <td>74160</td>\n",
       "      <td>CPT(R)</td>\n",
       "      <td>CT ABDOMEN WITH CONTRAST</td>\n",
       "      <td>NaN</td>\n",
       "      <td>10/01/2011</td>\n",
       "    </tr>\n",
       "    <tr>\n",
       "      <th>2</th>\n",
       "      <td>6999994666</td>\n",
       "      <td>4.503987e+08</td>\n",
       "      <td>74962677.0</td>\n",
       "      <td>NaN</td>\n",
       "      <td>43235</td>\n",
       "      <td>CPT(R)</td>\n",
       "      <td>UPPER GI ENDOSCOPY,DIAGNOSIS</td>\n",
       "      <td>NaN</td>\n",
       "      <td>10/10/2011</td>\n",
       "    </tr>\n",
       "    <tr>\n",
       "      <th>3</th>\n",
       "      <td>6999994666</td>\n",
       "      <td>5.210964e+12</td>\n",
       "      <td>NaN</td>\n",
       "      <td>02/06/2018</td>\n",
       "      <td>29823</td>\n",
       "      <td>CPT/HCPCS</td>\n",
       "      <td>Arthroscopy, shoulder, surgical; debridement, ...</td>\n",
       "      <td>OR</td>\n",
       "      <td>NaN</td>\n",
       "    </tr>\n",
       "    <tr>\n",
       "      <th>4</th>\n",
       "      <td>6999994666</td>\n",
       "      <td>5.210964e+12</td>\n",
       "      <td>NaN</td>\n",
       "      <td>02/06/2018</td>\n",
       "      <td>29827</td>\n",
       "      <td>CPT/HCPCS</td>\n",
       "      <td>Arthroscopy, shoulder, surgical; with rotator ...</td>\n",
       "      <td>OR</td>\n",
       "      <td>NaN</td>\n",
       "    </tr>\n",
       "  </tbody>\n",
       "</table>\n",
       "</div>"
      ],
      "text/plain": [
       "     STUDY_ID      VISIT_ID  ORDER_PROC_ID   PROC_DATE PROC_CODE  PROC_TYPE  \\\n",
       "0  6999994666  4.529024e+08     74962671.0         NaN     71260     CUSTOM   \n",
       "1  6999994666  4.529024e+08     74962676.0         NaN     74160     CPT(R)   \n",
       "2  6999994666  4.503987e+08     74962677.0         NaN     43235     CPT(R)   \n",
       "3  6999994666  5.210964e+12            NaN  02/06/2018     29823  CPT/HCPCS   \n",
       "4  6999994666  5.210964e+12            NaN  02/06/2018     29827  CPT/HCPCS   \n",
       "\n",
       "                                           PROC_NAME PROC_LOCATION  ORDER_DATE  \n",
       "0                             CT CHEST WITH CONTRAST           NaN  09/21/2011  \n",
       "1                           CT ABDOMEN WITH CONTRAST           NaN  10/01/2011  \n",
       "2                       UPPER GI ENDOSCOPY,DIAGNOSIS           NaN  10/10/2011  \n",
       "3  Arthroscopy, shoulder, surgical; debridement, ...            OR         NaN  \n",
       "4  Arthroscopy, shoulder, surgical; with rotator ...            OR         NaN  "
      ]
     },
     "execution_count": 133,
     "metadata": {},
     "output_type": "execute_result"
    }
   ],
   "source": [
    "\n",
    "proc_file_r3 = 'R3_1646_BINION_PROCS_2020_05_12.csv'\n",
    "proc_r3 = pd.read_csv(data_path_r3 + proc_file_r3)\n",
    "proc_r3.head()\n"
   ]
  },
  {
   "cell_type": "code",
   "execution_count": 134,
   "metadata": {
    "scrolled": true
   },
   "outputs": [
    {
     "name": "stdout",
     "output_type": "stream",
     "text": [
      "Procedures before filter:  (161265, 9)\n",
      "Procedures after filter:  (12224, 9)\n"
     ]
    }
   ],
   "source": [
    "'''\n",
    "proc_list = ['MR CHOLANGIOPANCREATOGRAPHY (MRCP)',\n",
    "'CT ABD AND PELVIS WITH/ WITHOUT CONTRAST (SAME DATE ER)',\n",
    "'CT ABD WITH/ WITHOUT CONTRAST (SAME DATE ER)',\n",
    "'CT PELVIS WITH/ WITHOUT CONTRAST (SAME DATE ER)',\n",
    "'CT ABDOMEN AND PELVIS WITH AND WITHOUT CONTRAST',\n",
    "'CT ABDOMEN WITH AND WITHOUT CONTRAST']\n",
    "'''\n",
    "\n",
    "proc_list = ['MR CHOLANG', 'CT ABD', 'CT PELVIS', 'CT ABDOMEN']\n",
    "print(\"Procedures before filter: \", proc_r3.shape)\n",
    "#proc_r3 = proc_r3[proc_r3['PROC_NAME'].isin(proc_list)]\n",
    "temp = pd.DataFrame()\n",
    "for item in proc_list:\n",
    "    temp = pd.concat([temp, proc_r3[proc_r3['PROC_NAME'].str.contains(item, na=False)]])\n",
    "print(\"Procedures after filter: \", temp.shape)\n",
    "proc_r3 = temp"
   ]
  },
  {
   "cell_type": "code",
   "execution_count": 135,
   "metadata": {},
   "outputs": [
    {
     "data": {
      "text/plain": [
       "Index(['STUDY_ID', 'VISIT_ID', 'ORDER_PROC_ID', 'PROC_DATE', 'PROC_CODE',\n",
       "       'PROC_TYPE', 'PROC_NAME', 'PROC_LOCATION', 'ORDER_DATE'],\n",
       "      dtype='object')"
      ]
     },
     "execution_count": 135,
     "metadata": {},
     "output_type": "execute_result"
    }
   ],
   "source": [
    "proc_r3.columns"
   ]
  },
  {
   "cell_type": "code",
   "execution_count": 136,
   "metadata": {
    "collapsed": true,
    "jupyter": {
     "outputs_hidden": true
    }
   },
   "outputs": [],
   "source": [
    "proc_r3 = proc_r3[['STUDY_ID', 'PROC_CODE',  'PROC_NAME', 'ORDER_DATE', 'PROC_DATE']]\n",
    "proc_r3.columns = ['AUTO_ID', 'PROC_CODE',  'PROC_NAME', 'ORDER_DATE', 'PROC_DATE']"
   ]
  },
  {
   "cell_type": "code",
   "execution_count": null,
   "metadata": {
    "collapsed": true,
    "jupyter": {
     "outputs_hidden": true
    }
   },
   "outputs": [],
   "source": []
  },
  {
   "cell_type": "markdown",
   "metadata": {},
   "source": [
    "### Registry Procedure Data"
   ]
  },
  {
   "cell_type": "code",
   "execution_count": 137,
   "metadata": {},
   "outputs": [
    {
     "data": {
      "text/html": [
       "<div>\n",
       "<style>\n",
       "    .dataframe thead tr:only-child th {\n",
       "        text-align: right;\n",
       "    }\n",
       "\n",
       "    .dataframe thead th {\n",
       "        text-align: left;\n",
       "    }\n",
       "\n",
       "    .dataframe tbody tr th {\n",
       "        vertical-align: top;\n",
       "    }\n",
       "</style>\n",
       "<table border=\"1\" class=\"dataframe\">\n",
       "  <thead>\n",
       "    <tr style=\"text-align: right;\">\n",
       "      <th></th>\n",
       "      <th>AUTO_ID</th>\n",
       "      <th>VISIT DEPT</th>\n",
       "      <th>VISIT_DATE</th>\n",
       "      <th>ORDERING_DATE</th>\n",
       "      <th>CPT_CODE</th>\n",
       "      <th>DESCRIPTION</th>\n",
       "      <th>QUANTITY</th>\n",
       "      <th>PROC_START_DATE</th>\n",
       "      <th>PAT_STATUS</th>\n",
       "      <th>PROC_CAT_NAME</th>\n",
       "      <th>ORDER_TYPE</th>\n",
       "      <th>ORDER_CLASS</th>\n",
       "      <th>ORDER_STATUS</th>\n",
       "      <th>UPDATE_DATE</th>\n",
       "      <th>AUTH_PROV_NAME</th>\n",
       "      <th>RESULT_DATE</th>\n",
       "      <th>REVIEW_DATE</th>\n",
       "      <th>CENTER</th>\n",
       "      <th>STUDY_RESULT</th>\n",
       "    </tr>\n",
       "  </thead>\n",
       "  <tbody>\n",
       "    <tr>\n",
       "      <th>0</th>\n",
       "      <td>2</td>\n",
       "      <td>NaN</td>\n",
       "      <td>2009-07-23 00:00:00</td>\n",
       "      <td>2009-07-23 00:00:00</td>\n",
       "      <td>7699905</td>\n",
       "      <td>GI ENDOSCOPIC PROCEDURE</td>\n",
       "      <td>1</td>\n",
       "      <td>NaN</td>\n",
       "      <td>Alive</td>\n",
       "      <td>PROCEDURES</td>\n",
       "      <td>GI PROCEDURES</td>\n",
       "      <td>NaN</td>\n",
       "      <td>Completed</td>\n",
       "      <td>2015-11-17 15:34:00</td>\n",
       "      <td>BELLICINI, NICHOLAS A</td>\n",
       "      <td>2009-09-03 15:27:00</td>\n",
       "      <td>NaN</td>\n",
       "      <td>NaN</td>\n",
       "      <td>NaN</td>\n",
       "    </tr>\n",
       "    <tr>\n",
       "      <th>1</th>\n",
       "      <td>2</td>\n",
       "      <td>NaN</td>\n",
       "      <td>2010-03-17 00:00:00</td>\n",
       "      <td>2010-03-17 00:00:00</td>\n",
       "      <td>7699905</td>\n",
       "      <td>GI ENDOSCOPIC PROCEDURE</td>\n",
       "      <td>1</td>\n",
       "      <td>NaN</td>\n",
       "      <td>Alive</td>\n",
       "      <td>PROCEDURES</td>\n",
       "      <td>GI PROCEDURES</td>\n",
       "      <td>NaN</td>\n",
       "      <td>Completed</td>\n",
       "      <td>2015-11-25 11:25:00</td>\n",
       "      <td>GLORIOSO, DAVID V</td>\n",
       "      <td>2010-03-17 09:52:00</td>\n",
       "      <td>NaN</td>\n",
       "      <td>NaN</td>\n",
       "      <td>NaN</td>\n",
       "    </tr>\n",
       "    <tr>\n",
       "      <th>2</th>\n",
       "      <td>95</td>\n",
       "      <td>NaN</td>\n",
       "      <td>2009-10-05 00:00:00</td>\n",
       "      <td>2009-10-05 00:00:00</td>\n",
       "      <td>7699905</td>\n",
       "      <td>GI ENDOSCOPIC PROCEDURE</td>\n",
       "      <td>1</td>\n",
       "      <td>NaN</td>\n",
       "      <td>Alive</td>\n",
       "      <td>PROCEDURES</td>\n",
       "      <td>GI PROCEDURES</td>\n",
       "      <td>NaN</td>\n",
       "      <td>Completed</td>\n",
       "      <td>2015-11-19 15:29:00</td>\n",
       "      <td>LIMAURO, DAVID L</td>\n",
       "      <td>2009-10-05 14:54:00</td>\n",
       "      <td>NaN</td>\n",
       "      <td>NaN</td>\n",
       "      <td>NaN</td>\n",
       "    </tr>\n",
       "    <tr>\n",
       "      <th>3</th>\n",
       "      <td>108</td>\n",
       "      <td>NaN</td>\n",
       "      <td>2010-02-02 00:00:00</td>\n",
       "      <td>2010-02-02 00:00:00</td>\n",
       "      <td>93005</td>\n",
       "      <td>ELECTROCARDIOGRAM, TRACING</td>\n",
       "      <td>1</td>\n",
       "      <td>NaN</td>\n",
       "      <td>Alive</td>\n",
       "      <td>MEDICINE</td>\n",
       "      <td>EKG</td>\n",
       "      <td>NaN</td>\n",
       "      <td>Completed</td>\n",
       "      <td>2015-11-24 09:19:00</td>\n",
       "      <td>HANDELSMAN, GORDON L</td>\n",
       "      <td>2010-02-02 07:45:00</td>\n",
       "      <td>NaN</td>\n",
       "      <td>NaN</td>\n",
       "      <td>NaN</td>\n",
       "    </tr>\n",
       "    <tr>\n",
       "      <th>4</th>\n",
       "      <td>123</td>\n",
       "      <td>NaN</td>\n",
       "      <td>2009-04-28 00:00:00</td>\n",
       "      <td>2009-04-28 00:00:00</td>\n",
       "      <td>93005</td>\n",
       "      <td>ELECTROCARDIOGRAM, TRACING</td>\n",
       "      <td>1</td>\n",
       "      <td>NaN</td>\n",
       "      <td>Alive</td>\n",
       "      <td>MEDICINE</td>\n",
       "      <td>EKG</td>\n",
       "      <td>NaN</td>\n",
       "      <td>Completed</td>\n",
       "      <td>2015-11-13 12:54:00</td>\n",
       "      <td>JACOBS, RICHARD P</td>\n",
       "      <td>2009-04-28 22:55:00</td>\n",
       "      <td>NaN</td>\n",
       "      <td>NaN</td>\n",
       "      <td>NaN</td>\n",
       "    </tr>\n",
       "  </tbody>\n",
       "</table>\n",
       "</div>"
      ],
      "text/plain": [
       "   AUTO_ID  VISIT DEPT           VISIT_DATE        ORDERING_DATE CPT_CODE  \\\n",
       "0        2         NaN  2009-07-23 00:00:00  2009-07-23 00:00:00  7699905   \n",
       "1        2         NaN  2010-03-17 00:00:00  2010-03-17 00:00:00  7699905   \n",
       "2       95         NaN  2009-10-05 00:00:00  2009-10-05 00:00:00  7699905   \n",
       "3      108         NaN  2010-02-02 00:00:00  2010-02-02 00:00:00    93005   \n",
       "4      123         NaN  2009-04-28 00:00:00  2009-04-28 00:00:00    93005   \n",
       "\n",
       "                  DESCRIPTION  QUANTITY PROC_START_DATE PAT_STATUS  \\\n",
       "0     GI ENDOSCOPIC PROCEDURE         1             NaN      Alive   \n",
       "1     GI ENDOSCOPIC PROCEDURE         1             NaN      Alive   \n",
       "2     GI ENDOSCOPIC PROCEDURE         1             NaN      Alive   \n",
       "3  ELECTROCARDIOGRAM, TRACING         1             NaN      Alive   \n",
       "4  ELECTROCARDIOGRAM, TRACING         1             NaN      Alive   \n",
       "\n",
       "  PROC_CAT_NAME     ORDER_TYPE ORDER_CLASS ORDER_STATUS          UPDATE_DATE  \\\n",
       "0    PROCEDURES  GI PROCEDURES         NaN    Completed  2015-11-17 15:34:00   \n",
       "1    PROCEDURES  GI PROCEDURES         NaN    Completed  2015-11-25 11:25:00   \n",
       "2    PROCEDURES  GI PROCEDURES         NaN    Completed  2015-11-19 15:29:00   \n",
       "3      MEDICINE            EKG         NaN    Completed  2015-11-24 09:19:00   \n",
       "4      MEDICINE            EKG         NaN    Completed  2015-11-13 12:54:00   \n",
       "\n",
       "          AUTH_PROV_NAME          RESULT_DATE REVIEW_DATE CENTER STUDY_RESULT  \n",
       "0  BELLICINI, NICHOLAS A  2009-09-03 15:27:00         NaN    NaN          NaN  \n",
       "1      GLORIOSO, DAVID V  2010-03-17 09:52:00         NaN    NaN          NaN  \n",
       "2       LIMAURO, DAVID L  2009-10-05 14:54:00         NaN    NaN          NaN  \n",
       "3   HANDELSMAN, GORDON L  2010-02-02 07:45:00         NaN    NaN          NaN  \n",
       "4      JACOBS, RICHARD P  2009-04-28 22:55:00         NaN    NaN          NaN  "
      ]
     },
     "execution_count": 137,
     "metadata": {},
     "output_type": "execute_result"
    }
   ],
   "source": [
    "proc_file_registry = 'deid_IBD_Registry_BA1951_Rad_Diagnostic_Tests_2020-01-05-12-18-06.xlsx'\n",
    "proc_registry = pd.read_excel(data_path_registry + proc_file_registry)\n",
    "proc_registry.head()"
   ]
  },
  {
   "cell_type": "code",
   "execution_count": 138,
   "metadata": {},
   "outputs": [
    {
     "data": {
      "text/plain": [
       "Index(['AUTO_ID', 'VISIT DEPT', 'VISIT_DATE', 'ORDERING_DATE', 'CPT_CODE',\n",
       "       'DESCRIPTION', 'QUANTITY', 'PROC_START_DATE', 'PAT_STATUS',\n",
       "       'PROC_CAT_NAME', 'ORDER_TYPE', 'ORDER_CLASS', 'ORDER_STATUS',\n",
       "       'UPDATE_DATE', 'AUTH_PROV_NAME', 'RESULT_DATE', 'REVIEW_DATE', 'CENTER',\n",
       "       'STUDY_RESULT'],\n",
       "      dtype='object')"
      ]
     },
     "execution_count": 138,
     "metadata": {},
     "output_type": "execute_result"
    }
   ],
   "source": [
    "proc_registry.columns"
   ]
  },
  {
   "cell_type": "code",
   "execution_count": 139,
   "metadata": {},
   "outputs": [
    {
     "name": "stdout",
     "output_type": "stream",
     "text": [
      "Procedures before filter:  (342232, 19)\n",
      "Procedures after filter:  (27369, 19)\n"
     ]
    }
   ],
   "source": [
    "print(\"Procedures before filter: \", proc_registry.shape)\n",
    "#proc_registry = proc_registry[proc_registry['DESCRIPTION'].isin(proc_list)]\n",
    "temp = pd.DataFrame()\n",
    "for item in proc_list:\n",
    "    temp = pd.concat([temp, proc_registry[proc_registry['DESCRIPTION'].str.contains(item, na=False)]])\n",
    "print(\"Procedures after filter: \", temp.shape)\n",
    "proc_registry = temp"
   ]
  },
  {
   "cell_type": "code",
   "execution_count": 140,
   "metadata": {
    "collapsed": true,
    "jupyter": {
     "outputs_hidden": true
    }
   },
   "outputs": [],
   "source": [
    "proc_registry = proc_registry[['AUTO_ID', 'CPT_CODE', 'DESCRIPTION', 'VISIT_DATE', 'PROC_START_DATE']]\n",
    "proc_registry.columns = ['AUTO_ID', 'PROC_CODE',  'PROC_NAME', 'ORDER_DATE', 'PROC_DATE']"
   ]
  },
  {
   "cell_type": "code",
   "execution_count": 141,
   "metadata": {
    "collapsed": true,
    "jupyter": {
     "outputs_hidden": true
    }
   },
   "outputs": [],
   "source": [
    "# Save filtered & merged procedures/diagnostic tests to Excel\n",
    "proc_master = pd.concat([proc_r3, proc_registry])\n",
    "proc_master.to_excel(data_path_registry + 'proc_merged.xlsx')"
   ]
  },
  {
   "cell_type": "code",
   "execution_count": null,
   "metadata": {
    "collapsed": true,
    "jupyter": {
     "outputs_hidden": true
    }
   },
   "outputs": [],
   "source": []
  },
  {
   "cell_type": "code",
   "execution_count": null,
   "metadata": {
    "collapsed": true,
    "jupyter": {
     "outputs_hidden": true
    }
   },
   "outputs": [],
   "source": []
  },
  {
   "cell_type": "markdown",
   "metadata": {},
   "source": [
    "## Registry Hosp, ER, ED data"
   ]
  },
  {
   "cell_type": "markdown",
   "metadata": {},
   "source": [
    "__Rules for identifying hospitalizations and ER visits__\n",
    "* Number of overall number of discharge reports minus the number of ER visits on the same day\n",
    "* One discharge summary per patient per day"
   ]
  },
  {
   "cell_type": "code",
   "execution_count": 148,
   "metadata": {},
   "outputs": [
    {
     "data": {
      "text/html": [
       "<div>\n",
       "<style>\n",
       "    .dataframe thead tr:only-child th {\n",
       "        text-align: right;\n",
       "    }\n",
       "\n",
       "    .dataframe thead th {\n",
       "        text-align: left;\n",
       "    }\n",
       "\n",
       "    .dataframe tbody tr th {\n",
       "        vertical-align: top;\n",
       "    }\n",
       "</style>\n",
       "<table border=\"1\" class=\"dataframe\">\n",
       "  <thead>\n",
       "    <tr style=\"text-align: right;\">\n",
       "      <th></th>\n",
       "      <th>AUTO_ID</th>\n",
       "      <th>ENC_TYPE_C</th>\n",
       "      <th>ENC_TYPE_NAME</th>\n",
       "      <th>CONTACT_DATE</th>\n",
       "      <th>DEPT_ID</th>\n",
       "      <th>DEPT_NAME</th>\n",
       "    </tr>\n",
       "  </thead>\n",
       "  <tbody>\n",
       "    <tr>\n",
       "      <th>0</th>\n",
       "      <td>0</td>\n",
       "      <td>203</td>\n",
       "      <td>OP Report</td>\n",
       "      <td>2010-01-06 00:00:00</td>\n",
       "      <td>NaN</td>\n",
       "      <td>NaN</td>\n",
       "    </tr>\n",
       "    <tr>\n",
       "      <th>1</th>\n",
       "      <td>0</td>\n",
       "      <td>203</td>\n",
       "      <td>OP Report</td>\n",
       "      <td>2010-04-07 00:00:00</td>\n",
       "      <td>11116101.0</td>\n",
       "      <td>XBEDFORD ORTHO</td>\n",
       "    </tr>\n",
       "    <tr>\n",
       "      <th>2</th>\n",
       "      <td>0</td>\n",
       "      <td>203</td>\n",
       "      <td>OP Report</td>\n",
       "      <td>2010-08-04 00:00:00</td>\n",
       "      <td>NaN</td>\n",
       "      <td>NaN</td>\n",
       "    </tr>\n",
       "    <tr>\n",
       "      <th>3</th>\n",
       "      <td>0</td>\n",
       "      <td>203</td>\n",
       "      <td>OP Report</td>\n",
       "      <td>2018-04-20 00:00:00</td>\n",
       "      <td>9999.0</td>\n",
       "      <td>EXTERNAL DEPARTMENT</td>\n",
       "    </tr>\n",
       "    <tr>\n",
       "      <th>4</th>\n",
       "      <td>1</td>\n",
       "      <td>203</td>\n",
       "      <td>OP Report</td>\n",
       "      <td>2009-03-19 00:00:00</td>\n",
       "      <td>9999.0</td>\n",
       "      <td>EXTERNAL DEPARTMENT</td>\n",
       "    </tr>\n",
       "  </tbody>\n",
       "</table>\n",
       "</div>"
      ],
      "text/plain": [
       "   AUTO_ID  ENC_TYPE_C ENC_TYPE_NAME         CONTACT_DATE     DEPT_ID  \\\n",
       "0        0         203     OP Report  2010-01-06 00:00:00         NaN   \n",
       "1        0         203     OP Report  2010-04-07 00:00:00  11116101.0   \n",
       "2        0         203     OP Report  2010-08-04 00:00:00         NaN   \n",
       "3        0         203     OP Report  2018-04-20 00:00:00      9999.0   \n",
       "4        1         203     OP Report  2009-03-19 00:00:00      9999.0   \n",
       "\n",
       "             DEPT_NAME  \n",
       "0                  NaN  \n",
       "1       XBEDFORD ORTHO  \n",
       "2                  NaN  \n",
       "3  EXTERNAL DEPARTMENT  \n",
       "4  EXTERNAL DEPARTMENT  "
      ]
     },
     "execution_count": 148,
     "metadata": {},
     "output_type": "execute_result"
    }
   ],
   "source": [
    "discharge_file_registry = 'deid_IBD_Registry_BA1951_ER_OP_DC_Reports_2020-01-05-09-11-16.xls'\n",
    "discharge_registry = pd.read_excel(data_path_registry + discharge_file_registry)\n",
    "discharge_registry.head()"
   ]
  },
  {
   "cell_type": "code",
   "execution_count": 149,
   "metadata": {},
   "outputs": [
    {
     "data": {
      "text/plain": [
       "ER Report            23871\n",
       "Discharge Summary    12492\n",
       "OP Report             8576\n",
       "Name: ENC_TYPE_NAME, dtype: int64"
      ]
     },
     "execution_count": 149,
     "metadata": {},
     "output_type": "execute_result"
    }
   ],
   "source": [
    "discharge_registry['ENC_TYPE_NAME'].value_counts()"
   ]
  },
  {
   "cell_type": "code",
   "execution_count": 183,
   "metadata": {},
   "outputs": [],
   "source": [
    "df = discharge_registry.groupby(['AUTO_ID','CONTACT_DATE']).size().reset_index().rename(columns={0:'count'})\n",
    "df['ER'] = 0\n",
    "df['DS'] = 0\n",
    "df['OP'] = 0\n",
    "for idx, row in df.iterrows():\n",
    "    q = 'AUTO_ID == ' + str(row['AUTO_ID']) + ' and CONTACT_DATE == \"' + row['CONTACT_DATE'] + '\"'\n",
    "    #print(q)\n",
    "    temp = discharge_registry.query(q)\n",
    "    enc_type_counts = temp['ENC_TYPE_NAME'].value_counts().to_dict()\n",
    "    if 'OP Report' in enc_type_counts.keys():\n",
    "        df.at[idx, 'OP'] = enc_type_counts['OP Report']\n",
    "    if 'Discharge Summary' in enc_type_counts.keys():\n",
    "        df.at[idx, 'DS'] = enc_type_counts['Discharge Summary']\n",
    "    if 'ER Report' in enc_type_counts.keys():\n",
    "        df.at[idx, 'ER'] = enc_type_counts['ER Report']\n",
    "    #break\n",
    "#temp.head()"
   ]
  },
  {
   "cell_type": "code",
   "execution_count": 212,
   "metadata": {},
   "outputs": [
    {
     "data": {
      "text/html": [
       "<div>\n",
       "<style>\n",
       "    .dataframe thead tr:only-child th {\n",
       "        text-align: right;\n",
       "    }\n",
       "\n",
       "    .dataframe thead th {\n",
       "        text-align: left;\n",
       "    }\n",
       "\n",
       "    .dataframe tbody tr th {\n",
       "        vertical-align: top;\n",
       "    }\n",
       "</style>\n",
       "<table border=\"1\" class=\"dataframe\">\n",
       "  <thead>\n",
       "    <tr style=\"text-align: right;\">\n",
       "      <th></th>\n",
       "      <th>AUTO_ID</th>\n",
       "      <th>CONTACT_DATE</th>\n",
       "      <th>count</th>\n",
       "      <th>ER</th>\n",
       "      <th>DS</th>\n",
       "      <th>OP</th>\n",
       "      <th>HOSP</th>\n",
       "      <th>ER_VISITS</th>\n",
       "    </tr>\n",
       "  </thead>\n",
       "  <tbody>\n",
       "    <tr>\n",
       "      <th>0</th>\n",
       "      <td>0</td>\n",
       "      <td>2010-01-06 00:00:00</td>\n",
       "      <td>1</td>\n",
       "      <td>0</td>\n",
       "      <td>0</td>\n",
       "      <td>1</td>\n",
       "      <td>0</td>\n",
       "      <td>0</td>\n",
       "    </tr>\n",
       "    <tr>\n",
       "      <th>1</th>\n",
       "      <td>0</td>\n",
       "      <td>2010-04-07 00:00:00</td>\n",
       "      <td>1</td>\n",
       "      <td>0</td>\n",
       "      <td>0</td>\n",
       "      <td>1</td>\n",
       "      <td>0</td>\n",
       "      <td>0</td>\n",
       "    </tr>\n",
       "    <tr>\n",
       "      <th>2</th>\n",
       "      <td>0</td>\n",
       "      <td>2010-08-04 00:00:00</td>\n",
       "      <td>1</td>\n",
       "      <td>0</td>\n",
       "      <td>0</td>\n",
       "      <td>1</td>\n",
       "      <td>0</td>\n",
       "      <td>0</td>\n",
       "    </tr>\n",
       "    <tr>\n",
       "      <th>3</th>\n",
       "      <td>0</td>\n",
       "      <td>2018-04-20 00:00:00</td>\n",
       "      <td>1</td>\n",
       "      <td>0</td>\n",
       "      <td>0</td>\n",
       "      <td>1</td>\n",
       "      <td>0</td>\n",
       "      <td>0</td>\n",
       "    </tr>\n",
       "    <tr>\n",
       "      <th>4</th>\n",
       "      <td>1</td>\n",
       "      <td>2009-03-17 00:00:00</td>\n",
       "      <td>1</td>\n",
       "      <td>1</td>\n",
       "      <td>0</td>\n",
       "      <td>0</td>\n",
       "      <td>0</td>\n",
       "      <td>0</td>\n",
       "    </tr>\n",
       "  </tbody>\n",
       "</table>\n",
       "</div>"
      ],
      "text/plain": [
       "   AUTO_ID         CONTACT_DATE  count  ER  DS  OP  HOSP  ER_VISITS\n",
       "0        0  2010-01-06 00:00:00      1   0   0   1     0          0\n",
       "1        0  2010-04-07 00:00:00      1   0   0   1     0          0\n",
       "2        0  2010-08-04 00:00:00      1   0   0   1     0          0\n",
       "3        0  2018-04-20 00:00:00      1   0   0   1     0          0\n",
       "4        1  2009-03-17 00:00:00      1   1   0   0     0          0"
      ]
     },
     "execution_count": 212,
     "metadata": {},
     "output_type": "execute_result"
    }
   ],
   "source": [
    "df['HOSP'] = 0\n",
    "df['ER_VISITS'] = 0\n",
    "df.head()"
   ]
  },
  {
   "cell_type": "code",
   "execution_count": 214,
   "metadata": {},
   "outputs": [],
   "source": [
    "for idx, row in df.iterrows():\n",
    "    hosp = row['DS'] - row['ER']\n",
    "    er = 0\n",
    "    if hosp < 0:\n",
    "        hosp = 0\n",
    "    if row['ER'] != 0:\n",
    "        er = 1\n",
    "    #print(row['AUTO_ID'], ' : ', hosp)\n",
    "    df.at[idx, 'HOSP'] = hosp\n",
    "    df.at[idx, 'ER_VISITS'] = er\n",
    "          "
   ]
  },
  {
   "cell_type": "code",
   "execution_count": 215,
   "metadata": {
    "collapsed": true,
    "jupyter": {
     "outputs_hidden": true
    }
   },
   "outputs": [],
   "source": [
    "df.to_excel(data_path_registry + 'discharge_summaries_pivot_counts.xlsx')"
   ]
  },
  {
   "cell_type": "code",
   "execution_count": null,
   "metadata": {
    "collapsed": true,
    "jupyter": {
     "outputs_hidden": true
    }
   },
   "outputs": [],
   "source": []
  },
  {
   "cell_type": "code",
   "execution_count": null,
   "metadata": {
    "collapsed": true,
    "jupyter": {
     "outputs_hidden": true
    }
   },
   "outputs": [],
   "source": []
  },
  {
   "cell_type": "markdown",
   "metadata": {},
   "source": [
    "## Surgeries"
   ]
  },
  {
   "cell_type": "markdown",
   "metadata": {},
   "source": [
    "* BOWEL TO BOWEL ANASTOMOSIS\n",
    "* CLOSURE, ENTEROSTOMY, LARGE/SMALL INTESTINE; W/ RESECTION & ASTOMOSIS, NON-COLORECTAL\n",
    "* CLOSURE, ENTEROSTOMY, LARGE/SMALL INTESTINE; W/ RESECTION & COLORECTAL ASTOMOSIS\n",
    "* CLOSURE, ENTEROVESICAL FISTULA; W/ INTESTINE &/OR BLADDER RESECTION\n",
    "* COLECTOMY, PARTIAL; W/ RESECTION, W/ COLOSTOMY/ILEOSTOMY & CREATION, MUCOFISTULA\n",
    "* COLONOSCOPE DILATE STRICTURE\n",
    "* COLONOSCOPY FLEXIBLE DILATE STRICTURE\n",
    "* DILATION RECTAL STRICTURE W ANEST\n",
    "* DILATION, RECTAL STRICTURE (SEP PROC) UNDER ESTHESIA OTHER TH LOCAL\n",
    "* DRAIN ABD ABSCESS\n",
    "* DRAIN ABSCESS, PERCUTANEOUS\n",
    "* DRAIN PELV ABSC,PERCUT XVAG/XRECTAL\n",
    "* DRAIN RETROPERITONEAL ABSCESS\n",
    "* DRAIN RETROPERITONEAL ABSCESS,PERCUT\n",
    "* ENTERECTOMY, RESECTION, SMALL INTESTINE; SINGLE RESECTION & ASTOMOSIS\n",
    "* ENTERECTOMY, RESECTION, SMALL INTESTINE; W/ ENTEROSTOMY\n",
    "* EXCIS RECTAL STRICTURE\n",
    "* LAPAROSCOPY, SURGICAL; ENTERECTOMY, INTESTINAL RESECTION & ASTOMOSIS\n",
    "* PART REMOVAL COLON W ANASTOMOSIS\n",
    "* PROCTECTOMY; PARTIAL RESECTION, RECTUM, TRSABDOMINAL APPROACH\n",
    "* REPAIR ANAL STRICTURE,ADULT\n",
    "* REVISE GASTROJEJUN ANASTOMOSIS\n",
    "* INTESTINAL STRICTUROPLASTY\n",
    "* LAPARO, RESECT INTESTINE\n",
    "* RESECT SMALL INTEST,SINGL RESEC/ANAS\n",
    "* RESECT SMALL INTEST,EACH ADDNL\n",
    "* RESECT SMALL INTEST W ENTEROSTOMY\n",
    "* CLOSURE, ENTEROSTOMY, LARGE/SMALL INTESTINE;\n",
    "* LAP RESECT S/INTESTINE, ADDL\n",
    "* ENTEROENTEROSTOMY, ASTOMOSIS, INTESTINE, (SEP PROC)\n",
    "* INTESTINAL STRICTUROPLASTY W/WO DILATION\n",
    "* CLOSURE, INTESTINAL CUTEOUS FISTULA\n"
   ]
  },
  {
   "cell_type": "code",
   "execution_count": 226,
   "metadata": {
    "scrolled": true
   },
   "outputs": [
    {
     "data": {
      "text/html": [
       "<div>\n",
       "<style>\n",
       "    .dataframe thead tr:only-child th {\n",
       "        text-align: right;\n",
       "    }\n",
       "\n",
       "    .dataframe thead th {\n",
       "        text-align: left;\n",
       "    }\n",
       "\n",
       "    .dataframe tbody tr th {\n",
       "        vertical-align: top;\n",
       "    }\n",
       "</style>\n",
       "<table border=\"1\" class=\"dataframe\">\n",
       "  <thead>\n",
       "    <tr style=\"text-align: right;\">\n",
       "      <th></th>\n",
       "      <th>EPIC_MRN</th>\n",
       "      <th>ORIG_SERVICE_DATE</th>\n",
       "      <th>DX_1_ICD9_LIST</th>\n",
       "      <th>DX_1_ICD10_LIST</th>\n",
       "      <th>DX_2_ICD9_LIST</th>\n",
       "      <th>DX_2_ICD10_LIST</th>\n",
       "      <th>DX_3_ICD9_LIST</th>\n",
       "      <th>DX_3_ICD10_LIST</th>\n",
       "      <th>DX_4_ICD9_LIST</th>\n",
       "      <th>DX_4_ICD10_LIST</th>\n",
       "      <th>...</th>\n",
       "      <th>MODIFIER_NAME_3</th>\n",
       "      <th>MODIFIER_FOUR</th>\n",
       "      <th>MODIFIER_NAME_4</th>\n",
       "      <th>PROC_NAME</th>\n",
       "      <th>TYPE_OF_SERVICE</th>\n",
       "      <th>PROC_GROUP_NAME</th>\n",
       "      <th>POS_ID</th>\n",
       "      <th>POS_NAME</th>\n",
       "      <th>DEPT_ID</th>\n",
       "      <th>DEPARTMENT_NAME</th>\n",
       "    </tr>\n",
       "  </thead>\n",
       "  <tbody>\n",
       "    <tr>\n",
       "      <th>0</th>\n",
       "      <td>842002890</td>\n",
       "      <td>2012-06-12</td>\n",
       "      <td>V58.61</td>\n",
       "      <td>Z79.01</td>\n",
       "      <td>453.4</td>\n",
       "      <td>I82.409</td>\n",
       "      <td>NaN</td>\n",
       "      <td>NaN</td>\n",
       "      <td>NaN</td>\n",
       "      <td>NaN</td>\n",
       "      <td>...</td>\n",
       "      <td>NaN</td>\n",
       "      <td>NaN</td>\n",
       "      <td>NaN</td>\n",
       "      <td>INR WITHIN SUBSEQUENT 90 DAYS</td>\n",
       "      <td>60-MEDICAL CARE MA</td>\n",
       "      <td>NaN</td>\n",
       "      <td>11146</td>\n",
       "      <td>RENAISSANCE FAM PRAC PENN HILLS</td>\n",
       "      <td>11146001</td>\n",
       "      <td>RFP PENN HILLS</td>\n",
       "    </tr>\n",
       "    <tr>\n",
       "      <th>1</th>\n",
       "      <td>843496532</td>\n",
       "      <td>2012-03-30</td>\n",
       "      <td>453.89</td>\n",
       "      <td>I82.890</td>\n",
       "      <td>V58.61</td>\n",
       "      <td>Z79.01</td>\n",
       "      <td>NaN</td>\n",
       "      <td>NaN</td>\n",
       "      <td>NaN</td>\n",
       "      <td>NaN</td>\n",
       "      <td>...</td>\n",
       "      <td>NaN</td>\n",
       "      <td>NaN</td>\n",
       "      <td>NaN</td>\n",
       "      <td>INR WITHIN SUBSEQUENT 90 DAYS</td>\n",
       "      <td>60-MEDICAL CARE MA</td>\n",
       "      <td>NaN</td>\n",
       "      <td>11122</td>\n",
       "      <td>GREENVILLE MEDICAL CENTER - UPMC</td>\n",
       "      <td>11122001</td>\n",
       "      <td>GMC INTERNAL MED</td>\n",
       "    </tr>\n",
       "    <tr>\n",
       "      <th>2</th>\n",
       "      <td>843496532</td>\n",
       "      <td>2012-02-20</td>\n",
       "      <td>453.89</td>\n",
       "      <td>I82.890</td>\n",
       "      <td>V58.61</td>\n",
       "      <td>Z79.01</td>\n",
       "      <td>NaN</td>\n",
       "      <td>NaN</td>\n",
       "      <td>NaN</td>\n",
       "      <td>NaN</td>\n",
       "      <td>...</td>\n",
       "      <td>NaN</td>\n",
       "      <td>NaN</td>\n",
       "      <td>NaN</td>\n",
       "      <td>INR WITHIN SUBSEQUENT 90 DAYS</td>\n",
       "      <td>60-MEDICAL CARE MA</td>\n",
       "      <td>NaN</td>\n",
       "      <td>11122</td>\n",
       "      <td>GREENVILLE MEDICAL CENTER - UPMC</td>\n",
       "      <td>11122001</td>\n",
       "      <td>GMC INTERNAL MED</td>\n",
       "    </tr>\n",
       "    <tr>\n",
       "      <th>3</th>\n",
       "      <td>843496532</td>\n",
       "      <td>2012-03-23</td>\n",
       "      <td>453.89</td>\n",
       "      <td>I82.890</td>\n",
       "      <td>V58.61</td>\n",
       "      <td>Z79.01</td>\n",
       "      <td>NaN</td>\n",
       "      <td>NaN</td>\n",
       "      <td>NaN</td>\n",
       "      <td>NaN</td>\n",
       "      <td>...</td>\n",
       "      <td>NaN</td>\n",
       "      <td>NaN</td>\n",
       "      <td>NaN</td>\n",
       "      <td>INR WITHIN SUBSEQUENT 90 DAYS</td>\n",
       "      <td>60-MEDICAL CARE MA</td>\n",
       "      <td>NaN</td>\n",
       "      <td>11122</td>\n",
       "      <td>GREENVILLE MEDICAL CENTER - UPMC</td>\n",
       "      <td>11122001</td>\n",
       "      <td>GMC INTERNAL MED</td>\n",
       "    </tr>\n",
       "    <tr>\n",
       "      <th>4</th>\n",
       "      <td>842002890</td>\n",
       "      <td>2012-05-04</td>\n",
       "      <td>V58.61</td>\n",
       "      <td>Z79.01</td>\n",
       "      <td>453.4</td>\n",
       "      <td>I82.409</td>\n",
       "      <td>NaN</td>\n",
       "      <td>NaN</td>\n",
       "      <td>NaN</td>\n",
       "      <td>NaN</td>\n",
       "      <td>...</td>\n",
       "      <td>NaN</td>\n",
       "      <td>NaN</td>\n",
       "      <td>NaN</td>\n",
       "      <td>INR WITHIN SUBSEQUENT 90 DAYS</td>\n",
       "      <td>60-MEDICAL CARE MA</td>\n",
       "      <td>NaN</td>\n",
       "      <td>11146</td>\n",
       "      <td>RENAISSANCE FAM PRAC PENN HILLS</td>\n",
       "      <td>11146001</td>\n",
       "      <td>RFP PENN HILLS</td>\n",
       "    </tr>\n",
       "  </tbody>\n",
       "</table>\n",
       "<p>5 rows × 31 columns</p>\n",
       "</div>"
      ],
      "text/plain": [
       "    EPIC_MRN ORIG_SERVICE_DATE DX_1_ICD9_LIST DX_1_ICD10_LIST DX_2_ICD9_LIST  \\\n",
       "0  842002890        2012-06-12         V58.61          Z79.01          453.4   \n",
       "1  843496532        2012-03-30         453.89         I82.890         V58.61   \n",
       "2  843496532        2012-02-20         453.89         I82.890         V58.61   \n",
       "3  843496532        2012-03-23         453.89         I82.890         V58.61   \n",
       "4  842002890        2012-05-04         V58.61          Z79.01          453.4   \n",
       "\n",
       "  DX_2_ICD10_LIST DX_3_ICD9_LIST DX_3_ICD10_LIST DX_4_ICD9_LIST  \\\n",
       "0         I82.409            NaN             NaN            NaN   \n",
       "1          Z79.01            NaN             NaN            NaN   \n",
       "2          Z79.01            NaN             NaN            NaN   \n",
       "3          Z79.01            NaN             NaN            NaN   \n",
       "4         I82.409            NaN             NaN            NaN   \n",
       "\n",
       "  DX_4_ICD10_LIST        ...        MODIFIER_NAME_3 MODIFIER_FOUR  \\\n",
       "0             NaN        ...                    NaN           NaN   \n",
       "1             NaN        ...                    NaN           NaN   \n",
       "2             NaN        ...                    NaN           NaN   \n",
       "3             NaN        ...                    NaN           NaN   \n",
       "4             NaN        ...                    NaN           NaN   \n",
       "\n",
       "  MODIFIER_NAME_4                      PROC_NAME     TYPE_OF_SERVICE  \\\n",
       "0             NaN  INR WITHIN SUBSEQUENT 90 DAYS  60-MEDICAL CARE MA   \n",
       "1             NaN  INR WITHIN SUBSEQUENT 90 DAYS  60-MEDICAL CARE MA   \n",
       "2             NaN  INR WITHIN SUBSEQUENT 90 DAYS  60-MEDICAL CARE MA   \n",
       "3             NaN  INR WITHIN SUBSEQUENT 90 DAYS  60-MEDICAL CARE MA   \n",
       "4             NaN  INR WITHIN SUBSEQUENT 90 DAYS  60-MEDICAL CARE MA   \n",
       "\n",
       "  PROC_GROUP_NAME POS_ID                          POS_NAME   DEPT_ID  \\\n",
       "0             NaN  11146   RENAISSANCE FAM PRAC PENN HILLS  11146001   \n",
       "1             NaN  11122  GREENVILLE MEDICAL CENTER - UPMC  11122001   \n",
       "2             NaN  11122  GREENVILLE MEDICAL CENTER - UPMC  11122001   \n",
       "3             NaN  11122  GREENVILLE MEDICAL CENTER - UPMC  11122001   \n",
       "4             NaN  11146   RENAISSANCE FAM PRAC PENN HILLS  11146001   \n",
       "\n",
       "    DEPARTMENT_NAME  \n",
       "0    RFP PENN HILLS  \n",
       "1  GMC INTERNAL MED  \n",
       "2  GMC INTERNAL MED  \n",
       "3  GMC INTERNAL MED  \n",
       "4    RFP PENN HILLS  \n",
       "\n",
       "[5 rows x 31 columns]"
      ]
     },
     "execution_count": 226,
     "metadata": {},
     "output_type": "execute_result"
    }
   ],
   "source": [
    "# Surgery data from IBD Registry\n",
    "ibd_surg_file = 'D:\\\\Projects\\\\ibd_data\\\\Procedure Data\\\\CASES_FROM_IBD_REGISTRY\\\\R3_2323_BINION_CASES_POP1_PROFEE_PROCS_2020_05_29.xlsx'\n",
    "surg_df = pd.read_excel(ibd_surg_file)\n",
    "surg_df.head()\n"
   ]
  },
  {
   "cell_type": "code",
   "execution_count": null,
   "metadata": {
    "collapsed": true,
    "jupyter": {
     "outputs_hidden": true
    }
   },
   "outputs": [],
   "source": []
  },
  {
   "cell_type": "code",
   "execution_count": null,
   "metadata": {
    "collapsed": true,
    "jupyter": {
     "outputs_hidden": true
    }
   },
   "outputs": [],
   "source": []
  },
  {
   "cell_type": "code",
   "execution_count": null,
   "metadata": {
    "collapsed": true,
    "jupyter": {
     "outputs_hidden": true
    }
   },
   "outputs": [],
   "source": []
  },
  {
   "cell_type": "markdown",
   "metadata": {},
   "source": [
    "## Create temporal windows"
   ]
  },
  {
   "cell_type": "code",
   "execution_count": 197,
   "metadata": {},
   "outputs": [
    {
     "data": {
      "text/html": [
       "<div>\n",
       "<style>\n",
       "    .dataframe thead tr:only-child th {\n",
       "        text-align: right;\n",
       "    }\n",
       "\n",
       "    .dataframe thead th {\n",
       "        text-align: left;\n",
       "    }\n",
       "\n",
       "    .dataframe tbody tr th {\n",
       "        vertical-align: top;\n",
       "    }\n",
       "</style>\n",
       "<table border=\"1\" class=\"dataframe\">\n",
       "  <thead>\n",
       "    <tr style=\"text-align: right;\">\n",
       "      <th></th>\n",
       "      <th>AUTO_ID</th>\n",
       "      <th>ORDER_ID</th>\n",
       "      <th>MED_NAME</th>\n",
       "      <th>SIMPLE_GENERIC_NAME</th>\n",
       "      <th>ORDERING_DATE</th>\n",
       "      <th>START_DATE</th>\n",
       "      <th>END_DATE</th>\n",
       "      <th>PHARM_CLASS</th>\n",
       "      <th>GROUP</th>\n",
       "    </tr>\n",
       "  </thead>\n",
       "  <tbody>\n",
       "    <tr>\n",
       "      <th>43</th>\n",
       "      <td>6999994666</td>\n",
       "      <td>146936455</td>\n",
       "      <td>HYDROCORTISONE 2.5 % TOPICAL CREAM WITH PERINE...</td>\n",
       "      <td>HYDROCORTISONE</td>\n",
       "      <td>11/06/2013</td>\n",
       "      <td>11/06/2013</td>\n",
       "      <td>08/31/2015</td>\n",
       "      <td>TOPICAL ANTI-INFLAMMATORY STEROIDAL</td>\n",
       "      <td>NaN</td>\n",
       "    </tr>\n",
       "    <tr>\n",
       "      <th>94</th>\n",
       "      <td>6999995122</td>\n",
       "      <td>103919145</td>\n",
       "      <td>HYDROCORTISONE SODIUM SUCCINATE 100 MG SOLUTIO...</td>\n",
       "      <td>HYDROCORTISONE SOD SUCCINATE</td>\n",
       "      <td>08/31/2012</td>\n",
       "      <td>08/31/2012</td>\n",
       "      <td>08/31/2012</td>\n",
       "      <td>GLUCOCORTICOIDS</td>\n",
       "      <td>NaN</td>\n",
       "    </tr>\n",
       "    <tr>\n",
       "      <th>103</th>\n",
       "      <td>6999995122</td>\n",
       "      <td>109733784</td>\n",
       "      <td>HYDROCORTISONE SODIUM SUCCINATE 100 MG SOLUTIO...</td>\n",
       "      <td>HYDROCORTISONE SOD SUCCINATE</td>\n",
       "      <td>10/30/2012</td>\n",
       "      <td>10/30/2012</td>\n",
       "      <td>10/30/2012</td>\n",
       "      <td>GLUCOCORTICOIDS</td>\n",
       "      <td>NaN</td>\n",
       "    </tr>\n",
       "    <tr>\n",
       "      <th>106</th>\n",
       "      <td>6999995122</td>\n",
       "      <td>412736751</td>\n",
       "      <td>CHOLECALCIFEROL (VITAMIN D3) 25 MCG (1,000 UNI...</td>\n",
       "      <td>CHOLECALCIFEROL (VITAMIN D3)</td>\n",
       "      <td>06/26/2019</td>\n",
       "      <td>06/26/2019</td>\n",
       "      <td>NaN</td>\n",
       "      <td>VITAMIN D PREPARATIONS</td>\n",
       "      <td>NaN</td>\n",
       "    </tr>\n",
       "    <tr>\n",
       "      <th>113</th>\n",
       "      <td>6999995122</td>\n",
       "      <td>379090751</td>\n",
       "      <td>PREDNISONE 20 MG TABLET</td>\n",
       "      <td>PREDNISONE</td>\n",
       "      <td>03/06/2019</td>\n",
       "      <td>01/04/2019</td>\n",
       "      <td>03/06/2019</td>\n",
       "      <td>GLUCOCORTICOIDS</td>\n",
       "      <td>NaN</td>\n",
       "    </tr>\n",
       "  </tbody>\n",
       "</table>\n",
       "</div>"
      ],
      "text/plain": [
       "        AUTO_ID   ORDER_ID                                           MED_NAME  \\\n",
       "43   6999994666  146936455  HYDROCORTISONE 2.5 % TOPICAL CREAM WITH PERINE...   \n",
       "94   6999995122  103919145  HYDROCORTISONE SODIUM SUCCINATE 100 MG SOLUTIO...   \n",
       "103  6999995122  109733784  HYDROCORTISONE SODIUM SUCCINATE 100 MG SOLUTIO...   \n",
       "106  6999995122  412736751  CHOLECALCIFEROL (VITAMIN D3) 25 MCG (1,000 UNI...   \n",
       "113  6999995122  379090751                            PREDNISONE 20 MG TABLET   \n",
       "\n",
       "              SIMPLE_GENERIC_NAME ORDERING_DATE  START_DATE    END_DATE  \\\n",
       "43                 HYDROCORTISONE    11/06/2013  11/06/2013  08/31/2015   \n",
       "94   HYDROCORTISONE SOD SUCCINATE    08/31/2012  08/31/2012  08/31/2012   \n",
       "103  HYDROCORTISONE SOD SUCCINATE    10/30/2012  10/30/2012  10/30/2012   \n",
       "106  CHOLECALCIFEROL (VITAMIN D3)    06/26/2019  06/26/2019         NaN   \n",
       "113                    PREDNISONE    03/06/2019  01/04/2019  03/06/2019   \n",
       "\n",
       "                             PHARM_CLASS GROUP  \n",
       "43   TOPICAL ANTI-INFLAMMATORY STEROIDAL   NaN  \n",
       "94                       GLUCOCORTICOIDS   NaN  \n",
       "103                      GLUCOCORTICOIDS   NaN  \n",
       "106               VITAMIN D PREPARATIONS   NaN  \n",
       "113                      GLUCOCORTICOIDS   NaN  "
      ]
     },
     "execution_count": 197,
     "metadata": {},
     "output_type": "execute_result"
    }
   ],
   "source": [
    "meds = pd.read_excel(data_path_registry + 'meds_merged.xlsx')\n",
    "meds.head()"
   ]
  },
  {
   "cell_type": "code",
   "execution_count": 199,
   "metadata": {},
   "outputs": [
    {
     "data": {
      "text/plain": [
       "(88402, 9)"
      ]
     },
     "execution_count": 199,
     "metadata": {},
     "output_type": "execute_result"
    }
   ],
   "source": [
    "meds.shape"
   ]
  },
  {
   "cell_type": "code",
   "execution_count": 210,
   "metadata": {},
   "outputs": [
    {
     "data": {
      "text/html": [
       "<div>\n",
       "<style>\n",
       "    .dataframe thead tr:only-child th {\n",
       "        text-align: right;\n",
       "    }\n",
       "\n",
       "    .dataframe thead th {\n",
       "        text-align: left;\n",
       "    }\n",
       "\n",
       "    .dataframe tbody tr th {\n",
       "        vertical-align: top;\n",
       "    }\n",
       "</style>\n",
       "<table border=\"1\" class=\"dataframe\">\n",
       "  <thead>\n",
       "    <tr style=\"text-align: right;\">\n",
       "      <th></th>\n",
       "      <th>AUTO_ID</th>\n",
       "      <th>MIN_DATE</th>\n",
       "      <th>MAX_DATE</th>\n",
       "    </tr>\n",
       "  </thead>\n",
       "  <tbody>\n",
       "    <tr>\n",
       "      <th>0</th>\n",
       "      <td>0</td>\n",
       "      <td>2010-08-12 00:00:00</td>\n",
       "      <td>2019-11-13 00:00:00</td>\n",
       "    </tr>\n",
       "    <tr>\n",
       "      <th>1</th>\n",
       "      <td>1</td>\n",
       "      <td>2009-03-27 00:00:00</td>\n",
       "      <td>2019-12-23 00:00:00</td>\n",
       "    </tr>\n",
       "    <tr>\n",
       "      <th>2</th>\n",
       "      <td>2</td>\n",
       "      <td>2010-07-29 00:00:00</td>\n",
       "      <td>2019-03-13 00:00:00</td>\n",
       "    </tr>\n",
       "    <tr>\n",
       "      <th>3</th>\n",
       "      <td>3</td>\n",
       "      <td>2012-10-04 00:00:00</td>\n",
       "      <td>2019-02-27 00:00:00</td>\n",
       "    </tr>\n",
       "    <tr>\n",
       "      <th>4</th>\n",
       "      <td>4</td>\n",
       "      <td>2015-03-05 00:00:00</td>\n",
       "      <td>2019-09-04 00:00:00</td>\n",
       "    </tr>\n",
       "  </tbody>\n",
       "</table>\n",
       "</div>"
      ],
      "text/plain": [
       "   AUTO_ID             MIN_DATE             MAX_DATE\n",
       "0        0  2010-08-12 00:00:00  2019-11-13 00:00:00\n",
       "1        1  2009-03-27 00:00:00  2019-12-23 00:00:00\n",
       "2        2  2010-07-29 00:00:00  2019-03-13 00:00:00\n",
       "3        3  2012-10-04 00:00:00  2019-02-27 00:00:00\n",
       "4        4  2015-03-05 00:00:00  2019-09-04 00:00:00"
      ]
     },
     "execution_count": 210,
     "metadata": {},
     "output_type": "execute_result"
    }
   ],
   "source": [
    "med_min = meds.groupby('AUTO_ID')['ORDERING_DATE'].min().reset_index()\n",
    "med_max = meds.groupby('AUTO_ID')['ORDERING_DATE'].max().reset_index()\n",
    "med_min_max = pd.merge(med_min, med_max, how='inner', on='AUTO_ID')\n",
    "med_min_max.columns = ['AUTO_ID', 'MIN_DATE', 'MAX_DATE']\n",
    "med_min_max.head()"
   ]
  },
  {
   "cell_type": "code",
   "execution_count": null,
   "metadata": {
    "collapsed": true,
    "jupyter": {
     "outputs_hidden": true
    }
   },
   "outputs": [],
   "source": []
  }
 ],
 "metadata": {
  "kernelspec": {
   "display_name": "Python 3",
   "language": "python",
   "name": "python3"
  },
  "language_info": {
   "codemirror_mode": {
    "name": "ipython",
    "version": 3
   },
   "file_extension": ".py",
   "mimetype": "text/x-python",
   "name": "python",
   "nbconvert_exporter": "python",
   "pygments_lexer": "ipython3",
   "version": "3.7.9"
  }
 },
 "nbformat": 4,
 "nbformat_minor": 4
}
