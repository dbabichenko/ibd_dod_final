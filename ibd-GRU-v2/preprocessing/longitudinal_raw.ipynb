{
 "cells": [
  {
   "cell_type": "code",
   "execution_count": 7,
   "metadata": {},
   "outputs": [],
   "source": [
    "import pandas as pd\n",
    "import os\n",
    "from functools import reduce"
   ]
  },
  {
   "cell_type": "code",
   "execution_count": 8,
   "metadata": {},
   "outputs": [],
   "source": [
    "IDENTIFIER_COLS = ['AUTO_ID', 'RESULT_YEAR', 'RESULT_MONTH']"
   ]
  },
  {
   "cell_type": "markdown",
   "metadata": {},
   "source": [
    "# Merge flat files"
   ]
  },
  {
   "cell_type": "code",
   "execution_count": 9,
   "metadata": {},
   "outputs": [],
   "source": [
    "charges = pd.read_csv('datasets/long_in/charges.csv')\n",
    "encounters = pd.read_csv('datasets/long_in/encounters.csv')\n",
    "diag = pd.read_csv('datasets/long_in/gi_diagnostics.csv')\n",
    "# diag.columns = [f'DIAG_{x}' if x not in IDENTIFIER_COLS else x for x in diag.columns ]\n",
    "labs = pd.read_csv('datasets/long_in/labs.csv')\n",
    "labs.columns = [f'LAB_{x}' if x not in IDENTIFIER_COLS else x for x in labs.columns]\n",
    "meds = pd.read_csv('datasets/long_in/rx_long.csv')\n",
    "meds.columns = [f'MED_{x}' if x not in IDENTIFIER_COLS else x for x in meds.columns]\n",
    "hbi = pd.read_csv('datasets/long_in/hbi.csv')\n",
    "hbi.columns = [f'HBI_{x}' if x not in IDENTIFIER_COLS else x for x in hbi.columns]\n",
    "surg = pd.read_csv('datasets/long_in/surgeries.csv')\n",
    "dis = pd.read_csv('datasets/long_in/disease_type.csv')"
   ]
  },
  {
   "cell_type": "code",
   "execution_count": 10,
   "metadata": {},
   "outputs": [
    {
     "name": "stdout",
     "output_type": "stream",
     "text": [
      "(190907, 51)\n",
      "(190907, 55)\n"
     ]
    }
   ],
   "source": [
    "final = reduce(lambda l,r: l.merge(r, how='outer', on=IDENTIFIER_COLS), [charges, encounters, surg, diag, labs, meds, hbi])\n",
    "print(final.shape)\n",
    "final = final.merge(dis, how='left', on='AUTO_ID')\n",
    "print(final.shape)"
   ]
  },
  {
   "cell_type": "markdown",
   "metadata": {},
   "source": [
    "# Remove cancer&transplant patients"
   ]
  },
  {
   "cell_type": "code",
   "execution_count": 11,
   "metadata": {},
   "outputs": [],
   "source": [
    "exclude_patients = pd.read_csv('datasets/clean_registry_data/exclude_patients.csv')\n",
    "ct_aid = exclude_patients.AUTO_ID\n",
    "CT_filtered = final[~final.AUTO_ID.isin(ct_aid)]"
   ]
  },
  {
   "cell_type": "code",
   "execution_count": 12,
   "metadata": {},
   "outputs": [],
   "source": [
    "final.to_csv('datasets/long_out/all.csv', index=False)\n",
    "CT_filtered.to_csv('datasets/long_out/noCT.csv', index=False)"
   ]
  }
 ],
 "metadata": {
  "hide_input": false,
  "kernelspec": {
   "display_name": "Python 3",
   "language": "python",
   "name": "python3"
  },
  "language_info": {
   "codemirror_mode": {
    "name": "ipython",
    "version": 3
   },
   "file_extension": ".py",
   "mimetype": "text/x-python",
   "name": "python",
   "nbconvert_exporter": "python",
   "pygments_lexer": "ipython3",
   "version": "3.7.4"
  },
  "varInspector": {
   "cols": {
    "lenName": 16,
    "lenType": 16,
    "lenVar": 40
   },
   "kernels_config": {
    "python": {
     "delete_cmd_postfix": "",
     "delete_cmd_prefix": "del ",
     "library": "var_list.py",
     "varRefreshCmd": "print(var_dic_list())"
    },
    "r": {
     "delete_cmd_postfix": ") ",
     "delete_cmd_prefix": "rm(",
     "library": "var_list.r",
     "varRefreshCmd": "cat(var_dic_list()) "
    }
   },
   "types_to_exclude": [
    "module",
    "function",
    "builtin_function_or_method",
    "instance",
    "_Feature"
   ],
   "window_display": false
  }
 },
 "nbformat": 4,
 "nbformat_minor": 2
}
